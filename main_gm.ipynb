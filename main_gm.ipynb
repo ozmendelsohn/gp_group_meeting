{
 "cells": [
  {
   "cell_type": "code",
   "execution_count": 1,
   "metadata": {
    "scrolled": true
   },
   "outputs": [
    {
     "name": "stdout",
     "output_type": "stream",
     "text": [
      "Requirement already satisfied: ase in /home/oz/.local/lib/python3.8/site-packages (3.20.1)\n",
      "Requirement already satisfied: scipy>=0.18.1 in /home/oz/.local/lib/python3.8/site-packages (from ase) (1.5.4)\n",
      "Requirement already satisfied: numpy>=1.11.3 in /home/oz/.local/lib/python3.8/site-packages (from ase) (1.19.4)\n",
      "Requirement already satisfied: matplotlib>=2.0.0 in /home/oz/.local/lib/python3.8/site-packages (from ase) (3.3.3)\n",
      "Requirement already satisfied: pillow>=6.2.0 in /home/oz/.local/lib/python3.8/site-packages (from matplotlib>=2.0.0->ase) (8.0.1)\n",
      "Requirement already satisfied: cycler>=0.10 in /home/oz/.local/lib/python3.8/site-packages (from matplotlib>=2.0.0->ase) (0.10.0)\n",
      "Requirement already satisfied: numpy>=1.11.3 in /home/oz/.local/lib/python3.8/site-packages (from ase) (1.19.4)\n",
      "Requirement already satisfied: pyparsing!=2.0.4,!=2.1.2,!=2.1.6,>=2.0.3 in /home/oz/miniconda3/envs/sgdml/lib/python3.8/site-packages (from matplotlib>=2.0.0->ase) (2.4.7)\n",
      "Requirement already satisfied: python-dateutil>=2.1 in /home/oz/miniconda3/envs/sgdml/lib/python3.8/site-packages (from matplotlib>=2.0.0->ase) (2.8.1)\n",
      "Requirement already satisfied: kiwisolver>=1.0.1 in /home/oz/.local/lib/python3.8/site-packages (from matplotlib>=2.0.0->ase) (1.3.1)\n",
      "Requirement already satisfied: six in /home/oz/miniconda3/envs/sgdml/lib/python3.8/site-packages (from cycler>=0.10->matplotlib>=2.0.0->ase) (1.15.0)\n",
      "Requirement already satisfied: six in /home/oz/miniconda3/envs/sgdml/lib/python3.8/site-packages (from cycler>=0.10->matplotlib>=2.0.0->ase) (1.15.0)\n",
      "Requirement already satisfied: numpy>=1.11.3 in /home/oz/.local/lib/python3.8/site-packages (from ase) (1.19.4)\n",
      "Collecting package metadata (current_repodata.json): done\n",
      "Solving environment: done\n",
      "\n",
      "## Package Plan ##\n",
      "\n",
      "  environment location: /home/oz/miniconda3/envs/sgdml\n",
      "\n",
      "  added / updated specs:\n",
      "    - nglview\n",
      "\n",
      "\n",
      "The following packages will be UPDATED:\n",
      "\n",
      "  ca-certificates    pkgs/main::ca-certificates-2020.10.14~ --> conda-forge::ca-certificates-2020.11.8-ha878542_0\n",
      "\n",
      "The following packages will be SUPERSEDED by a higher-priority channel:\n",
      "\n",
      "  certifi            pkgs/main::certifi-2020.11.8-py38h06a~ --> conda-forge::certifi-2020.11.8-py38h578d9bd_0\n",
      "  openssl              pkgs/main::openssl-1.1.1h-h7b6447c_0 --> conda-forge::openssl-1.1.1h-h516909a_0\n",
      "\n",
      "\n",
      "Preparing transaction: done\n",
      "Verifying transaction: done\n",
      "Executing transaction: done\n",
      "Collecting package metadata (current_repodata.json): done\n",
      "Solving environment: done\n",
      "\n",
      "## Package Plan ##\n",
      "\n",
      "  environment location: /home/oz/miniconda3/envs/sgdml\n",
      "\n",
      "  added / updated specs:\n",
      "    - matplotlib\n",
      "\n",
      "\n",
      "The following packages will be SUPERSEDED by a higher-priority channel:\n",
      "\n",
      "  ca-certificates    conda-forge::ca-certificates-2020.11.~ --> pkgs/main::ca-certificates-2020.10.14-0\n",
      "  certifi            conda-forge::certifi-2020.11.8-py38h5~ --> pkgs/main::certifi-2020.11.8-py38h06a4308_0\n",
      "  openssl            conda-forge::openssl-1.1.1h-h516909a_0 --> pkgs/main::openssl-1.1.1h-h7b6447c_0\n",
      "\n",
      "\n",
      "Preparing transaction: done\n",
      "Verifying transaction: done\n",
      "Executing transaction: done\n",
      "Requirement already satisfied: nglview in /home/oz/miniconda3/envs/sgdml/lib/python3.8/site-packages (2.7.7)\n",
      "Requirement already satisfied: scikit-learn in /home/oz/miniconda3/envs/sgdml/lib/python3.8/site-packages (0.23.2)\n",
      "Requirement already satisfied: scipy in /home/oz/.local/lib/python3.8/site-packages (1.5.4)\n",
      "Requirement already satisfied: ipympl in /home/oz/miniconda3/envs/sgdml/lib/python3.8/site-packages (0.5.8)\n",
      "Requirement already satisfied: ipywidgets in /home/oz/miniconda3/envs/sgdml/lib/python3.8/site-packages (7.5.1)\n",
      "Requirement already satisfied: matplotlib in /home/oz/.local/lib/python3.8/site-packages (3.3.3)\n",
      "Requirement already satisfied: matplotlib in /home/oz/.local/lib/python3.8/site-packages (3.3.3)\n",
      "Requirement already satisfied: ipykernel>=4.7 in /home/oz/miniconda3/envs/sgdml/lib/python3.8/site-packages (from ipympl) (5.3.4)\n",
      "Requirement already satisfied: ipywidgets in /home/oz/miniconda3/envs/sgdml/lib/python3.8/site-packages (7.5.1)\n",
      "Requirement already satisfied: nbformat>=4.2.0 in /home/oz/miniconda3/envs/sgdml/lib/python3.8/site-packages (from ipywidgets) (5.0.8)\n",
      "Requirement already satisfied: ipykernel>=4.7 in /home/oz/miniconda3/envs/sgdml/lib/python3.8/site-packages (from ipympl) (5.3.4)\n",
      "Requirement already satisfied: traitlets>=4.3.1 in /home/oz/miniconda3/envs/sgdml/lib/python3.8/site-packages (from ipywidgets) (5.0.5)\n",
      "Requirement already satisfied: widgetsnbextension~=3.5.0 in /home/oz/miniconda3/envs/sgdml/lib/python3.8/site-packages (from ipywidgets) (3.5.1)\n",
      "Requirement already satisfied: ipython>=4.0.0 in /home/oz/miniconda3/envs/sgdml/lib/python3.8/site-packages (from ipywidgets) (7.19.0)\n",
      "Requirement already satisfied: pyparsing!=2.0.4,!=2.1.2,!=2.1.6,>=2.0.3 in /home/oz/miniconda3/envs/sgdml/lib/python3.8/site-packages (from matplotlib) (2.4.7)\n",
      "Requirement already satisfied: pillow>=6.2.0 in /home/oz/.local/lib/python3.8/site-packages (from matplotlib) (8.0.1)\n",
      "Requirement already satisfied: numpy>=1.15 in /home/oz/.local/lib/python3.8/site-packages (from matplotlib) (1.19.4)\n",
      "Requirement already satisfied: python-dateutil>=2.1 in /home/oz/miniconda3/envs/sgdml/lib/python3.8/site-packages (from matplotlib) (2.8.1)\n",
      "Requirement already satisfied: kiwisolver>=1.0.1 in /home/oz/.local/lib/python3.8/site-packages (from matplotlib) (1.3.1)\n",
      "Requirement already satisfied: cycler>=0.10 in /home/oz/.local/lib/python3.8/site-packages (from matplotlib) (0.10.0)\n",
      "Requirement already satisfied: ipywidgets in /home/oz/miniconda3/envs/sgdml/lib/python3.8/site-packages (7.5.1)\n",
      "Requirement already satisfied: numpy>=1.15 in /home/oz/.local/lib/python3.8/site-packages (from matplotlib) (1.19.4)\n",
      "Requirement already satisfied: numpy>=1.15 in /home/oz/.local/lib/python3.8/site-packages (from matplotlib) (1.19.4)\n",
      "Requirement already satisfied: scipy in /home/oz/.local/lib/python3.8/site-packages (1.5.4)\n",
      "Requirement already satisfied: threadpoolctl>=2.0.0 in /home/oz/miniconda3/envs/sgdml/lib/python3.8/site-packages (from scikit-learn) (2.1.0)\n",
      "Requirement already satisfied: joblib>=0.11 in /home/oz/miniconda3/envs/sgdml/lib/python3.8/site-packages (from scikit-learn) (0.17.0)\n",
      "Requirement already satisfied: numpy>=1.15 in /home/oz/.local/lib/python3.8/site-packages (from matplotlib) (1.19.4)\n",
      "Requirement already satisfied: six in /home/oz/miniconda3/envs/sgdml/lib/python3.8/site-packages (from cycler>=0.10->matplotlib) (1.15.0)\n",
      "Requirement already satisfied: tornado>=4.2 in /home/oz/miniconda3/envs/sgdml/lib/python3.8/site-packages (from ipykernel>=4.7->ipympl) (6.1)\n",
      "Requirement already satisfied: ipython>=4.0.0 in /home/oz/miniconda3/envs/sgdml/lib/python3.8/site-packages (from ipywidgets) (7.19.0)\n",
      "Requirement already satisfied: traitlets>=4.3.1 in /home/oz/miniconda3/envs/sgdml/lib/python3.8/site-packages (from ipywidgets) (5.0.5)\n",
      "Requirement already satisfied: jupyter-client in /home/oz/miniconda3/envs/sgdml/lib/python3.8/site-packages (from ipykernel>=4.7->ipympl) (6.1.7)\n",
      "Requirement already satisfied: jedi>=0.10 in /home/oz/miniconda3/envs/sgdml/lib/python3.8/site-packages (from ipython>=4.0.0->ipywidgets) (0.17.2)\n",
      "Requirement already satisfied: pygments in /home/oz/miniconda3/envs/sgdml/lib/python3.8/site-packages (from ipython>=4.0.0->ipywidgets) (2.7.2)\n",
      "Requirement already satisfied: traitlets>=4.3.1 in /home/oz/miniconda3/envs/sgdml/lib/python3.8/site-packages (from ipywidgets) (5.0.5)\n",
      "Requirement already satisfied: setuptools>=18.5 in /home/oz/miniconda3/envs/sgdml/lib/python3.8/site-packages (from ipython>=4.0.0->ipywidgets) (50.3.2.post20201201)\n",
      "Requirement already satisfied: pexpect>4.3 in /home/oz/miniconda3/envs/sgdml/lib/python3.8/site-packages (from ipython>=4.0.0->ipywidgets) (4.8.0)\n",
      "Requirement already satisfied: backcall in /home/oz/miniconda3/envs/sgdml/lib/python3.8/site-packages (from ipython>=4.0.0->ipywidgets) (0.2.0)\n",
      "Requirement already satisfied: prompt-toolkit!=3.0.0,!=3.0.1,<3.1.0,>=2.0.0 in /home/oz/miniconda3/envs/sgdml/lib/python3.8/site-packages (from ipython>=4.0.0->ipywidgets) (3.0.8)\n",
      "Requirement already satisfied: pickleshare in /home/oz/miniconda3/envs/sgdml/lib/python3.8/site-packages (from ipython>=4.0.0->ipywidgets) (0.7.5)\n"
     ]
    },
    {
     "name": "stdout",
     "output_type": "stream",
     "text": [
      "Requirement already satisfied: decorator in /home/oz/miniconda3/envs/sgdml/lib/python3.8/site-packages (from ipython>=4.0.0->ipywidgets) (4.4.2)\n",
      "Requirement already satisfied: parso<0.8.0,>=0.7.0 in /home/oz/miniconda3/envs/sgdml/lib/python3.8/site-packages (from jedi>=0.10->ipython>=4.0.0->ipywidgets) (0.7.0)\n",
      "Requirement already satisfied: python-dateutil>=2.1 in /home/oz/miniconda3/envs/sgdml/lib/python3.8/site-packages (from matplotlib) (2.8.1)\n",
      "Requirement already satisfied: pyzmq>=13 in /home/oz/miniconda3/envs/sgdml/lib/python3.8/site-packages (from jupyter-client->ipykernel>=4.7->ipympl) (20.0.0)\n",
      "Requirement already satisfied: traitlets>=4.3.1 in /home/oz/miniconda3/envs/sgdml/lib/python3.8/site-packages (from ipywidgets) (5.0.5)\n",
      "Requirement already satisfied: jupyter-core>=4.6.0 in /home/oz/miniconda3/envs/sgdml/lib/python3.8/site-packages (from jupyter-client->ipykernel>=4.7->ipympl) (4.7.0)\n",
      "Requirement already satisfied: tornado>=4.2 in /home/oz/miniconda3/envs/sgdml/lib/python3.8/site-packages (from ipykernel>=4.7->ipympl) (6.1)\n",
      "Requirement already satisfied: traitlets>=4.3.1 in /home/oz/miniconda3/envs/sgdml/lib/python3.8/site-packages (from ipywidgets) (5.0.5)\n",
      "Requirement already satisfied: jupyter-core>=4.6.0 in /home/oz/miniconda3/envs/sgdml/lib/python3.8/site-packages (from jupyter-client->ipykernel>=4.7->ipympl) (4.7.0)\n",
      "Requirement already satisfied: ipython-genutils in /home/oz/miniconda3/envs/sgdml/lib/python3.8/site-packages (from nbformat>=4.2.0->ipywidgets) (0.2.0)\n",
      "Requirement already satisfied: traitlets>=4.3.1 in /home/oz/miniconda3/envs/sgdml/lib/python3.8/site-packages (from ipywidgets) (5.0.5)\n",
      "Requirement already satisfied: jsonschema!=2.5.0,>=2.4 in /home/oz/miniconda3/envs/sgdml/lib/python3.8/site-packages (from nbformat>=4.2.0->ipywidgets) (3.2.0)\n",
      "Requirement already satisfied: setuptools>=18.5 in /home/oz/miniconda3/envs/sgdml/lib/python3.8/site-packages (from ipython>=4.0.0->ipywidgets) (50.3.2.post20201201)\n",
      "Requirement already satisfied: pyrsistent>=0.14.0 in /home/oz/miniconda3/envs/sgdml/lib/python3.8/site-packages (from jsonschema!=2.5.0,>=2.4->nbformat>=4.2.0->ipywidgets) (0.17.3)\n",
      "Requirement already satisfied: attrs>=17.4.0 in /home/oz/miniconda3/envs/sgdml/lib/python3.8/site-packages (from jsonschema!=2.5.0,>=2.4->nbformat>=4.2.0->ipywidgets) (20.3.0)\n",
      "Requirement already satisfied: six in /home/oz/miniconda3/envs/sgdml/lib/python3.8/site-packages (from cycler>=0.10->matplotlib) (1.15.0)\n",
      "Requirement already satisfied: ptyprocess>=0.5 in /home/oz/miniconda3/envs/sgdml/lib/python3.8/site-packages (from pexpect>4.3->ipython>=4.0.0->ipywidgets) (0.6.0)\n",
      "Requirement already satisfied: wcwidth in /home/oz/miniconda3/envs/sgdml/lib/python3.8/site-packages (from prompt-toolkit!=3.0.0,!=3.0.1,<3.1.0,>=2.0.0->ipython>=4.0.0->ipywidgets) (0.2.5)\n",
      "Requirement already satisfied: six in /home/oz/miniconda3/envs/sgdml/lib/python3.8/site-packages (from cycler>=0.10->matplotlib) (1.15.0)\n",
      "Requirement already satisfied: ipython-genutils in /home/oz/miniconda3/envs/sgdml/lib/python3.8/site-packages (from nbformat>=4.2.0->ipywidgets) (0.2.0)\n",
      "Requirement already satisfied: notebook>=4.4.1 in /home/oz/miniconda3/envs/sgdml/lib/python3.8/site-packages (from widgetsnbextension~=3.5.0->ipywidgets) (6.1.4)\n",
      "Requirement already satisfied: terminado>=0.8.3 in /home/oz/miniconda3/envs/sgdml/lib/python3.8/site-packages (from notebook>=4.4.1->widgetsnbextension~=3.5.0->ipywidgets) (0.9.1)\n",
      "Requirement already satisfied: argon2-cffi in /home/oz/miniconda3/envs/sgdml/lib/python3.8/site-packages (from notebook>=4.4.1->widgetsnbextension~=3.5.0->ipywidgets) (20.1.0)\n",
      "Requirement already satisfied: prometheus-client in /home/oz/miniconda3/envs/sgdml/lib/python3.8/site-packages (from notebook>=4.4.1->widgetsnbextension~=3.5.0->ipywidgets) (0.9.0)\n",
      "Requirement already satisfied: jupyter-core>=4.6.0 in /home/oz/miniconda3/envs/sgdml/lib/python3.8/site-packages (from jupyter-client->ipykernel>=4.7->ipympl) (4.7.0)\n",
      "Requirement already satisfied: ipython-genutils in /home/oz/miniconda3/envs/sgdml/lib/python3.8/site-packages (from nbformat>=4.2.0->ipywidgets) (0.2.0)\n",
      "Requirement already satisfied: jinja2 in /home/oz/miniconda3/envs/sgdml/lib/python3.8/site-packages (from notebook>=4.4.1->widgetsnbextension~=3.5.0->ipywidgets) (2.11.2)\n",
      "Requirement already satisfied: tornado>=4.2 in /home/oz/miniconda3/envs/sgdml/lib/python3.8/site-packages (from ipykernel>=4.7->ipympl) (6.1)\n",
      "Requirement already satisfied: jupyter-client in /home/oz/miniconda3/envs/sgdml/lib/python3.8/site-packages (from ipykernel>=4.7->ipympl) (6.1.7)\n",
      "Requirement already satisfied: Send2Trash in /home/oz/miniconda3/envs/sgdml/lib/python3.8/site-packages (from notebook>=4.4.1->widgetsnbextension~=3.5.0->ipywidgets) (1.5.0)\n",
      "Requirement already satisfied: traitlets>=4.3.1 in /home/oz/miniconda3/envs/sgdml/lib/python3.8/site-packages (from ipywidgets) (5.0.5)\n",
      "Requirement already satisfied: nbconvert in /home/oz/miniconda3/envs/sgdml/lib/python3.8/site-packages (from notebook>=4.4.1->widgetsnbextension~=3.5.0->ipywidgets) (6.0.7)\n",
      "Requirement already satisfied: ipykernel>=4.7 in /home/oz/miniconda3/envs/sgdml/lib/python3.8/site-packages (from ipympl) (5.3.4)\n",
      "Requirement already satisfied: pyzmq>=13 in /home/oz/miniconda3/envs/sgdml/lib/python3.8/site-packages (from jupyter-client->ipykernel>=4.7->ipympl) (20.0.0)\n",
      "Requirement already satisfied: nbformat>=4.2.0 in /home/oz/miniconda3/envs/sgdml/lib/python3.8/site-packages (from ipywidgets) (5.0.8)\n",
      "Requirement already satisfied: cffi>=1.0.0 in /home/oz/miniconda3/envs/sgdml/lib/python3.8/site-packages (from argon2-cffi->notebook>=4.4.1->widgetsnbextension~=3.5.0->ipywidgets) (1.14.4)\n",
      "Requirement already satisfied: six in /home/oz/miniconda3/envs/sgdml/lib/python3.8/site-packages (from cycler>=0.10->matplotlib) (1.15.0)\n",
      "Requirement already satisfied: pycparser in /home/oz/miniconda3/envs/sgdml/lib/python3.8/site-packages (from cffi>=1.0.0->argon2-cffi->notebook>=4.4.1->widgetsnbextension~=3.5.0->ipywidgets) (2.20)\n",
      "Requirement already satisfied: MarkupSafe>=0.23 in /home/oz/miniconda3/envs/sgdml/lib/python3.8/site-packages (from jinja2->notebook>=4.4.1->widgetsnbextension~=3.5.0->ipywidgets) (1.1.1)\n",
      "Requirement already satisfied: jupyter-core>=4.6.0 in /home/oz/miniconda3/envs/sgdml/lib/python3.8/site-packages (from jupyter-client->ipykernel>=4.7->ipympl) (4.7.0)\n",
      "Requirement already satisfied: pandocfilters>=1.4.1 in /home/oz/miniconda3/envs/sgdml/lib/python3.8/site-packages (from nbconvert->notebook>=4.4.1->widgetsnbextension~=3.5.0->ipywidgets) (1.4.3)\n",
      "Requirement already satisfied: traitlets>=4.3.1 in /home/oz/miniconda3/envs/sgdml/lib/python3.8/site-packages (from ipywidgets) (5.0.5)\n",
      "Requirement already satisfied: nbformat>=4.2.0 in /home/oz/miniconda3/envs/sgdml/lib/python3.8/site-packages (from ipywidgets) (5.0.8)\n",
      "Requirement already satisfied: nbclient<0.6.0,>=0.5.0 in /home/oz/miniconda3/envs/sgdml/lib/python3.8/site-packages (from nbconvert->notebook>=4.4.1->widgetsnbextension~=3.5.0->ipywidgets) (0.5.1)\n",
      "Requirement already satisfied: defusedxml in /home/oz/miniconda3/envs/sgdml/lib/python3.8/site-packages (from nbconvert->notebook>=4.4.1->widgetsnbextension~=3.5.0->ipywidgets) (0.6.0)\n",
      "Requirement already satisfied: mistune<2,>=0.8.1 in /home/oz/miniconda3/envs/sgdml/lib/python3.8/site-packages (from nbconvert->notebook>=4.4.1->widgetsnbextension~=3.5.0->ipywidgets) (0.8.4)\n",
      "Requirement already satisfied: jupyterlab-pygments in /home/oz/miniconda3/envs/sgdml/lib/python3.8/site-packages (from nbconvert->notebook>=4.4.1->widgetsnbextension~=3.5.0->ipywidgets) (0.1.2)\n",
      "Requirement already satisfied: entrypoints>=0.2.2 in /home/oz/miniconda3/envs/sgdml/lib/python3.8/site-packages (from nbconvert->notebook>=4.4.1->widgetsnbextension~=3.5.0->ipywidgets) (0.3)\n",
      "Requirement already satisfied: bleach in /home/oz/miniconda3/envs/sgdml/lib/python3.8/site-packages (from nbconvert->notebook>=4.4.1->widgetsnbextension~=3.5.0->ipywidgets) (3.2.1)\n",
      "Requirement already satisfied: pygments in /home/oz/miniconda3/envs/sgdml/lib/python3.8/site-packages (from ipython>=4.0.0->ipywidgets) (2.7.2)\n",
      "Requirement already satisfied: testpath in /home/oz/miniconda3/envs/sgdml/lib/python3.8/site-packages (from nbconvert->notebook>=4.4.1->widgetsnbextension~=3.5.0->ipywidgets) (0.4.4)\n",
      "Requirement already satisfied: jinja2 in /home/oz/miniconda3/envs/sgdml/lib/python3.8/site-packages (from notebook>=4.4.1->widgetsnbextension~=3.5.0->ipywidgets) (2.11.2)\n",
      "Requirement already satisfied: six in /home/oz/miniconda3/envs/sgdml/lib/python3.8/site-packages (from cycler>=0.10->matplotlib) (1.15.0)\n",
      "Requirement already satisfied: packaging in /home/oz/miniconda3/envs/sgdml/lib/python3.8/site-packages (from bleach->nbconvert->notebook>=4.4.1->widgetsnbextension~=3.5.0->ipywidgets) (20.7)\n",
      "Requirement already satisfied: webencodings in /home/oz/miniconda3/envs/sgdml/lib/python3.8/site-packages (from bleach->nbconvert->notebook>=4.4.1->widgetsnbextension~=3.5.0->ipywidgets) (0.5.1)\n",
      "Requirement already satisfied: pygments in /home/oz/miniconda3/envs/sgdml/lib/python3.8/site-packages (from ipython>=4.0.0->ipywidgets) (2.7.2)\n"
     ]
    },
    {
     "name": "stdout",
     "output_type": "stream",
     "text": [
      "Requirement already satisfied: async-generator in /home/oz/miniconda3/envs/sgdml/lib/python3.8/site-packages (from nbclient<0.6.0,>=0.5.0->nbconvert->notebook>=4.4.1->widgetsnbextension~=3.5.0->ipywidgets) (1.10)\n",
      "Requirement already satisfied: traitlets>=4.3.1 in /home/oz/miniconda3/envs/sgdml/lib/python3.8/site-packages (from ipywidgets) (5.0.5)\n",
      "Requirement already satisfied: nbformat>=4.2.0 in /home/oz/miniconda3/envs/sgdml/lib/python3.8/site-packages (from ipywidgets) (5.0.8)\n",
      "Requirement already satisfied: jupyter-client in /home/oz/miniconda3/envs/sgdml/lib/python3.8/site-packages (from ipykernel>=4.7->ipympl) (6.1.7)\n",
      "Requirement already satisfied: nest-asyncio in /home/oz/miniconda3/envs/sgdml/lib/python3.8/site-packages (from nbclient<0.6.0,>=0.5.0->nbconvert->notebook>=4.4.1->widgetsnbextension~=3.5.0->ipywidgets) (1.4.3)\n",
      "Requirement already satisfied: pyparsing!=2.0.4,!=2.1.2,!=2.1.6,>=2.0.3 in /home/oz/miniconda3/envs/sgdml/lib/python3.8/site-packages (from matplotlib) (2.4.7)\n",
      "Requirement already satisfied: tornado>=4.2 in /home/oz/miniconda3/envs/sgdml/lib/python3.8/site-packages (from ipykernel>=4.7->ipympl) (6.1)\n",
      "Requirement already satisfied: ptyprocess>=0.5 in /home/oz/miniconda3/envs/sgdml/lib/python3.8/site-packages (from pexpect>4.3->ipython>=4.0.0->ipywidgets) (0.6.0)\n",
      "Collecting package metadata (current_repodata.json): done\n",
      "Solving environment: done\n",
      "\n",
      "# All requested packages already installed.\n",
      "\n",
      "Collecting package metadata (current_repodata.json): done\n",
      "Solving environment: done\n",
      "\n",
      "## Package Plan ##\n",
      "\n",
      "  environment location: /home/oz/miniconda3/envs/sgdml\n",
      "\n",
      "  added / updated specs:\n",
      "    - kimpy\n",
      "    - openkim-models\n",
      "\n",
      "\n",
      "The following packages will be UPDATED:\n",
      "\n",
      "  ca-certificates    pkgs/main::ca-certificates-2020.10.14~ --> conda-forge::ca-certificates-2020.11.8-ha878542_0\n",
      "\n",
      "The following packages will be SUPERSEDED by a higher-priority channel:\n",
      "\n",
      "  certifi            pkgs/main::certifi-2020.11.8-py38h06a~ --> conda-forge::certifi-2020.11.8-py38h578d9bd_0\n",
      "  openssl              pkgs/main::openssl-1.1.1h-h7b6447c_0 --> conda-forge::openssl-1.1.1h-h516909a_0\n",
      "\n",
      "\n",
      "Preparing transaction: done\n",
      "Verifying transaction: done\n",
      "Executing transaction: done\n",
      "Collecting package metadata (current_repodata.json): done\n",
      "Solving environment: done\n",
      "\n",
      "## Package Plan ##\n",
      "\n",
      "  environment location: /home/oz/miniconda3/envs/sgdml\n",
      "\n",
      "  added / updated specs:\n",
      "    - tqdm\n",
      "\n",
      "\n",
      "The following packages will be SUPERSEDED by a higher-priority channel:\n",
      "\n",
      "  ca-certificates    conda-forge::ca-certificates-2020.11.~ --> pkgs/main::ca-certificates-2020.10.14-0\n",
      "  certifi            conda-forge::certifi-2020.11.8-py38h5~ --> pkgs/main::certifi-2020.11.8-py38h06a4308_0\n",
      "  openssl            conda-forge::openssl-1.1.1h-h516909a_0 --> pkgs/main::openssl-1.1.1h-h7b6447c_0\n",
      "\n",
      "\n",
      "Preparing transaction: done\n",
      "Verifying transaction: done\n",
      "Executing transaction: done\n",
      "Requirement already satisfied: sgdml in /home/oz/miniconda3/envs/sgdml/lib/python3.8/site-packages (0.4.4)\n",
      "Requirement already satisfied: scipy>=1.1.0 in /home/oz/.local/lib/python3.8/site-packages (from sgdml) (1.5.4)\n",
      "Requirement already satisfied: future in /home/oz/miniconda3/envs/sgdml/lib/python3.8/site-packages (from sgdml) (0.18.2)\n",
      "Requirement already satisfied: numpy>=1.13.0 in /home/oz/.local/lib/python3.8/site-packages (from sgdml) (1.19.4)\n",
      "Requirement already satisfied: numpy>=1.13.0 in /home/oz/.local/lib/python3.8/site-packages (from sgdml) (1.19.4)\n",
      "Requirement already satisfied: sgdml[ase] in /home/oz/miniconda3/envs/sgdml/lib/python3.8/site-packages (0.4.4)\n",
      "Requirement already satisfied: scipy>=1.1.0 in /home/oz/.local/lib/python3.8/site-packages (from sgdml[ase]) (1.5.4)\n",
      "Requirement already satisfied: future in /home/oz/miniconda3/envs/sgdml/lib/python3.8/site-packages (from sgdml[ase]) (0.18.2)\n",
      "Requirement already satisfied: numpy>=1.13.0 in /home/oz/.local/lib/python3.8/site-packages (from sgdml[ase]) (1.19.4)\n",
      "Requirement already satisfied: ase>=3.16.2 in /home/oz/.local/lib/python3.8/site-packages (from sgdml[ase]) (3.20.1)\n",
      "Requirement already satisfied: matplotlib>=2.0.0 in /home/oz/.local/lib/python3.8/site-packages (from ase>=3.16.2->sgdml[ase]) (3.3.3)\n",
      "Requirement already satisfied: numpy>=1.13.0 in /home/oz/.local/lib/python3.8/site-packages (from sgdml[ase]) (1.19.4)\n",
      "Requirement already satisfied: scipy>=1.1.0 in /home/oz/.local/lib/python3.8/site-packages (from sgdml[ase]) (1.5.4)\n",
      "Requirement already satisfied: pillow>=6.2.0 in /home/oz/.local/lib/python3.8/site-packages (from matplotlib>=2.0.0->ase>=3.16.2->sgdml[ase]) (8.0.1)\n",
      "Requirement already satisfied: pyparsing!=2.0.4,!=2.1.2,!=2.1.6,>=2.0.3 in /home/oz/miniconda3/envs/sgdml/lib/python3.8/site-packages (from matplotlib>=2.0.0->ase>=3.16.2->sgdml[ase]) (2.4.7)\n",
      "Requirement already satisfied: numpy>=1.13.0 in /home/oz/.local/lib/python3.8/site-packages (from sgdml[ase]) (1.19.4)\n",
      "Requirement already satisfied: cycler>=0.10 in /home/oz/.local/lib/python3.8/site-packages (from matplotlib>=2.0.0->ase>=3.16.2->sgdml[ase]) (0.10.0)\n",
      "Requirement already satisfied: kiwisolver>=1.0.1 in /home/oz/.local/lib/python3.8/site-packages (from matplotlib>=2.0.0->ase>=3.16.2->sgdml[ase]) (1.3.1)\n",
      "Requirement already satisfied: python-dateutil>=2.1 in /home/oz/miniconda3/envs/sgdml/lib/python3.8/site-packages (from matplotlib>=2.0.0->ase>=3.16.2->sgdml[ase]) (2.8.1)\n",
      "Requirement already satisfied: six in /home/oz/miniconda3/envs/sgdml/lib/python3.8/site-packages (from cycler>=0.10->matplotlib>=2.0.0->ase>=3.16.2->sgdml[ase]) (1.15.0)\n",
      "Requirement already satisfied: six in /home/oz/miniconda3/envs/sgdml/lib/python3.8/site-packages (from cycler>=0.10->matplotlib>=2.0.0->ase>=3.16.2->sgdml[ase]) (1.15.0)\n",
      "Requirement already satisfied: numpy>=1.13.0 in /home/oz/.local/lib/python3.8/site-packages (from sgdml[ase]) (1.19.4)\n",
      "Requirement already satisfied: scipy>=1.1.0 in /home/oz/.local/lib/python3.8/site-packages (from sgdml[ase]) (1.5.4)\n",
      "Requirement already satisfied: future in /home/oz/miniconda3/envs/sgdml/lib/python3.8/site-packages (from sgdml[ase]) (0.18.2)\n",
      "Requirement already satisfied: numpy>=1.13.0 in /home/oz/.local/lib/python3.8/site-packages (from sgdml[ase]) (1.19.4)\n",
      "Requirement already satisfied: sgdml[torch] in /home/oz/miniconda3/envs/sgdml/lib/python3.8/site-packages (0.4.4)\n",
      "Requirement already satisfied: future in /home/oz/miniconda3/envs/sgdml/lib/python3.8/site-packages (from sgdml[torch]) (0.18.2)\n",
      "Requirement already satisfied: scipy>=1.1.0 in /home/oz/.local/lib/python3.8/site-packages (from sgdml[torch]) (1.5.4)\n",
      "Requirement already satisfied: numpy>=1.13.0 in /home/oz/.local/lib/python3.8/site-packages (from sgdml[torch]) (1.19.4)\n",
      "Requirement already satisfied: torch in /home/oz/miniconda3/envs/sgdml/lib/python3.8/site-packages (from sgdml[torch]) (1.7.0)\n",
      "Requirement already satisfied: numpy>=1.13.0 in /home/oz/.local/lib/python3.8/site-packages (from sgdml[torch]) (1.19.4)\n",
      "Requirement already satisfied: future in /home/oz/miniconda3/envs/sgdml/lib/python3.8/site-packages (from sgdml[torch]) (0.18.2)\n",
      "Requirement already satisfied: scipy>=1.1.0 in /home/oz/.local/lib/python3.8/site-packages (from sgdml[torch]) (1.5.4)\n",
      "Requirement already satisfied: numpy>=1.13.0 in /home/oz/.local/lib/python3.8/site-packages (from sgdml[torch]) (1.19.4)\n",
      "Requirement already satisfied: numpy>=1.13.0 in /home/oz/.local/lib/python3.8/site-packages (from sgdml[torch]) (1.19.4)\n",
      "Requirement already satisfied: dataclasses in /home/oz/miniconda3/envs/sgdml/lib/python3.8/site-packages (from torch->sgdml[torch]) (0.6)\n",
      "Requirement already satisfied: future in /home/oz/miniconda3/envs/sgdml/lib/python3.8/site-packages (from sgdml[torch]) (0.18.2)\n",
      "Requirement already satisfied: typing-extensions in /home/oz/miniconda3/envs/sgdml/lib/python3.8/site-packages (from torch->sgdml[torch]) (3.7.4.3)\n",
      "Enabling notebook extension nglview-js-widgets/extension...\n",
      "      - Validating: \u001b[32mOK\u001b[0m\n"
     ]
    }
   ],
   "source": [
    "# https://www.math.uwaterloo.ca/~hwolkowi/matrixcookbook.pdf\n",
    "!pip install ase\n",
    "!conda install nglview -c conda-forge -y\n",
    "!conda install matplotlib -y\n",
    "!pip install nglview scikit-learn scipy ipympl ipywidgets matplotlib\n",
    "!conda install scipy -y\n",
    "!conda install -c conda-forge kimpy openkim-models -y\n",
    "!conda install tqdm -y\n",
    "!pip install sgdml\n",
    "!pip install sgdml[ase]\n",
    "!pip install sgdml[torch]\n",
    "!jupyter-nbextension enable nglview --py --sys-prefix\n",
    "%load_ext autoreload\n",
    "%autoreload 2\n",
    "from utils import *\n",
    "%matplotlib widget"
   ]
  },
  {
   "cell_type": "code",
   "execution_count": 2,
   "metadata": {},
   "outputs": [
    {
     "name": "stdout",
     "output_type": "stream",
     "text": [
      "Requirement already satisfied: ase in /home/oz/.local/lib/python3.8/site-packages (3.20.1)\r\n",
      "Requirement already satisfied: scipy>=0.18.1 in /home/oz/.local/lib/python3.8/site-packages (from ase) (1.5.4)\r\n",
      "Requirement already satisfied: numpy>=1.11.3 in /home/oz/.local/lib/python3.8/site-packages (from ase) (1.19.4)\r\n",
      "Requirement already satisfied: matplotlib>=2.0.0 in /home/oz/.local/lib/python3.8/site-packages (from ase) (3.3.3)\r\n",
      "Requirement already satisfied: cycler>=0.10 in /home/oz/.local/lib/python3.8/site-packages (from matplotlib>=2.0.0->ase) (0.10.0)\r\n",
      "Requirement already satisfied: python-dateutil>=2.1 in /home/oz/miniconda3/envs/sgdml/lib/python3.8/site-packages (from matplotlib>=2.0.0->ase) (2.8.1)\r\n",
      "Requirement already satisfied: kiwisolver>=1.0.1 in /home/oz/.local/lib/python3.8/site-packages (from matplotlib>=2.0.0->ase) (1.3.1)\r\n",
      "Requirement already satisfied: pyparsing!=2.0.4,!=2.1.2,!=2.1.6,>=2.0.3 in /home/oz/miniconda3/envs/sgdml/lib/python3.8/site-packages (from matplotlib>=2.0.0->ase) (2.4.7)\r\n",
      "Requirement already satisfied: pillow>=6.2.0 in /home/oz/.local/lib/python3.8/site-packages (from matplotlib>=2.0.0->ase) (8.0.1)\r\n",
      "Requirement already satisfied: numpy>=1.11.3 in /home/oz/.local/lib/python3.8/site-packages (from ase) (1.19.4)\r\n",
      "Requirement already satisfied: six in /home/oz/miniconda3/envs/sgdml/lib/python3.8/site-packages (from cycler>=0.10->matplotlib>=2.0.0->ase) (1.15.0)\r\n",
      "Requirement already satisfied: six in /home/oz/miniconda3/envs/sgdml/lib/python3.8/site-packages (from cycler>=0.10->matplotlib>=2.0.0->ase) (1.15.0)\r\n",
      "Requirement already satisfied: numpy>=1.11.3 in /home/oz/.local/lib/python3.8/site-packages (from ase) (1.19.4)\r\n"
     ]
    }
   ],
   "source": [
    "!pip install ase"
   ]
  },
  {
   "cell_type": "markdown",
   "metadata": {},
   "source": [
    "# Data-Driven Force Fields for Large Scale Molecular Dynamics Simulations of Halide Perovskites  "
   ]
  },
  {
   "cell_type": "markdown",
   "metadata": {},
   "source": [
    " \n",
    "## Halide Perovskites (HaPs) \n",
    "\n",
    "\n",
    "## Theoretical Research of the Dynamics of Halide Perovskite \n",
    "\n",
    "Many of the properties of the HaPs are based on the unique structure and dynamics of the HaPs system. Also, numerous reports show that, even without defects, HaPs shows significant structural fluctuations.6 One of the main methods of investigating the properties of HaPs theoretically is molecular dynamics (MD). By employing the MD method one can obtain extensive dynamical information - including the actual location of the atoms, energy levels and the band structure, dipoles, and much more. \n",
    "\n",
    "## Molecular Dynamics (MD) \n",
    "\n",
    "Molecular Dynamics (MD) simulation is an algorithm for computing equilibrium and transport properties of many-body systems at a finite temperature. This method relies on the Newtonian equations of motion, updated each step numerically according to calculated forces. The applied forces of all the particles/atoms in the systems are updated by various possible methods, a few of which are discussed below.7  \n",
    "\n",
    "### Classical Potential Molecular Dynamics \n",
    "\n",
    "Most common MD simulations are based on classical potentials. These potentials are usually based on principles of quantum mechanics but only in the form of fitted parameters, while the implementation of the equations is classical – atoms are regarded as points in space. The potential parameters need to be determined empirically for each set of materials. They are therefore limited in accuracy and types of systems.  \n",
    "\n",
    "### First-Principles Molecular Dynamics \n",
    "\n",
    "First-principles molecular dynamics are dynamical simulations, in which forces on the atoms are calculated using first-principles methods. By far the most common first-principles method is density functional theory (DFT). First-principles calculations are considered more accurate than classical potentials and inherently take into account the quantum nature of the interaction of the atoms and the electron cloud. Their critical limitation, however, is the computational cost of a meaningful simulation. While it is possible to obtain many useful insights from those simulations, for HaPs, which are highly dynamical materials, these limitations are hard to surpass.  \n",
    "\n",
    "## Molecular Dynamics of Halide Perovskite \n",
    "\n",
    "HaPs are comprised of at least three or more types of atoms and have many anharmonic features. This makes the usage of classical potential MD simulation very difficult for those materials. The only current possible option for dynamical research is of use first-principles MD, which limit the scale of the simulations. \n",
    "\n",
    "## Data-Driven Molecular Dynamics  \n",
    "\n",
    "Until recently, constructing MD potentials was based on benchmark data and a small set of first-principles calculations, used to fit a classical MD potential. This process is highly specialized and involved, and required much understanding of the modeled system.  \n",
    "\n",
    "The ever-increasing processing power and the rise of shared experimental and computational results data repositories provide the opportunity to easily obtaining a vast amount of information and data for each desired system. This change of setting allows the emergence of data-driven MD potentials. Those potentials are based on statistical learning, a branch of mathematics looking to extract and predict new properties from a given dataset.8  These approaches rely on much larger amounts of data compares to the classical approach. However, obtaining the potential is more general and can be easily applied to different systems. \n",
    "\n",
    "The two most common approaches are the artificial neural network (ANN) and the Gaussian process (GP). The methods are mathematical, but can be enhanced by using physical insights.9,10 The ANN is considered by many as a \"black box\" because the model has low interpretability but, by definition, can approximate any continuous function to a desired accuracy with enough data and a large enough network.11 GP's are somewhat limited in their prediction limits, but they are much easier to understand. Thus, it is possible to add deep physical insights that can drastically decrease the needed dataset size for the same accuracy.\n",
    "\n",
    "## Gaussian Process Force-Field \n",
    "This work proposed to use the symmetrized gradient-domain machine learning (sGDML) method, a Gaussian process-based force field. The GP method is based on jointly gaussian distributions. Each configuration of the system is considered a single gaussian distribution coupled in an approximate manner to other configurations, by using a predefined \"kernel function\" which is considered a hyperparameter."
   ]
  },
  {
   "cell_type": "markdown",
   "metadata": {},
   "source": [
    "# Gaussian Process \n",
    "## Normal/Gaussian  distribution\n",
    "Normal distributions are important in statistics and are often used to represent real-valued random variables whose distributions are not known. Their importance is partly due to the [central limit theorem](https://en.wikipedia.org/wiki/Central_limit_theorem). It states that, under some conditions, the average of many samples (observations) of a random variable with finite mean and variance is itself a random variable—whose distribution converges to a normal distribution as the number of samples increases. "
   ]
  },
  {
   "cell_type": "markdown",
   "metadata": {},
   "source": [
    "## Univariate normal distribution\n",
    "\n",
    "Univariate/single normal distribution is the simple case that the for given single value-scaler we have continuous probability distribution.\n",
    "$$\n",
    "\\mathcal{N}(\\mu, \\sigma^2)\n",
    "$$\n",
    "\n",
    "$$\n",
    "p(x \\mid \\mu, \\sigma) = \\frac{1}{\\sqrt{2\\pi\\sigma^2}} \\exp{ \\left( -\\frac{(x - \\mu)^2}{2\\sigma^2}\\right)}\n",
    "$$"
   ]
  },
  {
   "cell_type": "code",
   "execution_count": 3,
   "metadata": {},
   "outputs": [],
   "source": [
    "def univariate_normal(x, mean, variance):\n",
    "    \"\"\"pdf of the univariate normal distribution.\"\"\"\n",
    "    return ((1. / np.sqrt(2 * np.pi * variance)) * \n",
    "            np.exp(-(x - mean)**2 / (2 * variance)))"
   ]
  },
  {
   "cell_type": "code",
   "execution_count": 4,
   "metadata": {},
   "outputs": [
    {
     "data": {
      "application/vnd.jupyter.widget-view+json": {
       "model_id": "7c976fbc56ee4252962c021fa17dfe4f",
       "version_major": 2,
       "version_minor": 0
      },
      "text/plain": [
       "Canvas(toolbar=Toolbar(toolitems=[('Home', 'Reset original view', 'home', 'home'), ('Back', 'Back to previous …"
      ]
     },
     "metadata": {},
     "output_type": "display_data"
    },
    {
     "data": {
      "application/vnd.jupyter.widget-view+json": {
       "model_id": "87cc822c2086463a8341f934100328e8",
       "version_major": 2,
       "version_minor": 0
      },
      "text/plain": [
       "interactive(children=(FloatSlider(value=0.0, description='mu', max=3.0, min=-3.0), FloatSlider(value=1.0, desc…"
      ]
     },
     "metadata": {},
     "output_type": "display_data"
    }
   ],
   "source": [
    "# set up plot\n",
    "univariate_plot(univariate_normal)"
   ]
  },
  {
   "cell_type": "markdown",
   "metadata": {},
   "source": [
    "## Multivariate normal distribution\n",
    "multivariate normal distribution, multivariate Gaussian distribution, or joint normal distribution is a generalization of the one-dimensional (univariate) normal distribution to higher dimensions.\n",
    "\n",
    "$$\n",
    "p(\\mathbf{x} \\mid \\mathbf{\\mu}, \\Sigma) = \\frac{1}{\\sqrt{(2\\pi)^d \\lvert\\Sigma\\rvert}} \\exp{ \\left( -\\frac{1}{2}(\\mathbf{x} - \\mathbf{\\mu})^T \\Sigma^{-1} (\\mathbf{x} - \\mathbf{\\mu}) \\right)}\n",
    "$$\n",
    "\n",
    "$$\n",
    "\\mathcal{N}(\\mathbf{\\mu}, \\Sigma) \\\\\n",
    "\\mathbf{\\mu} = \\begin{pmatrix} \\mu_1 \\\\ \\mu_2\\\\ \\dots\\\\ \\mu_n\\end{pmatrix}, \n",
    "\\mathbf{\\Sigma} = \\begin{pmatrix}    \\Sigma_{11} & \\Sigma_{12} &\\dots & \\Sigma_{1n}\n",
    "                                  \\\\ \\Sigma_{21} & \\Sigma_{22} & \\dots & \\Sigma_{2n}\n",
    "                                  \\\\ \\dots & \\dots & \\dots & \\dots\n",
    "                                  \\\\ \\Sigma_{n1} & \\dots & \\dots &\\Sigma_{nn}\\end{pmatrix}, \\mathbf{\\Sigma} =\\mathbf{\\Sigma^\\top}: \\Sigma_{21}=\\Sigma_{21}\n",
    "$$"
   ]
  },
  {
   "cell_type": "code",
   "execution_count": 5,
   "metadata": {},
   "outputs": [],
   "source": [
    "def multivariate_normal(x, d, mean, covariance):\n",
    "    \"\"\"pdf of the multivariate normal distribution.\"\"\"\n",
    "    x_m = x - mean\n",
    "    return (1. / (np.sqrt((2 * np.pi)**d * np.linalg.det(covariance))) * \n",
    "            np.exp(-(np.linalg.solve(covariance, x_m).T.dot(x_m)) / 2))"
   ]
  },
  {
   "cell_type": "markdown",
   "metadata": {},
   "source": [
    "## 2D Multivariate normal distribution\n",
    "\n",
    "$$\n",
    "\\mathcal{N}\\left(\n",
    "\\begin{bmatrix}\n",
    "0 \\\\\n",
    "1\n",
    "\\end{bmatrix}, \n",
    "\\begin{bmatrix}\n",
    "1 & C \\\\\n",
    "C & 1\n",
    "\\end{bmatrix}\\right)\n",
    "$$"
   ]
  },
  {
   "cell_type": "code",
   "execution_count": 6,
   "metadata": {},
   "outputs": [
    {
     "data": {
      "application/vnd.jupyter.widget-view+json": {
       "model_id": "956ba9bb208345888841301a5a42ec95",
       "version_major": 2,
       "version_minor": 0
      },
      "text/plain": [
       "Canvas(toolbar=Toolbar(toolitems=[('Home', 'Reset original view', 'home', 'home'), ('Back', 'Back to previous …"
      ]
     },
     "metadata": {},
     "output_type": "display_data"
    },
    {
     "data": {
      "application/vnd.jupyter.widget-view+json": {
       "model_id": "784508aa8ca540ed833a7b70ebc4e799",
       "version_major": 2,
       "version_minor": 0
      },
      "text/plain": [
       "interactive(children=(FloatSlider(value=0.0, continuous_update=False, description='C', max=0.99, step=0.01), O…"
      ]
     },
     "metadata": {},
     "output_type": "display_data"
    }
   ],
   "source": [
    "plt.close('all')\n",
    "\n",
    "multivariate_plot(multivariate_normal, nb_of_x=100)"
   ]
  },
  {
   "cell_type": "markdown",
   "metadata": {},
   "source": [
    "## Marginal and Conditional normal distributions\n",
    "\n",
    "If both $\\mathbf{x_1}$ and $\\mathbf{x_2}$ are [jointly normal](https://en.wikipedia.org/wiki/Multivariate_normal_distribution#Joint_normality) the random vectors defined as:\n",
    "$$\n",
    "\\begin{bmatrix}\n",
    "\\mathbf{x_1} \\\\\n",
    "\\mathbf{x_2} \n",
    "\\end{bmatrix}\n",
    "\\sim\n",
    "\\mathcal{N}\\left(\n",
    "\\begin{bmatrix}\n",
    "\\mu_{\\mathbf{1}} \\\\\n",
    "\\mu_{\\mathbf{2}}\n",
    "\\end{bmatrix},\n",
    "\\begin{bmatrix}\n",
    "\\Sigma_{11} & \\Sigma_{12} \\\\ \n",
    "\\Sigma_{21} & \\Sigma_{22}\n",
    "\\end{bmatrix}\n",
    "\\right)\n",
    "= \\mathcal{N}(\\mu, \\Sigma)\n",
    ", \\qquad \n",
    "$$\n",
    "\n",
    "The [conditional distribution](https://en.wikipedia.org/wiki/Conditional_probability_distribution) of $\\mathbf{x}$ given $\\mathbf{y}$ is defined as:\n",
    "\n",
    "$$\n",
    "p(\\mathbf{x_1} \\mid \\mathbf{x_2}) = \\mathcal{N}(\\mu_{1|2}, \\Sigma_{1|2})\n",
    "$$\n",
    "\n",
    "With:\n",
    "$$\\mu_{1|2} = \\mu_1 -\\Sigma_{12}\\Sigma_{22}^{-1}(x_2-\\mu_2) \\;\n",
    "\\Sigma_{1|2} = (\\Sigma/\\Sigma_{22})=\\Sigma_{11}-\\Sigma_{12}\\Sigma_{22}^{-1}\\Sigma_{21}$$\n",
    "\n"
   ]
  },
  {
   "cell_type": "markdown",
   "metadata": {},
   "source": [
    "### Proof\n",
    "\n",
    "$\n",
    "\\begin{split}\n",
    "p(x_1, x_2) = exp\n",
    "\\left[\n",
    "-\\frac{1}{2}\n",
    "\\begin{pmatrix}\n",
    "x_1 - \\mu_1 \\\\ \n",
    "x_2 - \\mu_2\n",
    "\\end{pmatrix}^T\n",
    "\\begin{pmatrix}\n",
    "\\Sigma_{11} & \\Sigma_{12} \\\\ \n",
    "\\Sigma_{21} & \\Sigma_{22}\n",
    "\\end{pmatrix}^{-1}\n",
    "\\begin{pmatrix}\n",
    "x_1 - \\mu_1 \\\\ \n",
    "x_2 - \\mu_2\n",
    "\\end{pmatrix}\n",
    "\\right]\n",
    "\\end{split}\n",
    "$\n",
    "\n",
    "By using thr following idendty:\n",
    "\n",
    "$\n",
    "\\begin{split}\n",
    "M^{-1}=\n",
    "\\begin{pmatrix}\n",
    "A & B \\\\ \n",
    "C & D\n",
    "\\end{pmatrix}^{-1}=\n",
    "\\begin{pmatrix}\n",
    "I & 0 \\\\ \n",
    "-C^{-1}C & I\n",
    "\\end{pmatrix}\n",
    "\\begin{pmatrix}\n",
    "(M/D)^{-1} & 0 \\\\ \n",
    "0 & D^{-1}\n",
    "\\end{pmatrix}\n",
    "\\begin{pmatrix}\n",
    "I & -BD^{-1} \\\\ \n",
    "0 & I\n",
    "\\end{pmatrix}\n",
    "\\end{split}\n",
    "$\n",
    "\n",
    "We obtainig the folowing:\n",
    "\n",
    "$\n",
    "\\begin{pmatrix}\n",
    "x_1 - \\mu_1 \\\\ \n",
    "x_2 - \\mu_2\n",
    "\\end{pmatrix}^T\n",
    "\\begin{pmatrix}\n",
    "\\Sigma_{11} & \\Sigma_{12} \\\\ \n",
    "\\Sigma_{21} & \\Sigma_{22}\n",
    "\\end{pmatrix}^{-1}\n",
    "\\begin{pmatrix}\n",
    "x_1 - \\mu_1 \\\\ \n",
    "x_2 - \\mu_2\n",
    "\\end{pmatrix}=\n",
    "\\begin{pmatrix}\n",
    "x_1 - \\mu_1 \\\\ \n",
    "x_2 - \\mu_2\n",
    "\\end{pmatrix}^T\n",
    "\\begin{pmatrix}\n",
    "I & 0 \\\\ \n",
    "-\\Sigma_{22}^{-1} \\Sigma_{21} & I\n",
    "\\end{pmatrix}\n",
    "\\begin{pmatrix}\n",
    "(\\Sigma/\\Sigma_{22})^{-1} & 0 \\\\ \n",
    "0 & \\Sigma_{22}^{-1}\n",
    "\\end{pmatrix}\n",
    "\\begin{pmatrix}\n",
    "I & -\\Sigma_{12}\\Sigma_{22}^{-1} \\\\ \n",
    "0 & I\n",
    "\\end{pmatrix}\n",
    "\\begin{pmatrix}\n",
    "x_1 - \\mu_1 \\\\ \n",
    "x_2 - \\mu_2\n",
    "\\end{pmatrix}\n",
    "$\n",
    "\n",
    "And finally:\n",
    "\n",
    "$\n",
    "(x_2 - \\mu_1 -\\Sigma_{12}\\Sigma_{22}^{-1}(x_2-\\mu_2))^T(\\Sigma/\\Sigma_{22})^{-1}(x_2 - \\mu_1 -\\Sigma_{12}\\Sigma_{22}^{-1}(x_2-\\mu_2)) + (x_2-\\mu_2)^T\\Sigma_22^{-1}(x_2-\\mu_2)\n",
    "$\n",
    "\n",
    "And plugin back into the first Eq:\n",
    "\n",
    "$\n",
    "\\begin{split}\n",
    "p(x_1, x_2) = exp\n",
    "\\left[\n",
    "-\\frac{1}{2}\n",
    "(x_2 - \\mu_1 -\\Sigma_{12}\\Sigma_{22}^{-1}(x_2-\\mu_2))^T(\\Sigma/\\Sigma_{22})^{-1}(x_2 - \\mu_1 -\\Sigma_{12}\\Sigma_{22}^{-1}(x_2-\\mu_2)) + (x_2-\\mu_2)^T\\Sigma_22^{-1}(x_2-\\mu_2)\n",
    "\\right]\n",
    "\\end{split}\n",
    "$\n",
    "$\n",
    "\\begin{split}\n",
    "p(x_1, x_2) = exp\n",
    "\\left[\n",
    "-\\frac{1}{2}\n",
    "(x_2 - \\mu_1 -\\Sigma_{12}\\Sigma_{22}^{-1}(x_2-\\mu_2))^T(\\Sigma/\\Sigma_{22})^{-1}(x_2 - \\mu_1 -\\Sigma_{12}\\Sigma_{22}^{-1}(x_2-\\mu_2))\n",
    "\\right] \\cdot\n",
    "exp\n",
    "\\left[\n",
    "-\\frac{1}{2}\n",
    "(x_2-\\mu_2)^T\\Sigma_22^{-1}(x_2-\\mu_2)\n",
    "\\right]\n",
    "\\end{split}\n",
    "$\n",
    "\n",
    "and from the axiom of probability we obtain the follwoing equlaity:\n",
    "\n",
    "$\n",
    "\\begin{split}\n",
    "p(x_1, x_2) = p(x_1|x_2)p(x_2)= exp\n",
    "\\left[\n",
    "-\\frac{1}{2}\n",
    "(x_2 - \\mu_1 -\\Sigma_{12}\\Sigma_{22}^{-1}(x_2-\\mu_2))^T(\\Sigma/\\Sigma_{22})^{-1}(x_2 - \\mu_1 -\\Sigma_{12}\\Sigma_{22}^{-1}(x_2-\\mu_2))\n",
    "\\right] \\cdot\n",
    "exp\n",
    "\\left[\n",
    "-\\frac{1}{2}\n",
    "(x_2-\\mu_2)^T\\Sigma_22^{-1}(x_2-\\mu_2)\n",
    "\\right] = \n",
    "exp\n",
    "\\left[\n",
    "-\\frac{1}{2}\n",
    "(x_2 - \\mu_1 -\\Sigma_{12}\\Sigma_{22}^{-1}(x_2-\\mu_2))^T(\\Sigma/\\Sigma_{22})^{-1}(x_2 - \\mu_1 -\\Sigma_{12}\\Sigma_{22}^{-1}(x_2-\\mu_2))\n",
    "\\right] \\cdot\n",
    "p(x_2)\n",
    "\\end{split} \\\\ \n",
    "\\Rightarrow p(x_1|x_2) = exp\n",
    "\\left[\n",
    "-\\frac{1}{2}\n",
    "(x_2 - \\mu_1 -\\Sigma_{12}\\Sigma_{22}^{-1}(x_2-\\mu_2))^T(\\Sigma/\\Sigma_{22})^{-1}(x_2 - \\mu_1 -\\Sigma_{12}\\Sigma_{22}^{-1}(x_2-\\mu_2))\n",
    "\\right] \\\\\n",
    "\\mu_{1|2} = \\mu_1 -\\Sigma_{12}\\Sigma_{22}^{-1}(x_2-\\mu_2) \\;\n",
    "\\Sigma_{1|2} = (\\Sigma/\\Sigma_{22})=\\Sigma_{11}-\\Sigma_{12}\\Sigma_{22}^{-1}\\Sigma_{21}\n",
    "$"
   ]
  },
  {
   "cell_type": "code",
   "execution_count": 7,
   "metadata": {},
   "outputs": [
    {
     "data": {
      "application/vnd.jupyter.widget-view+json": {
       "model_id": "1e6e530346d145509a0f173bbaa8c952",
       "version_major": 2,
       "version_minor": 0
      },
      "text/plain": [
       "Canvas(toolbar=Toolbar(toolitems=[('Home', 'Reset original view', 'home', 'home'), ('Back', 'Back to previous …"
      ]
     },
     "metadata": {},
     "output_type": "display_data"
    },
    {
     "data": {
      "application/vnd.jupyter.widget-view+json": {
       "model_id": "e527a1106abf40ed98eddbb8fa557c7a",
       "version_major": 2,
       "version_minor": 0
      },
      "text/plain": [
       "interactive(children=(FloatSlider(value=0.0, continuous_update=False, description='x', max=1.0, min=-1.0), Flo…"
      ]
     },
     "metadata": {},
     "output_type": "display_data"
    }
   ],
   "source": [
    "plt.close('all')\n",
    "condition_plot(nb_of_x=100)"
   ]
  },
  {
   "cell_type": "markdown",
   "metadata": {},
   "source": [
    "## Gaussian Process\n",
    "Gaussian process (GP) Is a method predicting $y^*$ for a given $x^*$ and getting: $y_i=f(x_i )$. \n",
    "GP assumes that $p(f(x_1),...,f(x_N  ))$ is a jointly Gaussian, i.e., the probability of getting the full random vector (the known $y$ points and the the new $y^{*}$ points) is defined as a multidimensional gaussian with $\\mu$ and $\\Sigma(x)$, where $\\Sigma(x)$ is calculated as $\\Sigma_{ij}=k(x_i,x_j)$, and $k$ is a kernel function.\n"
   ]
  },
  {
   "cell_type": "markdown",
   "metadata": {},
   "source": [
    "$$\n",
    "\\begin{pmatrix}\n",
    "f \\\\ \n",
    "f^*\n",
    "\\end{pmatrix}~\n",
    "\\mathcal{N}\n",
    "\\begin{pmatrix}\n",
    "\\begin{pmatrix}\n",
    "\\mu \\\\ \n",
    "\\mu^*\n",
    "\\end{pmatrix},\n",
    "\\begin{pmatrix}\n",
    "k & k^*\\\\ \n",
    "{k^{*}}^{T} & k^{**}\n",
    "\\end{pmatrix}\n",
    "\\end{pmatrix}\n",
    "$$\n",
    "<br/>\n",
    "$f$ - Vector of all observed $y_i$ values, $f=y_i=f(x_i)$.<br/>\n",
    "$f^*$ - Prediction function for point $x^*$, $f^*=y^*=f(x^*)$.<br/>\n",
    "$\\mu$ - Vector of all observed mean values.<br/>\n",
    "$\\mu^*$- Mean values for the prediction for x^*. <br/>\n",
    "$k$ - Covariance matrix of all observed points<br/>\n",
    "$k^*$ - Kernel vector $k^*=k(x^*,x_i )$<br/>\n",
    "$k^{**}$ - Self kernel vector $k^{**}=k(x^*,x^* )$<br/>\n"
   ]
  },
  {
   "cell_type": "markdown",
   "metadata": {},
   "source": [
    "### Applying the Conditional \n",
    "$$f(x^*)=f(x^*|y,x)=\\mu^* +{{k}^{*}}^{T}  k^{-1}(y-\\mu)$$ <br/>\n",
    "For simplicity, we can define the mean values to be zero<br/>\n",
    "$$f(x^*) ={k^*}^{T}k^{-1}y=\\sum_{i=1}^{N}\\alpha_ik(x_i, x^*)$$"
   ]
  },
  {
   "cell_type": "markdown",
   "metadata": {},
   "source": [
    "### The Most Popular Kernal\n",
    "Here, we will use the squared exponential kernel, also known as Gaussian kernel or RBF kernel\n",
    "$$\n",
    "\\kappa(\\mathbf{x}_i,\\mathbf{x}_j) = \\sigma_f^2 \\exp\\left(-\\frac{1}{2l^2}\n",
    "  (\\mathbf{x}_i - \\mathbf{x}_j)^T\n",
    "  (\\mathbf{x}_i - \\mathbf{x}_j)\\right)\\tag{10}\n",
    "$$"
   ]
  },
  {
   "cell_type": "code",
   "execution_count": 8,
   "metadata": {},
   "outputs": [],
   "source": [
    "# https://juanitorduz.github.io/gaussian_process_reg/\n",
    "# http://krasserm.github.io/2018/03/19/gaussian-processes/\n",
    "def kernel(X1, X2, l=1.0, sigma_f=1.0):\n",
    "    '''\n",
    "    Isotropic squared exponential kernel. Computes\n",
    "    a covariance matrix from points in X1 and X2.\n",
    "\n",
    "    Args:\n",
    "        X1: Array of m points (m x d).\n",
    "        X2: Array of n points (n x d).\n",
    "\n",
    "    Returns:\n",
    "        Covariance matrix (m x n).\n",
    "    '''\n",
    "    sqdist = np.sum(X1 ** 2, 1).reshape(-1, 1) + np.sum(X2 ** 2, 1) - 2 * np.dot(X1, X2.T)\n",
    "    return sigma_f ** 2 * np.exp(-0.5 / l ** 2 * sqdist)"
   ]
  },
  {
   "cell_type": "markdown",
   "metadata": {},
   "source": [
    "### The Conditional on A Nosey Dataset\n",
    "If we have a training dataset with noisy function values $\\mathbf{y} = \\mathbf{f} + \\boldsymbol\\epsilon$ where noise $\\boldsymbol\\epsilon \\sim \\mathcal{N}(\\mathbf{0}, \\sigma_y^2 \\mathbf{I})$ is independently added to each observation then the predictive distribution is given by\n",
    "\n",
    "$$\n",
    "\\begin{align*}\n",
    "p(\\mathbf{f}_* \\lvert \\mathbf{X}_*,\\mathbf{X},\\mathbf{y}) &= \\mathcal{N}(\\mathbf{f}_* \\lvert \\boldsymbol{\\mu}_*, \\boldsymbol{\\Sigma}_*) \\\\\n",
    "\\boldsymbol{\\mu_*} &= \\mathbf{K}_*^T \\mathbf{K}_y^{-1} \\mathbf{y} \\\\\n",
    "\\boldsymbol{\\Sigma_*} &= \\mathbf{K}_{**} - \\mathbf{K}_*^T \\mathbf{K}_y^{-1} \\mathbf{K}_*\n",
    "\\end{align*}\n",
    "$$\n",
    "where $\\mathbf{K}_y = \\mathbf{K} + \\sigma_y^2\\mathbf{I}$."
   ]
  },
  {
   "cell_type": "code",
   "execution_count": 9,
   "metadata": {},
   "outputs": [],
   "source": [
    "def posterior_predictive(X_s, X_train, Y_train, l=1.0, sigma_f=1.0, sigma_y=1e-8):\n",
    "    '''\n",
    "    Computes the suffifient statistics of the GP posterior predictive distribution\n",
    "    from m training data X_train and Y_train and n new inputs X_s.\n",
    "\n",
    "    Args:\n",
    "        X_s: New input locations (n x d).\n",
    "        X_train: Training locations (m x d).\n",
    "        Y_train: Training targets (m x 1).\n",
    "        l: Kernel length parameter.\n",
    "        sigma_f: Kernel vertical variation parameter.\n",
    "        sigma_y: Noise parameter.\n",
    "\n",
    "    Returns:\n",
    "        Posterior mean vector (n x d) and covariance matrix (n x n).\n",
    "    '''\n",
    "    K = kernel(X_train, X_train, l, sigma_f) + sigma_y ** 2 * np.eye(len(X_train))\n",
    "    K_s = kernel(X_train, X_s, l, sigma_f)\n",
    "    K_ss = kernel(X_s, X_s, l, sigma_f) + 1e-8 * np.eye(len(X_s))\n",
    "    K_inv = inv(K)\n",
    "\n",
    "\n",
    "    alphas = K_inv.dot(Y_train)\n",
    "    mu_s = K_s.T.dot(alphas)\n",
    "\n",
    "\n",
    "    cov_s = K_ss - K_s.T.dot(K_inv).dot(K_s)\n",
    "\n",
    "    return mu_s, cov_s"
   ]
  },
  {
   "cell_type": "code",
   "execution_count": 10,
   "metadata": {},
   "outputs": [
    {
     "data": {
      "application/vnd.jupyter.widget-view+json": {
       "model_id": "e512aea91c3e45abae3d94e0edbae4f1",
       "version_major": 2,
       "version_minor": 0
      },
      "text/plain": [
       "Canvas(toolbar=Toolbar(toolitems=[('Home', 'Reset original view', 'home', 'home'), ('Back', 'Back to previous …"
      ]
     },
     "metadata": {},
     "output_type": "display_data"
    }
   ],
   "source": [
    "plt.close()\n",
    "noise = 0.1\n",
    "x = [-3, -2 , -1,  1, 2 , 3, 4]\n",
    "def f(x):\n",
    "    func = np.exp(np.sin(x))\n",
    "    return func\n",
    "    \n",
    "gaussian_process(x, f, noise, posterior_predictive, kernel)"
   ]
  },
  {
   "cell_type": "code",
   "execution_count": 11,
   "metadata": {},
   "outputs": [
    {
     "data": {
      "application/vnd.jupyter.widget-view+json": {
       "model_id": "3d2ddaee1525444aa8efd021cf1f6ee6",
       "version_major": 2,
       "version_minor": 0
      },
      "text/plain": [
       "Canvas(toolbar=Toolbar(toolitems=[('Home', 'Reset original view', 'home', 'home'), ('Back', 'Back to previous …"
      ]
     },
     "metadata": {},
     "output_type": "display_data"
    }
   ],
   "source": [
    "plt.close('all')\n",
    "noise = 0.1\n",
    "kernal = ConstantKernel(1.0) * RBF(length_scale=1.0)\n",
    "\n",
    "gaussian_process_interactive(f, noise, kernal)"
   ]
  },
  {
   "cell_type": "markdown",
   "metadata": {},
   "source": [
    "## GP Force Field \n",
    "a straightforward formulation of a vector-valued estimator\n",
    "takes the form:\n",
    "$$\n",
    "\\mathbf{\\hat{f}}=\\begin{bmatrix}\\hat{f}_1(x), \\dots, \\hat{f}_N\\end{bmatrix}^{T}\n",
    "$$\n",
    "$\\mathbf{\\hat{f}}: \\mathbb{R}^N\\rightarrow\\mathbb{R}^N$ where each component: ${\\hat{f}_i}: \\mathbb{R}^N\\rightarrow\\mathbb{R}$"
   ]
  },
  {
   "cell_type": "code",
   "execution_count": 12,
   "metadata": {},
   "outputs": [
    {
     "data": {
      "application/vnd.jupyter.widget-view+json": {
       "model_id": "939e358058d54b37a95b9f171a23f5b1",
       "version_major": 2,
       "version_minor": 0
      },
      "text/plain": []
     },
     "metadata": {},
     "output_type": "display_data"
    },
    {
     "data": {
      "application/vnd.jupyter.widget-view+json": {
       "model_id": "5724fc12770e4c7ebcd3036e2a211528",
       "version_major": 2,
       "version_minor": 0
      },
      "text/plain": [
       "HBox(children=(NGLWidget(), VBox(children=(Dropdown(description='Show', options=('All', 'Ni'), value='All'), D…"
      ]
     },
     "metadata": {},
     "output_type": "display_data"
    }
   ],
   "source": [
    "plt.close('all')\n",
    "from ase_utils import *\n",
    "\"\"\"Demonstrates molecular dynamics with constant temperature.\"\"\"\n",
    "\n",
    "\n",
    "a = 3.519\n",
    "atoms_type = 'Ni'\n",
    "atoms = Atoms([Atom(atoms_type, (0, 0, 0)), \n",
    "               Atom(atoms_type, (0, a/2, a/2)),\n",
    "               Atom(atoms_type, (a/2, 0, a/2)),\n",
    "               Atom(atoms_type, (a/2, a/2, 0))])\n",
    "atoms.set_cell([a, a, a])\n",
    "atoms.set_pbc(True)\n",
    "atoms = atoms*2\n",
    "atoms_copy = atoms.copy()\n",
    "lat = np.array(atoms.get_cell())\n",
    "\n",
    "ngl.view_ngl(atoms, w=500, h=500)"
   ]
  },
  {
   "cell_type": "code",
   "execution_count": 13,
   "metadata": {},
   "outputs": [],
   "source": [
    "from ase.calculators.emt import EMT\n",
    "from ase.calculators.kim.kim import KIM\n",
    "T = 300  # Kelvin\n",
    "# Describe the interatomic interactions with the Effective Medium Theory\n",
    "# atoms.calc = EMT()\n",
    "atoms.calc = KIM(\"EAM_Dynamo_MishinFarkasMehl_1999_Ni__MO_400591584784_005\")\n",
    "# Set the momenta corresponding T\n",
    "MaxwellBoltzmannDistribution(atoms, T * 4 * units.kB)"
   ]
  },
  {
   "cell_type": "code",
   "execution_count": 14,
   "metadata": {},
   "outputs": [],
   "source": [
    "# A molecular dynamics object will operate on the atoms by moving them according to their forces - \n",
    "# it integrates Newton’s second law numerically\n",
    "# # Room temperature simulation\n",
    "dyn = Langevin(atoms, 1 * units.fs, 2*T * units.kB, 0.002)\n",
    "dyn.attach(printenergy(atoms), interval=500)\n",
    "# We also want to save the positions of all atoms after every 100th time step.\n",
    "traj = Trajectory('reference.traj', 'w', atoms)\n",
    "dyn.attach(traj.write, interval=1)"
   ]
  },
  {
   "cell_type": "code",
   "execution_count": 15,
   "metadata": {},
   "outputs": [
    {
     "name": "stdout",
     "output_type": "stream",
     "text": [
      "Energy per atom: Epot = -4.450eV  Ekin = 0.213eV (T=1649K)  Etot = -4.237eV, time elapsed: 0.0\n",
      "Energy per atom: Epot = -4.349eV  Ekin = 0.112eV (T=869K)  Etot = -4.237eV, time elapsed: 1.1\n",
      "Energy per atom: Epot = -4.350eV  Ekin = 0.109eV (T=845K)  Etot = -4.241eV, time elapsed: 2.2\n",
      "Energy per atom: Epot = -4.342eV  Ekin = 0.087eV (T=671K)  Etot = -4.255eV, time elapsed: 3.3\n",
      "Energy per atom: Epot = -4.377eV  Ekin = 0.116eV (T=894K)  Etot = -4.261eV, time elapsed: 4.4\n",
      "Energy per atom: Epot = -4.359eV  Ekin = 0.090eV (T=699K)  Etot = -4.269eV, time elapsed: 5.4\n",
      "Energy per atom: Epot = -4.364eV  Ekin = 0.103eV (T=800K)  Etot = -4.260eV, time elapsed: 6.5\n",
      "Energy per atom: Epot = -4.370eV  Ekin = 0.107eV (T=827K)  Etot = -4.263eV, time elapsed: 7.6\n",
      "Energy per atom: Epot = -4.355eV  Ekin = 0.099eV (T=766K)  Etot = -4.256eV, time elapsed: 8.6\n",
      "Energy per atom: Epot = -4.356eV  Ekin = 0.095eV (T=731K)  Etot = -4.261eV, time elapsed: 9.9\n",
      "Energy per atom: Epot = -4.352eV  Ekin = 0.087eV (T=672K)  Etot = -4.265eV, time elapsed: 11.2\n",
      "Energy per atom: Epot = -4.361eV  Ekin = 0.093eV (T=720K)  Etot = -4.268eV, time elapsed: 12.3\n",
      "Energy per atom: Epot = -4.368eV  Ekin = 0.111eV (T=856K)  Etot = -4.258eV, time elapsed: 13.4\n",
      "Energy per atom: Epot = -4.354eV  Ekin = 0.089eV (T=689K)  Etot = -4.264eV, time elapsed: 14.5\n",
      "Energy per atom: Epot = -4.354eV  Ekin = 0.088eV (T=685K)  Etot = -4.266eV, time elapsed: 15.6\n",
      "Energy per atom: Epot = -4.374eV  Ekin = 0.094eV (T=728K)  Etot = -4.280eV, time elapsed: 16.7\n",
      "Energy per atom: Epot = -4.368eV  Ekin = 0.086eV (T=669K)  Etot = -4.281eV, time elapsed: 17.7\n",
      "Energy per atom: Epot = -4.365eV  Ekin = 0.083eV (T=641K)  Etot = -4.282eV, time elapsed: 18.9\n",
      "Energy per atom: Epot = -4.375eV  Ekin = 0.103eV (T=797K)  Etot = -4.272eV, time elapsed: 20.0\n",
      "Energy per atom: Epot = -4.359eV  Ekin = 0.092eV (T=709K)  Etot = -4.268eV, time elapsed: 21.1\n",
      "Energy per atom: Epot = -4.359eV  Ekin = 0.081eV (T=630K)  Etot = -4.278eV, time elapsed: 22.2\n",
      "Energy per atom: Epot = -4.379eV  Ekin = 0.099eV (T=768K)  Etot = -4.280eV, time elapsed: 23.2\n",
      "Energy per atom: Epot = -4.354eV  Ekin = 0.062eV (T=483K)  Etot = -4.292eV, time elapsed: 24.4\n",
      "Energy per atom: Epot = -4.379eV  Ekin = 0.092eV (T=716K)  Etot = -4.287eV, time elapsed: 25.5\n",
      "Energy per atom: Epot = -4.371eV  Ekin = 0.078eV (T=601K)  Etot = -4.293eV, time elapsed: 26.6\n",
      "Energy per atom: Epot = -4.366eV  Ekin = 0.065eV (T=502K)  Etot = -4.301eV, time elapsed: 27.6\n",
      "Energy per atom: Epot = -4.382eV  Ekin = 0.086eV (T=669K)  Etot = -4.296eV, time elapsed: 28.7\n",
      "Energy per atom: Epot = -4.378eV  Ekin = 0.071eV (T=547K)  Etot = -4.308eV, time elapsed: 29.8\n",
      "Energy per atom: Epot = -4.400eV  Ekin = 0.081eV (T=627K)  Etot = -4.319eV, time elapsed: 30.9\n",
      "Energy per atom: Epot = -4.392eV  Ekin = 0.070eV (T=539K)  Etot = -4.323eV, time elapsed: 31.9\n",
      "Energy per atom: Epot = -4.391eV  Ekin = 0.067eV (T=519K)  Etot = -4.324eV, time elapsed: 33.0\n",
      "Energy per atom: Epot = -4.390eV  Ekin = 0.070eV (T=541K)  Etot = -4.320eV, time elapsed: 34.1\n",
      "Energy per atom: Epot = -4.398eV  Ekin = 0.074eV (T=573K)  Etot = -4.324eV, time elapsed: 35.2\n",
      "Energy per atom: Epot = -4.379eV  Ekin = 0.070eV (T=543K)  Etot = -4.309eV, time elapsed: 36.4\n",
      "Energy per atom: Epot = -4.372eV  Ekin = 0.070eV (T=544K)  Etot = -4.302eV, time elapsed: 37.4\n",
      "Energy per atom: Epot = -4.378eV  Ekin = 0.065eV (T=500K)  Etot = -4.314eV, time elapsed: 38.5\n",
      "Energy per atom: Epot = -4.385eV  Ekin = 0.057eV (T=438K)  Etot = -4.328eV, time elapsed: 39.6\n",
      "Energy per atom: Epot = -4.381eV  Ekin = 0.060eV (T=467K)  Etot = -4.321eV, time elapsed: 40.8\n",
      "Energy per atom: Epot = -4.398eV  Ekin = 0.078eV (T=606K)  Etot = -4.320eV, time elapsed: 41.8\n",
      "Energy per atom: Epot = -4.381eV  Ekin = 0.071eV (T=548K)  Etot = -4.310eV, time elapsed: 42.9\n",
      "Energy per atom: Epot = -4.379eV  Ekin = 0.067eV (T=521K)  Etot = -4.312eV, time elapsed: 44.0\n",
      "Energy per atom: Epot = -4.390eV  Ekin = 0.068eV (T=527K)  Etot = -4.322eV, time elapsed: 45.1\n",
      "Energy per atom: Epot = -4.394eV  Ekin = 0.073eV (T=562K)  Etot = -4.322eV, time elapsed: 46.2\n",
      "Energy per atom: Epot = -4.381eV  Ekin = 0.053eV (T=411K)  Etot = -4.328eV, time elapsed: 47.3\n",
      "Energy per atom: Epot = -4.397eV  Ekin = 0.062eV (T=478K)  Etot = -4.335eV, time elapsed: 48.4\n",
      "Energy per atom: Epot = -4.385eV  Ekin = 0.057eV (T=443K)  Etot = -4.328eV, time elapsed: 49.5\n",
      "Energy per atom: Epot = -4.390eV  Ekin = 0.064eV (T=499K)  Etot = -4.326eV, time elapsed: 50.6\n",
      "Energy per atom: Epot = -4.387eV  Ekin = 0.063eV (T=485K)  Etot = -4.324eV, time elapsed: 51.7\n",
      "Energy per atom: Epot = -4.399eV  Ekin = 0.073eV (T=568K)  Etot = -4.325eV, time elapsed: 52.8\n",
      "Energy per atom: Epot = -4.385eV  Ekin = 0.059eV (T=455K)  Etot = -4.327eV, time elapsed: 53.9\n",
      "Energy per atom: Epot = -4.376eV  Ekin = 0.054eV (T=419K)  Etot = -4.321eV, time elapsed: 55.0\n",
      "Energy per atom: Epot = -4.391eV  Ekin = 0.077eV (T=594K)  Etot = -4.315eV, time elapsed: 56.1\n",
      "Energy per atom: Epot = -4.381eV  Ekin = 0.083eV (T=641K)  Etot = -4.298eV, time elapsed: 57.2\n",
      "Energy per atom: Epot = -4.370eV  Ekin = 0.077eV (T=595K)  Etot = -4.294eV, time elapsed: 58.3\n",
      "Energy per atom: Epot = -4.373eV  Ekin = 0.076eV (T=585K)  Etot = -4.298eV, time elapsed: 59.4\n",
      "Energy per atom: Epot = -4.370eV  Ekin = 0.072eV (T=556K)  Etot = -4.298eV, time elapsed: 60.5\n",
      "Energy per atom: Epot = -4.367eV  Ekin = 0.064eV (T=496K)  Etot = -4.303eV, time elapsed: 61.5\n",
      "Energy per atom: Epot = -4.381eV  Ekin = 0.086eV (T=663K)  Etot = -4.296eV, time elapsed: 62.6\n",
      "Energy per atom: Epot = -4.379eV  Ekin = 0.076eV (T=592K)  Etot = -4.302eV, time elapsed: 63.8\n",
      "Energy per atom: Epot = -4.375eV  Ekin = 0.082eV (T=638K)  Etot = -4.293eV, time elapsed: 64.8\n"
     ]
    },
    {
     "data": {
      "text/plain": [
       "True"
      ]
     },
     "execution_count": 15,
     "metadata": {},
     "output_type": "execute_result"
    }
   ],
   "source": [
    "# Now run the dynamics\n",
    "steps = 30000 - 1\n",
    "dyn.run(steps)"
   ]
  },
  {
   "cell_type": "code",
   "execution_count": 16,
   "metadata": {},
   "outputs": [
    {
     "data": {
      "application/vnd.jupyter.widget-view+json": {
       "model_id": "59197bc76ce942bbbe96421bed3d2858",
       "version_major": 2,
       "version_minor": 0
      },
      "text/plain": [
       "HBox(children=(NGLWidget(max_frame=29999), VBox(children=(Dropdown(description='Show', options=('All', 'Ni'), …"
      ]
     },
     "metadata": {},
     "output_type": "display_data"
    }
   ],
   "source": [
    "traj = Trajectory('reference.traj', 'r', atoms)\n",
    "ngl.view_ngl(traj, w=500, h=500)"
   ]
  },
  {
   "cell_type": "code",
   "execution_count": 17,
   "metadata": {},
   "outputs": [],
   "source": [
    "traj = Trajectory('reference.traj', 'r', atoms)\n",
    "calc = KIM(\"EAM_Dynamo_MishinFarkasMehl_1999_Ni__MO_400591584784_005\")"
   ]
  },
  {
   "cell_type": "code",
   "execution_count": 18,
   "metadata": {},
   "outputs": [
    {
     "data": {
      "text/plain": [
       "<bound method Atoms.get_potential_energies of Atoms(symbols='Ni32', pbc=True, cell=[7.038, 7.038, 7.038], momenta=..., calculator=KIMModelCalculator(...))>"
      ]
     },
     "execution_count": 18,
     "metadata": {},
     "output_type": "execute_result"
    }
   ],
   "source": [
    "from ase import units\n",
    "atoms.get_potential_energies\n",
    "# atoms.calc = KIM(\"EAM_Dynamo_MishinFarkasMehl_1999_Ni__MO_400591584784_005\")\n",
    "# print(atoms.calc.calculate_numerical_forces())"
   ]
  },
  {
   "cell_type": "markdown",
   "metadata": {},
   "source": [
    "Instead of mapping to scalar outputs, we can alternatively model the covariance\n",
    "function as a matrix $k : \\chi × \\chi → \\mathbb{R}^N\\rightarrow\\mathbb{R}^{N\\times N}$ that expresses the interaction among\n",
    "multiple output components. Together with a vector-valued mean function $\\mu : \\chi →\n",
    "\\mathbb{R}^N$ , we can then sample realizations of vector-valued functions from the GP\n",
    "$$\n",
    "\\mathbf{\\hat{f}} ∼ \\mathcal{GP}\\begin{bmatrix}\\mathbf{\\mu(x)}, \\mathbf{k(x,x^{'})}\\end{bmatrix}\n",
    "$$"
   ]
  },
  {
   "cell_type": "markdown",
   "metadata": {},
   "source": [
    "### the navie approch:\n",
    "$$\n",
    "\\mathbf{\\hat{f}}=\\begin{bmatrix}\\hat{f}_1(x), \\dots, \\hat{f}_N\\end{bmatrix}^{T}\n",
    "$$\n",
    "$$\n",
    "\\hat{f}_i(x) = \\mathcal{GP}\\begin{bmatrix}\\mathbf{\\mu(x)_i}, \\mathbf{k(x,x^{'})_i}\\end{bmatrix}\n",
    "$$\n",
    "$$\n",
    "\\mathbf{\\hat{f}}=\\begin{bmatrix}\\hat{f}_1(x) \\\\ \\dots \\\\ \\hat{f}_N(x)\\end{bmatrix}\n",
    "=\\begin{bmatrix}\\mathcal{GP}\\begin{bmatrix}\\mathbf{\\mu(x)_1}, \\mathbf{k(x,x^{'})_1}\\end{bmatrix} \\\\ \n",
    "\\dots\n",
    "\\\\ \\mathcal{GP}\\begin{bmatrix}\\mathbf{\\mu(x)_N}, \\mathbf{k(x,x^{'})_N}\\end{bmatrix}\\end{bmatrix}\n",
    "$$"
   ]
  },
  {
   "cell_type": "code",
   "execution_count": 19,
   "metadata": {},
   "outputs": [
    {
     "name": "stdout",
     "output_type": "stream",
     "text": [
      "train points: 51\n"
     ]
    }
   ],
   "source": [
    "traj = Trajectory('reference.traj', 'r', atoms)\n",
    "start, every = 0, 300\n",
    "(x, y), (x_test, y_test) = md_dataset_split(traj, start, every)\n",
    "print(f'train points: {len(x)}')\n",
    "noise = 0.2\n",
    "steps = 30000"
   ]
  },
  {
   "cell_type": "code",
   "execution_count": 20,
   "metadata": {},
   "outputs": [
    {
     "data": {
      "application/vnd.jupyter.widget-view+json": {
       "model_id": "c655447e74184d0dba2eec221280a9f7",
       "version_major": 2,
       "version_minor": 0
      },
      "text/plain": [
       "Canvas(toolbar=Toolbar(toolitems=[('Home', 'Reset original view', 'home', 'home'), ('Back', 'Back to previous …"
      ]
     },
     "metadata": {},
     "output_type": "display_data"
    }
   ],
   "source": [
    "from sklearn.gaussian_process.kernels import ConstantKernel, RBF\n",
    "kernal= ConstantKernel(1.0) * RBF(length_scale=1.0)\n",
    "gpr = GaussianProcessRegressor(kernel=kernal, alpha=noise**2)\n",
    "gpr.fit(x, y)\n",
    "plot_gpr(gpr, x, y, x_test, y_test)"
   ]
  },
  {
   "cell_type": "code",
   "execution_count": 21,
   "metadata": {},
   "outputs": [],
   "source": [
    "from ase.calculators.calculator import Calculator\n",
    "class GPRCalculator(Calculator):\n",
    "    implemented_properties = ['forces']\n",
    "\n",
    "    def __init__(self, gdr, *args, **kwargs):\n",
    "        super(GPRCalculator, self).__init__(*args, **kwargs)\n",
    "        self.gpr_model = gdr\n",
    "\n",
    "    def calculate(self, atoms=None, *args, **kwargs):\n",
    "        super(GPRCalculator, self).calculate(atoms, *args, **kwargs)\n",
    "        r = np.array(atoms.get_positions())\n",
    "        x = r.reshape([1, -1])\n",
    "        f = self.gpr_model.predict(x)\n",
    "        self.results = {'forces': f.reshape(-1, 3)}"
   ]
  },
  {
   "cell_type": "code",
   "execution_count": 22,
   "metadata": {},
   "outputs": [
    {
     "data": {
      "application/vnd.jupyter.widget-view+json": {
       "model_id": "0f1f99c2286749f488d74bbac44ab19b",
       "version_major": 2,
       "version_minor": 0
      },
      "text/plain": [
       "HBox(children=(NGLWidget(max_frame=30000), VBox(children=(Dropdown(description='Show', options=('All', 'Ni'), …"
      ]
     },
     "metadata": {},
     "output_type": "display_data"
    }
   ],
   "source": [
    "atoms = atoms_copy.copy()\n",
    "atoms.calc = GPRCalculator(gpr)\n",
    "MaxwellBoltzmannDistribution(atoms, T * 2 * units.kB)\n",
    "dyn = Langevin(atoms, 1 * units.fs, T * units.kB, 0.002)\n",
    "\n",
    "traj = Trajectory('moldyn_gdr.traj', 'w', atoms)\n",
    "dyn.attach(traj.write, interval=1)\n",
    "dyn.run(steps)\n",
    "traj = Trajectory('moldyn_gdr.traj', 'r', atoms)\n",
    "ngl.view_ngl(traj, w=500, h=500)"
   ]
  },
  {
   "cell_type": "markdown",
   "metadata": {},
   "source": [
    "#### some tricks\n",
    "##### change the kernal:\n",
    "##### The Matérn kernel\n",
    "For our application, we considered a subclass from the parametric\n",
    "Matérn family (22–24) of (isotropic) kernel functions\n",
    "$$\n",
    "k: C_{\\mu=n+\\frac{1}{2}}(d)=exp{-\\frac{\\sqrt{2\\nu}d}{\\sigma}}P_{n}(d)\n",
    "$$\n",
    "$$\n",
    "P_n(d)=\\sum_{k=0}^{n}{\\frac{(n+k)!}{(2n)!}}\\begin{pmatrix}n\\\\k\\end{pmatrix}\\begin{pmatrix}\\frac{2\\sqrt{2\\nu}d}{\\sigma}\\end{pmatrix}^{n-k}\n",
    "$$"
   ]
  },
  {
   "cell_type": "code",
   "execution_count": 23,
   "metadata": {},
   "outputs": [
    {
     "data": {
      "application/vnd.jupyter.widget-view+json": {
       "model_id": "8ff333f5c1a346308fe64c7495c3596d",
       "version_major": 2,
       "version_minor": 0
      },
      "text/plain": [
       "Canvas(toolbar=Toolbar(toolitems=[('Home', 'Reset original view', 'home', 'home'), ('Back', 'Back to previous …"
      ]
     },
     "metadata": {},
     "output_type": "display_data"
    }
   ],
   "source": [
    "from sklearn.gaussian_process.kernels import ConstantKernel, RBF, Matern\n",
    "kernal= Matern(length_scale=1.0, nu=2.5)\n",
    "gpr = GaussianProcessRegressor(kernel=kernal, alpha=noise**2)\n",
    "gpr.fit(x, y)\n",
    "plot_gpr(gpr, x, y, x_test, y_test)"
   ]
  },
  {
   "cell_type": "code",
   "execution_count": 24,
   "metadata": {},
   "outputs": [
    {
     "data": {
      "application/vnd.jupyter.widget-view+json": {
       "model_id": "76eb09cd722644c9ba2a16c8c6eb47cb",
       "version_major": 2,
       "version_minor": 0
      },
      "text/plain": [
       "HBox(children=(NGLWidget(max_frame=30000), VBox(children=(Dropdown(description='Show', options=('All', 'Ni'), …"
      ]
     },
     "metadata": {},
     "output_type": "display_data"
    }
   ],
   "source": [
    "atoms = atoms_copy.copy()\n",
    "atoms.calc = GPRCalculator(gpr)\n",
    "MaxwellBoltzmannDistribution(atoms, T * 2 * units.kB)\n",
    "dyn = Langevin(atoms, 1 * units.fs, T * units.kB, 0.002)\n",
    "traj = Trajectory('moldyn_gdr.traj', 'w', atoms)\n",
    "dyn.attach(traj.write, interval=1)\n",
    "dyn.run(steps)\n",
    "traj = Trajectory('moldyn_gdr.traj', 'r', atoms)\n",
    "ngl.view_ngl(traj, w=500, h=500)"
   ]
  },
  {
   "cell_type": "markdown",
   "metadata": {},
   "source": [
    "#### normalize y\n",
    "$$\n",
    "\\hat{y}_{train} = \\frac{y_{train}-E[y_{train}]}{\\sqrt{Var[y_{train}]}}\n",
    "$$"
   ]
  },
  {
   "cell_type": "code",
   "execution_count": 25,
   "metadata": {},
   "outputs": [
    {
     "data": {
      "application/vnd.jupyter.widget-view+json": {
       "model_id": "00a91e613b3b4eb8867b1822b522a664",
       "version_major": 2,
       "version_minor": 0
      },
      "text/plain": [
       "Canvas(toolbar=Toolbar(toolitems=[('Home', 'Reset original view', 'home', 'home'), ('Back', 'Back to previous …"
      ]
     },
     "metadata": {},
     "output_type": "display_data"
    }
   ],
   "source": [
    "kernal= Matern(length_scale=1.0, nu=2.5)\n",
    "gpr = GaussianProcessRegressor(kernel=kernal, alpha=noise**2, normalize_y=True)\n",
    "gpr.fit(x, y)\n",
    "plot_gpr(gpr, x, y, x_test, y_test)"
   ]
  },
  {
   "cell_type": "code",
   "execution_count": 26,
   "metadata": {},
   "outputs": [
    {
     "data": {
      "application/vnd.jupyter.widget-view+json": {
       "model_id": "2b70700925b3403fac4bd3083d4db50f",
       "version_major": 2,
       "version_minor": 0
      },
      "text/plain": [
       "HBox(children=(NGLWidget(max_frame=30000), VBox(children=(Dropdown(description='Show', options=('All', 'Ni'), …"
      ]
     },
     "metadata": {},
     "output_type": "display_data"
    }
   ],
   "source": [
    "xatoms = atoms_copy.copy()\n",
    "atoms.calc = GPRCalculator(gpr)\n",
    "MaxwellBoltzmannDistribution(atoms, T * 2 * units.kB)\n",
    "dyn = Langevin(atoms, 1 * units.fs, T * units.kB, 0.002)\n",
    "steps = 30000\n",
    "traj = Trajectory('moldyn_gdr.traj', 'w', atoms)\n",
    "dyn.attach(traj.write, interval=1)\n",
    "dyn.run(steps)\n",
    "traj = Trajectory('moldyn_gdr.traj', 'r', atoms)\n",
    "ngl.view_ngl(traj, w=500, h=500)"
   ]
  },
  {
   "cell_type": "markdown",
   "metadata": {},
   "source": [
    "### Roto-translational invariance\n",
    "Covariance functions remain valid under any transformation of their domain\n",
    ") is again a kernel function. A rather trivial implication is that all\n",
    "invariances of that input transformation are inherited, providing yet another opportunity\n",
    "to characterize the properties of the predictor [92].\n",
    "\n",
    "The so-called Coulomb matrix representation [7] goes one step further and represents\n",
    "each pair of nuclei in terms their Coulomb interaction instead of a simple distance. The\n",
    "Coulomb energy is the only nuclei-nuclei interaction term in the Hamiltonian and empirically a good starting point for inference about molecular properties [9]. We use a slight\n",
    "variation of this descriptor for our purpose, whereby atoms of different type interact on a\n",
    "normalized scale,\n",
    "$$\n",
    "D_{ij}=\\begin{matrix}\\lVert{r_i - r_j}\\lVert & i > j \\\\ 0 & i \\leq j \\end{matrix} \n",
    "$$"
   ]
  },
  {
   "cell_type": "code",
   "execution_count": 27,
   "metadata": {},
   "outputs": [
    {
     "data": {
      "application/vnd.jupyter.widget-view+json": {
       "model_id": "efe3402f9c1c4853a7a6356fe6d81e33",
       "version_major": 2,
       "version_minor": 0
      },
      "text/plain": [
       "Canvas(toolbar=Toolbar(toolitems=[('Home', 'Reset original view', 'home', 'home'), ('Back', 'Back to previous …"
      ]
     },
     "metadata": {},
     "output_type": "display_data"
    }
   ],
   "source": [
    "d, d_test = x_to_d(x, lat), x_to_d(x_test,lat)\n",
    "kernal= Matern(length_scale=1.0, nu=2.5)\n",
    "gpr = GaussianProcessRegressor(kernel=kernal, alpha=noise**2, normalize_y=True)\n",
    "gpr.fit(d, y)\n",
    "plot_gpr(gpr, d, y, d_test, y_test)"
   ]
  },
  {
   "cell_type": "code",
   "execution_count": 28,
   "metadata": {},
   "outputs": [],
   "source": [
    "\n",
    "class iGPRCalculator(Calculator):\n",
    "    implemented_properties = ['forces']\n",
    "\n",
    "    def __init__(self, gdr,lat, *args, **kwargs):\n",
    "        super(iGPRCalculator, self).__init__(*args, **kwargs)\n",
    "        self.gpr_model = gdr\n",
    "        self.lat = lat\n",
    "\n",
    "    def calculate(self, atoms=None, *args, **kwargs):\n",
    "        super(iGPRCalculator, self).calculate(atoms, *args, **kwargs)\n",
    "        r = np.array(atoms.get_positions())\n",
    "        x = r.reshape([1, -1])\n",
    "        f = self.gpr_model.predict(x_to_d(x, self.lat))\n",
    "        self.results = {'forces': f.reshape(-1, 3)}"
   ]
  },
  {
   "cell_type": "code",
   "execution_count": 29,
   "metadata": {},
   "outputs": [
    {
     "data": {
      "application/vnd.jupyter.widget-view+json": {
       "model_id": "b74fa3969fae49c9b2366f2cf7ebfc57",
       "version_major": 2,
       "version_minor": 0
      },
      "text/plain": [
       "HBox(children=(NGLWidget(max_frame=30000), VBox(children=(Dropdown(description='Show', options=('All', 'Ni'), …"
      ]
     },
     "metadata": {},
     "output_type": "display_data"
    }
   ],
   "source": [
    "atoms = atoms_copy.copy()\n",
    "atoms.calc = iGPRCalculator(gpr, lat)\n",
    "MaxwellBoltzmannDistribution(atoms, T * 2 * units.kB)\n",
    "dyn = Langevin(atoms, 1 * units.fs, T * units.kB, 0.002)\n",
    "traj = Trajectory('moldyn_gdr.traj', 'w', atoms)\n",
    "dyn.attach(traj.write, interval=1)\n",
    "dyn.run(steps)\n",
    "traj = Trajectory('moldyn_gdr.traj', 'r', atoms)\n",
    "ngl.view_ngl(traj, w=500, h=500)"
   ]
  },
  {
   "cell_type": "markdown",
   "metadata": {},
   "source": [
    "## incoding physical insight to the model\n",
    "In this setting, the corresponding RKHS is vector-valued and it has been shown\n",
    "that the representer theorem continues to hold. Each component of the kernel\n",
    "function $k_{ij}$ specifies a covariance between a pair of outputs $f_i(x)$ and $f_j(x)$, which\n",
    "makes it straightforward to impose linear constraints $g(x) = \\hat{G}[\\mathbf{f(x)}]$ on the GP\n",
    "prior\n",
    "$$\n",
    "\\mathbf{\\hat{g}(x)} ∼ \\mathcal{GP}\\begin{bmatrix}\\mathbf{\\hat{G}\\mu(x)}, \\hat{G}\\mathbf{k(x,x^{'})}{\\hat{G}'}^{T}\\end{bmatrix}\n",
    "\\\\\n",
    "for A, B\\; linear\\; operators\\\\\n",
    "Cov[Ax,By]=ACov[x,y]B^{T}\\\\\n",
    "E[Ax] = AE[x]\n",
    "$$"
   ]
  },
  {
   "cell_type": "markdown",
   "metadata": {},
   "source": [
    "Here, we aim to construct a GP that inherits the correct structure of a conservative\n",
    "force field to ensure integrability, so that the corresponding energy potential can\n",
    "be recovered from the same model. We start by considering, that the force field\n",
    "estimator $\\mathbf{\\hat{f}_{F}(x)}$ and the PES estimator $\\hat{f}_{E}(x)$ are related via some operator $\\hat{G}$ . To\n",
    "impose energy conservation, we require that the curl vanishes  for every\n",
    "input to the transformed energy model:\n",
    "$$\n",
    "\\nabla\\times \\hat{G}\\begin{bmatrix}\\hat{f}_E\\end{bmatrix} = \\mathbf{0}\n",
    "$$\n",
    "As expected, this is satisfied by the derivative operator Gˆ = ∇ or, in the case of\n",
    "energies and forces, the negative gradient operator\n",
    "$$\n",
    "\\mathbf{\\hat{f}_{F}(x)}=\\hat{G}\\begin{bmatrix}\\hat{f}_E\\end{bmatrix}=-\\nabla\\hat{f}_E\n",
    "$$"
   ]
  },
  {
   "cell_type": "markdown",
   "metadata": {},
   "source": [
    "Since differentiation is a linear operator, the result is another GP with realizations $\\mathbf{f_F}: \\chi^{3N}\\rightarrow \\mathbb{R}^{3N}$\n",
    "$$\n",
    "\\mathbf{\\hat{f}_F(x)} ∼ \\mathcal{GP}\\begin{bmatrix}\\mathbf{-\\nabla\\mu(x)}, \\nabla_x\\mathbf{k(x,x^{'})}{ \\nabla_{x'}}^{T}\\end{bmatrix}\n",
    "$$\n",
    "\n",
    "$$\n",
    "\\nabla\\mathbf{k}{ \\nabla}^{T}=Hess_x(k)\n",
    "$$\n",
    "$$\n",
    "\\begin{bmatrix}Hess_s(k)\\end{bmatrix}_{ij}=\\frac{\\partial^2 k}{\\partial x_i \\partial x_j}\n",
    "$$"
   ]
  },
  {
   "cell_type": "markdown",
   "metadata": {},
   "source": [
    "This Hessian kernel gives rise to the following gradient domain machine\n",
    "learning [88, 89] force model as the posterior mean of the corresponding GP:<br>\n",
    "he trained force field estimator collects the contributions of the\n",
    "partial derivatives 3N of all training points M to compile the prediction.\n",
    "It takes the form\n",
    "$$\n",
    "\\mathbf{\\hat{f}_F(x)}=\\sum_i^M{\\sum_j^{3N}{(\\mathbf{\\alpha_i})_j\\frac{\\partial}{\\partial x_j}\\nabla k(\\mathbf{x}, \\mathbf{x_i})}}\n",
    "$$\n",
    "    \n",
    "Because the trained model is a (fixed) linear combination of kernel functions,\n",
    "integration only affects the kernel function itself. The corresponding expression for\n",
    "the energy predictor\n",
    "$$\n",
    "\\mathbf{\\hat{f}_E(x)}=\\sum_i^M{\\sum_j^{3N}{(\\mathbf{\\alpha_i})_j\\frac{\\partial}{\\partial x_j} k(\\mathbf{x}, \\mathbf{x_i})}}\n",
    "$$"
   ]
  },
  {
   "cell_type": "markdown",
   "metadata": {},
   "source": [
    "#### Roto-translational invariance\n",
    "Covariance functions remain valid under any transformation of their domain $D : X → D,\n",
    "i.e. k(D(x),D(x′)) = k_D(x,x′)$ is again a kernel function.\n",
    "$$\n",
    "D_{ij}=\\begin{matrix}\\lVert{r_i - r_j}\\lVert & i > j \\\\ 0 & i \\leq j \\end{matrix} \n",
    "$$\n",
    "and under the chain rule:\n",
    "$$\n",
    "\\mathbf{k_F}=\\nabla_x k_D \\nabla_x^\\top = \\mathbf{J_D}^\\top(\\nabla_D k_D \\nabla_D^\\top)\\mathbf{J_D}\n",
    "$$\n",
    "where:\n",
    "$$\n",
    "\\nabla_x = \\begin{pmatrix}\\frac{\\partial}{\\partial x_1} \\\\ \\dots \\\\ \\frac{\\partial}{\\partial x_{3N}}\\end{pmatrix}=\n",
    "\\begin{pmatrix}\\frac{\\partial D_{11}}{\\partial x_1}\\frac{\\partial}{\\partial  D_{11}} +\n",
    "                \\frac{\\partial D_{12}}{\\partial x_1}\\frac{\\partial}{\\partial  D_{12}} + \n",
    "                \\dots\n",
    "                \\frac{\\partial D_{1N}}{\\partial x_1}\\frac{\\partial}{\\partial  D_{1N}} +\n",
    "                \\frac{\\partial D_{23}}{\\partial x_1}\\frac{\\partial}{\\partial  D_{23}} +\n",
    "                \\dots\n",
    "                \\frac{\\partial D_{NN}}{\\partial x_1}\\frac{\\partial}{\\partial  D_{NN}}\\\\\n",
    "                \\dots \\\\ \n",
    "                \\frac{\\partial D_{11}}{\\partial x_{3N}}\\frac{\\partial}{\\partial  D_{11}} +\n",
    "                \\frac{\\partial D_{12}}{\\partial x_{3N}}\\frac{\\partial}{\\partial  D_{12}} + \n",
    "                \\dots\n",
    "                \\frac{\\partial D_{1N}}{\\partial x_{3N}}\\frac{\\partial}{\\partial  D_{1N}} +\n",
    "                \\frac{\\partial D_{23}}{\\partial x_{3N}}\\frac{\\partial}{\\partial  D_{23}} +\n",
    "                \\dots\n",
    "                \\frac{\\partial D_{NN}}{\\partial x_{3N}}\\frac{\\partial}{\\partial  D_{NN}}\\end{pmatrix}=\n",
    "\\begin{pmatrix}\\frac{\\partial D_{11}}{\\partial x_1} &\n",
    "               \\frac{\\partial D_{12}}{\\partial x_1} &  \n",
    "               \\dots &\n",
    "               \\frac{\\partial D_{1N}}{\\partial x_1} &\n",
    "               \\frac{\\partial D_{23}}{\\partial x_1} & \n",
    "               \\dots &\n",
    "               \\frac{\\partial D_{NN}}{\\partial x_1} \\\\\n",
    "               \\dots & \\dots & \\dots & \\dots & \\dots & \\dots \\\\ \n",
    "               \\frac{\\partial D_{11}}{\\partial x_{3N}} & \n",
    "               \\frac{\\partial D_{12}}{\\partial x_{3N}} &  \n",
    "               \\dots &\n",
    "               \\frac{\\partial D_{1N}}{\\partial x_{3N}} &  \n",
    "               \\frac{\\partial D_{23}}{\\partial x_{3N}} & \n",
    "               \\dots &\n",
    "               \\frac{\\partial D_{NN}}{\\partial x_{3N}} \\end{pmatrix}\n",
    "               \\begin{pmatrix}\\frac{\\partial}{\\partial D_{11}} \\\\ \\dots \\\\ \\frac{\\partial}{\\partial D_{NN}}\\end{pmatrix}\n",
    "               =\\mathbf{J_D}^\\top\\nabla_D \\\\\n",
    "               \\\\\n",
    "\\mathbf{J_D}=\\begin{matrix}\\frac{\\mathbf{r_i} - \\mathbf{r_j} }{\\lVert{\\mathbf{r_i}  - \\mathbf{r_j}}\\lVert^3} & i > j \\\\ 0 & i \\leq j \\end{matrix} \n",
    "$$"
   ]
  },
  {
   "cell_type": "code",
   "execution_count": 30,
   "metadata": {},
   "outputs": [
    {
     "name": "stdout",
     "output_type": "stream",
     "text": [
      "\u001b[1;37;40m[INFO]\u001b[0m Overwriting existing dataset file.\n",
      "Writing dataset to 'reference.npz'...\n",
      "Number geometries found: 30,000\n",
      "\n",
      "\u001b[1;32;40m[DONE]\u001b[0m\n",
      "\u001b[1;37mDataset properties\u001b[0m\n",
      "  Name:              r\u0000\u0000\u0000e\u0000\u0000\u0000f\u0000\u0000\u0000e\u0000\u0000\u0000r\u0000\u0000\u0000e\u0000\u0000\u0000n\u0000\u0000\u0000c\u0000\u0000\u0000e\u0000\u0000\u0000 (32 atoms)\n",
      "  Theory:            u\u0000\u0000\u0000n\u0000\u0000\u0000k\u0000\u0000\u0000n\u0000\u0000\u0000o\u0000\u0000\u0000w\u0000\u0000\u0000n\u0000\u0000\u0000\n",
      "  Size:              30,000 data points\n",
      "  Lattice:           a     b     c    \n",
      "                     7.038 0     0    \n",
      "                     0     7.038 0    \n",
      "                     0     0     7.038\n",
      "    Lengths:         a = 7.038, b = 7.038, c = 7.038\n",
      "    Angles [deg]:    alpha = 90, beta = 90, gamma = 90\n",
      "  Energies [e\u0000\u0000\u0000V\u0000\u0000\u0000]:\n",
      "    Range:           -1.42e+02 |--   5.44   --| -1.37e+02\n",
      "    Mean:            -140.010\n",
      "    Variance:        0.238\n",
      "  Forces [e\u0000\u0000\u0000V\u0000\u0000\u0000/A\u0000\u0000\u0000n\u0000\u0000\u0000g\u0000\u0000\u0000]:\n",
      "    Range:           -5.7 |--   10.2   --| 4.55     \n",
      "    Mean:            -0.000\n",
      "    Variance:        0.761\n",
      "  Fingerprint:       055533af1980e7984e34bb28ba39937a\n",
      "\n",
      "\u001b[1;37mExample geometry\u001b[0m (no. 24,455, chosen randomly)\n",
      "  Copy&paste the string below into Jmol (www.jmol.org), Avogadro (www.avogadro.cc), etc. to\n",
      "  visualize a geometry from this dataset. A new example will be drawn on each call.\n",
      "\n",
      "\u001b[90m  ---- CUT HERE --- CUT HERE --- CUT HERE --- CUT HERE --- CUT HERE --- CUT HERE --- CUT HERE ----\u001b[0m\n",
      "  32\n",
      "  Lattice=\"7.038 0 0 0 7.038 0 0 0 7.038\" Energy=-140.699166373 Properties=species:S:1:pos:R:3:forces:R:3\n",
      "  Ni -0.0458286  0.000307436 -0.084653   0.729182   0.386326    0.903498   \n",
      "  Ni -0.0352082  1.80037      1.75432    0.0393458 -0.422631   -0.007801   \n",
      "  Ni  1.79954    0.0214061    1.82888   -0.508421   0.0559169  -1.31245    \n",
      "  Ni  1.83149    1.75061     -0.0323567 -0.414732  -0.619447    0.914896   \n",
      "  Ni -0.0999157 -0.0262156    3.47464    0.637004   0.0499501   0.95505    \n",
      "  Ni  0.166888   1.73501      5.23547   -1.87789   -0.685237    1.39225    \n",
      "  Ni  1.79675   -0.0121556    5.29249    0.364361   0.029263   -0.0588817  \n",
      "  Ni  1.73321    1.63426      3.54468    0.923113   0.873094   -0.948305   \n",
      "  Ni -0.020685   3.49311     -0.0672628 -0.231113   0.284214    0.576025   \n",
      "  Ni -0.0295103  5.30458      1.69914    0.0890948 -0.645447    0.544861   \n",
      "  Ni  1.69995    3.44191      1.74018    0.451294   0.779637    0.108586   \n",
      "  Ni  1.74397    5.37461      0.0242629  0.200916  -0.429101    0.546149   \n",
      "  Ni  0.0919347  3.40366      3.65891   -0.561441   1.75044    -1.30175    \n",
      "  Ni  0.112385   5.33611      5.30412   -1.3291    -0.810131   -0.596903   \n",
      "  Ni  1.76794    3.52356      5.42147    0.0269911  0.448052   -1.77281    \n",
      "  Ni  1.73661    5.37648      3.53087    0.122291  -0.952352   -0.36935    \n",
      "  Ni  3.59172   -0.0338063    0.0382315 -0.61332    0.520744   -0.000387355\n",
      "  Ni  3.61968    1.78141      1.70371   -0.839591  -0.282901    0.316038   \n",
      "  Ni  5.34367    0.0349089    1.79156   -0.655671  -0.162924   -0.832021   \n",
      "  Ni  5.35142    1.70861     -0.0923826 -0.846423   0.866567    0.189507   \n",
      "  Ni  3.60073   -0.00386256   3.42685   -0.279881   0.210489    1.01772    \n",
      "  Ni  3.45404    1.74123      5.22208    0.481949   0.218805    0.613658   \n",
      "  Ni  5.19661   -0.0217433    5.27713    0.6633    -0.00604319 -0.749132   \n",
      "  Ni  5.26301    1.8116       3.64703    0.234841  -0.0621583  -0.806552   \n",
      "  Ni  3.44026    3.62554     -0.0248324  1.16394   -0.77007     1.17073    \n",
      "  Ni  3.57225    5.31612      1.78751   -0.578859  -0.591366   -0.556721   \n",
      "  Ni  5.21976    3.49936      1.7705     0.910855   0.26054    -0.398864   \n",
      "  Ni  5.28813    5.32296     -0.0615807  0.108465  -0.705106    0.57863    \n",
      "  Ni  3.40774    3.55312      3.51109   -0.242713  -0.634592    0.0161789  \n",
      "  Ni  3.47701    5.2767       5.28823   -0.164042   0.460618   -0.355509   \n",
      "  Ni  5.17808    3.56898      5.30001    0.745646  -0.801857    0.376924   \n",
      "  Ni  5.20236    5.11727      3.54572    1.25061    1.38671    -0.153268   \n",
      "\u001b[90m  ---- CUT HERE --- CUT HERE --- CUT HERE --- CUT HERE --- CUT HERE --- CUT HERE --- CUT HERE ----\u001b[0m\n"
     ]
    }
   ],
   "source": [
    "from sgdml.cli import _print_dataset_properties, _print_model_properties, _print_task_properties\n",
    "\n",
    "dataset_path = 'reference'\n",
    "dataset = from_traj(f'{dataset_path}.traj', overwrite=True)\n",
    "dataset_path = f'{dataset_path}.npz'\n",
    "# test = np.load('ethanol_dft.npz')\n",
    "_print_dataset_properties(dataset)"
   ]
  },
  {
   "cell_type": "code",
   "execution_count": 31,
   "metadata": {},
   "outputs": [
    {
     "name": "stdout",
     "output_type": "stream",
     "text": [
      "please run \"bash run_me.sh\" from the terminal\n"
     ]
    }
   ],
   "source": [
    "n_train = 200\n",
    "n_valid = 10000\n",
    "file = all_script(dataset_path, n_train, n_valid, sigs=range(1, 100, 1), use_cg=False, use_torch=True)\n",
    "print(f'please run \\\"bash {file}\\\" from the terminal')"
   ]
  },
  {
   "cell_type": "code",
   "execution_count": 32,
   "metadata": {},
   "outputs": [
    {
     "name": "stdout",
     "output_type": "stream",
     "text": [
      "(1500, 96)\n"
     ]
    },
    {
     "data": {
      "application/vnd.jupyter.widget-view+json": {
       "model_id": "4c82cf7c5af54010bb79e07df221f464",
       "version_major": 2,
       "version_minor": 0
      },
      "text/plain": [
       "Canvas(toolbar=Toolbar(toolitems=[('Home', 'Reset original view', 'home', 'home'), ('Back', 'Back to previous …"
      ]
     },
     "metadata": {},
     "output_type": "display_data"
    }
   ],
   "source": [
    "model_path = 'reference-unknown-train200-sym1.npz'\n",
    "traj = Trajectory('reference.traj', 'r', atoms)\n",
    "start, every = 10, 10\n",
    "plot_gdml(model_path, traj, start, every)"
   ]
  },
  {
   "cell_type": "code",
   "execution_count": 33,
   "metadata": {},
   "outputs": [
    {
     "name": "stderr",
     "output_type": "stream",
     "text": [
      "\u001b[1;33;40m[WARN]\u001b[0m Please remember to specify the proper conversion factors, if your model does not use\n",
      "       'kcal/mol' and 'Ang' as units.\n"
     ]
    },
    {
     "name": "stdout",
     "output_type": "stream",
     "text": [
      "Energy per atom: Epot = -0.193eV  Ekin = 0.042eV (T=323K)  Etot = -0.151eV, time elapsed: 0.0\n",
      "Energy per atom: Epot = -0.162eV  Ekin = 0.015eV (T=119K)  Etot = -0.146eV, time elapsed: 8.0\n",
      "Energy per atom: Epot = -0.153eV  Ekin = 0.012eV (T= 90K)  Etot = -0.141eV, time elapsed: 15.6\n",
      "Energy per atom: Epot = -0.153eV  Ekin = 0.015eV (T=113K)  Etot = -0.138eV, time elapsed: 23.3\n",
      "Energy per atom: Epot = -0.148eV  Ekin = 0.012eV (T= 90K)  Etot = -0.137eV, time elapsed: 30.9\n",
      "Energy per atom: Epot = -0.144eV  Ekin = 0.012eV (T= 93K)  Etot = -0.132eV, time elapsed: 38.1\n",
      "Energy per atom: Epot = -0.141eV  Ekin = 0.014eV (T=106K)  Etot = -0.128eV, time elapsed: 45.7\n",
      "Energy per atom: Epot = -0.140eV  Ekin = 0.016eV (T=123K)  Etot = -0.124eV, time elapsed: 53.0\n",
      "Energy per atom: Epot = -0.140eV  Ekin = 0.018eV (T=138K)  Etot = -0.122eV, time elapsed: 60.6\n",
      "Energy per atom: Epot = -0.140eV  Ekin = 0.021eV (T=162K)  Etot = -0.119eV, time elapsed: 68.0\n",
      "Energy per atom: Epot = -0.140eV  Ekin = 0.021eV (T=162K)  Etot = -0.119eV, time elapsed: 74.9\n",
      "Energy per atom: Epot = -0.140eV  Ekin = 0.024eV (T=185K)  Etot = -0.116eV, time elapsed: 81.8\n",
      "Energy per atom: Epot = -0.140eV  Ekin = 0.025eV (T=191K)  Etot = -0.115eV, time elapsed: 89.1\n",
      "Energy per atom: Epot = -0.140eV  Ekin = 0.022eV (T=171K)  Etot = -0.118eV, time elapsed: 96.7\n",
      "Energy per atom: Epot = -0.140eV  Ekin = 0.023eV (T=179K)  Etot = -0.117eV, time elapsed: 103.6\n"
     ]
    },
    {
     "ename": "KeyboardInterrupt",
     "evalue": "",
     "output_type": "error",
     "traceback": [
      "\u001b[0;31m---------------------------------------------------------------------------\u001b[0m",
      "\u001b[0;31mKeyboardInterrupt\u001b[0m                         Traceback (most recent call last)",
      "\u001b[0;32m<ipython-input-33-c2fc410397cf>\u001b[0m in \u001b[0;36m<module>\u001b[0;34m\u001b[0m\n\u001b[1;32m     14\u001b[0m \u001b[0;31m# now run the dynamics\u001b[0m\u001b[0;34m\u001b[0m\u001b[0;34m\u001b[0m\u001b[0;34m\u001b[0m\u001b[0m\n\u001b[1;32m     15\u001b[0m \u001b[0mprintenergy\u001b[0m\u001b[0;34m(\u001b[0m\u001b[0matoms\u001b[0m\u001b[0;34m)\u001b[0m\u001b[0;34m\u001b[0m\u001b[0;34m\u001b[0m\u001b[0m\n\u001b[0;32m---> 16\u001b[0;31m \u001b[0mdyn\u001b[0m\u001b[0;34m.\u001b[0m\u001b[0mrun\u001b[0m\u001b[0;34m(\u001b[0m\u001b[0msteps\u001b[0m\u001b[0;34m)\u001b[0m\u001b[0;34m\u001b[0m\u001b[0;34m\u001b[0m\u001b[0m\n\u001b[0m\u001b[1;32m     17\u001b[0m \u001b[0mgc\u001b[0m\u001b[0;34m.\u001b[0m\u001b[0mcollect\u001b[0m\u001b[0;34m(\u001b[0m\u001b[0;34m)\u001b[0m\u001b[0;34m\u001b[0m\u001b[0;34m\u001b[0m\u001b[0m\n",
      "\u001b[0;32m~/.local/lib/python3.8/site-packages/ase/md/md.py\u001b[0m in \u001b[0;36mrun\u001b[0;34m(self, steps)\u001b[0m\n\u001b[1;32m     57\u001b[0m         \u001b[0;34m\"\"\" Call Dynamics.run and adjust max_steps \"\"\"\u001b[0m\u001b[0;34m\u001b[0m\u001b[0;34m\u001b[0m\u001b[0m\n\u001b[1;32m     58\u001b[0m         \u001b[0mself\u001b[0m\u001b[0;34m.\u001b[0m\u001b[0mmax_steps\u001b[0m \u001b[0;34m=\u001b[0m \u001b[0msteps\u001b[0m \u001b[0;34m+\u001b[0m \u001b[0mself\u001b[0m\u001b[0;34m.\u001b[0m\u001b[0mnsteps\u001b[0m\u001b[0;34m\u001b[0m\u001b[0;34m\u001b[0m\u001b[0m\n\u001b[0;32m---> 59\u001b[0;31m         \u001b[0;32mreturn\u001b[0m \u001b[0mDynamics\u001b[0m\u001b[0;34m.\u001b[0m\u001b[0mrun\u001b[0m\u001b[0;34m(\u001b[0m\u001b[0mself\u001b[0m\u001b[0;34m)\u001b[0m\u001b[0;34m\u001b[0m\u001b[0;34m\u001b[0m\u001b[0m\n\u001b[0m\u001b[1;32m     60\u001b[0m \u001b[0;34m\u001b[0m\u001b[0m\n\u001b[1;32m     61\u001b[0m     \u001b[0;32mdef\u001b[0m \u001b[0mget_time\u001b[0m\u001b[0;34m(\u001b[0m\u001b[0mself\u001b[0m\u001b[0;34m)\u001b[0m\u001b[0;34m:\u001b[0m\u001b[0;34m\u001b[0m\u001b[0;34m\u001b[0m\u001b[0m\n",
      "\u001b[0;32m~/.local/lib/python3.8/site-packages/ase/optimize/optimize.py\u001b[0m in \u001b[0;36mrun\u001b[0;34m(self)\u001b[0m\n\u001b[1;32m    160\u001b[0m         *steps*.\"\"\"\n\u001b[1;32m    161\u001b[0m \u001b[0;34m\u001b[0m\u001b[0m\n\u001b[0;32m--> 162\u001b[0;31m         \u001b[0;32mfor\u001b[0m \u001b[0mconverged\u001b[0m \u001b[0;32min\u001b[0m \u001b[0mDynamics\u001b[0m\u001b[0;34m.\u001b[0m\u001b[0mirun\u001b[0m\u001b[0;34m(\u001b[0m\u001b[0mself\u001b[0m\u001b[0;34m)\u001b[0m\u001b[0;34m:\u001b[0m\u001b[0;34m\u001b[0m\u001b[0;34m\u001b[0m\u001b[0m\n\u001b[0m\u001b[1;32m    163\u001b[0m             \u001b[0;32mpass\u001b[0m\u001b[0;34m\u001b[0m\u001b[0;34m\u001b[0m\u001b[0m\n\u001b[1;32m    164\u001b[0m         \u001b[0;32mreturn\u001b[0m \u001b[0mconverged\u001b[0m\u001b[0;34m\u001b[0m\u001b[0;34m\u001b[0m\u001b[0m\n",
      "\u001b[0;32m~/.local/lib/python3.8/site-packages/ase/optimize/optimize.py\u001b[0m in \u001b[0;36mirun\u001b[0;34m(self)\u001b[0m\n\u001b[1;32m    139\u001b[0m \u001b[0;34m\u001b[0m\u001b[0m\n\u001b[1;32m    140\u001b[0m             \u001b[0;31m# compute the next step\u001b[0m\u001b[0;34m\u001b[0m\u001b[0;34m\u001b[0m\u001b[0;34m\u001b[0m\u001b[0m\n\u001b[0;32m--> 141\u001b[0;31m             \u001b[0mself\u001b[0m\u001b[0;34m.\u001b[0m\u001b[0mstep\u001b[0m\u001b[0;34m(\u001b[0m\u001b[0;34m)\u001b[0m\u001b[0;34m\u001b[0m\u001b[0;34m\u001b[0m\u001b[0m\n\u001b[0m\u001b[1;32m    142\u001b[0m             \u001b[0mself\u001b[0m\u001b[0;34m.\u001b[0m\u001b[0mnsteps\u001b[0m \u001b[0;34m+=\u001b[0m \u001b[0;36m1\u001b[0m\u001b[0;34m\u001b[0m\u001b[0;34m\u001b[0m\u001b[0m\n\u001b[1;32m    143\u001b[0m \u001b[0;34m\u001b[0m\u001b[0m\n",
      "\u001b[0;32m~/.local/lib/python3.8/site-packages/ase/md/langevin.py\u001b[0m in \u001b[0;36mstep\u001b[0;34m(self, f)\u001b[0m\n\u001b[1;32m    141\u001b[0m         self.v = (self.atoms.get_positions() - x -\n\u001b[1;32m    142\u001b[0m                   self.c5 * self.eta) / self.dt\n\u001b[0;32m--> 143\u001b[0;31m         \u001b[0mf\u001b[0m \u001b[0;34m=\u001b[0m \u001b[0matoms\u001b[0m\u001b[0;34m.\u001b[0m\u001b[0mget_forces\u001b[0m\u001b[0;34m(\u001b[0m\u001b[0mmd\u001b[0m\u001b[0;34m=\u001b[0m\u001b[0;32mTrue\u001b[0m\u001b[0;34m)\u001b[0m\u001b[0;34m\u001b[0m\u001b[0;34m\u001b[0m\u001b[0m\n\u001b[0m\u001b[1;32m    144\u001b[0m \u001b[0;34m\u001b[0m\u001b[0m\n\u001b[1;32m    145\u001b[0m         \u001b[0;31m# Update the velocities\u001b[0m\u001b[0;34m\u001b[0m\u001b[0;34m\u001b[0m\u001b[0;34m\u001b[0m\u001b[0m\n",
      "\u001b[0;32m~/.local/lib/python3.8/site-packages/ase/atoms.py\u001b[0m in \u001b[0;36mget_forces\u001b[0;34m(self, apply_constraint, md)\u001b[0m\n\u001b[1;32m    792\u001b[0m         \u001b[0;32mif\u001b[0m \u001b[0mself\u001b[0m\u001b[0;34m.\u001b[0m\u001b[0m_calc\u001b[0m \u001b[0;32mis\u001b[0m \u001b[0;32mNone\u001b[0m\u001b[0;34m:\u001b[0m\u001b[0;34m\u001b[0m\u001b[0;34m\u001b[0m\u001b[0m\n\u001b[1;32m    793\u001b[0m             \u001b[0;32mraise\u001b[0m \u001b[0mRuntimeError\u001b[0m\u001b[0;34m(\u001b[0m\u001b[0;34m'Atoms object has no calculator.'\u001b[0m\u001b[0;34m)\u001b[0m\u001b[0;34m\u001b[0m\u001b[0;34m\u001b[0m\u001b[0m\n\u001b[0;32m--> 794\u001b[0;31m         \u001b[0mforces\u001b[0m \u001b[0;34m=\u001b[0m \u001b[0mself\u001b[0m\u001b[0;34m.\u001b[0m\u001b[0m_calc\u001b[0m\u001b[0;34m.\u001b[0m\u001b[0mget_forces\u001b[0m\u001b[0;34m(\u001b[0m\u001b[0mself\u001b[0m\u001b[0;34m)\u001b[0m\u001b[0;34m\u001b[0m\u001b[0;34m\u001b[0m\u001b[0m\n\u001b[0m\u001b[1;32m    795\u001b[0m \u001b[0;34m\u001b[0m\u001b[0m\n\u001b[1;32m    796\u001b[0m         \u001b[0;32mif\u001b[0m \u001b[0mapply_constraint\u001b[0m\u001b[0;34m:\u001b[0m\u001b[0;34m\u001b[0m\u001b[0;34m\u001b[0m\u001b[0m\n",
      "\u001b[0;32m~/.local/lib/python3.8/site-packages/ase/calculators/calculator.py\u001b[0m in \u001b[0;36mget_forces\u001b[0;34m(self, atoms)\u001b[0m\n\u001b[1;32m    697\u001b[0m \u001b[0;34m\u001b[0m\u001b[0m\n\u001b[1;32m    698\u001b[0m     \u001b[0;32mdef\u001b[0m \u001b[0mget_forces\u001b[0m\u001b[0;34m(\u001b[0m\u001b[0mself\u001b[0m\u001b[0;34m,\u001b[0m \u001b[0matoms\u001b[0m\u001b[0;34m=\u001b[0m\u001b[0;32mNone\u001b[0m\u001b[0;34m)\u001b[0m\u001b[0;34m:\u001b[0m\u001b[0;34m\u001b[0m\u001b[0;34m\u001b[0m\u001b[0m\n\u001b[0;32m--> 699\u001b[0;31m         \u001b[0;32mreturn\u001b[0m \u001b[0mself\u001b[0m\u001b[0;34m.\u001b[0m\u001b[0mget_property\u001b[0m\u001b[0;34m(\u001b[0m\u001b[0;34m'forces'\u001b[0m\u001b[0;34m,\u001b[0m \u001b[0matoms\u001b[0m\u001b[0;34m)\u001b[0m\u001b[0;34m\u001b[0m\u001b[0;34m\u001b[0m\u001b[0m\n\u001b[0m\u001b[1;32m    700\u001b[0m \u001b[0;34m\u001b[0m\u001b[0m\n\u001b[1;32m    701\u001b[0m     \u001b[0;32mdef\u001b[0m \u001b[0mget_stress\u001b[0m\u001b[0;34m(\u001b[0m\u001b[0mself\u001b[0m\u001b[0;34m,\u001b[0m \u001b[0matoms\u001b[0m\u001b[0;34m=\u001b[0m\u001b[0;32mNone\u001b[0m\u001b[0;34m)\u001b[0m\u001b[0;34m:\u001b[0m\u001b[0;34m\u001b[0m\u001b[0;34m\u001b[0m\u001b[0m\n",
      "\u001b[0;32m~/.local/lib/python3.8/site-packages/ase/calculators/calculator.py\u001b[0m in \u001b[0;36mget_property\u001b[0;34m(self, name, atoms, allow_calculation)\u001b[0m\n\u001b[1;32m    736\u001b[0m             \u001b[0;32mif\u001b[0m \u001b[0;32mnot\u001b[0m \u001b[0mallow_calculation\u001b[0m\u001b[0;34m:\u001b[0m\u001b[0;34m\u001b[0m\u001b[0;34m\u001b[0m\u001b[0m\n\u001b[1;32m    737\u001b[0m                 \u001b[0;32mreturn\u001b[0m \u001b[0;32mNone\u001b[0m\u001b[0;34m\u001b[0m\u001b[0;34m\u001b[0m\u001b[0m\n\u001b[0;32m--> 738\u001b[0;31m             \u001b[0mself\u001b[0m\u001b[0;34m.\u001b[0m\u001b[0mcalculate\u001b[0m\u001b[0;34m(\u001b[0m\u001b[0matoms\u001b[0m\u001b[0;34m,\u001b[0m \u001b[0;34m[\u001b[0m\u001b[0mname\u001b[0m\u001b[0;34m]\u001b[0m\u001b[0;34m,\u001b[0m \u001b[0msystem_changes\u001b[0m\u001b[0;34m)\u001b[0m\u001b[0;34m\u001b[0m\u001b[0;34m\u001b[0m\u001b[0m\n\u001b[0m\u001b[1;32m    739\u001b[0m \u001b[0;34m\u001b[0m\u001b[0m\n\u001b[1;32m    740\u001b[0m         \u001b[0;32mif\u001b[0m \u001b[0mname\u001b[0m \u001b[0;34m==\u001b[0m \u001b[0;34m'magmom'\u001b[0m \u001b[0;32mand\u001b[0m \u001b[0;34m'magmom'\u001b[0m \u001b[0;32mnot\u001b[0m \u001b[0;32min\u001b[0m \u001b[0mself\u001b[0m\u001b[0;34m.\u001b[0m\u001b[0mresults\u001b[0m\u001b[0;34m:\u001b[0m\u001b[0;34m\u001b[0m\u001b[0;34m\u001b[0m\u001b[0m\n",
      "\u001b[0;32m~/miniconda3/envs/sgdml/lib/python3.8/site-packages/sgdml/intf/ase_calc.py\u001b[0m in \u001b[0;36mcalculate\u001b[0;34m(self, atoms, *args, **kwargs)\u001b[0m\n\u001b[1;32m     85\u001b[0m \u001b[0;34m\u001b[0m\u001b[0m\n\u001b[1;32m     86\u001b[0m         \u001b[0mr\u001b[0m \u001b[0;34m=\u001b[0m \u001b[0mnp\u001b[0m\u001b[0;34m.\u001b[0m\u001b[0marray\u001b[0m\u001b[0;34m(\u001b[0m\u001b[0matoms\u001b[0m\u001b[0;34m.\u001b[0m\u001b[0mget_positions\u001b[0m\u001b[0;34m(\u001b[0m\u001b[0;34m)\u001b[0m\u001b[0;34m)\u001b[0m\u001b[0;34m\u001b[0m\u001b[0;34m\u001b[0m\u001b[0m\n\u001b[0;32m---> 87\u001b[0;31m         \u001b[0me\u001b[0m\u001b[0;34m,\u001b[0m \u001b[0mf\u001b[0m \u001b[0;34m=\u001b[0m \u001b[0mself\u001b[0m\u001b[0;34m.\u001b[0m\u001b[0mgdml_predict\u001b[0m\u001b[0;34m.\u001b[0m\u001b[0mpredict\u001b[0m\u001b[0;34m(\u001b[0m\u001b[0mr\u001b[0m\u001b[0;34m.\u001b[0m\u001b[0mravel\u001b[0m\u001b[0;34m(\u001b[0m\u001b[0;34m)\u001b[0m\u001b[0;34m)\u001b[0m\u001b[0;34m\u001b[0m\u001b[0;34m\u001b[0m\u001b[0m\n\u001b[0m\u001b[1;32m     88\u001b[0m \u001b[0;34m\u001b[0m\u001b[0m\n\u001b[1;32m     89\u001b[0m         \u001b[0;31m# convert model units to ASE default units (eV and Ang)\u001b[0m\u001b[0;34m\u001b[0m\u001b[0;34m\u001b[0m\u001b[0;34m\u001b[0m\u001b[0m\n",
      "\u001b[0;32m~/miniconda3/envs/sgdml/lib/python3.8/site-packages/sgdml/predict.py\u001b[0m in \u001b[0;36mpredict\u001b[0;34m(self, R, R_desc, R_d_desc)\u001b[0m\n\u001b[1;32m   1082\u001b[0m \u001b[0;34m\u001b[0m\u001b[0m\n\u001b[1;32m   1083\u001b[0m                     \u001b[0;32mif\u001b[0m \u001b[0mself\u001b[0m\u001b[0;34m.\u001b[0m\u001b[0mnum_workers\u001b[0m \u001b[0;34m==\u001b[0m \u001b[0;36m1\u001b[0m\u001b[0;34m:\u001b[0m\u001b[0;34m\u001b[0m\u001b[0;34m\u001b[0m\u001b[0m\n\u001b[0;32m-> 1084\u001b[0;31m                         \u001b[0mE_F\u001b[0m\u001b[0;34m[\u001b[0m\u001b[0mi\u001b[0m\u001b[0;34m,\u001b[0m \u001b[0;34m:\u001b[0m\u001b[0;34m]\u001b[0m \u001b[0;34m=\u001b[0m \u001b[0m_predict_wo_wkr_starts_stops\u001b[0m\u001b[0;34m(\u001b[0m\u001b[0;34m)\u001b[0m\u001b[0;34m\u001b[0m\u001b[0;34m\u001b[0m\u001b[0m\n\u001b[0m\u001b[1;32m   1085\u001b[0m                     \u001b[0;32melse\u001b[0m\u001b[0;34m:\u001b[0m\u001b[0;34m\u001b[0m\u001b[0;34m\u001b[0m\u001b[0m\n\u001b[1;32m   1086\u001b[0m                         E_F[i, :] = sum(\n",
      "\u001b[0;32m~/miniconda3/envs/sgdml/lib/python3.8/site-packages/sgdml/predict.py\u001b[0m in \u001b[0;36m_predict_wkr\u001b[0;34m(r, r_desc_d_desc, lat_and_inv, glob_id, wkr_start_stop, chunk_size)\u001b[0m\n\u001b[1;32m    189\u001b[0m         )  # colum wise dot product\n\u001b[1;32m    190\u001b[0m \u001b[0;34m\u001b[0m\u001b[0m\n\u001b[0;32m--> 191\u001b[0;31m         \u001b[0mF\u001b[0m \u001b[0;34m+=\u001b[0m \u001b[0;34m(\u001b[0m\u001b[0ma_x2\u001b[0m \u001b[0;34m*\u001b[0m \u001b[0mmat52_base\u001b[0m\u001b[0;34m)\u001b[0m\u001b[0;34m.\u001b[0m\u001b[0mdot\u001b[0m\u001b[0;34m(\u001b[0m\u001b[0mdiff_ab_perms\u001b[0m\u001b[0;34m)\u001b[0m \u001b[0;34m*\u001b[0m \u001b[0mdiag_scale_fact\u001b[0m\u001b[0;34m\u001b[0m\u001b[0;34m\u001b[0m\u001b[0m\n\u001b[0m\u001b[1;32m    192\u001b[0m         \u001b[0mmat52_base\u001b[0m \u001b[0;34m*=\u001b[0m \u001b[0mnorm_ab_perms\u001b[0m \u001b[0;34m+\u001b[0m \u001b[0msig\u001b[0m\u001b[0;34m\u001b[0m\u001b[0;34m\u001b[0m\u001b[0m\n\u001b[1;32m    193\u001b[0m         \u001b[0mF\u001b[0m \u001b[0;34m-=\u001b[0m \u001b[0mmat52_base\u001b[0m\u001b[0;34m.\u001b[0m\u001b[0mdot\u001b[0m\u001b[0;34m(\u001b[0m\u001b[0mrj_d_desc_alpha_perms\u001b[0m\u001b[0;34m)\u001b[0m\u001b[0;34m\u001b[0m\u001b[0;34m\u001b[0m\u001b[0m\n",
      "\u001b[0;31mKeyboardInterrupt\u001b[0m: "
     ]
    }
   ],
   "source": [
    "from sgdml.intf.ase_calc import SGDMLCalculator\n",
    "from ase_utils import *\n",
    "from ase.optimize import QuasiNewton\n",
    "import gc\n",
    "model_path = 'reference-unknown-train200-sym1.npz'\n",
    "calc = SGDMLCalculator(model_path)\n",
    "atoms = atoms_copy.copy()\n",
    "atoms.set_calculator(calc)\n",
    "# set the momenta corresponding to T=300K\n",
    "MaxwellBoltzmannDistribution(atoms, T * units.kB)\n",
    "dyn = Langevin(atoms, 1 * units.fs, T * units.kB, 0.002, trajectory='moldyn_sgdml.traj')    \n",
    "dyn.attach(printenergy(atoms), interval=500)\n",
    "\n",
    "# now run the dynamics\n",
    "printenergy(atoms)\n",
    "dyn.run(steps)\n",
    "gc.collect()\n"
   ]
  },
  {
   "cell_type": "code",
   "execution_count": 34,
   "metadata": {},
   "outputs": [
    {
     "data": {
      "application/vnd.jupyter.widget-view+json": {
       "model_id": "d43a765e42f4439fb46979716b5805fd",
       "version_major": 2,
       "version_minor": 0
      },
      "text/plain": [
       "HBox(children=(NGLWidget(max_frame=7162), VBox(children=(Dropdown(description='Show', options=('All', 'Ni'), v…"
      ]
     },
     "metadata": {},
     "output_type": "display_data"
    }
   ],
   "source": [
    "traj = Trajectory('moldyn_sgdml.traj', 'r', atoms)\n",
    "ngl.view_ngl(traj, w=500, h=500)"
   ]
  },
  {
   "cell_type": "markdown",
   "metadata": {},
   "source": [
    "### For scalar output\n",
    "$$\n",
    "\\begin{bmatrix}f^*\\end{bmatrix}^{1\\times1} = \\begin{bmatrix}{k^*}^T\\end{bmatrix}^{1\\times M}\\begin{bmatrix}\\begin{bmatrix}K^{-1}\\end{bmatrix}^{M \\times M}\\begin{bmatrix}y\\end{bmatrix}^{M\\times 1}\\end{bmatrix}^{M\\times1}=\\sum_{i}^{M}\\alpha_i k(x_i,x^*)\n",
    "$$"
   ]
  },
  {
   "cell_type": "markdown",
   "metadata": {},
   "source": [
    "### For vector output\n",
    "$$\n",
    "\\begin{bmatrix}\\mathbf{f^*}\\end{bmatrix}^{3N\\times1} ={k^*}^{T}K^{-1}\\mathbf{f}=\\sum_i^M{\\sum_j^{3N}{(\\mathbf{\\alpha_i})_j\\frac{\\partial}{\\partial x_j}\\nabla k(\\mathbf{x}, \\mathbf{x_i})}}\n",
    "$$\n",
    "\n",
    "$$\n",
    "K=\\nabla_{x} k(x,x') \\nabla_{x^{'}}^\\top = \n",
    "\\begin{pmatrix}\n",
    "\\begin{pmatrix}\\nabla_{x^{(1)}} k(x^{(1)},x^{(1)}) \\nabla_{x^{(1)}}^\\top\\end{pmatrix} & \\dots & \\begin{pmatrix}\\nabla_{x^{(M)}} k(x^{(M)},x^{(1)}) \\nabla_{x^{(1)}}^\\top\\end{pmatrix} \\\\\n",
    "\\dots & \\dots & \\dots \\\\\n",
    "\\begin{pmatrix}\\nabla_{x^{(M)}} k(x^{(M)},x^{(1)}) \\nabla_{x^{(1)}}^\\top\\end{pmatrix} & \\dots & \\begin{pmatrix}\\nabla_{x^{(M)}} k(x^{(M)},x^{(M)}) \\nabla_{x^{(M)}}^\\top\\end{pmatrix}\n",
    "\\end{pmatrix}\n",
    "\\\\\n",
    "\\nabla k(x^{(i)}, x^{(j)})\\nabla ^\\top=\\begin{bmatrix}\\frac{\\partial}{\\partial x^{(j)}_1 }\\nabla k(x^{(i)},x^{(j)}),\\dots,\\frac{\\partial}{\\partial x^{(j)}_{3N} }\\nabla k(x^{(i)},x^{(j)})\\end{bmatrix}^{3N\\times 3N}\n",
    "=\\begin{bmatrix}\\frac{\\partial}{\\partial x^{(j)}_1 }\\frac{\\partial}{\\partial x^{(i)}_{1}} k(x^{(i)},x^{(j)}) &\\dots & \\frac{\\partial}{\\partial x^{(j)}_{3N} }\\frac{\\partial}{\\partial x^{(i)}_{1}} k(x^{(i)},x^{(j)}) \\\\\n",
    "\\dots & \\dots & \\dots \\\\\n",
    "\\frac{\\partial}{\\partial x^{(j)}_1}\\frac{\\partial}{\\partial x^{(i)}_{3N}} k(x^{(i)},x^{(j)}) &\\dots & \\frac{\\partial}{\\partial x^{(j)}_{3N} }\\frac{\\partial}{\\partial x^{(i)}_{3N}} k(x^{(i)},x^{(j)})\n",
    "\\end{bmatrix}^{3N\\times 3N}\n",
    "\\\\\n",
    "\\begin{bmatrix}K\\end{bmatrix}^{M\\cdot3N\\times M\\cdot3N} \\;\n",
    "\\begin{bmatrix}\\mathbf{f}\\end{bmatrix}^{M\\cdot3N\\times 1}\n",
    "\\\\\n",
    "$$\n",
    "$$\n",
    "{k^*}^{T}\n",
    "=\\nabla_x k(x^{*}, x)\\nabla_{x^{'}} ^\\top \n",
    "=\n",
    "\\begin{bmatrix}\n",
    "\\begin{pmatrix}\\nabla_{x^*} k(x^{*}, x^{(1)})\\nabla_{x^{(1)}} ^\\top\\end{pmatrix} & \n",
    "\\dots & \n",
    "\\begin{pmatrix}\\nabla k(x^{*}, x^{(M)})\\nabla_{x^{(M)}} ^\\top\\end{pmatrix}\n",
    "\\end{bmatrix}^{3N\\times M\\cdot 3N}\n",
    "= \n",
    "\\begin{bmatrix}\n",
    "\\begin{pmatrix}\\frac{\\partial}{\\partial x^{(1)}_1 }\\nabla k(x^{*},x^{(1)}),\\dots,\\frac{\\partial}{\\partial x^{(1)}_{3N} }\\nabla k(x^{*},x^{(1)})\\end{pmatrix} & \n",
    "\\dots & \n",
    "\\begin{pmatrix}\\frac{\\partial}{\\partial x^{(M)}_1 }\\nabla k(x^{*},x^{(M)}),\\dots,\\frac{\\partial}{\\partial x^{(M)}_{3N} }\\nabla k(x^{*},x^{(M)})\\end{pmatrix}\n",
    "\\end{bmatrix}^{3N\\times M\\cdot 3N}\n",
    "\\\\\n",
    "\\\\\n",
    "\\begin{bmatrix}\\mathbf{f^*}\\end{bmatrix}^{3N\\times1} =\\begin{bmatrix}\\begin{bmatrix}{k^*}^{T}\\end{bmatrix}^{3N \\times M \\cdot 3N}\\begin{bmatrix}\\begin{bmatrix}K^{-1}\\end{bmatrix}^{M\\cdot 3N \\times M\\cdot 3N}\\begin{bmatrix}\\mathbf{f}\\end{bmatrix}^{M\\cdot 3N \\times 1}\\end{bmatrix}^{M \\cdot 3N \\times 1}\\end{bmatrix}^{3N\\times 1}\n",
    "\\\\\n",
    "\\begin{bmatrix}\\mathbf{f^*}\\end{bmatrix}^{3N\\times1} =\n",
    "{k^*}^{T}\n",
    "K^{-1}\n",
    "\\mathbf{f}=\n",
    "\\begin{pmatrix}\n",
    "\\begin{pmatrix}\\frac{\\partial}{\\partial x^{(1)}_1 }\\nabla k(x^{*},x^{(1)}),\\dots,\\frac{\\partial}{\\partial x^{(1)}_{3N} }\\nabla k(x^{*},x^{(1)})\\end{pmatrix} & \n",
    "\\dots & \n",
    "\\begin{pmatrix}\\frac{\\partial}{\\partial x^{(M)}_1 }\\nabla k(x^{*},x^{(M)}),\\dots,\\frac{\\partial}{\\partial x^{(M)}_{3N} }\\nabla k(x^{*},x^{(M)})\\end{pmatrix}\n",
    "\\end{pmatrix}\n",
    "\\underbrace{ K^{-1}\\mathbf{f}}_{\\alpha _{ij}}\n",
    "$$"
   ]
  },
  {
   "cell_type": "markdown",
   "metadata": {},
   "source": [
    "### The Matérn kernel\n",
    "For our application, we considered a subclass from the parametric\n",
    "Matérn family (22–24) of (isotropic) kernel functions\n",
    "$$\n",
    "k: C_{\\nu=n+\\frac{1}{2}}(d)=exp{-\\frac{\\sqrt{2\\nu}d}{\\sigma}}P_{n}(d)\n",
    "$$\n",
    "$$\n",
    "P_n(d)=\\sum_{k=0}^{n}{\\frac{(n+k)!}{(2n)!}}\\begin{pmatrix}n\\\\k\\end{pmatrix}\\begin{pmatrix}\\frac{2\\sqrt{2\\nu}d}{\\sigma}\\end{pmatrix}^{n-k}\n",
    "$$\n",
    "\n",
    "### The full kernel\n",
    "\n",
    "$$\n",
    "\\mathbf{k_F(x, x^{'})}=\\nabla k(x, x^{'})\\nabla ^\\top=\\begin{bmatrix}\\frac{\\partial}{\\partial x^{'}_1 }\\nabla k(x,x^{'}),\\dots,\\frac{\\partial}{\\partial x^{'}_{3N} }\\nabla k(x,x^{'})\\end{bmatrix}\n",
    "$$\n",
    "$$\n",
    "=\\begin{pmatrix}5(\\mathbf{x-x^{'}})(\\mathbf{x-x^{'}})^\\top-\\mathbb{1}\\sigma(\\sigma +\\sqrt{5}d))\\end{pmatrix}\\frac{5}{3\\sigma^{4}}exp\\begin{pmatrix}-\\frac{\\sqrt{5}d}{\\sigma}\\end{pmatrix}\n",
    "$$\n",
    "$$\n",
    "\\mathbf{k_F(x, x^{'})}\\in \\mathbb{R}^{3N \\times 3N}\n",
    "$$\n",
    "\n",
    "$$\n",
    "\\mathbf{k_E(x, x^{'})}=k(x, x^{'})\\nabla ^\\top\n",
    "=5(\\mathbf{x-x^{'}})(\\sigma+d)\\frac{5}{3\\sigma^{3}}exp\\begin{pmatrix}-\\frac{\\sqrt{5}d}{\\sigma}\\end{pmatrix}\n",
    "$$\n",
    "$$\n",
    "\\mathbf{k_E(x, x^{'})}\\in \\mathbb{R}^{1 \\times 3N}\n",
    "$$\n"
   ]
  },
  {
   "cell_type": "code",
   "execution_count": 35,
   "metadata": {},
   "outputs": [],
   "source": [
    "def block_kernal_F(x1, x2, sig=1):\n",
    "    x1, x2 = x1.reshape([1, -1]), x2.reshape([1, -1])\n",
    "    dim_x = x1.shape[1]\n",
    "    x1, x2 = x1.reshape([dim_x, 1]), x2.reshape([dim_x, 1])\n",
    "    \n",
    "    d = np.linalg.norm(x1-x2)\n",
    "    \n",
    "    right_scalar = (5/(3*sig**4))*np.exp(-(np.sqrt(5)*d)/(sig))\n",
    "    diagonal_sig = np.identity(dim_x)*sig*(sig+np.sqrt(d))\n",
    "    \n",
    "    x1x2 = x1-x2\n",
    "    x1x2t = 5*np.matmul(x1x2, x1x2.T)\n",
    "    return (x1x2t-diagonal_sig)*right_scalar"
   ]
  },
  {
   "cell_type": "code",
   "execution_count": 36,
   "metadata": {},
   "outputs": [],
   "source": [
    "def block_kernal_E(x1, x2, sig=1):\n",
    "\n",
    "    x1, x2 = x1.reshape([dim_x, 1]), x2.reshape([dim_x, 1])\n",
    "    \n",
    "    d = np.linalg.norm(x1-x2)\n",
    "    \n",
    "    right_scalar = (5/(3*sig**4))*np.exp(-(np.sqrt(5)*d)/(sig))\n",
    "    \n",
    "    diagonal_sig = np.identity(dim_x)*sig*(sig+np.sqrt(d))\n",
    "    \n",
    "    x1x2 = x1-x2\n",
    "    x1x2t = 5*np.matmul(x1x2, x1x2.T)\n",
    "    return (x1x2t-diagonal_sig)*right_scalar"
   ]
  },
  {
   "cell_type": "code",
   "execution_count": 37,
   "metadata": {},
   "outputs": [],
   "source": [
    "from itertools import product\n",
    "from tqdm.notebook import tqdm\n",
    "def full_kernal(x, sig, block_kernal):\n",
    "    M = x.shape[0]\n",
    "    full_kernal = [[ [] for i in range(M)] for i in range(M)]\n",
    "    for i, j in tqdm(product(range(M), range(M)), total=M*M):\n",
    "        full_kernal[i][j] = block_kernal(x[i], x[j], sig)\n",
    "    return np.block(full_kernal)"
   ]
  },
  {
   "cell_type": "code",
   "execution_count": 89,
   "metadata": {},
   "outputs": [],
   "source": [
    "def k_star(x, x_star, sig, block_kernal):\n",
    "    M = x.shape[0]\n",
    "    k_star = [[] for i in range(M)]\n",
    "    for i in tqdm(range(M), total=M):\n",
    "        k_star[i] = [block_kernal(x[i], x_star, sig)]\n",
    "    return np.block(k_star)"
   ]
  },
  {
   "cell_type": "code",
   "execution_count": 48,
   "metadata": {},
   "outputs": [
    {
     "name": "stdout",
     "output_type": "stream",
     "text": [
      "(51, 96)\n",
      "(96, 496)\n"
     ]
    }
   ],
   "source": [
    "def J_D(x, lat=None):\n",
    "    x = x.reshape(-1, 3)\n",
    "    n_atoms = x.shape[0]\n",
    "    pdist = dist(x, lat=lat)\n",
    "    pdiff = x[:, None] - x[None, :]  # pairwise differences ri - rj\n",
    "    \n",
    "    i, j = np.triu_indices(n_atoms)\n",
    "    pdiff = pdiff[i, j, :] # upper triangular\n",
    "    if lat is not None:\n",
    "        pdiff = pbc_d(pdiff, lat)\n",
    "    pdiff0 = np.zeros([n_atoms, n_atoms, 3])\n",
    "    pdiff0[i, j] = pdiff\n",
    "    pdiff = pdiff0\n",
    "    rirj3 = (pdist ** 3)[:, None].reshape([1, -1])\n",
    "    j_D = []\n",
    "    for i in range(n_atoms):\n",
    "        j_d= []\n",
    "        for d in range(3):\n",
    "            D_mask = np.zeros([n_atoms, n_atoms])\n",
    "            D_mask[i, :] = 1\n",
    "            D_mask[:, i] = 1\n",
    "            xixj = (pdiff[:,:,0]*D_mask)[np.triu_indices(n_atoms-1)].reshape([1, -1])\n",
    "            j_d.append(xixj/rirj3)\n",
    "        j_D.append(np.concatenate(j_d, axis=0))\n",
    "    return np.concatenate(j_D, axis=0).T\n",
    "    \n",
    "\n",
    "from ase_utils import *\n",
    "print(x.shape)\n",
    "print(J_DT(x[0], lat).shape)"
   ]
  },
  {
   "cell_type": "code",
   "execution_count": null,
   "metadata": {},
   "outputs": [],
   "source": [
    "\n",
    "k = np.arange(16).reshape([4,4])\n",
    "i, j = np.triu_indices(4)\n",
    "k_flatten = k[i, j]\n",
    "print(k_flatten)\n",
    "k0 = np.zeros([4,4])\n",
    "k0[i, j] = k_flatten\n",
    "k0"
   ]
  },
  {
   "cell_type": "code",
   "execution_count": 50,
   "metadata": {},
   "outputs": [
    {
     "data": {
      "application/vnd.jupyter.widget-view+json": {
       "model_id": "457583d05e9a4d86ac6acb6e36e0d041",
       "version_major": 2,
       "version_minor": 0
      },
      "text/plain": [
       "HBox(children=(HTML(value=''), FloatProgress(value=0.0, max=2601.0), HTML(value='')))"
      ]
     },
     "metadata": {},
     "output_type": "display_data"
    },
    {
     "name": "stdout",
     "output_type": "stream",
     "text": [
      "\n"
     ]
    }
   ],
   "source": [
    "def J_Kf(x1, x2, sig):\n",
    "    J_D1 = J_D(x1, lat)\n",
    "    J_D2 = J_D(x2, lat)\n",
    "    Kf = block_kernal_F(x_to_d(x1.reshape([1,-1]), lat), x_to_d(x2.reshape([1,-1]), lat) , sig)\n",
    "    return J_D1.T.dot(Kf.dot(J_D2))\n",
    "    \n",
    "K = full_kernal(x, 1, J_Kf)\n"
   ]
  },
  {
   "cell_type": "code",
   "execution_count": 73,
   "metadata": {},
   "outputs": [],
   "source": [
    "x_s = x_test[0].reshape([1, -1])"
   ]
  },
  {
   "cell_type": "code",
   "execution_count": 75,
   "metadata": {},
   "outputs": [
    {
     "data": {
      "text/plain": [
       "(1, 96)"
      ]
     },
     "execution_count": 75,
     "metadata": {},
     "output_type": "execute_result"
    }
   ],
   "source": [
    "x_s.shape\n",
    "# x.shape"
   ]
  },
  {
   "cell_type": "code",
   "execution_count": 90,
   "metadata": {},
   "outputs": [
    {
     "data": {
      "application/vnd.jupyter.widget-view+json": {
       "model_id": "92becf4addb041b78fe9f36218099f0d",
       "version_major": 2,
       "version_minor": 0
      },
      "text/plain": [
       "HBox(children=(HTML(value=''), FloatProgress(value=0.0, max=51.0), HTML(value='')))"
      ]
     },
     "metadata": {},
     "output_type": "display_data"
    },
    {
     "name": "stdout",
     "output_type": "stream",
     "text": [
      "\n"
     ]
    }
   ],
   "source": [
    "k_s = k_star(x, x_star, 1, J_Kf)"
   ]
  },
  {
   "cell_type": "code",
   "execution_count": 91,
   "metadata": {},
   "outputs": [
    {
     "data": {
      "text/plain": [
       "(4896, 96)"
      ]
     },
     "execution_count": 91,
     "metadata": {},
     "output_type": "execute_result"
    }
   ],
   "source": [
    "k_s.shape\n"
   ]
  },
  {
   "cell_type": "code",
   "execution_count": 61,
   "metadata": {},
   "outputs": [
    {
     "name": "stdout",
     "output_type": "stream",
     "text": [
      "(51, 96)\n",
      "(51, 96)\n"
     ]
    },
    {
     "data": {
      "text/plain": [
       "(4896, 1)"
      ]
     },
     "execution_count": 61,
     "metadata": {},
     "output_type": "execute_result"
    }
   ],
   "source": [
    "\n",
    "lam = 1e-5\n",
    "K -= lam*np.eye(51*32*3)\n",
    "K_inv = np.linalg.inv(K)\n",
    "print(x.shape)\n",
    "print(y.shape)\n",
    "alpha = K_inv.dot(y.reshape([-1, 1]))\n",
    "alpha.shape"
   ]
  },
  {
   "cell_type": "code",
   "execution_count": 93,
   "metadata": {},
   "outputs": [
    {
     "data": {
      "text/plain": [
       "array([[-0.00569742],\n",
       "       [-0.00569742],\n",
       "       [-0.00569742],\n",
       "       [-0.00069692],\n",
       "       [-0.00069692],\n",
       "       [-0.00069692],\n",
       "       [-0.0257362 ],\n",
       "       [-0.0257362 ],\n",
       "       [-0.0257362 ],\n",
       "       [-0.00405732],\n",
       "       [-0.00405732],\n",
       "       [-0.00405732],\n",
       "       [-0.02374828],\n",
       "       [-0.02374828],\n",
       "       [-0.02374828],\n",
       "       [ 0.02398136],\n",
       "       [ 0.02398136],\n",
       "       [ 0.02398136],\n",
       "       [-0.0006445 ],\n",
       "       [-0.0006445 ],\n",
       "       [-0.0006445 ],\n",
       "       [-0.01104981],\n",
       "       [-0.01104981],\n",
       "       [-0.01104981],\n",
       "       [-0.01723323],\n",
       "       [-0.01723323],\n",
       "       [-0.01723323],\n",
       "       [ 0.00154966],\n",
       "       [ 0.00154966],\n",
       "       [ 0.00154966],\n",
       "       [-0.0126754 ],\n",
       "       [-0.0126754 ],\n",
       "       [-0.0126754 ],\n",
       "       [ 0.00015622],\n",
       "       [ 0.00015622],\n",
       "       [ 0.00015622],\n",
       "       [-0.02769508],\n",
       "       [-0.02769508],\n",
       "       [-0.02769508],\n",
       "       [-0.00458609],\n",
       "       [-0.00458609],\n",
       "       [-0.00458609],\n",
       "       [-0.00082949],\n",
       "       [-0.00082949],\n",
       "       [-0.00082949],\n",
       "       [ 0.01210445],\n",
       "       [ 0.01210445],\n",
       "       [ 0.01210445],\n",
       "       [ 0.01336801],\n",
       "       [ 0.01336801],\n",
       "       [ 0.01336801],\n",
       "       [ 0.02889537],\n",
       "       [ 0.02889537],\n",
       "       [ 0.02889537],\n",
       "       [ 0.03609536],\n",
       "       [ 0.03609536],\n",
       "       [ 0.03609536],\n",
       "       [-0.01886995],\n",
       "       [-0.01886995],\n",
       "       [-0.01886995],\n",
       "       [-0.00295845],\n",
       "       [-0.00295845],\n",
       "       [-0.00295845],\n",
       "       [-0.03487999],\n",
       "       [-0.03487999],\n",
       "       [-0.03487999],\n",
       "       [ 0.00206839],\n",
       "       [ 0.00206839],\n",
       "       [ 0.00206839],\n",
       "       [-0.00738145],\n",
       "       [-0.00738145],\n",
       "       [-0.00738145],\n",
       "       [-0.02831532],\n",
       "       [-0.02831532],\n",
       "       [-0.02831532],\n",
       "       [-0.00476598],\n",
       "       [-0.00476598],\n",
       "       [-0.00476598],\n",
       "       [-0.02893021],\n",
       "       [-0.02893021],\n",
       "       [-0.02893021],\n",
       "       [-0.02339177],\n",
       "       [-0.02339177],\n",
       "       [-0.02339177],\n",
       "       [ 0.00942884],\n",
       "       [ 0.00942884],\n",
       "       [ 0.00942884],\n",
       "       [-0.03487919],\n",
       "       [-0.03487919],\n",
       "       [-0.03487919],\n",
       "       [ 0.02166484],\n",
       "       [ 0.02166484],\n",
       "       [ 0.02166484],\n",
       "       [ 0.        ],\n",
       "       [ 0.        ],\n",
       "       [ 0.        ]])"
      ]
     },
     "execution_count": 93,
     "metadata": {},
     "output_type": "execute_result"
    }
   ],
   "source": [
    "k_s.T.dot(alpha)"
   ]
  },
  {
   "cell_type": "markdown",
   "metadata": {},
   "source": [
    "### Matérn covariance derivatives\n",
    "$$\n",
    "k: C_{\\nu=n+\\frac{1}{2}}(d)=B(d)P_{n}(d)\n",
    "\\\\\n",
    "B(d) = exp{\\begin{pmatrix}-\\frac{\\sqrt{2\\nu}d}{\\sigma}\\end{pmatrix}}\n",
    "\\\\\n",
    "P_n(d)=\\sum_{k=0}^{n}{\\frac{(n+k)!}{(2n)!}}\\begin{pmatrix}n\\\\k\\end{pmatrix}\\begin{pmatrix}\\frac{2\\sqrt{2\\nu}d}{\\sigma}\\end{pmatrix}^{n-k}\n",
    "$$"
   ]
  },
  {
   "cell_type": "markdown",
   "metadata": {},
   "source": [
    "$$\n",
    "\\frac{\\partial \\kappa}{\\partial x_i} = \\frac{\\partial P_n}{\\partial x_i}B + \\frac{\\partial B}{\\partial x_i}P_n\n",
    "$$"
   ]
  },
  {
   "cell_type": "markdown",
   "metadata": {},
   "source": [
    "$$\n",
    "\\frac{\\partial P_n}{\\partial x_i}=\\sum_{k=0}^n{\\frac{(n+k)!}{(2n)!}\\begin{pmatrix}n\\\\k\\end{pmatrix}\\frac{(n-k)(x_i -x^{'}_i)}{d^2}\\begin{pmatrix}\\frac{2\\sqrt{2\\nu}d}{\\sigma}\\end{pmatrix}^{n-k}}\\\\\n",
    "$$"
   ]
  },
  {
   "cell_type": "markdown",
   "metadata": {},
   "source": [
    "$$\n",
    "\\frac{\\partial B}{\\partial x_i} =-\\frac{\\sqrt{2\\nu}(x_i -x^{'}_i)}{\\sigma d}exp{-\\frac{\\sqrt{2\\nu}d}{\\sigma}}\n",
    "$$"
   ]
  },
  {
   "cell_type": "markdown",
   "metadata": {},
   "source": [
    "$$\n",
    "\\frac{\\partial^2 \\kappa}{\\partial x_i \\partial x_j} = \n",
    "B\\frac{\\partial^2 P_n}{\\partial x_i \\partial x_j} +\n",
    "\\frac{\\partial B}{\\partial x_i}\\frac{\\partial P_n}{\\partial x_j} +\n",
    "\\frac{\\partial B}{\\partial x_j}\\frac{\\partial P_n}{\\partial x_i} +\n",
    "P_n\\frac{\\partial^2 B}{\\partial x_i \\partial x_j} \n",
    "$$"
   ]
  },
  {
   "cell_type": "markdown",
   "metadata": {},
   "source": [
    "$$\n",
    "\\begin{bmatrix}\\frac{\\partial^2 P_n}{\\partial x_i \\partial x_j}\\end{bmatrix}_{i\\ne j}=\n",
    "\\sum_{k=0}^{n}{\\frac{(n+k)!}{(2n)!}\\begin{pmatrix}n \\\\ k \\end{pmatrix}\n",
    "\\frac{(n-k-2)(n-k)(x_i -x^{'}_i)(x_j - x^{'}_j)}{d^4}\n",
    "\\begin{pmatrix}\\frac{2\\sqrt{2\\nu}d}{\\sigma}\\end{pmatrix}^{n-k}}\n",
    "$$"
   ]
  },
  {
   "cell_type": "markdown",
   "metadata": {},
   "source": [
    "$$\n",
    "\\begin{bmatrix}\\frac{\\partial^2 P_n}{\\partial x_i \\partial x_j}\\end{bmatrix}_{i=j}=\n",
    "\\sum_{k=0}^{n}{\\frac{(n+k)!}{(2n)!}\\begin{pmatrix}n \\\\ k \\end{pmatrix}\n",
    "\\frac{(n-k-2)(n-k)(x_i -x^{'}_i)^2}{d^4}\n",
    "\\begin{pmatrix}\\frac{2\\sqrt{2\\nu}d}{\\sigma}\\end{pmatrix}^{n-k}} + \\sum_{k=0}^n{\\frac{(n+k)!}{(2n)!}\\begin{pmatrix}n\\\\k\\end{pmatrix}\\frac{(n-k)}{d^2}\\begin{pmatrix}\\frac{2\\sqrt{2\\nu}d}{\\sigma}\\end{pmatrix}^{n-k}}\\\\\n",
    "$$"
   ]
  },
  {
   "cell_type": "markdown",
   "metadata": {},
   "source": [
    "$$\n",
    "\\begin{bmatrix}\\frac{\\partial^2 B}{\\partial x_i \\partial x_j}\\end{bmatrix}_{i\\ne j} =\n",
    "\\frac{\\sqrt{2\\nu}(x_i-x^{'})(x_j-x^{'}_j)(\\sqrt{2\\nu} d+\\sigma)}{\\sigma^2d^3}\\exp{\\begin{pmatrix}-\\frac{\\sqrt{2\\nu}d}{\\sigma}\\end{pmatrix}}\n",
    "$$"
   ]
  },
  {
   "cell_type": "markdown",
   "metadata": {},
   "source": [
    "$$\n",
    "\\begin{bmatrix}\\frac{\\partial^2 B}{\\partial x_i \\partial x_j}\\end{bmatrix}_{i = j} =\n",
    "\\frac{\\sqrt{2\\nu}(x_i-x^{'})(x_j-x^{'}_j)(\\sqrt{2\\nu} d+\\sigma)}{\\sigma^2d^3}\\exp{\\begin{pmatrix}-\\frac{\\sqrt{2\\nu}d}{\\sigma}\\end{pmatrix}} - \\frac{\\sqrt{2\\nu}(x_i -x^{'}_i)}{\\sigma d}exp{\\begin{pmatrix}-\\frac{\\sqrt{2\\nu}d}{\\sigma}\\end{pmatrix}}\n",
    "$$"
   ]
  },
  {
   "cell_type": "markdown",
   "metadata": {},
   "source": []
  }
 ],
 "metadata": {
  "kernelspec": {
   "display_name": "Python 3",
   "language": "python",
   "name": "python3"
  },
  "language_info": {
   "codemirror_mode": {
    "name": "ipython",
    "version": 3
   },
   "file_extension": ".py",
   "mimetype": "text/x-python",
   "name": "python",
   "nbconvert_exporter": "python",
   "pygments_lexer": "ipython3",
   "version": "3.8.5"
  }
 },
 "nbformat": 4,
 "nbformat_minor": 4
}
