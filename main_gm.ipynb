{
 "cells": [
  {
   "cell_type": "code",
   "execution_count": 1,
   "metadata": {},
   "outputs": [],
   "source": [
    "# https://www.math.uwaterloo.ca/~hwolkowi/matrixcookbook.pdf\n",
    "# !pip install --upgrade --user ase\n",
    "# !pip install ipywidgets \n",
    "# !pip install ipympl\n",
    "# !conda install nglview -c conda-forge -y\n",
    "# !pip install --upgrade --user asap3\n",
    "# !pip install nglview\n",
    "# !pip install scikit-learn\n",
    "# !pip install scipy\n",
    "# !pip install sgdml\n",
    "# !pip install sgdml[ase]\n",
    "# !pip install sgdml[torch]\n",
    "# !jupyter-nbextension enable nglview --py --sys-prefix\n",
    "%load_ext autoreload\n",
    "%autoreload 2\n",
    "from utils import *\n",
    "%matplotlib widget"
   ]
  },
  {
   "cell_type": "markdown",
   "metadata": {},
   "source": [
    "# Gaussian Process "
   ]
  },
  {
   "cell_type": "markdown",
   "metadata": {},
   "source": [
    "## Univariate normal distribution\n",
    "\n",
    "\n",
    "$$\n",
    "\\mathcal{N}(\\mu, \\sigma^2)\n",
    "$$\n",
    "\n",
    "$$\n",
    "p(x \\mid \\mu, \\sigma) = \\frac{1}{\\sqrt{2\\pi\\sigma^2}} \\exp{ \\left( -\\frac{(x - \\mu)^2}{2\\sigma^2}\\right)}\n",
    "$$"
   ]
  },
  {
   "cell_type": "code",
   "execution_count": 2,
   "metadata": {},
   "outputs": [],
   "source": [
    "def univariate_normal(x, mean, variance):\n",
    "    \"\"\"pdf of the univariate normal distribution.\"\"\"\n",
    "    return ((1. / np.sqrt(2 * np.pi * variance)) * \n",
    "            np.exp(-(x - mean)**2 / (2 * variance)))"
   ]
  },
  {
   "cell_type": "code",
   "execution_count": 3,
   "metadata": {},
   "outputs": [
    {
     "data": {
      "application/vnd.jupyter.widget-view+json": {
       "model_id": "eec9a275b6584ef799af2c2237a70778",
       "version_major": 2,
       "version_minor": 0
      },
      "text/plain": [
       "Canvas(toolbar=Toolbar(toolitems=[('Home', 'Reset original view', 'home', 'home'), ('Back', 'Back to previous …"
      ]
     },
     "metadata": {},
     "output_type": "display_data"
    },
    {
     "data": {
      "application/vnd.jupyter.widget-view+json": {
       "model_id": "2c3369f38879421a9dd7479b3f4e7c0b",
       "version_major": 2,
       "version_minor": 0
      },
      "text/plain": [
       "interactive(children=(FloatSlider(value=0.0, description='mu', max=3.0, min=-3.0), FloatSlider(value=1.0, desc…"
      ]
     },
     "metadata": {},
     "output_type": "display_data"
    }
   ],
   "source": [
    "# set up plot\n",
    "univariate_plot(univariate_normal)"
   ]
  },
  {
   "cell_type": "markdown",
   "metadata": {},
   "source": [
    "## Multivariate normal distribution\n",
    "\n",
    "$$\n",
    "p(\\mathbf{x} \\mid \\mathbf{\\mu}, \\Sigma) = \\frac{1}{\\sqrt{(2\\pi)^d \\lvert\\Sigma\\rvert}} \\exp{ \\left( -\\frac{1}{2}(\\mathbf{x} - \\mathbf{\\mu})^T \\Sigma^{-1} (\\mathbf{x} - \\mathbf{\\mu}) \\right)}\n",
    "$$\n",
    "\n",
    "$$\n",
    "\\mathcal{N}(\\mathbf{\\mu}, \\Sigma)\n",
    "$$"
   ]
  },
  {
   "cell_type": "code",
   "execution_count": 4,
   "metadata": {},
   "outputs": [],
   "source": [
    "def multivariate_normal(x, d, mean, covariance):\n",
    "    \"\"\"pdf of the multivariate normal distribution.\"\"\"\n",
    "    x_m = x - mean\n",
    "    return (1. / (np.sqrt((2 * np.pi)**d * np.linalg.det(covariance))) * \n",
    "            np.exp(-(np.linalg.solve(covariance, x_m).T.dot(x_m)) / 2))"
   ]
  },
  {
   "cell_type": "markdown",
   "metadata": {},
   "source": [
    "## 2D Multivariate normal distribution\n",
    "$$\n",
    "\\mathcal{N}\\left(\n",
    "\\begin{bmatrix}\n",
    "0 \\\\\n",
    "0\n",
    "\\end{bmatrix}, \n",
    "\\begin{bmatrix}\n",
    "1 & 0 \\\\\n",
    "0 & 1 \n",
    "\\end{bmatrix}\\right)\n",
    "$$\n",
    "\n",
    "$$\n",
    "\\mathcal{N}\\left(\n",
    "\\begin{bmatrix}\n",
    "0 \\\\\n",
    "1\n",
    "\\end{bmatrix}, \n",
    "\\begin{bmatrix}\n",
    "1 & 0.8 \\\\\n",
    "0.8 & 1\n",
    "\\end{bmatrix}\\right)\n",
    "$$"
   ]
  },
  {
   "cell_type": "code",
   "execution_count": 5,
   "metadata": {},
   "outputs": [
    {
     "data": {
      "application/vnd.jupyter.widget-view+json": {
       "model_id": "fe2408f97da84ba89683a6a2e92cc021",
       "version_major": 2,
       "version_minor": 0
      },
      "text/plain": [
       "Canvas(toolbar=Toolbar(toolitems=[('Home', 'Reset original view', 'home', 'home'), ('Back', 'Back to previous …"
      ]
     },
     "metadata": {},
     "output_type": "display_data"
    },
    {
     "data": {
      "application/vnd.jupyter.widget-view+json": {
       "model_id": "6eab2465e6c64ab2b7a728b8a4d17718",
       "version_major": 2,
       "version_minor": 0
      },
      "text/plain": [
       "interactive(children=(FloatSlider(value=0.0, continuous_update=False, description='C', max=0.99, step=0.01), O…"
      ]
     },
     "metadata": {},
     "output_type": "display_data"
    }
   ],
   "source": [
    "plt.close('all')\n",
    "\n",
    "multivariate_plot(multivariate_normal, nb_of_x=100)"
   ]
  },
  {
   "cell_type": "markdown",
   "metadata": {},
   "source": [
    "## Marginal and Conditional normal distributions\n",
    "\n",
    "If both $\\mathbf{x}$ and $\\mathbf{y}$ are [jointly normal](https://en.wikipedia.org/wiki/Multivariate_normal_distribution#Joint_normality) random vectors defined as:\n",
    "$$\n",
    "\\begin{bmatrix}\n",
    "\\mathbf{x} \\\\\n",
    "\\mathbf{y} \n",
    "\\end{bmatrix}\n",
    "\\sim\n",
    "\\mathcal{N}\\left(\n",
    "\\begin{bmatrix}\n",
    "\\mu_{\\mathbf{x}} \\\\\n",
    "\\mu_{\\mathbf{y}}\n",
    "\\end{bmatrix},\n",
    "\\begin{bmatrix}\n",
    "A & C \\\\\n",
    "C^T & B\n",
    "\\end{bmatrix}\n",
    "\\right)\n",
    "= \\mathcal{N}(\\mu, \\Sigma)\n",
    ", \\qquad \n",
    "\\Sigma^{-1} = \\Lambda = \n",
    "\\begin{bmatrix}\n",
    "\\tilde{A} & \\tilde{C} \\\\\n",
    "\\tilde{C}^T & \\tilde{B}\n",
    "\\end{bmatrix}\n",
    "$$\n",
    "\n",
    "The [conditional distribution](https://en.wikipedia.org/wiki/Conditional_probability_distribution) of $\\mathbf{x}$ given $\\mathbf{y}$ is defined as:\n",
    "\n",
    "$$\n",
    "p(\\mathbf{x} \\mid \\mathbf{y}) = \\mathcal{N}(\\mu_{x|y}, \\Sigma_{x|y})\n",
    "$$\n",
    "\n",
    "With:\n",
    "$$\\begin{split}\n",
    "\\Sigma_{x|y} & = A - CB^{-1}C^\\top = \\tilde{A}^{-1} \\\\\n",
    "\\mu_{x|y} & = \\mu_x + CB^{-1}(\\mathbf{y}-\\mu_y)\n",
    "\\end{split}$$\n",
    "\n"
   ]
  },
  {
   "cell_type": "markdown",
   "metadata": {},
   "source": [
    "### Proof\n",
    "\n",
    "$\n",
    "\\begin{split}\n",
    "p(x_1, x_2) = exp\n",
    "\\left[\n",
    "-\\frac{1}{2}\n",
    "\\begin{pmatrix}\n",
    "x_1 - \\mu_1 \\\\ \n",
    "x_2 - \\mu_2\n",
    "\\end{pmatrix}^T\n",
    "\\begin{pmatrix}\n",
    "\\Sigma_{11} & \\Sigma_{12} \\\\ \n",
    "\\Sigma_{21} & \\Sigma_{22}\n",
    "\\end{pmatrix}^{-1}\n",
    "\\begin{pmatrix}\n",
    "x_1 - \\mu_1 \\\\ \n",
    "x_2 - \\mu_2\n",
    "\\end{pmatrix}\n",
    "\\right]\n",
    "\\end{split}\n",
    "$\n",
    "\n",
    "By using thr following idendty:\n",
    "\n",
    "$\n",
    "\\begin{split}\n",
    "M^{-1}=\n",
    "\\begin{pmatrix}\n",
    "A & B \\\\ \n",
    "C & D\n",
    "\\end{pmatrix}^{-1}=\n",
    "\\begin{pmatrix}\n",
    "I & 0 \\\\ \n",
    "-C^{-1}C & I\n",
    "\\end{pmatrix}\n",
    "\\begin{pmatrix}\n",
    "(M/D)^{-1} & 0 \\\\ \n",
    "0 & D^{-1}\n",
    "\\end{pmatrix}\n",
    "\\begin{pmatrix}\n",
    "I & -BD^{-1} \\\\ \n",
    "0 & I\n",
    "\\end{pmatrix}\n",
    "\\end{split}\n",
    "$\n",
    "\n",
    "We obtainig the folowing:\n",
    "\n",
    "$\n",
    "\\begin{pmatrix}\n",
    "x_1 - \\mu_1 \\\\ \n",
    "x_2 - \\mu_2\n",
    "\\end{pmatrix}^T\n",
    "\\begin{pmatrix}\n",
    "\\Sigma_{11} & \\Sigma_{12} \\\\ \n",
    "\\Sigma_{21} & \\Sigma_{22}\n",
    "\\end{pmatrix}^{-1}\n",
    "\\begin{pmatrix}\n",
    "x_1 - \\mu_1 \\\\ \n",
    "x_2 - \\mu_2\n",
    "\\end{pmatrix}=\n",
    "\\begin{pmatrix}\n",
    "x_1 - \\mu_1 \\\\ \n",
    "x_2 - \\mu_2\n",
    "\\end{pmatrix}^T\n",
    "\\begin{pmatrix}\n",
    "I & 0 \\\\ \n",
    "-\\Sigma_{22}^{-1} \\Sigma_{21} & I\n",
    "\\end{pmatrix}\n",
    "\\begin{pmatrix}\n",
    "(\\Sigma/\\Sigma_{22})^{-1} & 0 \\\\ \n",
    "0 & \\Sigma_{22}^{-1}\n",
    "\\end{pmatrix}\n",
    "\\begin{pmatrix}\n",
    "I & -\\Sigma_{12}\\Sigma_{22}^{-1} \\\\ \n",
    "0 & I\n",
    "\\end{pmatrix}\n",
    "\\begin{pmatrix}\n",
    "x_1 - \\mu_1 \\\\ \n",
    "x_2 - \\mu_2\n",
    "\\end{pmatrix}\n",
    "$\n",
    "\n",
    "And finally:\n",
    "\n",
    "$\n",
    "(x_2 - \\mu_1 -\\Sigma_{12}\\Sigma_{22}^{-1}(x_2-\\mu_2))^T(\\Sigma/\\Sigma_{22})^{-1}(x_2 - \\mu_1 -\\Sigma_{12}\\Sigma_{22}^{-1}(x_2-\\mu_2)) + (x_2-\\mu_2)^T\\Sigma_22^{-1}(x_2-\\mu_2)\n",
    "$\n",
    "\n",
    "And plugin back into the first Eq:\n",
    "\n",
    "$\n",
    "\\begin{split}\n",
    "p(x_1, x_2) = exp\n",
    "\\left[\n",
    "-\\frac{1}{2}\n",
    "(x_2 - \\mu_1 -\\Sigma_{12}\\Sigma_{22}^{-1}(x_2-\\mu_2))^T(\\Sigma/\\Sigma_{22})^{-1}(x_2 - \\mu_1 -\\Sigma_{12}\\Sigma_{22}^{-1}(x_2-\\mu_2)) + (x_2-\\mu_2)^T\\Sigma_22^{-1}(x_2-\\mu_2)\n",
    "\\right]\n",
    "\\end{split}\n",
    "$\n",
    "$\n",
    "\\begin{split}\n",
    "p(x_1, x_2) = exp\n",
    "\\left[\n",
    "-\\frac{1}{2}\n",
    "(x_2 - \\mu_1 -\\Sigma_{12}\\Sigma_{22}^{-1}(x_2-\\mu_2))^T(\\Sigma/\\Sigma_{22})^{-1}(x_2 - \\mu_1 -\\Sigma_{12}\\Sigma_{22}^{-1}(x_2-\\mu_2))\n",
    "\\right] \\cdot\n",
    "exp\n",
    "\\left[\n",
    "-\\frac{1}{2}\n",
    "(x_2-\\mu_2)^T\\Sigma_22^{-1}(x_2-\\mu_2)\n",
    "\\right]\n",
    "\\end{split}\n",
    "$\n",
    "\n",
    "and from the axiom of probability we obtain the follwoing equlaity:\n",
    "\n",
    "$\n",
    "\\begin{split}\n",
    "p(x_1, x_2) = p(x_1|x_2)p(x_2)= exp\n",
    "\\left[\n",
    "-\\frac{1}{2}\n",
    "(x_2 - \\mu_1 -\\Sigma_{12}\\Sigma_{22}^{-1}(x_2-\\mu_2))^T(\\Sigma/\\Sigma_{22})^{-1}(x_2 - \\mu_1 -\\Sigma_{12}\\Sigma_{22}^{-1}(x_2-\\mu_2))\n",
    "\\right] \\cdot\n",
    "exp\n",
    "\\left[\n",
    "-\\frac{1}{2}\n",
    "(x_2-\\mu_2)^T\\Sigma_22^{-1}(x_2-\\mu_2)\n",
    "\\right] = \n",
    "exp\n",
    "\\left[\n",
    "-\\frac{1}{2}\n",
    "(x_2 - \\mu_1 -\\Sigma_{12}\\Sigma_{22}^{-1}(x_2-\\mu_2))^T(\\Sigma/\\Sigma_{22})^{-1}(x_2 - \\mu_1 -\\Sigma_{12}\\Sigma_{22}^{-1}(x_2-\\mu_2))\n",
    "\\right] \\cdot\n",
    "p(x_2)\n",
    "\\end{split} \\\\ \n",
    "\\Rightarrow p(x_1|x_2) = exp\n",
    "\\left[\n",
    "-\\frac{1}{2}\n",
    "(x_2 - \\mu_1 -\\Sigma_{12}\\Sigma_{22}^{-1}(x_2-\\mu_2))^T(\\Sigma/\\Sigma_{22})^{-1}(x_2 - \\mu_1 -\\Sigma_{12}\\Sigma_{22}^{-1}(x_2-\\mu_2))\n",
    "\\right] \\\\\n",
    "\\mu_{1|2} = \\mu_1 -\\Sigma_{12}\\Sigma_{22}^{-1}(x_2-\\mu_2)\n",
    "\\Sigma_{1|2} = (\\Sigma/\\Sigma_{22})=\\Sigma_{11}-\\Sigma_{12}\\Sigma_{22}^{-1}\\Sigma_{21}\n",
    "$"
   ]
  },
  {
   "cell_type": "code",
   "execution_count": 6,
   "metadata": {},
   "outputs": [
    {
     "data": {
      "application/vnd.jupyter.widget-view+json": {
       "model_id": "2d4129eee2ec47ed9db5a394d26eb47e",
       "version_major": 2,
       "version_minor": 0
      },
      "text/plain": [
       "Canvas(toolbar=Toolbar(toolitems=[('Home', 'Reset original view', 'home', 'home'), ('Back', 'Back to previous …"
      ]
     },
     "metadata": {},
     "output_type": "display_data"
    },
    {
     "data": {
      "application/vnd.jupyter.widget-view+json": {
       "model_id": "69f7a1b312c14bfda762722079cd84be",
       "version_major": 2,
       "version_minor": 0
      },
      "text/plain": [
       "interactive(children=(FloatSlider(value=0.0, continuous_update=False, description='x', max=1.0, min=-1.0), Flo…"
      ]
     },
     "metadata": {},
     "output_type": "display_data"
    }
   ],
   "source": [
    "plt.close('all')\n",
    "condition_plot(nb_of_x=100)"
   ]
  },
  {
   "cell_type": "markdown",
   "metadata": {},
   "source": [
    "## Gaussian Process\n",
    "Gaussian process (GP) Is a method predicting $y^*$ for a given $x^*$ and getting: $y_i=f(x_i )$. \n",
    "GP assumes that p(f(x_1),...,f(x_N  )) is jointly Gaussian, i.e., the value of a new point m is defined as a multidimensional gaussian with $\\mu(x)$ and $\\Sigma(x)$, where $\\Sigma(x)$ is calculated as $\\Sigma_{ij}=k(x_i,x_j)$, and $k$ is the kernel function.<br/>\n",
    "Which can be regarded as a \"distance\" function which defines how strongly the value f(x_i) is coupled to point f(x_j). \n",
    "When trying to predict a new point x^* we use prior data points, calculating the new kernel values, and finally obtaining the following new multidimensional Gaussian distribution:"
   ]
  },
  {
   "cell_type": "markdown",
   "metadata": {},
   "source": [
    "$$\n",
    "\\begin{pmatrix}\n",
    "f \\\\ \n",
    "f^*\n",
    "\\end{pmatrix}~\n",
    "\\mathcal{N}\n",
    "\\begin{pmatrix}\n",
    "\\begin{pmatrix}\n",
    "\\mu \\\\ \n",
    "\\mu^*\n",
    "\\end{pmatrix},\n",
    "\\begin{pmatrix}\n",
    "k & k^*\\\\ \n",
    "{k^{*}}^{T} & k^{**}\n",
    "\\end{pmatrix}\n",
    "\\end{pmatrix}\n",
    "$$\n",
    "<br/>\n",
    "$f$ - Vector of all observed $y_i$ values, $f=y_i=f(x_i)$.<br/>\n",
    "$f^*$ - Prediction function for point $x^*$, $f^*=y^*=f(x^*)$.<br/>\n",
    "$\\mu$ - Vector of all observed mean values.<br/>\n",
    "$\\mu^*$- Mean values for the prediction for x^*. <br/>\n",
    "$k$ - Covariance matrix of all observed points<br/>\n",
    "$k^*$ - Kernel vector $k^*=k(x^*,x_i )$<br/>\n",
    "$k^{**}$ - Self kernel vector $k^{**}=k(x^*,x^* )$<br/>\n"
   ]
  },
  {
   "cell_type": "markdown",
   "metadata": {},
   "source": [
    "### Applying the Conditional \n",
    "$$f(x^*)=\\mu^* +{{k}^{*}}^{T}  k^{-1}(y-\\mu)$$ <br/>\n",
    "For simplicity, we can define the mean values to be zero<br/>\n",
    "$$f(x^*) ={k^*}^{T}k^{-1}y=\\sum_{i=1}^{N}\\alpha_ik(x_i, x^*)$$"
   ]
  },
  {
   "cell_type": "markdown",
   "metadata": {},
   "source": [
    "### The Most Popular Kernal\n",
    "Here, we will use the squared exponential kernel, also known as Gaussian kernel or RBF kernel\n",
    "$$\n",
    "\\kappa(\\mathbf{x}_i,\\mathbf{x}_j) = \\sigma_f^2 \\exp\\left(-\\frac{1}{2l^2}\n",
    "  (\\mathbf{x}_i - \\mathbf{x}_j)^T\n",
    "  (\\mathbf{x}_i - \\mathbf{x}_j)\\right)\\tag{10}\n",
    "$$"
   ]
  },
  {
   "cell_type": "code",
   "execution_count": 7,
   "metadata": {},
   "outputs": [],
   "source": [
    "# https://juanitorduz.github.io/gaussian_process_reg/\n",
    "# http://krasserm.github.io/2018/03/19/gaussian-processes/\n",
    "def kernel(X1, X2, l=1.0, sigma_f=1.0):\n",
    "    '''\n",
    "    Isotropic squared exponential kernel. Computes\n",
    "    a covariance matrix from points in X1 and X2.\n",
    "\n",
    "    Args:\n",
    "        X1: Array of m points (m x d).\n",
    "        X2: Array of n points (n x d).\n",
    "\n",
    "    Returns:\n",
    "        Covariance matrix (m x n).\n",
    "    '''\n",
    "    sqdist = np.sum(X1 ** 2, 1).reshape(-1, 1) + np.sum(X2 ** 2, 1) - 2 * np.dot(X1, X2.T)\n",
    "    return sigma_f ** 2 * np.exp(-0.5 / l ** 2 * sqdist)"
   ]
  },
  {
   "cell_type": "markdown",
   "metadata": {},
   "source": [
    "### The Conditional on A Nosey Dataset\n",
    "If we have a training dataset with noisy function values $\\mathbf{y} = \\mathbf{f} + \\boldsymbol\\epsilon$ where noise $\\boldsymbol\\epsilon \\sim \\mathcal{N}(\\mathbf{0}, \\sigma_y^2 \\mathbf{I})$ is independently added to each observation then the predictive distribution is given by\n",
    "\n",
    "$$\n",
    "\\begin{align*}\n",
    "p(\\mathbf{f}_* \\lvert \\mathbf{X}_*,\\mathbf{X},\\mathbf{y}) &= \\mathcal{N}(\\mathbf{f}_* \\lvert \\boldsymbol{\\mu}_*, \\boldsymbol{\\Sigma}_*) \\\\\n",
    "\\boldsymbol{\\mu_*} &= \\mathbf{K}_*^T \\mathbf{K}_y^{-1} \\mathbf{y} \\\\\n",
    "\\boldsymbol{\\Sigma_*} &= \\mathbf{K}_{**} - \\mathbf{K}_*^T \\mathbf{K}_y^{-1} \\mathbf{K}_*\n",
    "\\end{align*}\n",
    "$$\n",
    "where $\\mathbf{K}_y = \\mathbf{K} + \\sigma_y^2\\mathbf{I}$."
   ]
  },
  {
   "cell_type": "code",
   "execution_count": 8,
   "metadata": {},
   "outputs": [],
   "source": [
    "def posterior_predictive(X_s, X_train, Y_train, l=1.0, sigma_f=1.0, sigma_y=1e-8):\n",
    "    '''\n",
    "    Computes the suffifient statistics of the GP posterior predictive distribution\n",
    "    from m training data X_train and Y_train and n new inputs X_s.\n",
    "\n",
    "    Args:\n",
    "        X_s: New input locations (n x d).\n",
    "        X_train: Training locations (m x d).\n",
    "        Y_train: Training targets (m x 1).\n",
    "        l: Kernel length parameter.\n",
    "        sigma_f: Kernel vertical variation parameter.\n",
    "        sigma_y: Noise parameter.\n",
    "\n",
    "    Returns:\n",
    "        Posterior mean vector (n x d) and covariance matrix (n x n).\n",
    "    '''\n",
    "    K = kernel(X_train, X_train, l, sigma_f) + sigma_y ** 2 * np.eye(len(X_train))\n",
    "    K_s = kernel(X_train, X_s, l, sigma_f)\n",
    "    K_ss = kernel(X_s, X_s, l, sigma_f) + 1e-8 * np.eye(len(X_s))\n",
    "    K_inv = inv(K)\n",
    "\n",
    "\n",
    "    alphas = K_inv.dot(Y_train)\n",
    "    mu_s = K_s.T.dot(alphas)\n",
    "\n",
    "\n",
    "    cov_s = K_ss - K_s.T.dot(K_inv).dot(K_s)\n",
    "\n",
    "    return mu_s, cov_s"
   ]
  },
  {
   "cell_type": "code",
   "execution_count": 9,
   "metadata": {},
   "outputs": [
    {
     "data": {
      "application/vnd.jupyter.widget-view+json": {
       "model_id": "107ad44bebe54e3b88093bad3313ffd5",
       "version_major": 2,
       "version_minor": 0
      },
      "text/plain": [
       "Canvas(toolbar=Toolbar(toolitems=[('Home', 'Reset original view', 'home', 'home'), ('Back', 'Back to previous …"
      ]
     },
     "metadata": {},
     "output_type": "display_data"
    }
   ],
   "source": [
    "plt.close()\n",
    "noise = 0.1\n",
    "x = [-3, -2 , -1,  1, 2 , 3, 4]\n",
    "def f(x):\n",
    "    func = np.exp(np.sin(x))\n",
    "    return func\n",
    "    \n",
    "gaussian_process(x, f, noise, posterior_predictive, kernel)"
   ]
  },
  {
   "cell_type": "code",
   "execution_count": 10,
   "metadata": {},
   "outputs": [
    {
     "data": {
      "application/vnd.jupyter.widget-view+json": {
       "model_id": "2849d56bdd90436f9a3853dd2f708e85",
       "version_major": 2,
       "version_minor": 0
      },
      "text/plain": [
       "Canvas(toolbar=Toolbar(toolitems=[('Home', 'Reset original view', 'home', 'home'), ('Back', 'Back to previous …"
      ]
     },
     "metadata": {},
     "output_type": "display_data"
    }
   ],
   "source": [
    "plt.close('all')\n",
    "noise = 0.1\n",
    "kernal = ConstantKernel(1.0) * RBF(length_scale=1.0)\n",
    "\n",
    "gaussian_process_interactive(f, noise, kernal)"
   ]
  },
  {
   "cell_type": "markdown",
   "metadata": {},
   "source": [
    "## GP Force Field \n",
    "a straightforward formulation of a vector-valued estimator\n",
    "takes the form:\n",
    "$$\n",
    "\\mathbf{\\hat{f}}=\\begin{bmatrix}\\hat{f}_1(x), \\dots, \\hat{f}_N\\end{bmatrix}^{T}\n",
    "$$\n",
    "$\\mathbf{\\hat{f}}: \\mathbb{R}^N\\rightarrow\\mathbb{R}^N$ where each component: ${\\hat{f}_i}: \\mathbb{R}^N\\rightarrow\\mathbb{R}$"
   ]
  },
  {
   "cell_type": "code",
   "execution_count": 11,
   "metadata": {},
   "outputs": [
    {
     "data": {
      "application/vnd.jupyter.widget-view+json": {
       "model_id": "30b871395db942a4841c812574c73b68",
       "version_major": 2,
       "version_minor": 0
      },
      "text/plain": []
     },
     "metadata": {},
     "output_type": "display_data"
    },
    {
     "data": {
      "application/vnd.jupyter.widget-view+json": {
       "model_id": "0dc6e3e37c814b0ebf2776ad2b5cf51b",
       "version_major": 2,
       "version_minor": 0
      },
      "text/plain": [
       "HBox(children=(NGLWidget(), VBox(children=(Dropdown(description='Show', options=('All', 'Ni'), value='All'), D…"
      ]
     },
     "metadata": {},
     "output_type": "display_data"
    }
   ],
   "source": [
    "plt.close('all')\n",
    "from ase_utils import *\n",
    "\"\"\"Demonstrates molecular dynamics with constant temperature.\"\"\"\n",
    "\n",
    "\n",
    "a = 3.519\n",
    "atoms_type = 'Ni'\n",
    "atoms = Atoms([Atom(atoms_type, (0, 0, 0)), \n",
    "               Atom(atoms_type, (0, a/2, a/2)),\n",
    "               Atom(atoms_type, (a/2, 0, a/2)),\n",
    "               Atom(atoms_type, (a/2, a/2, 0))])\n",
    "atoms.set_cell([a, a, a])\n",
    "atoms.set_pbc(True)\n",
    "atoms = atoms*2\n",
    "atoms_copy = atoms.copy()\n",
    "\n",
    "ngl.view_ngl(atoms, w=500, h=500)"
   ]
  },
  {
   "cell_type": "code",
   "execution_count": 12,
   "metadata": {},
   "outputs": [],
   "source": [
    "from ase.calculators.emt import EMT\n",
    "from ase.calculators.kim.kim import KIM\n",
    "T = 300  # Kelvin\n",
    "# Describe the interatomic interactions with the Effective Medium Theory\n",
    "# atoms.calc = EMT()\n",
    "atoms.calc = KIM(\"EAM_Dynamo_MishinFarkasMehl_1999_Ni__MO_400591584784_005\")\n",
    "# Set the momenta corresponding T\n",
    "MaxwellBoltzmannDistribution(atoms, T * 4 * units.kB)"
   ]
  },
  {
   "cell_type": "code",
   "execution_count": 13,
   "metadata": {},
   "outputs": [],
   "source": [
    "# A molecular dynamics object will operate on the atoms by moving them according to their forces - \n",
    "# it integrates Newton’s second law numerically\n",
    "# # Room temperature simulation\n",
    "dyn = Langevin(atoms, 1 * units.fs, 2*T * units.kB, 0.002)\n",
    "dyn.attach(printenergy(atoms), interval=500)\n",
    "# We also want to save the positions of all atoms after every 100th time step.\n",
    "traj = Trajectory('moldyn.traj', 'w', atoms)\n",
    "dyn.attach(traj.write, interval=1)"
   ]
  },
  {
   "cell_type": "code",
   "execution_count": 14,
   "metadata": {},
   "outputs": [
    {
     "name": "stdout",
     "output_type": "stream",
     "text": [
      "Energy per atom: Epot = -4.450eV  Ekin = 0.142eV (T=1101K)  Etot = -4.308eV, time elapsed: 0.0\n",
      "Energy per atom: Epot = -4.371eV  Ekin = 0.056eV (T=435K)  Etot = -4.315eV, time elapsed: 1.2\n",
      "Energy per atom: Epot = -4.382eV  Ekin = 0.059eV (T=460K)  Etot = -4.322eV, time elapsed: 2.4\n",
      "Energy per atom: Epot = -4.379eV  Ekin = 0.065eV (T=505K)  Etot = -4.314eV, time elapsed: 3.4\n",
      "Energy per atom: Epot = -4.388eV  Ekin = 0.083eV (T=646K)  Etot = -4.304eV, time elapsed: 4.4\n",
      "Energy per atom: Epot = -4.392eV  Ekin = 0.081eV (T=624K)  Etot = -4.311eV, time elapsed: 5.5\n",
      "Energy per atom: Epot = -4.377eV  Ekin = 0.067eV (T=516K)  Etot = -4.310eV, time elapsed: 6.5\n",
      "Energy per atom: Epot = -4.376eV  Ekin = 0.066eV (T=509K)  Etot = -4.310eV, time elapsed: 7.5\n",
      "Energy per atom: Epot = -4.372eV  Ekin = 0.067eV (T=519K)  Etot = -4.305eV, time elapsed: 8.5\n",
      "Energy per atom: Epot = -4.373eV  Ekin = 0.074eV (T=569K)  Etot = -4.299eV, time elapsed: 9.5\n",
      "Energy per atom: Epot = -4.375eV  Ekin = 0.083eV (T=642K)  Etot = -4.292eV, time elapsed: 10.5\n",
      "Energy per atom: Epot = -4.370eV  Ekin = 0.081eV (T=625K)  Etot = -4.289eV, time elapsed: 11.5\n",
      "Energy per atom: Epot = -4.373eV  Ekin = 0.084eV (T=651K)  Etot = -4.289eV, time elapsed: 12.5\n",
      "Energy per atom: Epot = -4.373eV  Ekin = 0.079eV (T=613K)  Etot = -4.293eV, time elapsed: 13.5\n",
      "Energy per atom: Epot = -4.376eV  Ekin = 0.078eV (T=606K)  Etot = -4.298eV, time elapsed: 14.5\n",
      "Energy per atom: Epot = -4.378eV  Ekin = 0.088eV (T=683K)  Etot = -4.290eV, time elapsed: 15.5\n",
      "Energy per atom: Epot = -4.368eV  Ekin = 0.086eV (T=663K)  Etot = -4.283eV, time elapsed: 16.5\n",
      "Energy per atom: Epot = -4.367eV  Ekin = 0.092eV (T=714K)  Etot = -4.275eV, time elapsed: 17.5\n",
      "Energy per atom: Epot = -4.361eV  Ekin = 0.082eV (T=637K)  Etot = -4.279eV, time elapsed: 18.5\n",
      "Energy per atom: Epot = -4.379eV  Ekin = 0.092eV (T=709K)  Etot = -4.287eV, time elapsed: 19.5\n",
      "Energy per atom: Epot = -4.361eV  Ekin = 0.072eV (T=559K)  Etot = -4.289eV, time elapsed: 20.5\n",
      "Energy per atom: Epot = -4.383eV  Ekin = 0.097eV (T=754K)  Etot = -4.285eV, time elapsed: 21.5\n",
      "Energy per atom: Epot = -4.364eV  Ekin = 0.077eV (T=592K)  Etot = -4.287eV, time elapsed: 22.5\n",
      "Energy per atom: Epot = -4.362eV  Ekin = 0.075eV (T=580K)  Etot = -4.287eV, time elapsed: 23.5\n",
      "Energy per atom: Epot = -4.384eV  Ekin = 0.108eV (T=832K)  Etot = -4.276eV, time elapsed: 24.5\n",
      "Energy per atom: Epot = -4.372eV  Ekin = 0.090eV (T=696K)  Etot = -4.282eV, time elapsed: 25.5\n",
      "Energy per atom: Epot = -4.376eV  Ekin = 0.094eV (T=725K)  Etot = -4.282eV, time elapsed: 26.5\n",
      "Energy per atom: Epot = -4.372eV  Ekin = 0.084eV (T=647K)  Etot = -4.288eV, time elapsed: 27.5\n",
      "Energy per atom: Epot = -4.378eV  Ekin = 0.096eV (T=741K)  Etot = -4.283eV, time elapsed: 28.5\n",
      "Energy per atom: Epot = -4.372eV  Ekin = 0.084eV (T=651K)  Etot = -4.288eV, time elapsed: 29.5\n",
      "Energy per atom: Epot = -4.374eV  Ekin = 0.077eV (T=599K)  Etot = -4.297eV, time elapsed: 30.5\n",
      "Energy per atom: Epot = -4.384eV  Ekin = 0.094eV (T=724K)  Etot = -4.291eV, time elapsed: 31.5\n",
      "Energy per atom: Epot = -4.373eV  Ekin = 0.080eV (T=618K)  Etot = -4.293eV, time elapsed: 32.5\n",
      "Energy per atom: Epot = -4.369eV  Ekin = 0.084eV (T=653K)  Etot = -4.284eV, time elapsed: 33.5\n",
      "Energy per atom: Epot = -4.375eV  Ekin = 0.096eV (T=743K)  Etot = -4.279eV, time elapsed: 34.5\n",
      "Energy per atom: Epot = -4.372eV  Ekin = 0.087eV (T=673K)  Etot = -4.285eV, time elapsed: 35.5\n",
      "Energy per atom: Epot = -4.373eV  Ekin = 0.085eV (T=657K)  Etot = -4.288eV, time elapsed: 36.5\n",
      "Energy per atom: Epot = -4.373eV  Ekin = 0.073eV (T=561K)  Etot = -4.300eV, time elapsed: 37.6\n",
      "Energy per atom: Epot = -4.383eV  Ekin = 0.076eV (T=590K)  Etot = -4.307eV, time elapsed: 38.6\n",
      "Energy per atom: Epot = -4.377eV  Ekin = 0.069eV (T=537K)  Etot = -4.307eV, time elapsed: 39.6\n",
      "Energy per atom: Epot = -4.376eV  Ekin = 0.068eV (T=525K)  Etot = -4.308eV, time elapsed: 40.6\n",
      "Energy per atom: Epot = -4.379eV  Ekin = 0.082eV (T=635K)  Etot = -4.297eV, time elapsed: 41.6\n",
      "Energy per atom: Epot = -4.374eV  Ekin = 0.076eV (T=585K)  Etot = -4.299eV, time elapsed: 42.6\n",
      "Energy per atom: Epot = -4.359eV  Ekin = 0.072eV (T=554K)  Etot = -4.287eV, time elapsed: 43.6\n",
      "Energy per atom: Epot = -4.375eV  Ekin = 0.081eV (T=630K)  Etot = -4.294eV, time elapsed: 44.6\n",
      "Energy per atom: Epot = -4.393eV  Ekin = 0.090eV (T=696K)  Etot = -4.303eV, time elapsed: 45.6\n",
      "Energy per atom: Epot = -4.374eV  Ekin = 0.067eV (T=516K)  Etot = -4.307eV, time elapsed: 46.6\n",
      "Energy per atom: Epot = -4.386eV  Ekin = 0.090eV (T=693K)  Etot = -4.296eV, time elapsed: 47.6\n",
      "Energy per atom: Epot = -4.382eV  Ekin = 0.078eV (T=605K)  Etot = -4.304eV, time elapsed: 48.6\n",
      "Energy per atom: Epot = -4.389eV  Ekin = 0.087eV (T=676K)  Etot = -4.302eV, time elapsed: 49.6\n",
      "Energy per atom: Epot = -4.385eV  Ekin = 0.084eV (T=651K)  Etot = -4.301eV, time elapsed: 50.7\n",
      "Energy per atom: Epot = -4.372eV  Ekin = 0.087eV (T=673K)  Etot = -4.285eV, time elapsed: 51.7\n",
      "Energy per atom: Epot = -4.385eV  Ekin = 0.091eV (T=702K)  Etot = -4.294eV, time elapsed: 52.7\n",
      "Energy per atom: Epot = -4.388eV  Ekin = 0.102eV (T=789K)  Etot = -4.286eV, time elapsed: 53.7\n",
      "Energy per atom: Epot = -4.378eV  Ekin = 0.086eV (T=664K)  Etot = -4.292eV, time elapsed: 54.7\n",
      "Energy per atom: Epot = -4.384eV  Ekin = 0.080eV (T=623K)  Etot = -4.303eV, time elapsed: 55.7\n",
      "Energy per atom: Epot = -4.377eV  Ekin = 0.077eV (T=592K)  Etot = -4.300eV, time elapsed: 56.7\n",
      "Energy per atom: Epot = -4.383eV  Ekin = 0.082eV (T=636K)  Etot = -4.300eV, time elapsed: 57.8\n",
      "Energy per atom: Epot = -4.380eV  Ekin = 0.079eV (T=613K)  Etot = -4.301eV, time elapsed: 58.8\n",
      "Energy per atom: Epot = -4.390eV  Ekin = 0.093eV (T=716K)  Etot = -4.298eV, time elapsed: 59.8\n"
     ]
    },
    {
     "data": {
      "text/plain": [
       "True"
      ]
     },
     "execution_count": 14,
     "metadata": {},
     "output_type": "execute_result"
    }
   ],
   "source": [
    "# Now run the dynamics\n",
    "steps = 30000 - 1\n",
    "dyn.run(steps)"
   ]
  },
  {
   "cell_type": "code",
   "execution_count": 15,
   "metadata": {},
   "outputs": [
    {
     "data": {
      "application/vnd.jupyter.widget-view+json": {
       "model_id": "8b81a17e40ac48489754eea42b2745c6",
       "version_major": 2,
       "version_minor": 0
      },
      "text/plain": [
       "HBox(children=(NGLWidget(max_frame=29999), VBox(children=(Dropdown(description='Show', options=('All', 'Ni'), …"
      ]
     },
     "metadata": {},
     "output_type": "display_data"
    }
   ],
   "source": [
    "traj = Trajectory('moldyn.traj', 'r', atoms)\n",
    "ngl.view_ngl(traj, w=500, h=500)"
   ]
  },
  {
   "cell_type": "markdown",
   "metadata": {},
   "source": [
    "Instead of mapping to scalar outputs, we can alternatively model the covariance\n",
    "function as a matrix $k : \\chi × \\chi → \\mathbb{R}^N\\rightarrow\\mathbb{R}^{N\\times N}$ that expresses the interaction among\n",
    "multiple output components. Together with a vector-valued mean function $\\mu : \\chi →\n",
    "\\mathbb{R}^N$ , we can then sample realizations of vector-valued functions from the GP\n",
    "$$\n",
    "\\mathbf{\\hat{f}} ∼ \\mathcal{GP}\\begin{bmatrix}\\mathbf{\\mu(x)}, \\mathbf{k(x,x^{'})}\\end{bmatrix}\n",
    "$$"
   ]
  },
  {
   "cell_type": "markdown",
   "metadata": {},
   "source": [
    "### the navie approch:\n",
    "$$\n",
    "\\mathbf{\\hat{f}}=\\begin{bmatrix}\\hat{f}_1(x), \\dots, \\hat{f}_N\\end{bmatrix}^{T}\n",
    "$$\n",
    "$$\n",
    "\\hat{f}_i(x) = \\mathcal{GP}\\begin{bmatrix}\\mathbf{\\mu(x)_i}, \\mathbf{k(x,x^{'})_i}\\end{bmatrix}\n",
    "$$\n",
    "$$\n",
    "\\mathbf{\\hat{f}}=\\begin{bmatrix}\\hat{f}_1(x) \\\\ \\dots \\\\ \\hat{f}_N(x)\\end{bmatrix}\n",
    "=\\begin{bmatrix}\\mathcal{GP}\\begin{bmatrix}\\mathbf{\\mu(x)_1}, \\mathbf{k(x,x^{'})_1}\\end{bmatrix} \\\\ \n",
    "\\dots\n",
    "\\\\ \\mathcal{GP}\\begin{bmatrix}\\mathbf{\\mu(x)_N}, \\mathbf{k(x,x^{'})_N}\\end{bmatrix}\\end{bmatrix}\n",
    "$$"
   ]
  },
  {
   "cell_type": "code",
   "execution_count": 16,
   "metadata": {},
   "outputs": [
    {
     "name": "stdout",
     "output_type": "stream",
     "text": [
      "train points: 751\n"
     ]
    }
   ],
   "source": [
    "traj = Trajectory('moldyn.traj', 'r', atoms)\n",
    "start, every = 1, 20\n",
    "(x, y), (x_test, y_test) = md_dataset_split(traj, start, every)\n",
    "print(f'train points: {len(x)}')\n",
    "noise = 0.2"
   ]
  },
  {
   "cell_type": "code",
   "execution_count": 17,
   "metadata": {},
   "outputs": [
    {
     "data": {
      "application/vnd.jupyter.widget-view+json": {
       "model_id": "aafe129c1e534ca6a7f979b7b6f7612c",
       "version_major": 2,
       "version_minor": 0
      },
      "text/plain": [
       "Canvas(toolbar=Toolbar(toolitems=[('Home', 'Reset original view', 'home', 'home'), ('Back', 'Back to previous …"
      ]
     },
     "metadata": {},
     "output_type": "display_data"
    }
   ],
   "source": [
    "from sklearn.gaussian_process.kernels import ConstantKernel, RBF\n",
    "kernal= ConstantKernel(1.0) * RBF(length_scale=1.0)\n",
    "gpr = GaussianProcessRegressor(kernel=kernal, alpha=noise**2)\n",
    "gpr.fit(x, y)\n",
    "plot_gpr(gpr, x, y, x_test, y_test)"
   ]
  },
  {
   "cell_type": "code",
   "execution_count": 18,
   "metadata": {},
   "outputs": [],
   "source": [
    "from ase.calculators.calculator import Calculator\n",
    "class GPRCalculator(Calculator):\n",
    "    implemented_properties = ['forces']\n",
    "\n",
    "    def __init__(self, gdr, *args, **kwargs):\n",
    "        super(GPRCalculator, self).__init__(*args, **kwargs)\n",
    "        self.gpr_model = gdr\n",
    "\n",
    "    def calculate(self, atoms=None, *args, **kwargs):\n",
    "        super(GPRCalculator, self).calculate(atoms, *args, **kwargs)\n",
    "        r = np.array(atoms.get_positions())\n",
    "        x = r.reshape([1, -1])\n",
    "        f = self.gpr_model.predict(x)\n",
    "        self.results = {'forces': f.reshape(-1, 3)}"
   ]
  },
  {
   "cell_type": "code",
   "execution_count": 19,
   "metadata": {},
   "outputs": [
    {
     "data": {
      "application/vnd.jupyter.widget-view+json": {
       "model_id": "fa05cafcf303435e899c359b5a9a9073",
       "version_major": 2,
       "version_minor": 0
      },
      "text/plain": [
       "HBox(children=(NGLWidget(max_frame=10000), VBox(children=(Dropdown(description='Show', options=('All', 'Ni'), …"
      ]
     },
     "metadata": {},
     "output_type": "display_data"
    }
   ],
   "source": [
    "atoms = atoms_copy.copy()\n",
    "atoms.calc = GPRCalculator(gpr)\n",
    "MaxwellBoltzmannDistribution(atoms, T * 2 * units.kB)\n",
    "dyn = Langevin(atoms, 1 * units.fs, T * units.kB, 0.002)\n",
    "steps = 30000\n",
    "traj = Trajectory('moldyn_gdr.traj', 'w', atoms)\n",
    "dyn.attach(traj.write, interval=1)\n",
    "dyn.run(steps)\n",
    "traj = Trajectory('moldyn_gdr.traj', 'r', atoms)\n",
    "ngl.view_ngl(traj, w=500, h=500)"
   ]
  },
  {
   "cell_type": "markdown",
   "metadata": {},
   "source": [
    "#### some tricks\n",
    "##### change the kernal:\n",
    "##### The Matérn kernel\n",
    "For our application, we considered a subclass from the parametric\n",
    "Matérn family (22–24) of (isotropic) kernel functions\n",
    "$$\n",
    "k: C_{\\mu=n+\\frac{1}{2}}(d)=exp{-\\frac{\\sqrt{2\\nu}d}{\\sigma}}P_{n}(d)\n",
    "$$\n",
    "$$\n",
    "P_n(d)=\\sum_{k=0}^{n}{\\frac{(n+k)!}{(2n)!}}\\begin{pmatrix}n\\\\k\\end{pmatrix}\\begin{pmatrix}\\frac{2\\sqrt{2\\nu}d}{\\sigma}\\end{pmatrix}^{n-k}\n",
    "$$"
   ]
  },
  {
   "cell_type": "code",
   "execution_count": 20,
   "metadata": {},
   "outputs": [
    {
     "data": {
      "application/vnd.jupyter.widget-view+json": {
       "model_id": "608040b0efca4fcdbf39bbc3ea6522d8",
       "version_major": 2,
       "version_minor": 0
      },
      "text/plain": [
       "Canvas(toolbar=Toolbar(toolitems=[('Home', 'Reset original view', 'home', 'home'), ('Back', 'Back to previous …"
      ]
     },
     "metadata": {},
     "output_type": "display_data"
    }
   ],
   "source": [
    "from sklearn.gaussian_process.kernels import ConstantKernel, RBF, Matern\n",
    "kernal= Matern(length_scale=1.0, nu=2.5)\n",
    "gpr = GaussianProcessRegressor(kernel=kernal, alpha=noise**2)\n",
    "gpr.fit(x, y)\n",
    "plot_gpr(gpr, x, y, x_test, y_test)"
   ]
  },
  {
   "cell_type": "code",
   "execution_count": 21,
   "metadata": {},
   "outputs": [
    {
     "data": {
      "application/vnd.jupyter.widget-view+json": {
       "model_id": "168fa720ae744f5f869178b109d640a4",
       "version_major": 2,
       "version_minor": 0
      },
      "text/plain": [
       "HBox(children=(NGLWidget(max_frame=30000), VBox(children=(Dropdown(description='Show', options=('All', 'Ni'), …"
      ]
     },
     "metadata": {},
     "output_type": "display_data"
    }
   ],
   "source": [
    "atoms = atoms_copy.copy()\n",
    "atoms.calc = GPRCalculator(gpr)\n",
    "MaxwellBoltzmannDistribution(atoms, T * 2 * units.kB)\n",
    "dyn = Langevin(atoms, 1 * units.fs, T * units.kB, 0.002)\n",
    "steps = 30000\n",
    "traj = Trajectory('moldyn_gdr.traj', 'w', atoms)\n",
    "dyn.attach(traj.write, interval=1)\n",
    "dyn.run(steps)\n",
    "traj = Trajectory('moldyn_gdr.traj', 'r', atoms)\n",
    "ngl.view_ngl(traj, w=500, h=500)"
   ]
  },
  {
   "cell_type": "markdown",
   "metadata": {},
   "source": [
    "#### normalize y\n",
    "$$\n",
    "\\hat{y}_{train} = \\frac{y_{train}-E[y_{train}]}{\\sqrt{Var[y_{train}]}}\n",
    "$$"
   ]
  },
  {
   "cell_type": "code",
   "execution_count": 22,
   "metadata": {},
   "outputs": [
    {
     "data": {
      "application/vnd.jupyter.widget-view+json": {
       "model_id": "b4d38f4e92364e79b64e166043af4979",
       "version_major": 2,
       "version_minor": 0
      },
      "text/plain": [
       "Canvas(toolbar=Toolbar(toolitems=[('Home', 'Reset original view', 'home', 'home'), ('Back', 'Back to previous …"
      ]
     },
     "metadata": {},
     "output_type": "display_data"
    }
   ],
   "source": [
    "kernal= Matern(length_scale=1.0, nu=2.5)\n",
    "gpr = GaussianProcessRegressor(kernel=kernal, alpha=noise**2, normalize_y=True)\n",
    "gpr.fit(x, y)\n",
    "plot_gpr(gpr, x, y, x_test, y_test)"
   ]
  },
  {
   "cell_type": "code",
   "execution_count": 23,
   "metadata": {},
   "outputs": [
    {
     "data": {
      "application/vnd.jupyter.widget-view+json": {
       "model_id": "8f625717208844eb8c189e7b266d63a6",
       "version_major": 2,
       "version_minor": 0
      },
      "text/plain": [
       "HBox(children=(NGLWidget(max_frame=30000), VBox(children=(Dropdown(description='Show', options=('All', 'Ni'), …"
      ]
     },
     "metadata": {},
     "output_type": "display_data"
    }
   ],
   "source": [
    "atoms = atoms_copy.copy()\n",
    "atoms.calc = GPRCalculator(gpr)\n",
    "MaxwellBoltzmannDistribution(atoms, T * 2 * units.kB)\n",
    "dyn = Langevin(atoms, 1 * units.fs, T * units.kB, 0.002)\n",
    "steps = 30000\n",
    "traj = Trajectory('moldyn_gdr.traj', 'w', atoms)\n",
    "dyn.attach(traj.write, interval=1)\n",
    "dyn.run(steps)\n",
    "traj = Trajectory('moldyn_gdr.traj', 'r', atoms)\n",
    "ngl.view_ngl(traj, w=500, h=500)"
   ]
  },
  {
   "cell_type": "markdown",
   "metadata": {},
   "source": [
    "### Roto-translational invariance\n",
    "Covariance functions remain valid under any transformation of their domain\n",
    ") is again a kernel function. A rather trivial implication is that all\n",
    "invariances of that input transformation are inherited, providing yet another opportunity\n",
    "to characterize the properties of the predictor [92].\n",
    "\n",
    "The so-called Coulomb matrix representation [7] goes one step further and represents\n",
    "each pair of nuclei in terms their Coulomb interaction instead of a simple distance. The\n",
    "Coulomb energy is the only nuclei-nuclei interaction term in the Hamiltonian and empirically a good starting point for inference about molecular properties [9]. We use a slight\n",
    "variation of this descriptor for our purpose, whereby atoms of different type interact on a\n",
    "normalized scale,\n",
    "$$\n",
    "D_{ij}=\\begin{matrix}\\lVert{r_i - r_j}\\lVert & i > j \\\\ 0 & i \\leq j \\end{matrix} \n",
    "$$"
   ]
  },
  {
   "cell_type": "code",
   "execution_count": 24,
   "metadata": {},
   "outputs": [
    {
     "data": {
      "application/vnd.jupyter.widget-view+json": {
       "model_id": "160cbd7791b14968acae78412cf54000",
       "version_major": 2,
       "version_minor": 0
      },
      "text/plain": [
       "Canvas(toolbar=Toolbar(toolitems=[('Home', 'Reset original view', 'home', 'home'), ('Back', 'Back to previous …"
      ]
     },
     "metadata": {},
     "output_type": "display_data"
    }
   ],
   "source": [
    "d, d_test = x_to_d(x), x_to_d(x_test)\n",
    "kernal= Matern(length_scale=1.0, nu=2.5)\n",
    "gpr = GaussianProcessRegressor(kernel=kernal, alpha=noise**2, normalize_y=True)\n",
    "gpr.fit(d, y)\n",
    "plot_gpr(gpr, d, y, d_test, y_test)"
   ]
  },
  {
   "cell_type": "code",
   "execution_count": 25,
   "metadata": {},
   "outputs": [],
   "source": [
    "class iGPRCalculator(Calculator):\n",
    "    implemented_properties = ['forces']\n",
    "\n",
    "    def __init__(self, gdr, *args, **kwargs):\n",
    "        super(iGPRCalculator, self).__init__(*args, **kwargs)\n",
    "        self.gpr_model = gdr\n",
    "\n",
    "    def calculate(self, atoms=None, *args, **kwargs):\n",
    "        super(iGPRCalculator, self).calculate(atoms, *args, **kwargs)\n",
    "        r = np.array(atoms.get_positions())\n",
    "        x = r.reshape([1, -1])\n",
    "        f = self.gpr_model.predict(x_to_d(x))\n",
    "        self.results = {'forces': f.reshape(-1, 3)}"
   ]
  },
  {
   "cell_type": "code",
   "execution_count": 26,
   "metadata": {},
   "outputs": [
    {
     "data": {
      "application/vnd.jupyter.widget-view+json": {
       "model_id": "0d70d9268dab43c09719d57697311603",
       "version_major": 2,
       "version_minor": 0
      },
      "text/plain": [
       "HBox(children=(NGLWidget(max_frame=30000), VBox(children=(Dropdown(description='Show', options=('All', 'Ni'), …"
      ]
     },
     "metadata": {},
     "output_type": "display_data"
    }
   ],
   "source": [
    "atoms = atoms_copy.copy()\n",
    "atoms.calc = iGPRCalculator(gpr)\n",
    "MaxwellBoltzmannDistribution(atoms, T * 2 * units.kB)\n",
    "dyn = Langevin(atoms, 1 * units.fs, T * units.kB, 0.002)\n",
    "steps = 30000\n",
    "traj = Trajectory('moldyn_gdr.traj', 'w', atoms)\n",
    "dyn.attach(traj.write, interval=1)\n",
    "dyn.run(steps)\n",
    "traj = Trajectory('moldyn_gdr.traj', 'r', atoms)\n",
    "ngl.view_ngl(traj, w=500, h=500)"
   ]
  },
  {
   "cell_type": "markdown",
   "metadata": {},
   "source": [
    "## incoding physical insight to the model\n",
    "In this setting, the corresponding RKHS is vector-valued and it has been shown\n",
    "that the representer theorem continues to hold. Each component of the kernel\n",
    "function $k_{ij}$ specifies a covariance between a pair of outputs $f_i(x)$ and $f_j(x)$, which\n",
    "makes it straightforward to impose linear constraints $g(x) = \\hat{G}[\\mathbf{f(x)}]$ on the GP\n",
    "prior\n",
    "$$\n",
    "\\mathbf{\\hat{g}(x)} ∼ \\mathcal{GP}\\begin{bmatrix}\\mathbf{\\hat{G}\\mu(x)}, \\hat{G}\\mathbf{k(x,x^{'})}{\\hat{G}'}^{T}\\end{bmatrix}\n",
    "\\\\\n",
    "for A, B\\; linear\\; operators\\\\\n",
    "Cov[Ax,By]=ACov[x,y]B^{T}\\\\\n",
    "E[Ax] = AE[x]\n",
    "$$"
   ]
  },
  {
   "cell_type": "markdown",
   "metadata": {},
   "source": [
    "Here, we aim to construct a GP that inherits the correct structure of a conservative\n",
    "force field to ensure integrability, so that the corresponding energy potential can\n",
    "be recovered from the same model. We start by considering, that the force field\n",
    "estimator $\\mathbf{\\hat{f}_{F}(x)}$ and the PES estimator $\\hat{f}_{E}(x)$ are related via some operator $\\hat{G}$ . To\n",
    "impose energy conservation, we require that the curl vanishes  for every\n",
    "input to the transformed energy model:\n",
    "$$\n",
    "\\nabla\\times \\hat{G}\\begin{bmatrix}\\hat{f}_E\\end{bmatrix} = \\mathbf{0}\n",
    "$$\n",
    "As expected, this is satisfied by the derivative operator Gˆ = ∇ or, in the case of\n",
    "energies and forces, the negative gradient operator\n",
    "$$\n",
    "\\mathbf{\\hat{f}_{F}(x)}=\\hat{G}\\begin{bmatrix}\\hat{f}_E\\end{bmatrix}=-\\nabla\\hat{f}_E\n",
    "$$"
   ]
  },
  {
   "cell_type": "markdown",
   "metadata": {},
   "source": [
    "Since differentiation is a linear operator, the result is another GP with realizations $\\mathbf{f_F}: \\chi^{3N}\\rightarrow \\mathbb{R}^{3N}$\n",
    "$$\n",
    "\\mathbf{\\hat{f}_F(x)} ∼ \\mathcal{GP}\\begin{bmatrix}\\mathbf{-\\nabla\\mu(x)}, \\nabla_x\\mathbf{k(x,x^{'})}{ \\nabla_{x'}}^{T}\\end{bmatrix}\n",
    "$$\n",
    "\n",
    "$$\n",
    "\\nabla\\mathbf{k}{ \\nabla}^{T}=Hess_x(k)\n",
    "$$\n",
    "$$\n",
    "\\begin{bmatrix}Hess_s(k)\\end{bmatrix}_{ij}=\\frac{\\partial^2 k}{\\partial x_i \\partial x_j}\n",
    "$$"
   ]
  },
  {
   "cell_type": "markdown",
   "metadata": {},
   "source": [
    "This Hessian kernel gives rise to the following gradient domain machine\n",
    "learning [88, 89] force model as the posterior mean of the corresponding GP:<br>\n",
    "he trained force field estimator collects the contributions of the\n",
    "partial derivatives 3N of all training points M to compile the prediction.\n",
    "It takes the form\n",
    "$$\n",
    "\\mathbf{\\hat{f}_F(x)}=\\sum_i^M{\\sum_j^{3N}{(\\mathbf{\\alpha_i})_j\\frac{\\partial}{\\partial x_j}\\nabla k(\\mathbf{x}, \\mathbf{x_i})}}\n",
    "$$\n",
    "    \n",
    "Because the trained model is a (fixed) linear combination of kernel functions,\n",
    "integration only affects the kernel function itself. The corresponding expression for\n",
    "the energy predictor\n",
    "$$\n",
    "\\mathbf{\\hat{f}_E(x)}=\\sum_i^M{\\sum_j^{3N}{(\\mathbf{\\alpha_i})_j\\frac{\\partial}{\\partial x_j} k(\\mathbf{x}, \\mathbf{x_i})}}\n",
    "$$"
   ]
  },
  {
   "cell_type": "markdown",
   "metadata": {},
   "source": [
    "#### Roto-translational invariance\n",
    "Covariance functions remain valid under any transformation of their domain $D : X → D,\n",
    "i.e. k(D(x),D(x′)) = k_D(x,x′)$ is again a kernel function.\n",
    "$$\n",
    "D_{ij}=\\begin{matrix}\\lVert{r_i - r_j}\\lVert & i > j \\\\ 0 & i \\leq j \\end{matrix} \n",
    "$$\n",
    "and under the chain rule:\n",
    "$$\n",
    "\\mathbf{k_F}=\\nabla_x k_D \\nabla_x^\\top = \\mathbf{J_D}^\\top(\\nabla_D k_D \\nabla_D^\\top)\\mathbf{J_D}\n",
    "$$\n",
    "where:\n",
    "$$\n",
    "\\nabla_x = \\begin{pmatrix}\\frac{\\partial}{\\partial x_1} \\\\ \\dots \\\\ \\frac{\\partial}{\\partial x_{3N}}\\end{pmatrix}=\n",
    "\\begin{pmatrix}\\frac{\\partial D_{11}}{\\partial x_1}\\frac{\\partial}{\\partial  D_{11}} +\n",
    "                \\frac{\\partial D_{12}}{\\partial x_1}\\frac{\\partial}{\\partial  D_{12}} + \n",
    "                \\dots\n",
    "                \\frac{\\partial D_{1N}}{\\partial x_1}\\frac{\\partial}{\\partial  D_{1N}} +\n",
    "                \\frac{\\partial D_{23}}{\\partial x_1}\\frac{\\partial}{\\partial  D_{23}} +\n",
    "                \\dots\n",
    "                \\frac{\\partial D_{NN}}{\\partial x_1}\\frac{\\partial}{\\partial  D_{NN}}\\\\\n",
    "                \\dots \\\\ \n",
    "                \\frac{\\partial D_{11}}{\\partial x_{3N}}\\frac{\\partial}{\\partial  D_{11}} +\n",
    "                \\frac{\\partial D_{12}}{\\partial x_{3N}}\\frac{\\partial}{\\partial  D_{12}} + \n",
    "                \\dots\n",
    "                \\frac{\\partial D_{1N}}{\\partial x_{3N}}\\frac{\\partial}{\\partial  D_{1N}} +\n",
    "                \\frac{\\partial D_{23}}{\\partial x_{3N}}\\frac{\\partial}{\\partial  D_{23}} +\n",
    "                \\dots\n",
    "                \\frac{\\partial D_{NN}}{\\partial x_{3N}}\\frac{\\partial}{\\partial  D_{NN}}\\end{pmatrix}=\n",
    "\\begin{pmatrix}\\frac{\\partial D_{11}}{\\partial x_1} &\n",
    "               \\frac{\\partial D_{12}}{\\partial x_1} &  \n",
    "               \\dots &\n",
    "               \\frac{\\partial D_{1N}}{\\partial x_1} &\n",
    "               \\frac{\\partial D_{23}}{\\partial x_1} & \n",
    "               \\dots &\n",
    "               \\frac{\\partial D_{NN}}{\\partial x_1} \\\\\n",
    "               \\dots & \\dots & \\dots & \\dots & \\dots & \\dots \\\\ \n",
    "               \\frac{\\partial D_{11}}{\\partial x_{3N}} & \n",
    "               \\frac{\\partial D_{12}}{\\partial x_{3N}} &  \n",
    "               \\dots &\n",
    "               \\frac{\\partial D_{1N}}{\\partial x_{3N}} &  \n",
    "               \\frac{\\partial D_{23}}{\\partial x_{3N}} & \n",
    "               \\dots &\n",
    "               \\frac{\\partial D_{NN}}{\\partial x_{3N}} \\end{pmatrix}\n",
    "               \\begin{pmatrix}\\frac{\\partial}{\\partial D_{11}} \\\\ \\dots \\\\ \\frac{\\partial}{\\partial D_{NN}}\\end{pmatrix}\n",
    "               =\\mathbf{J_D}^\\top\\nabla_D \\\\\n",
    "               \\\\\n",
    "\\mathbf{J_D}=\\begin{matrix}\\frac{\\mathbf{r_i} - \\mathbf{r_j} }{\\lVert{\\mathbf{r_i}  - \\mathbf{r_j}}\\lVert^3} & i > j \\\\ 0 & i \\leq j \\end{matrix} \n",
    "$$"
   ]
  },
  {
   "cell_type": "code",
   "execution_count": 27,
   "metadata": {},
   "outputs": [
    {
     "name": "stdout",
     "output_type": "stream",
     "text": [
      "\u001b[1;37;40m[INFO]\u001b[0m Overwriting existing dataset file.\n",
      "Writing dataset to 'moldyn.npz'...\n",
      "Number geometries found: 30,000\n",
      "\n",
      "\u001b[1;32;40m[DONE]\u001b[0m\n",
      "\u001b[1;37mDataset properties\u001b[0m\n",
      "  Name:              m\u0000\u0000\u0000o\u0000\u0000\u0000l\u0000\u0000\u0000d\u0000\u0000\u0000y\u0000\u0000\u0000n\u0000\u0000\u0000 (32 atoms)\n",
      "  Theory:            u\u0000\u0000\u0000n\u0000\u0000\u0000k\u0000\u0000\u0000n\u0000\u0000\u0000o\u0000\u0000\u0000w\u0000\u0000\u0000n\u0000\u0000\u0000\n",
      "  Size:              30,000 data points\n",
      "  Lattice:           a     b     c    \n",
      "                     7.038 0     0    \n",
      "                     0     7.038 0    \n",
      "                     0     0     7.038\n",
      "    Lengths:         a = 7.038, b = 7.038, c = 7.038\n",
      "    Angles [deg]:    alpha = 90, beta = 90, gamma = 90\n",
      "  Energies [e\u0000\u0000\u0000V\u0000\u0000\u0000]:\n",
      "    Range:           -1.42e+02 |--   3.6    --| -1.39e+02\n",
      "    Mean:            -140.011\n",
      "    Variance:        0.105\n",
      "  Forces [e\u0000\u0000\u0000V\u0000\u0000\u0000/A\u0000\u0000\u0000n\u0000\u0000\u0000g\u0000\u0000\u0000]:\n",
      "    Range:           -4.53 |--   8.86   --| 4.34     \n",
      "    Mean:            0.000\n",
      "    Variance:        0.770\n",
      "  Fingerprint:       df9a443483d1be105c0952f3d0cebe39\n",
      "\n",
      "\u001b[1;37mExample geometry\u001b[0m (no. 762, chosen randomly)\n",
      "  Copy & paste the string below into Jmol (www.jmol.org), Avogadro (www.avogadro.cc), etc. to\n",
      "  visualize one of the geometries from this dataset. A new example will be drawn on each run.\n",
      "\n",
      "\u001b[90m  ----- COPY HERE ---- COPY HERE ---- COPY HERE ---- COPY HERE ---- COPY HERE ---- COPY HERE -----\u001b[0m\n",
      "  32\n",
      "  Lattice=\"7.038 0 0 0 7.038 0 0 0 7.038\" Energy=-140.543284573 Properties=species:S:1:pos:R:3:forces:R:3\n",
      "  Ni  0.0040777   0.0882838 -0.00982121 -0.575536  -0.44734    0.00590948\n",
      "  Ni -0.0257304   1.81044    1.72181     0.583168  -0.043571   0.335515  \n",
      "  Ni  1.69169     0.0795086  1.61986     0.822587  -0.571461   0.825216  \n",
      "  Ni  1.76401     1.85015   -0.128522    0.343418  -0.493926   0.566271  \n",
      "  Ni  0.00598303  0.0434318  3.41017     0.639927  -0.513201   1.27798   \n",
      "  Ni -0.0597914   1.82105    5.22171     0.0692958 -0.365407   1.05449   \n",
      "  Ni  1.61043     0.0162564  5.31347     1.14835   -0.124999  -0.373093  \n",
      "  Ni  1.67012     1.78324    3.62342     1.23211   -1.0705    -1.64718   \n",
      "  Ni  0.016732    3.43953    0.0165681  -0.496566   0.91568   -0.186403  \n",
      "  Ni -0.0126198   5.30622    1.70002     0.344125  -0.780254   0.0499212 \n",
      "  Ni  1.77462     3.53314    1.85796     0.328002  -0.187075  -0.697318  \n",
      "  Ni  1.66602     5.21392   -0.0688338   0.881795   0.20308    0.747547  \n",
      "  Ni  0.0204141   3.5554     3.45627    -0.985194   0.034231   0.0844916 \n",
      "  Ni -0.00348538  5.22027    5.25825     0.433737  -0.275772  -0.014253  \n",
      "  Ni  1.74664     3.52533    5.10146     0.617104   0.877276   1.69261   \n",
      "  Ni  1.69173     5.37713    3.45314     0.617874  -0.331173   0.394072  \n",
      "  Ni  3.66805    -0.0633052  0.0577901  -1.39472    0.413941  -0.296774  \n",
      "  Ni  3.44631     1.70651    1.73395     0.48656    0.0149941  0.846795  \n",
      "  Ni  5.41265    -0.0267293  1.79286    -2.00379    0.30605   -0.634105  \n",
      "  Ni  5.24819     1.73456    0.0521979   0.286105   0.279712  -0.363861  \n",
      "  Ni  3.51383    -0.0285615  3.6276      0.0658639  0.563976  -0.885769  \n",
      "  Ni  3.58177     1.73953    5.30532    -0.0460207 -0.173224  -0.16962   \n",
      "  Ni  5.40545    -0.16719    5.31766    -1.08521    1.83087   -0.541722  \n",
      "  Ni  5.39521     1.73972    3.50841    -1.68957    0.174774  -0.0885807 \n",
      "  Ni  3.5515      3.49865    0.11998    -0.996074   0.361348  -1.36532   \n",
      "  Ni  3.53374     5.26584    1.8222     -0.422555   0.700093  -0.302898  \n",
      "  Ni  5.18073     3.51557    1.795       1.5819    -0.190282  -0.181455  \n",
      "  Ni  5.27465     5.21936   -0.00793445  0.508554  -0.0380464  0.675968  \n",
      "  Ni  3.64134     3.52082    3.55674    -1.26027   -0.250244   0.250136  \n",
      "  Ni  3.45523     5.34006    5.34503     0.190108  -0.811671  -0.425902  \n",
      "  Ni  5.27666     3.53061    5.34875    -0.164742  -0.104307  -0.512102  \n",
      "  Ni  5.30983     5.26726    3.5335     -0.0603334  0.0964204 -0.120567  \n",
      "\u001b[90m  ----- COPY HERE ---- COPY HERE ---- COPY HERE ---- COPY HERE ---- COPY HERE ---- COPY HERE -----\u001b[0m\n"
     ]
    }
   ],
   "source": [
    "from sgdml.cli import _print_dataset_properties, _print_model_properties, _print_task_properties\n",
    "\n",
    "dataset_path = 'moldyn'\n",
    "dataset = from_traj(f'{dataset_path}.traj', overwrite=True)\n",
    "dataset_path = f'{dataset_path}.npz'\n",
    "# test = np.load('ethanol_dft.npz')\n",
    "_print_dataset_properties(dataset)"
   ]
  },
  {
   "cell_type": "code",
   "execution_count": 33,
   "metadata": {},
   "outputs": [
    {
     "name": "stdout",
     "output_type": "stream",
     "text": [
      "please run \"bash run_me.sh\" from the terminal\n"
     ]
    }
   ],
   "source": [
    "n_train = 250\n",
    "n_valid = 1500\n",
    "file = all_script(dataset_path, n_train, n_valid, sigs=range(1, 100, 1), use_cg=False, use_torch=True)\n",
    "print(f'please run \\\"bash {file}\\\" from the terminal')"
   ]
  },
  {
   "cell_type": "code",
   "execution_count": null,
   "metadata": {},
   "outputs": [],
   "source": [
    "model_path = 'moldyn-unknown-train200-sym1.npz'\n",
    "traj = Trajectory('moldyn.traj', 'r', atoms)\n",
    "start, every = 10, 10\n",
    "plot_gdml(model_path, traj, start, every)"
   ]
  },
  {
   "cell_type": "code",
   "execution_count": 30,
   "metadata": {},
   "outputs": [
    {
     "name": "stderr",
     "output_type": "stream",
     "text": [
      "\u001b[1;33;40m[WARN]\u001b[0m Please remember to specify the proper conversion factors, if your model does not use\n",
      "       'kcal/mol' and 'Ang' as units.\n"
     ]
    },
    {
     "name": "stdout",
     "output_type": "stream",
     "text": [
      "Energy per atom: Epot = 0.001eV  Ekin = 0.033eV (T=259K)  Etot = 0.034eV, time elapsed: 0.0\n",
      "Energy per atom: Epot = 0.029eV  Ekin = 0.009eV (T= 66K)  Etot = 0.038eV, time elapsed: 4.5\n",
      "Energy per atom: Epot = 0.033eV  Ekin = 0.010eV (T= 81K)  Etot = 0.044eV, time elapsed: 7.9\n",
      "Energy per atom: Epot = 0.037eV  Ekin = 0.009eV (T= 72K)  Etot = 0.046eV, time elapsed: 11.6\n",
      "Energy per atom: Epot = 0.038eV  Ekin = 0.015eV (T=114K)  Etot = 0.053eV, time elapsed: 15.1\n",
      "Energy per atom: Epot = 0.040eV  Ekin = 0.016eV (T=127K)  Etot = 0.056eV, time elapsed: 18.9\n",
      "Energy per atom: Epot = 0.040eV  Ekin = 0.024eV (T=187K)  Etot = 0.064eV, time elapsed: 22.4\n",
      "Energy per atom: Epot = 0.040eV  Ekin = 0.023eV (T=182K)  Etot = 0.063eV, time elapsed: 26.0\n",
      "Energy per atom: Epot = 0.040eV  Ekin = 0.033eV (T=252K)  Etot = 0.072eV, time elapsed: 29.5\n",
      "Energy per atom: Epot = 0.040eV  Ekin = 0.032eV (T=247K)  Etot = 0.072eV, time elapsed: 33.0\n",
      "Energy per atom: Epot = 0.040eV  Ekin = 0.033eV (T=252K)  Etot = 0.072eV, time elapsed: 36.4\n",
      "Energy per atom: Epot = 0.040eV  Ekin = 0.036eV (T=280K)  Etot = 0.076eV, time elapsed: 40.0\n",
      "Energy per atom: Epot = 0.039eV  Ekin = 0.035eV (T=268K)  Etot = 0.074eV, time elapsed: 43.7\n",
      "Energy per atom: Epot = 0.040eV  Ekin = 0.037eV (T=284K)  Etot = 0.076eV, time elapsed: 47.2\n",
      "Energy per atom: Epot = 0.040eV  Ekin = 0.039eV (T=300K)  Etot = 0.079eV, time elapsed: 50.8\n",
      "Energy per atom: Epot = 0.040eV  Ekin = 0.034eV (T=261K)  Etot = 0.074eV, time elapsed: 54.1\n",
      "Energy per atom: Epot = 0.040eV  Ekin = 0.036eV (T=280K)  Etot = 0.076eV, time elapsed: 57.4\n",
      "Energy per atom: Epot = 0.039eV  Ekin = 0.038eV (T=296K)  Etot = 0.078eV, time elapsed: 60.8\n",
      "Energy per atom: Epot = 0.040eV  Ekin = 0.042eV (T=325K)  Etot = 0.082eV, time elapsed: 64.1\n",
      "Energy per atom: Epot = 0.040eV  Ekin = 0.039eV (T=302K)  Etot = 0.079eV, time elapsed: 67.4\n",
      "Energy per atom: Epot = 0.040eV  Ekin = 0.043eV (T=331K)  Etot = 0.082eV, time elapsed: 71.2\n",
      "Energy per atom: Epot = 0.040eV  Ekin = 0.038eV (T=294K)  Etot = 0.078eV, time elapsed: 74.9\n",
      "Energy per atom: Epot = 0.040eV  Ekin = 0.041eV (T=320K)  Etot = 0.081eV, time elapsed: 78.8\n",
      "Energy per atom: Epot = 0.040eV  Ekin = 0.041eV (T=314K)  Etot = 0.080eV, time elapsed: 82.2\n",
      "Energy per atom: Epot = 0.040eV  Ekin = 0.037eV (T=289K)  Etot = 0.077eV, time elapsed: 85.5\n",
      "Energy per atom: Epot = 0.039eV  Ekin = 0.039eV (T=301K)  Etot = 0.078eV, time elapsed: 88.9\n",
      "Energy per atom: Epot = 0.040eV  Ekin = 0.040eV (T=313K)  Etot = 0.080eV, time elapsed: 92.4\n",
      "Energy per atom: Epot = 0.040eV  Ekin = 0.042eV (T=327K)  Etot = 0.082eV, time elapsed: 96.0\n",
      "Energy per atom: Epot = 0.040eV  Ekin = 0.040eV (T=307K)  Etot = 0.079eV, time elapsed: 99.6\n",
      "Energy per atom: Epot = 0.040eV  Ekin = 0.036eV (T=281K)  Etot = 0.076eV, time elapsed: 103.4\n",
      "Energy per atom: Epot = 0.040eV  Ekin = 0.040eV (T=312K)  Etot = 0.080eV, time elapsed: 107.2\n",
      "Energy per atom: Epot = 0.040eV  Ekin = 0.035eV (T=267K)  Etot = 0.074eV, time elapsed: 110.9\n",
      "Energy per atom: Epot = 0.040eV  Ekin = 0.037eV (T=289K)  Etot = 0.077eV, time elapsed: 114.5\n",
      "Energy per atom: Epot = 0.040eV  Ekin = 0.037eV (T=283K)  Etot = 0.076eV, time elapsed: 118.4\n",
      "Energy per atom: Epot = 0.040eV  Ekin = 0.039eV (T=303K)  Etot = 0.079eV, time elapsed: 122.4\n",
      "Energy per atom: Epot = 0.040eV  Ekin = 0.039eV (T=300K)  Etot = 0.078eV, time elapsed: 126.2\n",
      "Energy per atom: Epot = 0.040eV  Ekin = 0.038eV (T=294K)  Etot = 0.078eV, time elapsed: 129.7\n",
      "Energy per atom: Epot = 0.040eV  Ekin = 0.043eV (T=330K)  Etot = 0.082eV, time elapsed: 134.2\n",
      "Energy per atom: Epot = 0.040eV  Ekin = 0.036eV (T=281K)  Etot = 0.076eV, time elapsed: 137.8\n",
      "Energy per atom: Epot = 0.040eV  Ekin = 0.036eV (T=277K)  Etot = 0.076eV, time elapsed: 141.6\n",
      "Energy per atom: Epot = 0.039eV  Ekin = 0.033eV (T=253K)  Etot = 0.072eV, time elapsed: 145.2\n",
      "Energy per atom: Epot = 0.040eV  Ekin = 0.036eV (T=277K)  Etot = 0.076eV, time elapsed: 148.8\n",
      "Energy per atom: Epot = 0.040eV  Ekin = 0.035eV (T=273K)  Etot = 0.075eV, time elapsed: 152.8\n",
      "Energy per atom: Epot = 0.040eV  Ekin = 0.039eV (T=301K)  Etot = 0.079eV, time elapsed: 156.4\n",
      "Energy per atom: Epot = 0.039eV  Ekin = 0.041eV (T=320K)  Etot = 0.081eV, time elapsed: 160.2\n",
      "Energy per atom: Epot = 0.040eV  Ekin = 0.033eV (T=256K)  Etot = 0.073eV, time elapsed: 163.5\n",
      "Energy per atom: Epot = 0.040eV  Ekin = 0.036eV (T=277K)  Etot = 0.076eV, time elapsed: 166.9\n",
      "Energy per atom: Epot = 0.040eV  Ekin = 0.034eV (T=265K)  Etot = 0.074eV, time elapsed: 170.3\n",
      "Energy per atom: Epot = 0.040eV  Ekin = 0.033eV (T=253K)  Etot = 0.073eV, time elapsed: 173.5\n",
      "Energy per atom: Epot = 0.040eV  Ekin = 0.030eV (T=235K)  Etot = 0.070eV, time elapsed: 176.8\n",
      "Energy per atom: Epot = 0.040eV  Ekin = 0.032eV (T=244K)  Etot = 0.071eV, time elapsed: 180.0\n",
      "Energy per atom: Epot = 0.040eV  Ekin = 0.039eV (T=304K)  Etot = 0.079eV, time elapsed: 183.3\n",
      "Energy per atom: Epot = 0.040eV  Ekin = 0.039eV (T=301K)  Etot = 0.079eV, time elapsed: 186.6\n",
      "Energy per atom: Epot = 0.040eV  Ekin = 0.035eV (T=272K)  Etot = 0.075eV, time elapsed: 190.0\n",
      "Energy per atom: Epot = 0.040eV  Ekin = 0.032eV (T=250K)  Etot = 0.072eV, time elapsed: 193.4\n",
      "Energy per atom: Epot = 0.040eV  Ekin = 0.030eV (T=232K)  Etot = 0.070eV, time elapsed: 196.9\n",
      "Energy per atom: Epot = 0.040eV  Ekin = 0.033eV (T=255K)  Etot = 0.072eV, time elapsed: 200.5\n",
      "Energy per atom: Epot = 0.040eV  Ekin = 0.035eV (T=271K)  Etot = 0.075eV, time elapsed: 203.9\n",
      "Energy per atom: Epot = 0.040eV  Ekin = 0.032eV (T=248K)  Etot = 0.072eV, time elapsed: 207.4\n",
      "Energy per atom: Epot = 0.040eV  Ekin = 0.030eV (T=232K)  Etot = 0.070eV, time elapsed: 210.9\n",
      "Energy per atom: Epot = 0.040eV  Ekin = 0.027eV (T=207K)  Etot = 0.067eV, time elapsed: 214.5\n"
     ]
    },
    {
     "data": {
      "text/plain": [
       "20"
      ]
     },
     "execution_count": 30,
     "metadata": {},
     "output_type": "execute_result"
    }
   ],
   "source": [
    "from sgdml.intf.ase_calc import SGDMLCalculator\n",
    "from ase_utils import *\n",
    "from ase.optimize import QuasiNewton\n",
    "import gc\n",
    "model_path = 'moldyn-unknown-train100-sym1.npz'\n",
    "calc = SGDMLCalculator(model_path)\n",
    "atoms = atoms_copy.copy()\n",
    "atoms.set_calculator(calc)\n",
    "# set the momenta corresponding to T=300K\n",
    "MaxwellBoltzmannDistribution(atoms, T * units.kB)\n",
    "dyn = Langevin(atoms, 1 * units.fs, T * units.kB, 0.002, trajectory='moldyn_sgdml.traj')    \n",
    "dyn.attach(printenergy(atoms), interval=500)\n",
    "\n",
    "# now run the dynamics\n",
    "printenergy(atoms)\n",
    "dyn.run(30000)\n",
    "gc.collect()\n"
   ]
  },
  {
   "cell_type": "code",
   "execution_count": 31,
   "metadata": {},
   "outputs": [
    {
     "data": {
      "application/vnd.jupyter.widget-view+json": {
       "model_id": "6a46d39d7762435da11cf8633ffc436f",
       "version_major": 2,
       "version_minor": 0
      },
      "text/plain": [
       "HBox(children=(NGLWidget(max_frame=30000), VBox(children=(Dropdown(description='Show', options=('All', 'Ni'), …"
      ]
     },
     "metadata": {},
     "output_type": "display_data"
    }
   ],
   "source": [
    "traj = Trajectory('moldyn_sgdml.traj', 'r', atoms)\n",
    "ngl.view_ngl(traj, w=500, h=500)"
   ]
  },
  {
   "cell_type": "markdown",
   "metadata": {},
   "source": [
    "### For scalar output\n",
    "$$\n",
    "\\begin{bmatrix}f^*\\end{bmatrix}^{1\\times1} = \\begin{bmatrix}{k^*}^T\\end{bmatrix}^{1\\times M}\\begin{bmatrix}\\begin{bmatrix}K^{-1}\\end{bmatrix}^{M \\times M}\\begin{bmatrix}y\\end{bmatrix}^{M\\times 1}\\end{bmatrix}^{M\\times1}=\\sum_{i}^{M}\\alpha_i k(x_i,x^*)\n",
    "$$"
   ]
  },
  {
   "cell_type": "markdown",
   "metadata": {},
   "source": [
    "### For vector output\n",
    "$$\n",
    "\\begin{bmatrix}\\mathbf{f^*}\\end{bmatrix}^{3N\\times1} ={k^*}^{T}K^{-1}\\mathbf{f}=\\sum_i^M{\\sum_j^{3N}{(\\mathbf{\\alpha_i})_j\\frac{\\partial}{\\partial x_j}\\nabla k(\\mathbf{x}, \\mathbf{x_i})}}\n",
    "$$\n",
    "\n",
    "$$\n",
    "K=\\nabla_{x} k(x,x') \\nabla_{x^{'}}^\\top = \n",
    "\\begin{pmatrix}\n",
    "\\begin{pmatrix}\\nabla_{x^{(1)}} k(x^{(1)},x^{(1)}) \\nabla_{x^{(1)}}^\\top\\end{pmatrix} & \\dots & \\begin{pmatrix}\\nabla_{x^{(M)}} k(x^{(M)},x^{(1)}) \\nabla_{x^{(1)}}^\\top\\end{pmatrix} \\\\\n",
    "\\dots & \\dots & \\dots \\\\\n",
    "\\begin{pmatrix}\\nabla_{x^{(M)}} k(x^{(M)},x^{(1)}) \\nabla_{x^{(1)}}^\\top\\end{pmatrix} & \\dots & \\begin{pmatrix}\\nabla_{x^{(M)}} k(x^{(M)},x^{(M)}) \\nabla_{x^{(M)}}^\\top\\end{pmatrix}\n",
    "\\end{pmatrix}\n",
    "\\\\\n",
    "\\nabla k(x^{(i)}, x^{(j)})\\nabla ^\\top=\\begin{bmatrix}\\frac{\\partial}{\\partial x^{(j)}_1 }\\nabla k(x^{(i)},x^{(j)}),\\dots,\\frac{\\partial}{\\partial x^{(j)}_{3N} }\\nabla k(x^{(i)},x^{(j)})\\end{bmatrix}^{3N\\times 3N}\n",
    "=\\begin{bmatrix}\\frac{\\partial}{\\partial x^{(j)}_1 }\\frac{\\partial}{\\partial x^{(i)}_{1}} k(x^{(i)},x^{(j)}) &\\dots & \\frac{\\partial}{\\partial x^{(j)}_{3N} }\\frac{\\partial}{\\partial x^{(i)}_{1}} k(x^{(i)},x^{(j)}) \\\\\n",
    "\\dots & \\dots & \\dots \\\\\n",
    "\\frac{\\partial}{\\partial x^{(j)}_1}\\frac{\\partial}{\\partial x^{(i)}_{3N}} k(x^{(i)},x^{(j)}) &\\dots & \\frac{\\partial}{\\partial x^{(j)}_{3N} }\\frac{\\partial}{\\partial x^{(i)}_{3N}} k(x^{(i)},x^{(j)})\n",
    "\\end{bmatrix}^{3N\\times 3N}\n",
    "\\\\\n",
    "\\begin{bmatrix}K\\end{bmatrix}^{M\\cdot3N\\times M\\cdot3N} \\;\n",
    "\\begin{bmatrix}\\mathbf{f}\\end{bmatrix}^{M\\cdot3N\\times 1}\n",
    "\\\\\n",
    "$$\n",
    "$$\n",
    "{k^*}^{T}\n",
    "=\\nabla_x k(x^{*}, x)\\nabla_{x^{'}} ^\\top \n",
    "=\n",
    "\\begin{bmatrix}\n",
    "\\begin{pmatrix}\\nabla_{x^*} k(x^{*}, x^{(1)})\\nabla_{x^{(1)}} ^\\top\\end{pmatrix} & \n",
    "\\dots & \n",
    "\\begin{pmatrix}\\nabla k(x^{*}, x^{(M)})\\nabla_{x^{(M)}} ^\\top\\end{pmatrix}\n",
    "\\end{bmatrix}^{3N\\times M\\cdot 3N}\n",
    "= \n",
    "\\begin{bmatrix}\n",
    "\\begin{pmatrix}\\frac{\\partial}{\\partial x^{(1)}_1 }\\nabla k(x^{*},x^{(1)}),\\dots,\\frac{\\partial}{\\partial x^{(1)}_{3N} }\\nabla k(x^{*},x^{(1)})\\end{pmatrix} & \n",
    "\\dots & \n",
    "\\begin{pmatrix}\\frac{\\partial}{\\partial x^{(M)}_1 }\\nabla k(x^{*},x^{(M)}),\\dots,\\frac{\\partial}{\\partial x^{(M)}_{3N} }\\nabla k(x^{*},x^{(M)})\\end{pmatrix}\n",
    "\\end{bmatrix}^{3N\\times M\\cdot 3N}\n",
    "\\\\\n",
    "\\\\\n",
    "\\begin{bmatrix}\\mathbf{f^*}\\end{bmatrix}^{3N\\times1} =\\begin{bmatrix}\\begin{bmatrix}{k^*}^{T}\\end{bmatrix}^{3N \\times M \\cdot 3N}\\begin{bmatrix}\\begin{bmatrix}K^{-1}\\end{bmatrix}^{M\\cdot 3N \\times M\\cdot 3N}\\begin{bmatrix}\\mathbf{f}\\end{bmatrix}^{M\\cdot 3N \\times 1}\\end{bmatrix}^{M \\cdot 3N \\times 1}\\end{bmatrix}^{3N\\times 1}\n",
    "\\\\\n",
    "\\begin{bmatrix}\\mathbf{f^*}\\end{bmatrix}^{3N\\times1} =\n",
    "{k^*}^{T}\n",
    "K^{-1}\n",
    "\\mathbf{f}=\n",
    "\\begin{pmatrix}\n",
    "\\begin{pmatrix}\\frac{\\partial}{\\partial x^{(1)}_1 }\\nabla k(x^{*},x^{(1)}),\\dots,\\frac{\\partial}{\\partial x^{(1)}_{3N} }\\nabla k(x^{*},x^{(1)})\\end{pmatrix} & \n",
    "\\dots & \n",
    "\\begin{pmatrix}\\frac{\\partial}{\\partial x^{(M)}_1 }\\nabla k(x^{*},x^{(M)}),\\dots,\\frac{\\partial}{\\partial x^{(M)}_{3N} }\\nabla k(x^{*},x^{(M)})\\end{pmatrix}\n",
    "\\end{pmatrix}\n",
    "\\underbrace{ K^{-1}\\mathbf{f}}_{\\alpha _{ij}}\n",
    "$$"
   ]
  },
  {
   "cell_type": "markdown",
   "metadata": {},
   "source": [
    "### The Matérn kernel\n",
    "For our application, we considered a subclass from the parametric\n",
    "Matérn family (22–24) of (isotropic) kernel functions\n",
    "$$\n",
    "k: C_{\\nu=n+\\frac{1}{2}}(d)=exp{-\\frac{\\sqrt{2\\nu}d}{\\sigma}}P_{n}(d)\n",
    "$$\n",
    "$$\n",
    "P_n(d)=\\sum_{k=0}^{n}{\\frac{(n+k)!}{(2n)!}}\\begin{pmatrix}n\\\\k\\end{pmatrix}\\begin{pmatrix}\\frac{2\\sqrt{2\\nu}d}{\\sigma}\\end{pmatrix}^{n-k}\n",
    "$$\n",
    "\n",
    "### The full kernel\n",
    "\n",
    "$$\n",
    "\\mathbf{k_F(x, x^{'})}=\\nabla k(x, x^{'})\\nabla ^\\top=\\begin{bmatrix}\\frac{\\partial}{\\partial x^{'}_1 }\\nabla k(x,x^{'}),\\dots,\\frac{\\partial}{\\partial x^{'}_{3N} }\\nabla k(x,x^{'})\\end{bmatrix}\n",
    "$$\n",
    "$$\n",
    "=\\begin{pmatrix}5(\\mathbf{x-x^{'}})(\\mathbf{x-x^{'}})^\\top-\\mathbb{1}\\sigma(\\sigma +\\sqrt{5}d))\\end{pmatrix}\\frac{5}{3\\sigma^{4}}exp\\begin{pmatrix}-\\frac{\\sqrt{5}d}{\\sigma}\\end{pmatrix}\n",
    "$$\n",
    "$$\n",
    "\\mathbf{k_F(x, x^{'})}\\in \\mathbb{R}^{3N \\times 3N}\n",
    "$$\n",
    "\n",
    "$$\n",
    "\\mathbf{k_E(x, x^{'})}=k(x, x^{'})\\nabla ^\\top\n",
    "=5(\\mathbf{x-x^{'}})(\\sigma+d)\\frac{5}{3\\sigma^{3}}exp\\begin{pmatrix}-\\frac{\\sqrt{5}d}{\\sigma}\\end{pmatrix}\n",
    "$$\n",
    "$$\n",
    "\\mathbf{k_E(x, x^{'})}\\in \\mathbb{R}^{1 \\times 3N}\n",
    "$$\n"
   ]
  },
  {
   "cell_type": "markdown",
   "metadata": {},
   "source": [
    "### Matérn covariance derivatives\n",
    "$$\n",
    "k: C_{\\nu=n+\\frac{1}{2}}(d)=B(d)P_{n}(d)\n",
    "\\\\\n",
    "B(d) = exp{\\begin{pmatrix}-\\frac{\\sqrt{2\\nu}d}{\\sigma}\\end{pmatrix}}\n",
    "\\\\\n",
    "P_n(d)=\\sum_{k=0}^{n}{\\frac{(n+k)!}{(2n)!}}\\begin{pmatrix}n\\\\k\\end{pmatrix}\\begin{pmatrix}\\frac{2\\sqrt{2\\nu}d}{\\sigma}\\end{pmatrix}^{n-k}\n",
    "$$"
   ]
  },
  {
   "cell_type": "markdown",
   "metadata": {},
   "source": [
    "$$\n",
    "\\frac{\\partial \\kappa}{\\partial x_i} = \\frac{\\partial P_n}{\\partial x_i}B + \\frac{\\partial B}{\\partial x_i}P_n\n",
    "$$"
   ]
  },
  {
   "cell_type": "markdown",
   "metadata": {},
   "source": [
    "$$\n",
    "\\frac{\\partial P_n}{\\partial x_i}=\\sum_{k=0}^n{\\frac{(n+k)!}{(2n)!}\\begin{pmatrix}n\\\\k\\end{pmatrix}\\frac{(n-k)(x_i -x^{'}_i)}{d^2}\\begin{pmatrix}\\frac{2\\sqrt{2\\nu}d}{\\sigma}\\end{pmatrix}^{n-k}}\\\\\n",
    "$$"
   ]
  },
  {
   "cell_type": "markdown",
   "metadata": {},
   "source": [
    "$$\n",
    "\\frac{\\partial B}{\\partial x_i} =-\\frac{\\sqrt{2\\nu}(x_i -x^{'}_i)}{\\sigma d}exp{-\\frac{\\sqrt{2\\nu}d}{\\sigma}}\n",
    "$$"
   ]
  },
  {
   "cell_type": "markdown",
   "metadata": {},
   "source": [
    "$$\n",
    "\\frac{\\partial^2 \\kappa}{\\partial x_i \\partial x_j} = \n",
    "B\\frac{\\partial^2 P_n}{\\partial x_i \\partial x_j} +\n",
    "\\frac{\\partial B}{\\partial x_i}\\frac{\\partial P_n}{\\partial x_j} +\n",
    "\\frac{\\partial B}{\\partial x_j}\\frac{\\partial P_n}{\\partial x_i} +\n",
    "P_n\\frac{\\partial^2 B}{\\partial x_i \\partial x_j} \n",
    "$$"
   ]
  },
  {
   "cell_type": "markdown",
   "metadata": {},
   "source": [
    "$$\n",
    "\\begin{bmatrix}\\frac{\\partial^2 P_n}{\\partial x_i \\partial x_j}\\end{bmatrix}_{i\\ne j}=\n",
    "\\sum_{k=0}^{n}{\\frac{(n+k)!}{(2n)!}\\begin{pmatrix}n \\\\ k \\end{pmatrix}\n",
    "\\frac{(n-k-2)(n-k)(x_i -x^{'}_i)(x_j - x^{'}_j)}{d^4}\n",
    "\\begin{pmatrix}\\frac{2\\sqrt{2\\nu}d}{\\sigma}\\end{pmatrix}^{n-k}}\n",
    "$$"
   ]
  },
  {
   "cell_type": "markdown",
   "metadata": {},
   "source": [
    "$$\n",
    "\\begin{bmatrix}\\frac{\\partial^2 P_n}{\\partial x_i \\partial x_j}\\end{bmatrix}_{i=j}=\n",
    "\\sum_{k=0}^{n}{\\frac{(n+k)!}{(2n)!}\\begin{pmatrix}n \\\\ k \\end{pmatrix}\n",
    "\\frac{(n-k-2)(n-k)(x_i -x^{'}_i)^2}{d^4}\n",
    "\\begin{pmatrix}\\frac{2\\sqrt{2\\nu}d}{\\sigma}\\end{pmatrix}^{n-k}} + \\sum_{k=0}^n{\\frac{(n+k)!}{(2n)!}\\begin{pmatrix}n\\\\k\\end{pmatrix}\\frac{(n-k)}{d^2}\\begin{pmatrix}\\frac{2\\sqrt{2\\nu}d}{\\sigma}\\end{pmatrix}^{n-k}}\\\\\n",
    "$$"
   ]
  },
  {
   "cell_type": "markdown",
   "metadata": {},
   "source": [
    "$$\n",
    "\\begin{bmatrix}\\frac{\\partial^2 B}{\\partial x_i \\partial x_j}\\end{bmatrix}_{i\\ne j} =\n",
    "\\frac{\\sqrt{2\\nu}(x_i-x^{'})(x_j-x^{'}_j)(\\sqrt{2\\nu} d+\\sigma)}{\\sigma^2d^3}\\exp{\\begin{pmatrix}-\\frac{\\sqrt{2\\nu}d}{\\sigma}\\end{pmatrix}}\n",
    "$$"
   ]
  },
  {
   "cell_type": "markdown",
   "metadata": {},
   "source": [
    "$$\n",
    "\\begin{bmatrix}\\frac{\\partial^2 B}{\\partial x_i \\partial x_j}\\end{bmatrix}_{i = j} =\n",
    "\\frac{\\sqrt{2\\nu}(x_i-x^{'})(x_j-x^{'}_j)(\\sqrt{2\\nu} d+\\sigma)}{\\sigma^2d^3}\\exp{\\begin{pmatrix}-\\frac{\\sqrt{2\\nu}d}{\\sigma}\\end{pmatrix}} - \\frac{\\sqrt{2\\nu}(x_i -x^{'}_i)}{\\sigma d}exp{\\begin{pmatrix}-\\frac{\\sqrt{2\\nu}d}{\\sigma}\\end{pmatrix}}\n",
    "$$"
   ]
  },
  {
   "cell_type": "markdown",
   "metadata": {},
   "source": []
  }
 ],
 "metadata": {
  "kernelspec": {
   "display_name": "Python 3",
   "language": "python",
   "name": "python3"
  },
  "language_info": {
   "codemirror_mode": {
    "name": "ipython",
    "version": 3
   },
   "file_extension": ".py",
   "mimetype": "text/x-python",
   "name": "python",
   "nbconvert_exporter": "python",
   "pygments_lexer": "ipython3",
   "version": "3.8.5"
  }
 },
 "nbformat": 4,
 "nbformat_minor": 4
}
