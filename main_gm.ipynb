{
 "cells": [
  {
   "cell_type": "code",
   "execution_count": 1,
   "metadata": {
    "scrolled": true
   },
   "outputs": [],
   "source": [
    "# https://www.math.uwaterloo.ca/~hwolkowi/matrixcookbook.pdf\n",
    "# !pip install ase\n",
    "!conda install nglview -c conda-forge -y\n",
    "!conda install -c conda-forge kimpy openkim-models -y\n",
    "# !conda install matplotlib -y\n",
    "# !pip install nglview scikit-learn scipy ipympl ipywidgets matplotlib\n",
    "# !conda install scipy -y\n",
    "\n",
    "# !conda install tqdm -y\n",
    "# !pip install sgdml\n",
    "# !pip install sgdml[ase]\n",
    "# !pip install sgdml[torch]\n",
    "# !jupyter-nbextension enable nglview --py --sys-prefix\n",
    "%load_ext autoreload\n",
    "%autoreload 2\n",
    "from utils import *\n",
    "%matplotlib notebook"
   ]
  },
  {
   "cell_type": "markdown",
   "metadata": {},
   "source": [
    "# Data-Driven Force Fields for Large Scale Molecular Dynamics Simulations of Halide Perovskites  "
   ]
  },
  {
   "cell_type": "markdown",
   "metadata": {},
   "source": [
    " \n",
    "## Halide Perovskites (HaPs) \n",
    "\n",
    "\n",
    "## Theoretical Research of the Dynamics of Halide Perovskite \n",
    "\n",
    "Many of the properties of the HaPs are based on the unique structure and dynamics of the HaPs system. Also, numerous reports show that, even without defects, HaPs shows significant structural fluctuations.6 One of the main methods of investigating the properties of HaPs theoretically is molecular dynamics (MD). By employing the MD method one can obtain extensive dynamical information - including the actual location of the atoms, energy levels and the band structure, dipoles, and much more. \n",
    "\n",
    "## Molecular Dynamics (MD) \n",
    "\n",
    "Molecular Dynamics (MD) simulation is an algorithm for computing equilibrium and transport properties of many-body systems at a finite temperature. This method relies on the Newtonian equations of motion, updated each step numerically according to calculated forces. The applied forces of all the particles/atoms in the systems are updated by various possible methods, a few of which are discussed below.7  \n",
    "\n",
    "### Classical Potential Molecular Dynamics \n",
    "\n",
    "Most common MD simulations are based on classical potentials. These potentials are usually based on principles of quantum mechanics but only in the form of fitted parameters, while the implementation of the equations is classical – atoms are regarded as points in space. The potential parameters need to be determined empirically for each set of materials. They are therefore limited in accuracy and types of systems.  \n",
    "\n",
    "### First-Principles Molecular Dynamics \n",
    "\n",
    "First-principles molecular dynamics are dynamical simulations, in which forces on the atoms are calculated using first-principles methods. By far the most common first-principles method is density functional theory (DFT). First-principles calculations are considered more accurate than classical potentials and inherently take into account the quantum nature of the interaction of the atoms and the electron cloud. Their critical limitation, however, is the computational cost of a meaningful simulation. While it is possible to obtain many useful insights from those simulations, for HaPs, which are highly dynamical materials, these limitations are hard to surpass.  \n",
    "\n",
    "## Molecular Dynamics of Halide Perovskite \n",
    "\n",
    "HaPs are comprised of at least three or more types of atoms and have many anharmonic features. This makes the usage of classical potential MD simulation very difficult for those materials. The only current possible option for dynamical research is of use first-principles MD, which limit the scale of the simulations. \n",
    "\n",
    "## Data-Driven Molecular Dynamics  \n",
    "\n",
    "Until recently, constructing MD potentials was based on benchmark data and a small set of first-principles calculations, used to fit a classical MD potential. This process is highly specialized and involved, and required much understanding of the modeled system.  \n",
    "\n",
    "The ever-increasing processing power and the rise of shared experimental and computational results data repositories provide the opportunity to easily obtaining a vast amount of information and data for each desired system. This change of setting allows the emergence of data-driven MD potentials. Those potentials are based on statistical learning, a branch of mathematics looking to extract and predict new properties from a given dataset.8  These approaches rely on much larger amounts of data compares to the classical approach. However, obtaining the potential is more general and can be easily applied to different systems. \n",
    "\n",
    "The two most common approaches are the artificial neural network (ANN) and the Gaussian process (GP). The methods are mathematical, but can be enhanced by using physical insights.9,10 The ANN is considered by many as a \"black box\" because the model has low interpretability but, by definition, can approximate any continuous function to a desired accuracy with enough data and a large enough network.11 GP's are somewhat limited in their prediction limits, but they are much easier to understand. Thus, it is possible to add deep physical insights that can drastically decrease the needed dataset size for the same accuracy.\n",
    "\n",
    "## Gaussian Process Force-Field \n",
    "This work proposed to use the symmetrized gradient-domain machine learning (sGDML) method, a Gaussian process-based force field. The GP method is based on jointly gaussian distributions. Each configuration of the system is considered a single gaussian distribution coupled in an approximate manner to other configurations, by using a predefined \"kernel function\" which is considered a hyperparameter."
   ]
  },
  {
   "cell_type": "markdown",
   "metadata": {},
   "source": [
    "# Normal/Gaussian distribution\n",
    "Normal distributions are important in statistics and are often used to represent real-valued random variables whose distributions are not known. Their importance is partly due to the [central limit theorem](https://en.wikipedia.org/wiki/Central_limit_theorem). It states that, under some conditions, the average of many samples (observations) of a random variable with finite mean and variance is itself a random variable—whose distribution converges to a normal distribution as the number of samples increases. \n",
    "\n",
    "based on: https://peterroelants.github.io/posts/multivariate-normal-primer/"
   ]
  },
  {
   "cell_type": "markdown",
   "metadata": {},
   "source": [
    "## Univariate normal distribution\n",
    "\n",
    "Univariate/single normal distribution is the simple case that the for given single value-scaler we have continuous probability distribution.\n",
    "$$\n",
    "\\mathcal{N}(\\mu, \\sigma^2)\n",
    "$$\n",
    "\n",
    "$$\n",
    "p(x \\mid \\mu, \\sigma) = \\frac{1}{\\sqrt{2\\pi\\sigma^2}} \\exp{ \\left( -\\frac{(x - \\mu)^2}{2\\sigma^2}\\right)}\n",
    "$$"
   ]
  },
  {
   "cell_type": "code",
   "execution_count": 2,
   "metadata": {},
   "outputs": [],
   "source": [
    "def univariate_normal(x, mean, variance):\n",
    "    \"\"\"pdf of the univariate normal distribution.\"\"\"\n",
    "    return ((1. / np.sqrt(2 * np.pi * variance)) * \n",
    "            np.exp(-(x - mean)**2 / (2 * variance)))"
   ]
  },
  {
   "cell_type": "code",
   "execution_count": 3,
   "metadata": {},
   "outputs": [
    {
     "data": {
      "application/vnd.jupyter.widget-view+json": {
       "model_id": "1608601041c44fe5945b4a63e867039c",
       "version_major": 2,
       "version_minor": 0
      },
      "text/plain": [
       "Canvas(toolbar=Toolbar(toolitems=[('Home', 'Reset original view', 'home', 'home'), ('Back', 'Back to previous …"
      ]
     },
     "metadata": {},
     "output_type": "display_data"
    },
    {
     "data": {
      "application/vnd.jupyter.widget-view+json": {
       "model_id": "af94055a350e412c8cd44e1549847196",
       "version_major": 2,
       "version_minor": 0
      },
      "text/plain": [
       "interactive(children=(FloatSlider(value=0.0, description='mu', max=3.0, min=-3.0), FloatSlider(value=1.0, desc…"
      ]
     },
     "metadata": {},
     "output_type": "display_data"
    }
   ],
   "source": [
    "univariate_plot(univariate_normal)"
   ]
  },
  {
   "cell_type": "markdown",
   "metadata": {},
   "source": [
    "## Multivariate normal distribution\n",
    "multivariate normal distribution, multivariate Gaussian distribution, or joint normal distribution is a generalization of the one-dimensional (univariate) normal distribution to higher dimensions.\n",
    "\n",
    "$$\n",
    "p(\\mathbf{x} \\mid \\mathbf{\\mu}, \\Sigma) = \\frac{1}{\\sqrt{(2\\pi)^d \\lvert\\Sigma\\rvert}} \\exp{ \\left( -\\frac{1}{2}(\\mathbf{x} - \\mathbf{\\mu})^T \\Sigma^{-1} (\\mathbf{x} - \\mathbf{\\mu}) \\right)}\n",
    "$$\n",
    "\n",
    "$$\n",
    "\\mathcal{N}(\\mathbf{\\mu}, \\Sigma) \\\\\n",
    "\\mathbf{\\mu} = \\begin{pmatrix} \\mu_1 \\\\ \\mu_2\\\\ \\dots\\\\ \\mu_n\\end{pmatrix}, \n",
    "\\mathbf{\\Sigma} = \\begin{pmatrix}    \\Sigma_{11} & \\Sigma_{12} &\\dots & \\Sigma_{1n}\n",
    "                                  \\\\ \\Sigma_{21} & \\Sigma_{22} & \\dots & \\Sigma_{2n}\n",
    "                                  \\\\ \\dots & \\dots & \\dots & \\dots\n",
    "                                  \\\\ \\Sigma_{n1} & \\dots & \\dots &\\Sigma_{nn}\\end{pmatrix}, \\mathbf{\\Sigma} =\\mathbf{\\Sigma^\\top}: \\Sigma_{21}=\\Sigma_{21}\n",
    "$$"
   ]
  },
  {
   "cell_type": "code",
   "execution_count": 4,
   "metadata": {},
   "outputs": [],
   "source": [
    "def multivariate_normal(x, d, mean, covariance):\n",
    "    \"\"\"pdf of the multivariate normal distribution.\"\"\"\n",
    "    x_m = x - mean\n",
    "    return (1. / (np.sqrt((2 * np.pi)**d * np.linalg.det(covariance))) * \n",
    "            np.exp(-(np.linalg.solve(covariance, x_m).T.dot(x_m)) / 2))"
   ]
  },
  {
   "cell_type": "markdown",
   "metadata": {},
   "source": [
    "## 2D Multivariate normal distribution\n",
    "\n",
    "$$\n",
    "\\mathcal{N}\\left(\n",
    "\\begin{bmatrix}\n",
    "0 \\\\\n",
    "1\n",
    "\\end{bmatrix}, \n",
    "\\begin{bmatrix}\n",
    "1 & C \\\\\n",
    "C & 1\n",
    "\\end{bmatrix}\\right)\n",
    "$$"
   ]
  },
  {
   "cell_type": "code",
   "execution_count": 5,
   "metadata": {},
   "outputs": [
    {
     "data": {
      "application/vnd.jupyter.widget-view+json": {
       "model_id": "144a8082215444669a7d4f1e31c984ee",
       "version_major": 2,
       "version_minor": 0
      },
      "text/plain": [
       "Canvas(toolbar=Toolbar(toolitems=[('Home', 'Reset original view', 'home', 'home'), ('Back', 'Back to previous …"
      ]
     },
     "metadata": {},
     "output_type": "display_data"
    },
    {
     "data": {
      "application/vnd.jupyter.widget-view+json": {
       "model_id": "779e24dc29594a8d95237a08801546c2",
       "version_major": 2,
       "version_minor": 0
      },
      "text/plain": [
       "interactive(children=(FloatSlider(value=0.0, continuous_update=False, description='C', max=0.99, step=0.01), O…"
      ]
     },
     "metadata": {},
     "output_type": "display_data"
    }
   ],
   "source": [
    "plt.close('all')\n",
    "\n",
    "multivariate_plot(multivariate_normal, nb_of_x=100)"
   ]
  },
  {
   "cell_type": "markdown",
   "metadata": {},
   "source": [
    "## Marginal and Conditional normal distributions\n",
    "\n",
    "If both $\\mathbf{y_1}$ and $\\mathbf{y_2}$ are [jointly normal](https://en.wikipedia.org/wiki/Multivariate_normal_distribution#Joint_normality) the random vectors defined as:\n",
    "$$\n",
    "\\begin{bmatrix}\n",
    "\\mathbf{y_1} \\\\\n",
    "\\mathbf{y_2} \n",
    "\\end{bmatrix}\n",
    "\\sim\n",
    "\\mathcal{N}\\left(\n",
    "\\begin{bmatrix}\n",
    "\\mu_{\\mathbf{1}} \\\\\n",
    "\\mu_{\\mathbf{2}}\n",
    "\\end{bmatrix},\n",
    "\\begin{bmatrix}\n",
    "\\Sigma_{11} & \\Sigma_{12} \\\\ \n",
    "\\Sigma_{21} & \\Sigma_{22}\n",
    "\\end{bmatrix}\n",
    "\\right)\n",
    "= \\mathcal{N}(\\mu, \\Sigma)\n",
    ", \\qquad \n",
    "$$\n",
    "\n",
    "The [conditional distribution](https://en.wikipedia.org/wiki/Conditional_probability_distribution) of $\\mathbf{y_1}$ given $\\mathbf{y_2}$ is defined as:\n",
    "\n",
    "$$\n",
    "p(\\mathbf{y_1} \\mid \\mathbf{y_2}) = \\mathcal{N}(\\mu_{1|2}, \\Sigma_{1|2})\n",
    "$$\n",
    "\n",
    "With:\n",
    "$$\\mu_{1|2} = \\mu_1 -\\Sigma_{12}\\Sigma_{22}^{-1}(x_2-\\mu_2) \\;\n",
    "\\Sigma_{1|2} = (\\Sigma/\\Sigma_{22})=\\Sigma_{11}-\\Sigma_{12}\\Sigma_{22}^{-1}\\Sigma_{21}$$\n",
    "\n"
   ]
  },
  {
   "cell_type": "markdown",
   "metadata": {},
   "source": [
    "For more details, see [Proof 1](#Proof_1)\n",
    "\n"
   ]
  },
  {
   "cell_type": "code",
   "execution_count": 6,
   "metadata": {},
   "outputs": [
    {
     "data": {
      "application/vnd.jupyter.widget-view+json": {
       "model_id": "aa4138b655944a38bec9ea7a538f5855",
       "version_major": 2,
       "version_minor": 0
      },
      "text/plain": [
       "Canvas(toolbar=Toolbar(toolitems=[('Home', 'Reset original view', 'home', 'home'), ('Back', 'Back to previous …"
      ]
     },
     "metadata": {},
     "output_type": "display_data"
    },
    {
     "data": {
      "application/vnd.jupyter.widget-view+json": {
       "model_id": "0ce56166be4e49d5bd3614d594dab87b",
       "version_major": 2,
       "version_minor": 0
      },
      "text/plain": [
       "interactive(children=(FloatSlider(value=0.0, continuous_update=False, description='x', max=1.0, min=-1.0), Flo…"
      ]
     },
     "metadata": {},
     "output_type": "display_data"
    }
   ],
   "source": [
    "plt.close('all')\n",
    "condition_plot(nb_of_x=100)"
   ]
  },
  {
   "cell_type": "markdown",
   "metadata": {},
   "source": [
    "# Gaussian Process \n",
    "Gaussian process (GP) Is a method predicting $y^*$ for a given $x^*$ and getting: $y_i=f(x_i )$. \n",
    "GP assumes that $p(f(x_1),...,f(x_N  ))$ is a jointly Gaussian, i.e., the probability of getting the full random vector (the known $y$ points and the the new $y^{*}$ points) is defined as a multidimensional gaussian with $\\mu$ and $\\Sigma(x)$, where $\\Sigma(x)$ is calculated as $\\Sigma_{ij}=k(x_i,x_j)$, and $k$ is a kernel function.\n"
   ]
  },
  {
   "cell_type": "markdown",
   "metadata": {},
   "source": [
    "$$\n",
    "\\begin{pmatrix}\n",
    "\\mathbf{y} \\\\ \n",
    "y^*\n",
    "\\end{pmatrix}=\n",
    "\\begin{pmatrix}\n",
    "\\mathbf{f} \\\\ \n",
    "f^*\n",
    "\\end{pmatrix}~\n",
    "\\mathcal{N}\n",
    "\\begin{pmatrix}\n",
    "\\begin{pmatrix}\n",
    "\\mathbf{\\mu(x, y)} \\\\ \n",
    "\\mu^*(x^*)\n",
    "\\end{pmatrix},\n",
    "\\begin{pmatrix}\n",
    "\\mathbf{K(x,x)} & \\mathbf{k(x^*,x)^*}\\\\ \n",
    "{\\mathbf{k(x^*, x)^{*}}}^{\\top} & {k(x^*,x^*)^{**}}\n",
    "\\end{pmatrix}\n",
    "\\end{pmatrix}\n",
    "$$\n",
    "<br/>\n",
    "$\\mathbf{f}$ - Vector of all observed $y_i$ values, $f=y_i=f(x_i)$.<br/>\n",
    "$f^*$ - Prediction function for point $x^*$, $f^*=y^*=f(x^*)$.<br/>\n",
    "$\\mathbf{\\mu}$ - Vector of all observed mean values.<br/>\n",
    "$\\mathbf{\\mu^*}$- Mean values for the prediction for x^*. <br/>\n",
    "$\\mathbf{K}$ - Covariance matrix of all observed points<br/>\n",
    "$\\mathbf{k^*}$ - Kernel vector $k^*=k(x^*,x_i )$<br/>\n",
    "${k^{**}}$ - Self kernel $k^{**}=k(x^*,x^* )$<br/>\n"
   ]
  },
  {
   "cell_type": "markdown",
   "metadata": {},
   "source": [
    "## Applying the Conditional \n",
    "$$f(x^*)=f(x^*|\\mathbf{y},\\mathbf{x})=\\mu(x^*)^* +{{\\mathbf{k}}^{*}}^{\\top}  \\mathbf{K}^{-1}(\\mathbf{y}-\\mu)$$ <br/>\n",
    "For simplicity, we can define the mean values to be zero<br/>\n",
    "$$f(x^*) ={\\mathbf{k^*}}^{\\top}\\mathbf{K}^{-1}\\mathbf{y}=\\sum_{i=1}^{N}\\alpha_ik(x_i, x^*)$$"
   ]
  },
  {
   "cell_type": "markdown",
   "metadata": {},
   "source": [
    "### The Conditional on A Nosey Dataset\n",
    "If we have a training dataset with noisy function values $\\mathbf{y} = \\mathbf{f} + \\boldsymbol\\epsilon$ where noise $\\boldsymbol\\epsilon \\sim \\mathcal{N}(\\mathbf{0}, \\sigma_y^2 \\mathbf{I})$ is independently added to each observation then the predictive distribution is given by\n",
    "\n",
    "$$\n",
    "f(x^*) ={\\mathbf{k^*}}^{\\top}\\mathbf{K_y}^{-1}\\mathbf{y}=\\sum_{i=1}^{N}\\alpha_ik(x_i, x^*)\n",
    "$$\n",
    "where $\\mathbf{K}_y = \\mathbf{K} + \\sigma_y^2\\mathbf{I}$."
   ]
  },
  {
   "cell_type": "markdown",
   "metadata": {},
   "source": [
    "### Kernel Function\n",
    "the is the kernel function which can be regarded as a \"distance\" function which defines how strongly the value $f(x_i)$ is coupled to point $f(x_j)$."
   ]
  },
  {
   "cell_type": "markdown",
   "metadata": {},
   "source": [
    "#### The Most Popular Kernal\n",
    "In this part we will use the squared exponential kernel, also known as Gaussian kernel or RBF kernel. which is the go to kernel for starting the GP regression.\n",
    "$$\n",
    "\\kappa(\\mathbf{x}_i,\\mathbf{x}_j) = \\sigma_f^2 \\exp\\left(-\\frac{1}{2l^2}\n",
    "  (\\mathbf{x}_i - \\mathbf{x}_j)^T\n",
    "  (\\mathbf{x}_i - \\mathbf{x}_j)\\right)\\tag{10}\n",
    "$$\n",
    "\n",
    "Based on:\\\n",
    "https://juanitorduz.github.io/gaussian_process_reg/ \\\n",
    "http://krasserm.github.io/2018/03/19/gaussian-processes/"
   ]
  },
  {
   "cell_type": "code",
   "execution_count": 7,
   "metadata": {},
   "outputs": [],
   "source": [
    "def kernel(X1, X2, l=1.0, sigma_f=1.0):\n",
    "    '''\n",
    "    Isotropic squared exponential kernel. Computes\n",
    "    a covariance matrix from points in X1 and X2.\n",
    "\n",
    "    Args:\n",
    "        X1: Array of m points (m x d).\n",
    "        X2: Array of n points (n x d).\n",
    "\n",
    "    Returns:\n",
    "        Covariance matrix (m x n).\n",
    "    '''\n",
    "    sqdist = np.sum(X1 ** 2, 1).reshape(-1, 1) + np.sum(X2 ** 2, 1) - 2 * np.dot(X1, X2.T)\n",
    "    return sigma_f ** 2 * np.exp(-0.5 / l ** 2 * sqdist)"
   ]
  },
  {
   "cell_type": "code",
   "execution_count": 8,
   "metadata": {},
   "outputs": [
    {
     "data": {
      "application/vnd.jupyter.widget-view+json": {
       "model_id": "5c58bdb5ca354beb8a5d88d18118114e",
       "version_major": 2,
       "version_minor": 0
      },
      "text/plain": [
       "Canvas(toolbar=Toolbar(toolitems=[('Home', 'Reset original view', 'home', 'home'), ('Back', 'Back to previous …"
      ]
     },
     "metadata": {},
     "output_type": "display_data"
    }
   ],
   "source": [
    "plt.close('all')\n",
    "n_sample = 50\n",
    "n_predict = 10\n",
    "\n",
    "x = plot_noise_sin(n_sample, plot_line=True, label='sample')\n",
    "x_add = plot_noise_sin(n_predict, label='prediction')\n",
    "\n",
    "x = np.concatenate([x, x_add], axis=0)\n"
   ]
  },
  {
   "cell_type": "code",
   "execution_count": 9,
   "metadata": {},
   "outputs": [
    {
     "data": {
      "application/vnd.jupyter.widget-view+json": {
       "model_id": "1dd92fe7ea1c42ed973d376f5b8c5541",
       "version_major": 2,
       "version_minor": 0
      },
      "text/plain": [
       "Canvas(toolbar=Toolbar(toolitems=[('Home', 'Reset original view', 'home', 'home'), ('Back', 'Back to previous …"
      ]
     },
     "metadata": {},
     "output_type": "display_data"
    }
   ],
   "source": [
    "plt.close('all')\n",
    "heapmap_kernal(x.reshape([-1, 1]),  kernel)"
   ]
  },
  {
   "cell_type": "markdown",
   "metadata": {},
   "source": [
    "$$\n",
    "f(x^*) ={\\mathbf{k^*}}^{\\top}\\mathbf{K_y}^{-1}\\mathbf{y}=\\sum_{i=1}^{N}\\alpha_ik(x_i, x^*)\n",
    "$$"
   ]
  },
  {
   "cell_type": "code",
   "execution_count": 10,
   "metadata": {},
   "outputs": [],
   "source": [
    "def posterior_predictive(X_s, X_train, Y_train, l=1.0, sigma_f=1.0, sigma_y=1e-8):\n",
    "    '''\n",
    "    Computes the suffifient statistics of the GP posterior predictive distribution\n",
    "    from m training data X_train and Y_train and n new inputs X_s.\n",
    "\n",
    "    Args:\n",
    "        X_s: New input locations (n x d).\n",
    "        X_train: Training locations (m x d).\n",
    "        Y_train: Training targets (m x 1).\n",
    "        l: Kernel length parameter.\n",
    "        sigma_f: Kernel vertical variation parameter.\n",
    "        sigma_y: Noise parameter.\n",
    "\n",
    "    Returns:\n",
    "        Posterior mean vector (n x d) and covariance matrix (n x n).\n",
    "    '''\n",
    "    K = kernel(X_train, X_train, l, sigma_f) + sigma_y ** 2 * np.eye(len(X_train))\n",
    "    K_s = kernel(X_train, X_s, l, sigma_f)\n",
    "    K_ss = kernel(X_s, X_s, l, sigma_f) \n",
    "    K_inv = inv(K)\n",
    "\n",
    "\n",
    "    alphas = K_inv.dot(Y_train)\n",
    "    mu_s = K_s.T.dot(alphas)\n",
    "\n",
    "\n",
    "    cov_s = K_ss - K_s.T.dot(K_inv).dot(K_s)\n",
    "\n",
    "    return mu_s, cov_s"
   ]
  },
  {
   "cell_type": "code",
   "execution_count": 11,
   "metadata": {},
   "outputs": [
    {
     "data": {
      "application/vnd.jupyter.widget-view+json": {
       "model_id": "3e6f7bee0f35488ea53442668c430038",
       "version_major": 2,
       "version_minor": 0
      },
      "text/plain": [
       "Canvas(toolbar=Toolbar(toolitems=[('Home', 'Reset original view', 'home', 'home'), ('Back', 'Back to previous …"
      ]
     },
     "metadata": {},
     "output_type": "display_data"
    }
   ],
   "source": [
    "plt.close()\n",
    "noise = 0.1\n",
    "x = [-3, -2 , -1,  1, 2 , 3, 4]\n",
    "def f(x):\n",
    "    func = np.exp(np.sin(x))\n",
    "    return func\n",
    "    \n",
    "gaussian_process(x, f, noise, posterior_predictive, kernel)"
   ]
  },
  {
   "cell_type": "code",
   "execution_count": 12,
   "metadata": {},
   "outputs": [
    {
     "data": {
      "application/vnd.jupyter.widget-view+json": {
       "model_id": "a923e96101f44b608880f29fbd91be8c",
       "version_major": 2,
       "version_minor": 0
      },
      "text/plain": [
       "Canvas(toolbar=Toolbar(toolitems=[('Home', 'Reset original view', 'home', 'home'), ('Back', 'Back to previous …"
      ]
     },
     "metadata": {},
     "output_type": "display_data"
    }
   ],
   "source": [
    "plt.close('all')\n",
    "noise = 0.1\n",
    "kernal = ConstantKernel(1.0) * RBF(length_scale=1.0)\n",
    "\n",
    "gaussian_process_interactive(f, noise, kernal)"
   ]
  },
  {
   "cell_type": "markdown",
   "metadata": {},
   "source": [
    "## GP Force Field \n",
    "\n",
    "A straightforward formulation of a vector-valued estimator\n",
    "takes the form:\n",
    "$$\n",
    "\\mathbf{\\hat{f}}=\\begin{bmatrix}\\hat{f}_1(x), \\dots, \\hat{f}_N\\end{bmatrix}^{T}\n",
    "$$\n",
    "$\\mathbf{\\hat{f}}: \\mathbb{R}^N\\rightarrow\\mathbb{R}^N$ where each component: ${\\hat{f}_i}: \\mathbb{R}^N\\rightarrow\\mathbb{R}$\n",
    "\n",
    "and it easy to applied it directly for prediction the forces on $N$ atoms system with $N$ 3D position vector and $N$ 3D forces vectors:\n",
    "$\\mathbf{\\hat{f}}: \\mathbb{R}^{3N}\\rightarrow\\mathbb{R}^{3N}$ where each component: ${\\hat{f}_i}: \\mathbb{R}^{3N}\\rightarrow\\mathbb{R}$"
   ]
  },
  {
   "cell_type": "code",
   "execution_count": 50,
   "metadata": {},
   "outputs": [
    {
     "data": {
      "application/vnd.jupyter.widget-view+json": {
       "model_id": "3716f98e4e424b22bed9c4333d0fc44c",
       "version_major": 2,
       "version_minor": 0
      },
      "text/plain": [
       "HBox(children=(NGLWidget(), VBox(children=(Dropdown(description='Show', options=('All', 'Ni'), value='All'), D…"
      ]
     },
     "metadata": {},
     "output_type": "display_data"
    }
   ],
   "source": [
    "plt.close('all')\n",
    "from ase_utils import *\n",
    "\"\"\"Demonstrates molecular dynamics with constant temperature.\"\"\"\n",
    "\n",
    "\n",
    "a = 3.519\n",
    "atoms_type = 'Ni'\n",
    "atoms = Atoms([Atom(atoms_type, (0, 0, 0)), \n",
    "               Atom(atoms_type, (0, a/2, a/2)),\n",
    "               Atom(atoms_type, (a/2, 0, a/2)),\n",
    "               Atom(atoms_type, (a/2, a/2, 0))])\n",
    "atoms.set_cell([a, a, a])\n",
    "atoms.set_pbc(True)\n",
    "atoms = atoms*2\n",
    "atoms_copy = atoms.copy()\n",
    "lat = np.array(atoms.get_cell())\n",
    "\n",
    "ngl.view_ngl(atoms, w=500, h=500)"
   ]
  },
  {
   "cell_type": "code",
   "execution_count": 51,
   "metadata": {},
   "outputs": [],
   "source": [
    "from ase.calculators.emt import EMT\n",
    "from ase.calculators.kim.kim import KIM\n",
    "T = 300  # Kelvin\n",
    "# Describe the interatomic interactions with the Effective Medium Theory\n",
    "# atoms.calc = EMT()\n",
    "atoms.calc = KIM(\"EAM_Dynamo_MishinFarkasMehl_1999_Ni__MO_400591584784_005\")\n"
   ]
  },
  {
   "cell_type": "code",
   "execution_count": 52,
   "metadata": {},
   "outputs": [],
   "source": [
    "# A molecular dynamics object will operate on the atoms by moving them according to their forces - \n",
    "# it integrates Newton’s second law numerically\n",
    "\n",
    "# Set the momenta corresponding T\n",
    "MaxwellBoltzmannDistribution(atoms, T * 4 * units.kB)\n",
    "# Two times room temperature simulation\n",
    "dyn = Langevin(atoms, 1 * units.fs, 2*T * units.kB, 0.002)\n",
    "dyn.attach(printenergy(atoms), interval=500)\n",
    "# We also want to save the positions of all atoms after every 100th time step.\n",
    "traj = Trajectory('reference.traj', 'w', atoms)\n",
    "dyn.attach(traj.write, interval=1)"
   ]
  },
  {
   "cell_type": "code",
   "execution_count": 87,
   "metadata": {},
   "outputs": [
    {
     "name": "stdout",
     "output_type": "stream",
     "text": [
      "Energy per atom: Epot = -4.354eV  Ekin = 0.094eV (T=724K)  Etot = -4.261eV, time elapsed: 2704.1\n",
      "Energy per atom: Epot = -4.359eV  Ekin = 0.092eV (T=710K)  Etot = -4.267eV, time elapsed: 2705.2\n",
      "Energy per atom: Epot = -4.347eV  Ekin = 0.079eV (T=614K)  Etot = -4.268eV, time elapsed: 2706.3\n",
      "Energy per atom: Epot = -4.379eV  Ekin = 0.090eV (T=697K)  Etot = -4.289eV, time elapsed: 2707.3\n",
      "Energy per atom: Epot = -4.363eV  Ekin = 0.076eV (T=590K)  Etot = -4.286eV, time elapsed: 2708.4\n",
      "Energy per atom: Epot = -4.368eV  Ekin = 0.085eV (T=660K)  Etot = -4.283eV, time elapsed: 2709.5\n",
      "Energy per atom: Epot = -4.379eV  Ekin = 0.092eV (T=715K)  Etot = -4.287eV, time elapsed: 2710.5\n",
      "Energy per atom: Epot = -4.367eV  Ekin = 0.083eV (T=639K)  Etot = -4.284eV, time elapsed: 2711.6\n",
      "Energy per atom: Epot = -4.378eV  Ekin = 0.103eV (T=797K)  Etot = -4.275eV, time elapsed: 2712.7\n",
      "Energy per atom: Epot = -4.366eV  Ekin = 0.082eV (T=636K)  Etot = -4.284eV, time elapsed: 2713.8\n",
      "Energy per atom: Epot = -4.382eV  Ekin = 0.111eV (T=857K)  Etot = -4.271eV, time elapsed: 2714.9\n",
      "Energy per atom: Epot = -4.371eV  Ekin = 0.102eV (T=790K)  Etot = -4.268eV, time elapsed: 2716.0\n",
      "Energy per atom: Epot = -4.377eV  Ekin = 0.099eV (T=766K)  Etot = -4.278eV, time elapsed: 2717.0\n",
      "Energy per atom: Epot = -4.360eV  Ekin = 0.090eV (T=696K)  Etot = -4.270eV, time elapsed: 2718.1\n",
      "Energy per atom: Epot = -4.361eV  Ekin = 0.085eV (T=660K)  Etot = -4.276eV, time elapsed: 2719.3\n",
      "Energy per atom: Epot = -4.375eV  Ekin = 0.095eV (T=732K)  Etot = -4.280eV, time elapsed: 2720.4\n",
      "Energy per atom: Epot = -4.377eV  Ekin = 0.094eV (T=727K)  Etot = -4.283eV, time elapsed: 2721.5\n",
      "Energy per atom: Epot = -4.373eV  Ekin = 0.092eV (T=712K)  Etot = -4.281eV, time elapsed: 2722.6\n",
      "Energy per atom: Epot = -4.378eV  Ekin = 0.090eV (T=694K)  Etot = -4.288eV, time elapsed: 2723.8\n",
      "Energy per atom: Epot = -4.369eV  Ekin = 0.074eV (T=573K)  Etot = -4.295eV, time elapsed: 2724.9\n",
      "Energy per atom: Epot = -4.353eV  Ekin = 0.060eV (T=462K)  Etot = -4.293eV, time elapsed: 2725.9\n",
      "Energy per atom: Epot = -4.380eV  Ekin = 0.091eV (T=704K)  Etot = -4.289eV, time elapsed: 2727.0\n",
      "Energy per atom: Epot = -4.381eV  Ekin = 0.086eV (T=663K)  Etot = -4.295eV, time elapsed: 2728.1\n",
      "Energy per atom: Epot = -4.379eV  Ekin = 0.071eV (T=549K)  Etot = -4.308eV, time elapsed: 2729.2\n",
      "Energy per atom: Epot = -4.387eV  Ekin = 0.073eV (T=565K)  Etot = -4.313eV, time elapsed: 2730.3\n",
      "Energy per atom: Epot = -4.387eV  Ekin = 0.083eV (T=643K)  Etot = -4.303eV, time elapsed: 2731.4\n",
      "Energy per atom: Epot = -4.373eV  Ekin = 0.072eV (T=553K)  Etot = -4.301eV, time elapsed: 2732.4\n",
      "Energy per atom: Epot = -4.379eV  Ekin = 0.083eV (T=645K)  Etot = -4.295eV, time elapsed: 2733.5\n",
      "Energy per atom: Epot = -4.381eV  Ekin = 0.085eV (T=660K)  Etot = -4.296eV, time elapsed: 2734.7\n",
      "Energy per atom: Epot = -4.376eV  Ekin = 0.072eV (T=557K)  Etot = -4.304eV, time elapsed: 2735.7\n",
      "Energy per atom: Epot = -4.375eV  Ekin = 0.078eV (T=600K)  Etot = -4.298eV, time elapsed: 2736.8\n",
      "Energy per atom: Epot = -4.376eV  Ekin = 0.090eV (T=697K)  Etot = -4.286eV, time elapsed: 2737.9\n",
      "Energy per atom: Epot = -4.369eV  Ekin = 0.080eV (T=619K)  Etot = -4.289eV, time elapsed: 2738.9\n",
      "Energy per atom: Epot = -4.372eV  Ekin = 0.072eV (T=554K)  Etot = -4.301eV, time elapsed: 2740.0\n",
      "Energy per atom: Epot = -4.391eV  Ekin = 0.093eV (T=721K)  Etot = -4.298eV, time elapsed: 2741.1\n",
      "Energy per atom: Epot = -4.373eV  Ekin = 0.069eV (T=532K)  Etot = -4.305eV, time elapsed: 2742.1\n",
      "Energy per atom: Epot = -4.378eV  Ekin = 0.068eV (T=526K)  Etot = -4.310eV, time elapsed: 2743.2\n",
      "Energy per atom: Epot = -4.377eV  Ekin = 0.061eV (T=471K)  Etot = -4.316eV, time elapsed: 2744.3\n",
      "Energy per atom: Epot = -4.385eV  Ekin = 0.058eV (T=447K)  Etot = -4.327eV, time elapsed: 2745.3\n",
      "Energy per atom: Epot = -4.389eV  Ekin = 0.064eV (T=499K)  Etot = -4.324eV, time elapsed: 2746.4\n",
      "Energy per atom: Epot = -4.390eV  Ekin = 0.071eV (T=547K)  Etot = -4.319eV, time elapsed: 2747.5\n",
      "Energy per atom: Epot = -4.380eV  Ekin = 0.054eV (T=416K)  Etot = -4.326eV, time elapsed: 2748.6\n",
      "Energy per atom: Epot = -4.392eV  Ekin = 0.062eV (T=477K)  Etot = -4.331eV, time elapsed: 2749.7\n",
      "Energy per atom: Epot = -4.379eV  Ekin = 0.059eV (T=458K)  Etot = -4.320eV, time elapsed: 2750.8\n",
      "Energy per atom: Epot = -4.390eV  Ekin = 0.078eV (T=603K)  Etot = -4.312eV, time elapsed: 2751.9\n",
      "Energy per atom: Epot = -4.381eV  Ekin = 0.065eV (T=506K)  Etot = -4.315eV, time elapsed: 2753.1\n",
      "Energy per atom: Epot = -4.391eV  Ekin = 0.077eV (T=592K)  Etot = -4.315eV, time elapsed: 2754.3\n",
      "Energy per atom: Epot = -4.374eV  Ekin = 0.061eV (T=473K)  Etot = -4.313eV, time elapsed: 2755.3\n",
      "Energy per atom: Epot = -4.375eV  Ekin = 0.068eV (T=530K)  Etot = -4.306eV, time elapsed: 2756.4\n",
      "Energy per atom: Epot = -4.373eV  Ekin = 0.063eV (T=484K)  Etot = -4.310eV, time elapsed: 2757.5\n",
      "Energy per atom: Epot = -4.368eV  Ekin = 0.061eV (T=470K)  Etot = -4.307eV, time elapsed: 2758.6\n",
      "Energy per atom: Epot = -4.377eV  Ekin = 0.064eV (T=493K)  Etot = -4.313eV, time elapsed: 2759.7\n",
      "Energy per atom: Epot = -4.392eV  Ekin = 0.074eV (T=574K)  Etot = -4.318eV, time elapsed: 2760.8\n",
      "Energy per atom: Epot = -4.388eV  Ekin = 0.071eV (T=549K)  Etot = -4.317eV, time elapsed: 2761.9\n",
      "Energy per atom: Epot = -4.393eV  Ekin = 0.063eV (T=489K)  Etot = -4.330eV, time elapsed: 2763.0\n",
      "Energy per atom: Epot = -4.392eV  Ekin = 0.061eV (T=473K)  Etot = -4.331eV, time elapsed: 2764.1\n",
      "Energy per atom: Epot = -4.397eV  Ekin = 0.070eV (T=538K)  Etot = -4.327eV, time elapsed: 2765.2\n",
      "Energy per atom: Epot = -4.390eV  Ekin = 0.055eV (T=429K)  Etot = -4.335eV, time elapsed: 2766.3\n",
      "Energy per atom: Epot = -4.385eV  Ekin = 0.051eV (T=393K)  Etot = -4.334eV, time elapsed: 2767.3\n",
      "Energy per atom: Epot = -4.396eV  Ekin = 0.059eV (T=455K)  Etot = -4.337eV, time elapsed: 2768.4\n",
      "Energy per atom: Epot = -4.397eV  Ekin = 0.055eV (T=424K)  Etot = -4.342eV, time elapsed: 2769.5\n",
      "Energy per atom: Epot = -4.394eV  Ekin = 0.046eV (T=357K)  Etot = -4.347eV, time elapsed: 2770.6\n",
      "Energy per atom: Epot = -4.395eV  Ekin = 0.053eV (T=408K)  Etot = -4.342eV, time elapsed: 2771.7\n",
      "Energy per atom: Epot = -4.390eV  Ekin = 0.058eV (T=452K)  Etot = -4.331eV, time elapsed: 2772.8\n",
      "Energy per atom: Epot = -4.391eV  Ekin = 0.063eV (T=484K)  Etot = -4.329eV, time elapsed: 2773.8\n",
      "Energy per atom: Epot = -4.396eV  Ekin = 0.071eV (T=546K)  Etot = -4.325eV, time elapsed: 2774.9\n",
      "Energy per atom: Epot = -4.390eV  Ekin = 0.072eV (T=553K)  Etot = -4.319eV, time elapsed: 2776.0\n",
      "Energy per atom: Epot = -4.391eV  Ekin = 0.066eV (T=510K)  Etot = -4.325eV, time elapsed: 2777.1\n",
      "Energy per atom: Epot = -4.393eV  Ekin = 0.068eV (T=528K)  Etot = -4.325eV, time elapsed: 2778.2\n",
      "Energy per atom: Epot = -4.397eV  Ekin = 0.066eV (T=507K)  Etot = -4.331eV, time elapsed: 2779.3\n",
      "Energy per atom: Epot = -4.389eV  Ekin = 0.065eV (T=505K)  Etot = -4.324eV, time elapsed: 2780.4\n",
      "Energy per atom: Epot = -4.388eV  Ekin = 0.065eV (T=501K)  Etot = -4.323eV, time elapsed: 2781.5\n",
      "Energy per atom: Epot = -4.376eV  Ekin = 0.059eV (T=458K)  Etot = -4.317eV, time elapsed: 2782.6\n",
      "Energy per atom: Epot = -4.378eV  Ekin = 0.059eV (T=457K)  Etot = -4.319eV, time elapsed: 2783.7\n",
      "Energy per atom: Epot = -4.401eV  Ekin = 0.079eV (T=608K)  Etot = -4.322eV, time elapsed: 2784.8\n",
      "Energy per atom: Epot = -4.390eV  Ekin = 0.080eV (T=621K)  Etot = -4.310eV, time elapsed: 2785.8\n",
      "Energy per atom: Epot = -4.384eV  Ekin = 0.073eV (T=564K)  Etot = -4.311eV, time elapsed: 2786.9\n",
      "Energy per atom: Epot = -4.377eV  Ekin = 0.066eV (T=509K)  Etot = -4.311eV, time elapsed: 2788.0\n",
      "Energy per atom: Epot = -4.354eV  Ekin = 0.058eV (T=450K)  Etot = -4.296eV, time elapsed: 2789.1\n",
      "Energy per atom: Epot = -4.396eV  Ekin = 0.094eV (T=727K)  Etot = -4.302eV, time elapsed: 2790.2\n",
      "Energy per atom: Epot = -4.394eV  Ekin = 0.091eV (T=707K)  Etot = -4.302eV, time elapsed: 2791.3\n",
      "Energy per atom: Epot = -4.373eV  Ekin = 0.076eV (T=590K)  Etot = -4.297eV, time elapsed: 2792.3\n",
      "Energy per atom: Epot = -4.378eV  Ekin = 0.072eV (T=555K)  Etot = -4.306eV, time elapsed: 2793.5\n",
      "Energy per atom: Epot = -4.377eV  Ekin = 0.078eV (T=601K)  Etot = -4.300eV, time elapsed: 2794.6\n",
      "Energy per atom: Epot = -4.382eV  Ekin = 0.080eV (T=622K)  Etot = -4.301eV, time elapsed: 2795.7\n"
     ]
    },
    {
     "name": "stdout",
     "output_type": "stream",
     "text": [
      "Energy per atom: Epot = -4.364eV  Ekin = 0.061eV (T=469K)  Etot = -4.303eV, time elapsed: 2796.8\n",
      "Energy per atom: Epot = -4.377eV  Ekin = 0.069eV (T=535K)  Etot = -4.308eV, time elapsed: 2797.9\n",
      "Energy per atom: Epot = -4.377eV  Ekin = 0.069eV (T=532K)  Etot = -4.308eV, time elapsed: 2799.1\n",
      "Energy per atom: Epot = -4.378eV  Ekin = 0.071eV (T=551K)  Etot = -4.307eV, time elapsed: 2800.5\n",
      "Energy per atom: Epot = -4.386eV  Ekin = 0.072eV (T=557K)  Etot = -4.314eV, time elapsed: 2801.6\n",
      "Energy per atom: Epot = -4.388eV  Ekin = 0.080eV (T=621K)  Etot = -4.308eV, time elapsed: 2802.7\n",
      "Energy per atom: Epot = -4.384eV  Ekin = 0.083eV (T=645K)  Etot = -4.301eV, time elapsed: 2803.8\n",
      "Energy per atom: Epot = -4.381eV  Ekin = 0.087eV (T=675K)  Etot = -4.293eV, time elapsed: 2804.9\n",
      "Energy per atom: Epot = -4.371eV  Ekin = 0.074eV (T=571K)  Etot = -4.298eV, time elapsed: 2806.0\n",
      "Energy per atom: Epot = -4.388eV  Ekin = 0.085eV (T=655K)  Etot = -4.304eV, time elapsed: 2807.1\n",
      "Energy per atom: Epot = -4.394eV  Ekin = 0.083eV (T=641K)  Etot = -4.311eV, time elapsed: 2808.2\n",
      "Energy per atom: Epot = -4.386eV  Ekin = 0.070eV (T=540K)  Etot = -4.317eV, time elapsed: 2809.2\n",
      "Energy per atom: Epot = -4.375eV  Ekin = 0.067eV (T=517K)  Etot = -4.308eV, time elapsed: 2810.3\n",
      "Energy per atom: Epot = -4.386eV  Ekin = 0.072eV (T=558K)  Etot = -4.313eV, time elapsed: 2811.4\n",
      "Energy per atom: Epot = -4.381eV  Ekin = 0.067eV (T=518K)  Etot = -4.314eV, time elapsed: 2812.5\n",
      "Energy per atom: Epot = -4.376eV  Ekin = 0.061eV (T=472K)  Etot = -4.315eV, time elapsed: 2813.6\n",
      "Energy per atom: Epot = -4.382eV  Ekin = 0.056eV (T=434K)  Etot = -4.326eV, time elapsed: 2814.7\n",
      "Energy per atom: Epot = -4.401eV  Ekin = 0.068eV (T=527K)  Etot = -4.333eV, time elapsed: 2815.8\n",
      "Energy per atom: Epot = -4.400eV  Ekin = 0.069eV (T=533K)  Etot = -4.331eV, time elapsed: 2816.9\n",
      "Energy per atom: Epot = -4.384eV  Ekin = 0.061eV (T=471K)  Etot = -4.323eV, time elapsed: 2818.0\n",
      "Energy per atom: Epot = -4.381eV  Ekin = 0.062eV (T=477K)  Etot = -4.320eV, time elapsed: 2819.1\n",
      "Energy per atom: Epot = -4.391eV  Ekin = 0.073eV (T=567K)  Etot = -4.317eV, time elapsed: 2820.2\n",
      "Energy per atom: Epot = -4.388eV  Ekin = 0.064eV (T=496K)  Etot = -4.324eV, time elapsed: 2821.3\n",
      "Energy per atom: Epot = -4.402eV  Ekin = 0.082eV (T=633K)  Etot = -4.320eV, time elapsed: 2822.5\n",
      "Energy per atom: Epot = -4.388eV  Ekin = 0.068eV (T=523K)  Etot = -4.320eV, time elapsed: 2823.7\n",
      "Energy per atom: Epot = -4.386eV  Ekin = 0.061eV (T=471K)  Etot = -4.325eV, time elapsed: 2824.8\n",
      "Energy per atom: Epot = -4.389eV  Ekin = 0.070eV (T=541K)  Etot = -4.319eV, time elapsed: 2825.9\n",
      "Energy per atom: Epot = -4.383eV  Ekin = 0.072eV (T=558K)  Etot = -4.311eV, time elapsed: 2827.0\n",
      "Energy per atom: Epot = -4.367eV  Ekin = 0.059eV (T=459K)  Etot = -4.308eV, time elapsed: 2828.1\n",
      "Energy per atom: Epot = -4.394eV  Ekin = 0.086eV (T=669K)  Etot = -4.307eV, time elapsed: 2829.1\n",
      "Energy per atom: Epot = -4.378eV  Ekin = 0.082eV (T=631K)  Etot = -4.297eV, time elapsed: 2830.2\n",
      "Energy per atom: Epot = -4.362eV  Ekin = 0.067eV (T=519K)  Etot = -4.295eV, time elapsed: 2831.2\n",
      "Energy per atom: Epot = -4.389eV  Ekin = 0.086eV (T=666K)  Etot = -4.302eV, time elapsed: 2832.3\n",
      "Energy per atom: Epot = -4.390eV  Ekin = 0.082eV (T=636K)  Etot = -4.308eV, time elapsed: 2833.4\n",
      "Energy per atom: Epot = -4.377eV  Ekin = 0.067eV (T=517K)  Etot = -4.310eV, time elapsed: 2834.5\n",
      "Energy per atom: Epot = -4.402eV  Ekin = 0.096eV (T=741K)  Etot = -4.307eV, time elapsed: 2835.5\n",
      "Energy per atom: Epot = -4.387eV  Ekin = 0.078eV (T=601K)  Etot = -4.309eV, time elapsed: 2836.6\n",
      "Energy per atom: Epot = -4.385eV  Ekin = 0.075eV (T=577K)  Etot = -4.310eV, time elapsed: 2838.0\n",
      "Energy per atom: Epot = -4.372eV  Ekin = 0.069eV (T=531K)  Etot = -4.304eV, time elapsed: 2839.0\n",
      "Energy per atom: Epot = -4.390eV  Ekin = 0.089eV (T=690K)  Etot = -4.301eV, time elapsed: 2840.3\n",
      "Energy per atom: Epot = -4.363eV  Ekin = 0.061eV (T=471K)  Etot = -4.302eV, time elapsed: 2841.5\n",
      "Energy per atom: Epot = -4.383eV  Ekin = 0.082eV (T=632K)  Etot = -4.301eV, time elapsed: 2842.6\n",
      "Energy per atom: Epot = -4.362eV  Ekin = 0.068eV (T=523K)  Etot = -4.295eV, time elapsed: 2843.6\n",
      "Energy per atom: Epot = -4.383eV  Ekin = 0.087eV (T=677K)  Etot = -4.295eV, time elapsed: 2844.8\n",
      "Energy per atom: Epot = -4.374eV  Ekin = 0.075eV (T=583K)  Etot = -4.299eV, time elapsed: 2845.9\n",
      "Energy per atom: Epot = -4.376eV  Ekin = 0.074eV (T=572K)  Etot = -4.302eV, time elapsed: 2846.9\n",
      "Energy per atom: Epot = -4.396eV  Ekin = 0.083eV (T=645K)  Etot = -4.313eV, time elapsed: 2848.0\n",
      "Energy per atom: Epot = -4.388eV  Ekin = 0.079eV (T=613K)  Etot = -4.309eV, time elapsed: 2849.0\n",
      "Energy per atom: Epot = -4.395eV  Ekin = 0.074eV (T=574K)  Etot = -4.321eV, time elapsed: 2850.1\n",
      "Energy per atom: Epot = -4.389eV  Ekin = 0.062eV (T=483K)  Etot = -4.327eV, time elapsed: 2851.2\n",
      "Energy per atom: Epot = -4.378eV  Ekin = 0.050eV (T=389K)  Etot = -4.327eV, time elapsed: 2852.3\n",
      "Energy per atom: Epot = -4.386eV  Ekin = 0.051eV (T=393K)  Etot = -4.335eV, time elapsed: 2853.4\n",
      "Energy per atom: Epot = -4.388eV  Ekin = 0.055eV (T=424K)  Etot = -4.333eV, time elapsed: 2854.4\n",
      "Energy per atom: Epot = -4.399eV  Ekin = 0.058eV (T=447K)  Etot = -4.342eV, time elapsed: 2855.5\n",
      "Energy per atom: Epot = -4.394eV  Ekin = 0.065eV (T=502K)  Etot = -4.329eV, time elapsed: 2856.5\n",
      "Energy per atom: Epot = -4.388eV  Ekin = 0.066eV (T=511K)  Etot = -4.322eV, time elapsed: 2857.6\n",
      "Energy per atom: Epot = -4.388eV  Ekin = 0.067eV (T=522K)  Etot = -4.321eV, time elapsed: 2858.7\n",
      "Energy per atom: Epot = -4.381eV  Ekin = 0.069eV (T=536K)  Etot = -4.312eV, time elapsed: 2859.7\n",
      "Energy per atom: Epot = -4.381eV  Ekin = 0.077eV (T=595K)  Etot = -4.304eV, time elapsed: 2860.8\n",
      "Energy per atom: Epot = -4.369eV  Ekin = 0.071eV (T=548K)  Etot = -4.299eV, time elapsed: 2861.9\n",
      "Energy per atom: Epot = -4.372eV  Ekin = 0.083eV (T=641K)  Etot = -4.289eV, time elapsed: 2863.0\n",
      "Energy per atom: Epot = -4.368eV  Ekin = 0.076eV (T=586K)  Etot = -4.292eV, time elapsed: 2864.1\n",
      "Energy per atom: Epot = -4.383eV  Ekin = 0.089eV (T=692K)  Etot = -4.294eV, time elapsed: 2865.1\n",
      "Energy per atom: Epot = -4.365eV  Ekin = 0.071eV (T=551K)  Etot = -4.294eV, time elapsed: 2866.2\n",
      "Energy per atom: Epot = -4.386eV  Ekin = 0.091eV (T=701K)  Etot = -4.295eV, time elapsed: 2867.3\n",
      "Energy per atom: Epot = -4.378eV  Ekin = 0.078eV (T=601K)  Etot = -4.300eV, time elapsed: 2868.4\n",
      "Energy per atom: Epot = -4.374eV  Ekin = 0.069eV (T=532K)  Etot = -4.305eV, time elapsed: 2869.4\n",
      "Energy per atom: Epot = -4.375eV  Ekin = 0.077eV (T=595K)  Etot = -4.298eV, time elapsed: 2870.5\n",
      "Energy per atom: Epot = -4.386eV  Ekin = 0.098eV (T=761K)  Etot = -4.288eV, time elapsed: 2871.6\n",
      "Energy per atom: Epot = -4.383eV  Ekin = 0.091eV (T=706K)  Etot = -4.292eV, time elapsed: 2872.8\n",
      "Energy per atom: Epot = -4.388eV  Ekin = 0.099eV (T=767K)  Etot = -4.288eV, time elapsed: 2874.1\n",
      "Energy per atom: Epot = -4.385eV  Ekin = 0.087eV (T=670K)  Etot = -4.299eV, time elapsed: 2875.2\n",
      "Energy per atom: Epot = -4.390eV  Ekin = 0.094eV (T=724K)  Etot = -4.297eV, time elapsed: 2876.3\n",
      "Energy per atom: Epot = -4.381eV  Ekin = 0.075eV (T=583K)  Etot = -4.305eV, time elapsed: 2877.4\n",
      "Energy per atom: Epot = -4.376eV  Ekin = 0.068eV (T=530K)  Etot = -4.307eV, time elapsed: 2878.5\n"
     ]
    },
    {
     "data": {
      "text/plain": [
       "True"
      ]
     },
     "execution_count": 87,
     "metadata": {},
     "output_type": "execute_result"
    }
   ],
   "source": [
    "# Now run the dynamics\n",
    "steps = 80000 - 1\n",
    "dyn.run(steps)"
   ]
  },
  {
   "cell_type": "code",
   "execution_count": 54,
   "metadata": {},
   "outputs": [
    {
     "data": {
      "application/vnd.jupyter.widget-view+json": {
       "model_id": "9d1e675033494ab1bd6bd458fe11bd8d",
       "version_major": 2,
       "version_minor": 0
      },
      "text/plain": [
       "HBox(children=(NGLWidget(max_frame=19999), VBox(children=(Dropdown(description='Show', options=('All', 'Ni'), …"
      ]
     },
     "metadata": {},
     "output_type": "display_data"
    }
   ],
   "source": [
    "traj = Trajectory('reference.traj', 'r', atoms)\n",
    "ngl.view_ngl(traj, w=500, h=500)"
   ]
  },
  {
   "cell_type": "markdown",
   "metadata": {},
   "source": [
    "## The Vector-Valued Estimator Problem\n",
    "When mapping a scalar function $\\mathbb{R}^{N}\\rightarrow\\mathbb{R}$ each entry in the kernel function correspond to one input vector ($x_i$). In the vector output case, we have multiple outputs for each input. Because of this limitation, we need to construct our kernel function carefully."
   ]
  },
  {
   "cell_type": "markdown",
   "metadata": {},
   "source": [
    "### The Navie Approch:\n",
    "We can create an independent estimator for each value in the force vector.\n",
    "$$\n",
    "\\mathbf{\\hat{f}}=\\begin{bmatrix}\\hat{f}_1(x), \\dots, \\hat{f}_N\\end{bmatrix}^{T}\\\\\n",
    "$$\n",
    "$$\n",
    "\\hat{f}_i(x) = \\mathcal{GP}\\begin{bmatrix}\\mathbf{\\mu(x)_i}, \\mathbf{k(x,x^{'})_i}\\end{bmatrix}\\\\\n",
    "$$\n",
    "$$\n",
    "\\mathbf{\\hat{f}}=\\begin{bmatrix}\\hat{f}_1(x) \\\\ \\dots \\\\ \\hat{f}_N(x)\\end{bmatrix}\n",
    "=\\begin{bmatrix}\\mathcal{GP}\\begin{bmatrix}\\mathbf{\\mu(x)_1}, \\mathbf{k(x,x^{'})_1}\\end{bmatrix} \\\\ \n",
    "\\dots\n",
    "\\\\ \\mathcal{GP}\\begin{bmatrix}\\mathbf{\\mu(x)_N}, \\mathbf{k(x,x^{'})_N}\\end{bmatrix}\\end{bmatrix}\n",
    "$$"
   ]
  },
  {
   "cell_type": "code",
   "execution_count": 74,
   "metadata": {},
   "outputs": [
    {
     "name": "stdout",
     "output_type": "stream",
     "text": [
      "train points: 996\n"
     ]
    }
   ],
   "source": [
    "traj = Trajectory('reference.traj', 'r', atoms)\n",
    "start, every = 100, 10\n",
    "(x, y), (x_test, y_test) = md_dataset_split(traj, start, every)\n",
    "print(f'train points: {len(x)}')\n",
    "noise = 0.2\n",
    "steps = 20000"
   ]
  },
  {
   "cell_type": "code",
   "execution_count": 75,
   "metadata": {},
   "outputs": [
    {
     "data": {
      "application/vnd.jupyter.widget-view+json": {
       "model_id": "bd28cfe05ba9420193a2bc3626bc2117",
       "version_major": 2,
       "version_minor": 0
      },
      "text/plain": [
       "Canvas(toolbar=Toolbar(toolitems=[('Home', 'Reset original view', 'home', 'home'), ('Back', 'Back to previous …"
      ]
     },
     "metadata": {},
     "output_type": "display_data"
    }
   ],
   "source": [
    "from sklearn.gaussian_process.kernels import ConstantKernel, RBF\n",
    "kernal= ConstantKernel(1.0) * RBF(length_scale=1.0)\n",
    "gpr = GaussianProcessRegressor(kernel=kernal, alpha=noise**2)\n",
    "gpr.fit(x, y)\n",
    "plot_gpr(gpr, x, y, x_test, y_test)"
   ]
  },
  {
   "cell_type": "code",
   "execution_count": 21,
   "metadata": {},
   "outputs": [
    {
     "data": {
      "application/vnd.jupyter.widget-view+json": {
       "model_id": "330076dce63e48c98c06638920520496",
       "version_major": 2,
       "version_minor": 0
      },
      "text/plain": [
       "HBox(children=(HTML(value=''), FloatProgress(value=0.0, max=20000.0), HTML(value='')))"
      ]
     },
     "metadata": {},
     "output_type": "display_data"
    },
    {
     "data": {
      "application/vnd.jupyter.widget-view+json": {
       "model_id": "7e8edf0048384930bb1909d0fe7aad1d",
       "version_major": 2,
       "version_minor": 0
      },
      "text/plain": [
       "HBox(children=(NGLWidget(max_frame=20000), VBox(children=(Dropdown(description='Show', options=('All', 'Ni'), …"
      ]
     },
     "metadata": {},
     "output_type": "display_data"
    }
   ],
   "source": [
    "import gc\n",
    "gc.collect()\n",
    "atoms = atoms_copy.copy()\n",
    "atoms.calc = GPRCalculator(gpr)\n",
    "MaxwellBoltzmannDistribution(atoms, T * 2 * units.kB)\n",
    "dyn = Langevin(atoms, 1 * units.fs, T * units.kB, 0.002)\n",
    "traj = Trajectory('moldyn_gdr.traj', 'w', atoms)\n",
    "interval = 1\n",
    "dyn.attach(printenergy_slim(steps, interval), interval=interval)\n",
    "dyn.attach(traj.write, interval=1)\n",
    "dyn.run(steps)\n",
    "traj = Trajectory('moldyn_gdr.traj', 'r', atoms)\n",
    "ngl.view_ngl(traj, w=500, h=500)\n"
   ]
  },
  {
   "cell_type": "markdown",
   "metadata": {},
   "source": [
    "### Sme Tricks\n",
    "##### change the kernal:\n",
    "##### The Matérn kernel\n",
    "It is generally assumed that overly smooth priors are detrimental to data efficiency, even if the prediction target is in fact indefinitely differentiable. For that reason, we will try to uses a Matérn kernel with restricted differentiability to construct the force field kernel function,\n",
    "$$\n",
    "k: C_{\\mu=n+\\frac{1}{2}}(d)=exp{-\\frac{\\sqrt{2\\nu}d}{\\sigma}}P_{n}(d)\n",
    "$$\n",
    "$$\n",
    "P_n(d)=\\sum_{k=0}^{n}{\\frac{(n+k)!}{(2n)!}}\\begin{pmatrix}n\\\\k\\end{pmatrix}\\begin{pmatrix}\\frac{2\\sqrt{2\\nu}d}{\\sigma}\\end{pmatrix}^{n-k}\n",
    "$$"
   ]
  },
  {
   "cell_type": "code",
   "execution_count": 76,
   "metadata": {},
   "outputs": [
    {
     "data": {
      "application/vnd.jupyter.widget-view+json": {
       "model_id": "7d2769b7c79845b1809043f89ed77fc8",
       "version_major": 2,
       "version_minor": 0
      },
      "text/plain": [
       "Canvas(toolbar=Toolbar(toolitems=[('Home', 'Reset original view', 'home', 'home'), ('Back', 'Back to previous …"
      ]
     },
     "metadata": {},
     "output_type": "display_data"
    }
   ],
   "source": [
    "from sklearn.gaussian_process.kernels import ConstantKernel, RBF, Matern\n",
    "kernal= Matern(length_scale=1.0, nu=2.5)\n",
    "gpr = GaussianProcessRegressor(kernel=kernal, alpha=noise**2)\n",
    "gpr.fit(x, y)\n",
    "plot_gpr(gpr, x, y, x_test, y_test)"
   ]
  },
  {
   "cell_type": "code",
   "execution_count": 23,
   "metadata": {},
   "outputs": [
    {
     "data": {
      "application/vnd.jupyter.widget-view+json": {
       "model_id": "0656039669e0430580db80e5e76888ef",
       "version_major": 2,
       "version_minor": 0
      },
      "text/plain": [
       "HBox(children=(HTML(value=''), FloatProgress(value=0.0, max=20000.0), HTML(value='')))"
      ]
     },
     "metadata": {},
     "output_type": "display_data"
    },
    {
     "data": {
      "application/vnd.jupyter.widget-view+json": {
       "model_id": "c218b1bda4294e9b932036cbf300a6d0",
       "version_major": 2,
       "version_minor": 0
      },
      "text/plain": [
       "HBox(children=(NGLWidget(max_frame=20000), VBox(children=(Dropdown(description='Show', options=('All', 'Ni'), …"
      ]
     },
     "metadata": {},
     "output_type": "display_data"
    }
   ],
   "source": [
    "atoms = atoms_copy.copy()\n",
    "atoms.calc = GPRCalculator(gpr)\n",
    "MaxwellBoltzmannDistribution(atoms, T * 2 * units.kB)\n",
    "dyn = Langevin(atoms, 1 * units.fs, T * units.kB, 0.002)\n",
    "traj = Trajectory('moldyn_gdr.traj', 'w', atoms)\n",
    "interval = 1\n",
    "dyn.attach(printenergy_slim(steps, interval), interval=interval)\n",
    "dyn.attach(traj.write, interval=1)\n",
    "dyn.run(steps)\n",
    "traj = Trajectory('moldyn_gdr.traj', 'r', atoms)\n",
    "ngl.view_ngl(traj, w=500, h=500)"
   ]
  },
  {
   "cell_type": "markdown",
   "metadata": {},
   "source": [
    "#### Normalize y\n",
    "By normalizing the output value, we can \"center\" our output values around zero and $\\sigma=1$ for all dimensions and reduce the overexpression of a certain axis.\n",
    "$$\n",
    "\\hat{y}_{train} = \\frac{y_{train}-E[y_{train}]}{\\sqrt{Var[y_{train}]}}\n",
    "$$"
   ]
  },
  {
   "cell_type": "code",
   "execution_count": 77,
   "metadata": {},
   "outputs": [
    {
     "data": {
      "application/vnd.jupyter.widget-view+json": {
       "model_id": "d2cc884d15024a509c0fc11e4bcfb004",
       "version_major": 2,
       "version_minor": 0
      },
      "text/plain": [
       "Canvas(toolbar=Toolbar(toolitems=[('Home', 'Reset original view', 'home', 'home'), ('Back', 'Back to previous …"
      ]
     },
     "metadata": {},
     "output_type": "display_data"
    }
   ],
   "source": [
    "kernal= Matern(length_scale=1.0, nu=2.5)\n",
    "gpr = GaussianProcessRegressor(kernel=kernal, alpha=noise**2, normalize_y=True)\n",
    "gpr.fit(x, y)\n",
    "plot_gpr(gpr, x, y, x_test, y_test)"
   ]
  },
  {
   "cell_type": "code",
   "execution_count": 25,
   "metadata": {},
   "outputs": [
    {
     "data": {
      "application/vnd.jupyter.widget-view+json": {
       "model_id": "4b570d0bca374181b75c7b23137e74d9",
       "version_major": 2,
       "version_minor": 0
      },
      "text/plain": [
       "HBox(children=(HTML(value=''), FloatProgress(value=0.0, max=30000.0), HTML(value='')))"
      ]
     },
     "metadata": {},
     "output_type": "display_data"
    },
    {
     "data": {
      "application/vnd.jupyter.widget-view+json": {
       "model_id": "122d9239f6024c8ca9d21c075c58e25b",
       "version_major": 2,
       "version_minor": 0
      },
      "text/plain": [
       "HBox(children=(NGLWidget(max_frame=30000), VBox(children=(Dropdown(description='Show', options=('All', 'Ni'), …"
      ]
     },
     "metadata": {},
     "output_type": "display_data"
    }
   ],
   "source": [
    "xatoms = atoms_copy.copy()\n",
    "atoms.calc = GPRCalculator(gpr)\n",
    "MaxwellBoltzmannDistribution(atoms, T * 2 * units.kB)\n",
    "dyn = Langevin(atoms, 1 * units.fs, T * units.kB, 0.002)\n",
    "steps = 30000\n",
    "traj = Trajectory('moldyn_gdr.traj', 'w', atoms)\n",
    "interval = 1\n",
    "dyn.attach(printenergy_slim(steps, interval), interval=interval)\n",
    "dyn.attach(traj.write, interval=1)\n",
    "dyn.run(steps)\n",
    "traj = Trajectory('moldyn_gdr.traj', 'r', atoms)\n",
    "ngl.view_ngl(traj, w=500, h=500)"
   ]
  },
  {
   "cell_type": "markdown",
   "metadata": {},
   "source": [
    "### Roto-translational invariance\n",
    "Covariance functions remain valid under any transformation of their domain\n",
    ") is again a kernel function. A rather trivial implication is that all\n",
    "invariances of that input transformation are inherited, providing yet another opportunity\n",
    "to characterize the properties of the predictor [92].\n",
    "\n",
    "The so-called Coulomb matrix representation [7] goes one step further and represents\n",
    "each pair of nuclei in terms their Coulomb interaction instead of a simple distance. The\n",
    "Coulomb energy is the only nuclei-nuclei interaction term in the Hamiltonian and empirically a good starting point for inference about molecular properties [9]. We use a slight\n",
    "variation of this descriptor for our purpose, whereby atoms of different type interact on a\n",
    "normalized scale,\n",
    "$$\n",
    "D_{ij}=\\begin{matrix}\\lVert{r_i - r_j}\\lVert & i > j \\\\ 0 & i \\leq j \\end{matrix} \n",
    "$$"
   ]
  },
  {
   "cell_type": "code",
   "execution_count": 78,
   "metadata": {},
   "outputs": [
    {
     "data": {
      "application/vnd.jupyter.widget-view+json": {
       "model_id": "6c7d0ace1a13483ebc43bcfdc4aa488b",
       "version_major": 2,
       "version_minor": 0
      },
      "text/plain": [
       "Canvas(toolbar=Toolbar(toolitems=[('Home', 'Reset original view', 'home', 'home'), ('Back', 'Back to previous …"
      ]
     },
     "metadata": {},
     "output_type": "display_data"
    }
   ],
   "source": [
    "d, d_test = x_to_d(x, lat), x_to_d(x_test,lat)\n",
    "kernal= Matern(length_scale=1.0, nu=2.5)\n",
    "gpr = GaussianProcessRegressor(kernel=kernal, alpha=noise**2, normalize_y=True)\n",
    "gpr.fit(d, y)\n",
    "plot_gpr(gpr, d, y, d_test, y_test)"
   ]
  },
  {
   "cell_type": "code",
   "execution_count": 28,
   "metadata": {},
   "outputs": [
    {
     "data": {
      "application/vnd.jupyter.widget-view+json": {
       "model_id": "091acfb9f2194161a91e142b2ce97f9e",
       "version_major": 2,
       "version_minor": 0
      },
      "text/plain": [
       "HBox(children=(HTML(value=''), FloatProgress(value=0.0, max=30000.0), HTML(value='')))"
      ]
     },
     "metadata": {},
     "output_type": "display_data"
    },
    {
     "data": {
      "application/vnd.jupyter.widget-view+json": {
       "model_id": "00d8a0661a8d483a987c989d886f31dd",
       "version_major": 2,
       "version_minor": 0
      },
      "text/plain": [
       "HBox(children=(NGLWidget(max_frame=3000), VBox(children=(Dropdown(description='Show', options=('All', 'Ni'), v…"
      ]
     },
     "metadata": {},
     "output_type": "display_data"
    }
   ],
   "source": [
    "atoms = atoms_copy.copy()\n",
    "atoms.calc = iGPRCalculator(gpr, lat)\n",
    "MaxwellBoltzmannDistribution(atoms, T * 2 * units.kB)\n",
    "dyn = Langevin(atoms, 1 * units.fs, T * units.kB, 0.002)\n",
    "traj = Trajectory('moldyn_gdr.traj', 'w', atoms)\n",
    "interval = 1\n",
    "dyn.attach(printenergy_slim(steps, interval), interval=interval)\n",
    "dyn.attach(traj.write, interval=10)\n",
    "dyn.run(steps)\n",
    "traj = Trajectory('moldyn_gdr.traj', 'r', atoms)\n",
    "ngl.view_ngl(traj, w=500, h=500)"
   ]
  },
  {
   "cell_type": "markdown",
   "metadata": {},
   "source": [
    "## Using Physical Insights to Build the Block Kernel\n",
    "### Applying a Linear Operator\n",
    "One way to construct the block kernel is by starting with a single-value estimator $\\hat{f}$ and then applying a linear operator - $\\hat{G}$ on it to obtain a vector estimator and obtain the following GP:\n",
    "$$\n",
    "\\mathbf{\\hat{g}(x)} ∼ \\mathcal{GP}\\begin{bmatrix}\\mathbf{\\hat{G}\\mu(x)}, \\hat{G}\\mathbf{k(x,x^{'})}{\\hat{G}'}^{T}\\end{bmatrix}\n",
    "$$\n",
    "\n",
    "for A, B linear operators\n",
    "$$\n",
    "Cov[Ax,By]=ACov[x,y]B^{T}\\\\\n",
    "E[Ax] = AE[x]\n",
    "$$"
   ]
  },
  {
   "cell_type": "markdown",
   "metadata": {},
   "source": [
    "### Conservative Force Field\n",
    "In our case we are looking for crating an estimator for the force field. One of the most fundamental constrain on any force field is the preservation of energy i.e. the force field have to be a conservative force field. And in mathematical term we require that the curl vanishes  for every\n",
    "input to the transformed energy model:\n",
    "$$\n",
    "\\nabla\\times \\hat{G}\\begin{bmatrix}\\hat{f}\\end{bmatrix} =\\nabla\\times \\mathbf{f_F} = \\mathbf{0}\n",
    "$$\n",
    "Not suprising the derivative operator $\\nabla$ satisfied or, in the case of\n",
    "energies and forces, the negative gradient operator\n",
    "$$\n",
    "\\mathbf{\\hat{f}_{F}(x)}=\\hat{G}\\begin{bmatrix}\\hat{f}\\end{bmatrix}=-\\nabla\\hat{f}\n",
    "$$"
   ]
  },
  {
   "cell_type": "markdown",
   "metadata": {},
   "source": [
    "And thank to notion that differentiation is a linear operator, the result is another GP with realizations $\\mathbf{f_F}: \\chi^{3N}\\rightarrow \\mathbb{R}^{3N}$\n",
    "$$\n",
    "\\mathbf{\\hat{f}_F(x)} ∼ \\mathcal{GP}\\begin{bmatrix}\\mathbf{-\\nabla_x\\mu(x)}, \\nabla_x\\mathbf{k(x,x^{'})}{ \\nabla_{x'}}^{T}\\end{bmatrix}\n",
    "$$\n",
    "\n",
    "$$\n",
    "\\nabla\\mathbf{k}{ \\nabla}^{T}=Hess_x(k)\n",
    "$$\n",
    "$$\n",
    "\\begin{bmatrix}Hess_x(k)\\end{bmatrix}_{ij}=\\frac{\\partial^2 k}{\\partial x_i \\partial x_j}\n",
    "$$"
   ]
  },
  {
   "cell_type": "markdown",
   "metadata": {},
   "source": [
    "## Gradient Domain Machine Learning (GDML)\n",
    "This Hessian kernel gives rise to the following gradient domain machine\n",
    "learning (GDML) force model as the posterior mean of the corresponding GP:<br>\n",
    "he trained force field estimator collects the contributions of the\n",
    "partial derivatives 3N of all training points M to compile the prediction.\n",
    "It takes the form\n",
    "$$\n",
    "\\mathbf{\\hat{f}_F(x)}=\\sum_i^M{\\sum_j^{3N}{(\\mathbf{\\alpha_i})_j\\frac{\\partial}{\\partial x_j}\\nabla k(\\mathbf{x}, \\mathbf{x_i})}}\n",
    "$$\n",
    "    \n",
    "Because the trained model is a (fixed) linear combination of kernel functions,\n",
    "integration only affects the kernel function itself. The corresponding expression for\n",
    "the energy predictor\n",
    "$$\n",
    "\\mathbf{\\hat{f}_E(x)}=\\sum_i^M{\\sum_j^{3N}{(\\mathbf{\\alpha_i})_j\\frac{\\partial}{\\partial x_j} k(\\mathbf{x}, \\mathbf{x_i})}}\n",
    "$$"
   ]
  },
  {
   "cell_type": "markdown",
   "metadata": {},
   "source": [
    "For more details, see [Proof 2](#Proof_2)"
   ]
  },
  {
   "cell_type": "markdown",
   "metadata": {},
   "source": [
    "### Roto-translational invariance\n",
    "Covariance functions remain valid under any transformation of their domain $D : X → D,\n",
    "i.e. k(D(x),D(x′)) = k_D(x,x′)$ is again a kernel function.\n",
    "$$\n",
    "D_{ij}=\\begin{matrix}\\lVert{r_i - r_j}\\lVert & i > j \\\\ 0 & i \\leq j \\end{matrix} \n",
    "$$\n",
    "And under the chain rule:\n",
    "$$\n",
    "\\mathbf{k_F}=\\nabla_x k_D \\nabla_x^\\top = \\mathbf{J_D}^\\top(\\nabla_D k_D \\nabla_D^\\top)\\mathbf{J_D}\n",
    "$$\n",
    "Where:\n",
    "$$\n",
    "\\nabla_x = \\begin{pmatrix}\\frac{\\partial}{\\partial x_1} \\\\ \\dots \\\\ \\frac{\\partial}{\\partial x_{3N}}\\end{pmatrix}=\n",
    "\\begin{pmatrix}\\frac{\\partial D_{11}}{\\partial x_1}\\frac{\\partial}{\\partial  D_{11}} +\n",
    "                \\frac{\\partial D_{12}}{\\partial x_1}\\frac{\\partial}{\\partial  D_{12}} + \n",
    "                \\dots\n",
    "                \\frac{\\partial D_{1N}}{\\partial x_1}\\frac{\\partial}{\\partial  D_{1N}} +\n",
    "                \\frac{\\partial D_{23}}{\\partial x_1}\\frac{\\partial}{\\partial  D_{23}} +\n",
    "                \\dots\n",
    "                \\frac{\\partial D_{NN}}{\\partial x_1}\\frac{\\partial}{\\partial  D_{NN}}\\\\\n",
    "                \\dots \\\\ \n",
    "                \\frac{\\partial D_{11}}{\\partial x_{3N}}\\frac{\\partial}{\\partial  D_{11}} +\n",
    "                \\frac{\\partial D_{12}}{\\partial x_{3N}}\\frac{\\partial}{\\partial  D_{12}} + \n",
    "                \\dots\n",
    "                \\frac{\\partial D_{1N}}{\\partial x_{3N}}\\frac{\\partial}{\\partial  D_{1N}} +\n",
    "                \\frac{\\partial D_{23}}{\\partial x_{3N}}\\frac{\\partial}{\\partial  D_{23}} +\n",
    "                \\dots\n",
    "                \\frac{\\partial D_{NN}}{\\partial x_{3N}}\\frac{\\partial}{\\partial  D_{NN}}\\end{pmatrix}=\n",
    "\\begin{pmatrix}\\frac{\\partial D_{11}}{\\partial x_1} &\n",
    "               \\frac{\\partial D_{12}}{\\partial x_1} &  \n",
    "               \\dots &\n",
    "               \\frac{\\partial D_{1N}}{\\partial x_1} &\n",
    "               \\frac{\\partial D_{23}}{\\partial x_1} & \n",
    "               \\dots &\n",
    "               \\frac{\\partial D_{NN}}{\\partial x_1} \\\\\n",
    "               \\dots & \\dots & \\dots & \\dots & \\dots & \\dots \\\\ \n",
    "               \\frac{\\partial D_{11}}{\\partial x_{3N}} & \n",
    "               \\frac{\\partial D_{12}}{\\partial x_{3N}} &  \n",
    "               \\dots &\n",
    "               \\frac{\\partial D_{1N}}{\\partial x_{3N}} &  \n",
    "               \\frac{\\partial D_{23}}{\\partial x_{3N}} & \n",
    "               \\dots &\n",
    "               \\frac{\\partial D_{NN}}{\\partial x_{3N}} \\end{pmatrix}\n",
    "               \\begin{pmatrix}\\frac{\\partial}{\\partial D_{11}} \\\\ \\dots \\\\ \\frac{\\partial}{\\partial D_{NN}}\\end{pmatrix}\n",
    "               =\\mathbf{J_D}^\\top\\nabla_D \\\\\n",
    "               \\\\\n",
    "\\mathbf{J_D}=\\begin{matrix}\\frac{\\mathbf{r_i} - \\mathbf{r_j} }{\\lVert{\\mathbf{r_i}  - \\mathbf{r_j}}\\lVert^3} & i > j \\\\ 0 & i \\leq j \\end{matrix} \n",
    "$$"
   ]
  },
  {
   "cell_type": "markdown",
   "metadata": {},
   "source": [
    "### The Matérn kernel\n",
    "In the GDML model, a Matérn kernel functions is used\n",
    "$$\n",
    "k: C_{\\nu=n+\\frac{1}{2}}(d)=exp{-\\frac{\\sqrt{2\\nu}d}{\\sigma}}P_{n}(d)\n",
    "$$\n",
    "$$\n",
    "P_n(d)=\\sum_{k=0}^{n}{\\frac{(n+k)!}{(2n)!}}\\begin{pmatrix}n\\\\k\\end{pmatrix}\\begin{pmatrix}\\frac{2\\sqrt{2\\nu}d}{\\sigma}\\end{pmatrix}^{n-k}\n",
    "$$\n",
    "\n",
    "### The Block kernel\n",
    "\n",
    "$$\n",
    "\\mathbf{k_F(x, x^{'})}=\\nabla k(x, x^{'})\\nabla ^\\top=\\begin{bmatrix}\\frac{\\partial}{\\partial x^{'}_1 }\\nabla k(x,x^{'}),\\dots,\\frac{\\partial}{\\partial x^{'}_{3N} }\\nabla k(x,x^{'})\\end{bmatrix}\n",
    "$$\n",
    "$$\n",
    "=\\begin{pmatrix}5(\\mathbf{x-x^{'}})(\\mathbf{x-x^{'}})^\\top-\\mathbb{1}\\sigma(\\sigma +\\sqrt{5}d))\\end{pmatrix}\\frac{5}{3\\sigma^{4}}exp\\begin{pmatrix}-\\frac{\\sqrt{5}d}{\\sigma}\\end{pmatrix}\n",
    "$$\n",
    "$$\n",
    "\\mathbf{k_F(x, x^{'})}\\in \\mathbb{R}^{3N \\times 3N}\n",
    "$$\n",
    "\n",
    "$$\n",
    "\\mathbf{k_E(x, x^{'})}=k(x, x^{'})\\nabla ^\\top\n",
    "=5(\\mathbf{x-x^{'}})(\\sigma+d)\\frac{5}{3\\sigma^{3}}exp\\begin{pmatrix}-\\frac{\\sqrt{5}d}{\\sigma}\\end{pmatrix}\n",
    "$$\n",
    "$$\n",
    "\\mathbf{k_E(x, x^{'})}\\in \\mathbb{R}^{1 \\times 3N}\n",
    "$$\n"
   ]
  },
  {
   "cell_type": "markdown",
   "metadata": {},
   "source": [
    "For more details, see [Derivation 3](#Derivation_3)\n"
   ]
  },
  {
   "cell_type": "code",
   "execution_count": 55,
   "metadata": {},
   "outputs": [],
   "source": [
    "def block_kernal_F(x1, x2, sig=1):\n",
    "    x1, x2 = x1.reshape([1, -1]), x2.reshape([1, -1])\n",
    "    dim_x = x1.shape[1]\n",
    "    x1, x2 = x1.reshape([dim_x, 1]), x2.reshape([dim_x, 1])\n",
    "    \n",
    "    d = np.linalg.norm(x1-x2)\n",
    "    \n",
    "    right_scalar = (5/(3*sig**4))*np.exp(-(np.sqrt(5)*d)/(sig))\n",
    "    diagonal_sig = np.identity(dim_x)*sig*(sig+np.sqrt(d))\n",
    "    \n",
    "    x1x2 = x1-x2\n",
    "    x1x2t = 5*np.matmul(x1x2, x1x2.T)\n",
    "    \n",
    "    return (x1x2t-diagonal_sig)*right_scalar"
   ]
  },
  {
   "cell_type": "markdown",
   "metadata": {},
   "source": [
    "$$\n",
    "\\mathbf{k_F}=\\nabla_x k_D \\nabla_x^\\top = \\mathbf{J_D}^\\top(\\nabla_D k_D \\nabla_D^\\top)\\mathbf{J_D}\n",
    "$$"
   ]
  },
  {
   "cell_type": "code",
   "execution_count": 56,
   "metadata": {},
   "outputs": [],
   "source": [
    "def Kf(x1, x2, sig):\n",
    "    J_D1 = J_D(x1, lat)\n",
    "    J_D2 = J_D(x2, lat)\n",
    "    Kf = block_kernal_F(x_to_d(x1.reshape([1,-1]), lat), x_to_d(x2.reshape([1,-1]), lat) , sig)\n",
    "    return J_D1.T.dot(Kf.dot(J_D2))"
   ]
  },
  {
   "cell_type": "code",
   "execution_count": 61,
   "metadata": {},
   "outputs": [
    {
     "name": "stdout",
     "output_type": "stream",
     "text": [
      "train points: 51\n"
     ]
    },
    {
     "data": {
      "application/vnd.jupyter.widget-view+json": {
       "model_id": "363f366fa36f49f3a26c63884e469a05",
       "version_major": 2,
       "version_minor": 0
      },
      "text/plain": [
       "HBox(children=(HTML(value=''), FloatProgress(value=0.0, max=2601.0), HTML(value='')))"
      ]
     },
     "metadata": {},
     "output_type": "display_data"
    },
    {
     "name": "stdout",
     "output_type": "stream",
     "text": [
      "\n"
     ]
    }
   ],
   "source": [
    "start, every = 0, 200\n",
    "(x, y), (x_test, y_test) = md_dataset_split(traj, start, every)\n",
    "print(f'train points: {len(x)}')\n",
    "K = full_kernal(x, 1, Kf)\n"
   ]
  },
  {
   "cell_type": "code",
   "execution_count": 62,
   "metadata": {},
   "outputs": [],
   "source": [
    "lam = 1e-10\n",
    "K += lam*np.eye(K.shape[0])\n",
    "K_inv = np.linalg.inv(K)\n",
    "alpha = K_inv.dot(y.reshape([-1, 1]))"
   ]
  },
  {
   "cell_type": "code",
   "execution_count": 66,
   "metadata": {},
   "outputs": [
    {
     "data": {
      "application/vnd.jupyter.widget-view+json": {
       "model_id": "5b95633e7d5a4e1ca7840b9d3af88198",
       "version_major": 2,
       "version_minor": 0
      },
      "text/plain": [
       "HBox(children=(HTML(value=''), FloatProgress(value=0.0, max=51.0), HTML(value='')))"
      ]
     },
     "metadata": {},
     "output_type": "display_data"
    },
    {
     "name": "stdout",
     "output_type": "stream",
     "text": [
      "\n",
      "norm error of : 99.48005652349381 %\n"
     ]
    }
   ],
   "source": [
    "i = 10\n",
    "x_s = x_test[i].reshape([1, -1])\n",
    "k_s = k_star(x, x_s, 1, Kf)\n",
    "\n",
    "y_s = y_test[i].flatten()\n",
    "y_hat_s = k_s.T.dot(alpha).flatten()\n",
    "error = np.linalg.norm(y_hat_s-y_s)/np.linalg.norm(y_s)\n",
    "print(f'norm error of : {error*100} %')\n"
   ]
  },
  {
   "cell_type": "code",
   "execution_count": 88,
   "metadata": {},
   "outputs": [
    {
     "name": "stdout",
     "output_type": "stream",
     "text": [
      "\u001b[1;37;40m[INFO]\u001b[0m Overwriting existing dataset file.\n",
      "Writing dataset to 'reference.npz'...\n",
      "Number geometries found: 99,999\n",
      "\n",
      "\u001b[1;32;40m[DONE]\u001b[0m\n",
      "\u001b[1;37mDataset properties\u001b[0m\n",
      "  Name:              reference (32 atoms)\n",
      "  Theory:            unknown\n",
      "  Size:              99,999 data points\n",
      "  Lattice:           a     b     c    \n",
      "                     7.038 0     0    \n",
      "                     0     7.038 0    \n",
      "                     0     0     7.038\n",
      "    Lengths:         a = 7.038, b = 7.038, c = 7.038\n",
      "    Angles [deg]:    alpha = 90, beta = 90, gamma = 90\n",
      "  Energies [eV]:\n",
      "    Range:           -1.42e+02 |--   3.77   --| -1.39e+02\n",
      "    Mean:            -140.205\n",
      "    Variance:        0.147\n",
      "  Forces [eV/Ang]:\n",
      "    Range:           -4.85 |--   9.43   --| 4.59     \n",
      "    Mean:            0.000\n",
      "    Variance:        0.695\n",
      "  Fingerprint:       b'26b8e182d6646a27f86df737f73057ea'\n",
      "\n",
      "\u001b[1;37mExample geometry\u001b[0m (no. 77,043, chosen randomly)\n",
      "  Copy&paste the string below into Jmol (www.jmol.org), Avogadro (www.avogadro.cc), etc. to\n",
      "  visualize a geometry from this dataset. A new example will be drawn on each call.\n",
      "\n",
      "\u001b[90m  ---- CUT HERE --- CUT HERE --- CUT HERE --- CUT HERE --- CUT HERE --- CUT HERE --- CUT HERE ----\u001b[0m\n",
      "  32\n",
      "  Lattice=\"7.038 0 0 0 7.038 0 0 0 7.038\" Energy=-139.987453015 Properties=species:S:1:pos:R:3:forces:R:3\n",
      "  Ni  0.0863169  -0.027004  -0.018328  -1.92673    0.404826  -0.718899 \n",
      "  Ni  0.0352314   1.73032    1.78036   -0.601079   0.524099  -0.369394 \n",
      "  Ni  1.69644    -0.0269483  1.60984    0.580933   0.0183105  1.7622   \n",
      "  Ni  1.77499     1.85415   -0.0375772  0.282529  -0.660478  -0.0221999\n",
      "  Ni  0.0372618   0.0921205  3.54044   -0.474261  -0.843726  -0.16467  \n",
      "  Ni  0.0781055   1.86523    5.2528    -1.26135   -1.25043    1.12058  \n",
      "  Ni  1.80438    -0.0218202  5.33974    0.0765862  0.667553  -0.780864 \n",
      "  Ni  1.68596     1.76265    3.55844    1.75424    0.11656   -0.537594 \n",
      "  Ni  0.00409014  3.49344    0.0372488 -0.488654  -0.186103  -0.808474 \n",
      "  Ni  0.0935351   5.09268    1.72593   -1.12103    2.03757    0.772151 \n",
      "  Ni  1.77253     3.52033    1.74966    0.731573  -0.575392   0.535234 \n",
      "  Ni  1.669       5.24624   -0.140976   1.09247   -0.568588   0.79693  \n",
      "  Ni -0.060164    3.47767    3.59573    0.274332   0.466508  -1.02126  \n",
      "  Ni -0.0860893   5.34913    5.18802    1.14019   -0.135542   1.53316  \n",
      "  Ni  1.81602     3.55621    5.19387   -0.235574  -0.31783    0.695772 \n",
      "  Ni  1.7569      5.27402    3.51886   -0.338745   0.218319  -0.376714 \n",
      "  Ni  3.50327    -0.0553053  0.063144   0.0253824  1.11802   -1.26303  \n",
      "  Ni  3.44896     1.70744    1.81536    0.256356   0.0247856 -0.585318 \n",
      "  Ni  5.34941    -0.110047   1.76494    0.0975083  1.46636    0.427948 \n",
      "  Ni  5.30279     1.6943    -0.0724371  0.38097    0.450159   1.46427  \n",
      "  Ni  3.49135    -0.030672   3.54784   -0.35744    0.503597  -0.909407 \n",
      "  Ni  3.66241     1.77672    5.29401   -2.66312    0.726658   0.397043 \n",
      "  Ni  5.18093     0.0704409  5.21806    1.63918   -1.59629    0.634531 \n",
      "  Ni  5.14677     1.79134    3.51298    2.21343   -0.950062  -0.320641 \n",
      "  Ni  3.52688     3.53506    0.0662569 -0.236305  -0.295896  -0.414898 \n",
      "  Ni  3.48721     5.3686     1.73515   -0.891672  -1.27442    1.70118  \n",
      "  Ni  5.24622     3.50602    1.84218    0.267174  -0.0998356 -0.955332 \n",
      "  Ni  5.14352     5.26801    0.149125   2.14302   -0.14398   -1.94994  \n",
      "  Ni  3.59787     3.49562    3.56419   -1.15574    0.688561  -0.729819 \n",
      "  Ni  3.5354      5.25272    5.14514    0.0389451  0.585766   1.55924  \n",
      "  Ni  5.27725     3.65331    5.38986    0.132357  -1.16024   -0.455088 \n",
      "  Ni  5.39126     5.29402    3.52612   -1.37547    0.0411546 -1.01669  \n",
      "\u001b[90m  ---- CUT HERE --- CUT HERE --- CUT HERE --- CUT HERE --- CUT HERE --- CUT HERE --- CUT HERE ----\u001b[0m\n"
     ]
    }
   ],
   "source": [
    "from sgdml.cli import _print_dataset_properties, _print_model_properties, _print_task_properties\n",
    "\n",
    "dataset_path = 'reference'\n",
    "dataset = from_traj(f'{dataset_path}.traj', overwrite=True)\n",
    "dataset_path = f'{dataset_path}.npz'\n",
    "# test = np.load('ethanol_dft.npz')\n",
    "_print_dataset_properties(dataset)"
   ]
  },
  {
   "cell_type": "code",
   "execution_count": 86,
   "metadata": {},
   "outputs": [
    {
     "name": "stdout",
     "output_type": "stream",
     "text": [
      "please run \"bash run_me.sh\" from the terminal\n"
     ]
    }
   ],
   "source": [
    "n_train = 500\n",
    "n_valid = 10000\n",
    "file = all_script(dataset_path, n_train, n_valid, use_cg=True, use_torch=True)\n",
    "print(f'please run \\\"bash {file}\\\" from the terminal')"
   ]
  },
  {
   "cell_type": "code",
   "execution_count": 84,
   "metadata": {},
   "outputs": [
    {
     "name": "stdout",
     "output_type": "stream",
     "text": [
      "(996, 96)\n"
     ]
    },
    {
     "data": {
      "application/vnd.jupyter.widget-view+json": {
       "model_id": "a8effe0b58ad4040bdf3b8d30d84a20e",
       "version_major": 2,
       "version_minor": 0
      },
      "text/plain": [
       "Canvas(toolbar=Toolbar(toolitems=[('Home', 'Reset original view', 'home', 'home'), ('Back', 'Back to previous …"
      ]
     },
     "metadata": {},
     "output_type": "display_data"
    }
   ],
   "source": [
    "model_path = 'reference-unknown-train100-sym1.npz'\n",
    "traj = Trajectory('reference.traj', 'r', atoms)\n",
    "start, every = 100, 10\n",
    "plot_gdml(model_path, traj, start, every)"
   ]
  },
  {
   "cell_type": "code",
   "execution_count": 58,
   "metadata": {},
   "outputs": [
    {
     "name": "stderr",
     "output_type": "stream",
     "text": [
      "\u001b[1;33;40m[WARN]\u001b[0m Please remember to specify the proper conversion factors, if your model does not use\n",
      "       'kcal/mol' and 'Ang' as units.\n"
     ]
    },
    {
     "name": "stdout",
     "output_type": "stream",
     "text": [
      "prepare\n"
     ]
    },
    {
     "ename": "IndexError",
     "evalue": "index 4 is out of bounds for axis 0 with size 4",
     "output_type": "error",
     "traceback": [
      "\u001b[0;31m---------------------------------------------------------------------------\u001b[0m",
      "\u001b[0;31mIndexError\u001b[0m                                Traceback (most recent call last)",
      "\u001b[0;32m<ipython-input-58-1cffd4ae585b>\u001b[0m in \u001b[0;36m<module>\u001b[0;34m\u001b[0m\n\u001b[1;32m     14\u001b[0m \u001b[0;31m# now run the dynamics\u001b[0m\u001b[0;34m\u001b[0m\u001b[0;34m\u001b[0m\u001b[0;34m\u001b[0m\u001b[0m\n\u001b[1;32m     15\u001b[0m \u001b[0mprintenergy\u001b[0m\u001b[0;34m(\u001b[0m\u001b[0matoms\u001b[0m\u001b[0;34m)\u001b[0m\u001b[0;34m\u001b[0m\u001b[0;34m\u001b[0m\u001b[0m\n\u001b[0;32m---> 16\u001b[0;31m \u001b[0mdyn\u001b[0m\u001b[0;34m.\u001b[0m\u001b[0mrun\u001b[0m\u001b[0;34m(\u001b[0m\u001b[0msteps\u001b[0m\u001b[0;34m)\u001b[0m\u001b[0;34m\u001b[0m\u001b[0;34m\u001b[0m\u001b[0m\n\u001b[0m\u001b[1;32m     17\u001b[0m \u001b[0mgc\u001b[0m\u001b[0;34m.\u001b[0m\u001b[0mcollect\u001b[0m\u001b[0;34m(\u001b[0m\u001b[0;34m)\u001b[0m\u001b[0;34m\u001b[0m\u001b[0;34m\u001b[0m\u001b[0m\n",
      "\u001b[0;32m~/.local/lib/python3.8/site-packages/ase/md/md.py\u001b[0m in \u001b[0;36mrun\u001b[0;34m(self, steps)\u001b[0m\n\u001b[1;32m     57\u001b[0m         \u001b[0;34m\"\"\" Call Dynamics.run and adjust max_steps \"\"\"\u001b[0m\u001b[0;34m\u001b[0m\u001b[0;34m\u001b[0m\u001b[0m\n\u001b[1;32m     58\u001b[0m         \u001b[0mself\u001b[0m\u001b[0;34m.\u001b[0m\u001b[0mmax_steps\u001b[0m \u001b[0;34m=\u001b[0m \u001b[0msteps\u001b[0m \u001b[0;34m+\u001b[0m \u001b[0mself\u001b[0m\u001b[0;34m.\u001b[0m\u001b[0mnsteps\u001b[0m\u001b[0;34m\u001b[0m\u001b[0;34m\u001b[0m\u001b[0m\n\u001b[0;32m---> 59\u001b[0;31m         \u001b[0;32mreturn\u001b[0m \u001b[0mDynamics\u001b[0m\u001b[0;34m.\u001b[0m\u001b[0mrun\u001b[0m\u001b[0;34m(\u001b[0m\u001b[0mself\u001b[0m\u001b[0;34m)\u001b[0m\u001b[0;34m\u001b[0m\u001b[0;34m\u001b[0m\u001b[0m\n\u001b[0m\u001b[1;32m     60\u001b[0m \u001b[0;34m\u001b[0m\u001b[0m\n\u001b[1;32m     61\u001b[0m     \u001b[0;32mdef\u001b[0m \u001b[0mget_time\u001b[0m\u001b[0;34m(\u001b[0m\u001b[0mself\u001b[0m\u001b[0;34m)\u001b[0m\u001b[0;34m:\u001b[0m\u001b[0;34m\u001b[0m\u001b[0;34m\u001b[0m\u001b[0m\n",
      "\u001b[0;32m~/.local/lib/python3.8/site-packages/ase/optimize/optimize.py\u001b[0m in \u001b[0;36mrun\u001b[0;34m(self)\u001b[0m\n\u001b[1;32m    160\u001b[0m         *steps*.\"\"\"\n\u001b[1;32m    161\u001b[0m \u001b[0;34m\u001b[0m\u001b[0m\n\u001b[0;32m--> 162\u001b[0;31m         \u001b[0;32mfor\u001b[0m \u001b[0mconverged\u001b[0m \u001b[0;32min\u001b[0m \u001b[0mDynamics\u001b[0m\u001b[0;34m.\u001b[0m\u001b[0mirun\u001b[0m\u001b[0;34m(\u001b[0m\u001b[0mself\u001b[0m\u001b[0;34m)\u001b[0m\u001b[0;34m:\u001b[0m\u001b[0;34m\u001b[0m\u001b[0;34m\u001b[0m\u001b[0m\n\u001b[0m\u001b[1;32m    163\u001b[0m             \u001b[0;32mpass\u001b[0m\u001b[0;34m\u001b[0m\u001b[0;34m\u001b[0m\u001b[0m\n\u001b[1;32m    164\u001b[0m         \u001b[0;32mreturn\u001b[0m \u001b[0mconverged\u001b[0m\u001b[0;34m\u001b[0m\u001b[0;34m\u001b[0m\u001b[0m\n",
      "\u001b[0;32m~/.local/lib/python3.8/site-packages/ase/optimize/optimize.py\u001b[0m in \u001b[0;36mirun\u001b[0;34m(self)\u001b[0m\n\u001b[1;32m    126\u001b[0m \u001b[0;34m\u001b[0m\u001b[0m\n\u001b[1;32m    127\u001b[0m         \u001b[0;31m# compute initial structure and log the first step\u001b[0m\u001b[0;34m\u001b[0m\u001b[0;34m\u001b[0m\u001b[0;34m\u001b[0m\u001b[0m\n\u001b[0;32m--> 128\u001b[0;31m         \u001b[0mself\u001b[0m\u001b[0;34m.\u001b[0m\u001b[0matoms\u001b[0m\u001b[0;34m.\u001b[0m\u001b[0mget_forces\u001b[0m\u001b[0;34m(\u001b[0m\u001b[0;34m)\u001b[0m\u001b[0;34m\u001b[0m\u001b[0;34m\u001b[0m\u001b[0m\n\u001b[0m\u001b[1;32m    129\u001b[0m \u001b[0;34m\u001b[0m\u001b[0m\n\u001b[1;32m    130\u001b[0m         \u001b[0;31m# yield the first time to inspect before logging\u001b[0m\u001b[0;34m\u001b[0m\u001b[0;34m\u001b[0m\u001b[0;34m\u001b[0m\u001b[0m\n",
      "\u001b[0;32m~/.local/lib/python3.8/site-packages/ase/atoms.py\u001b[0m in \u001b[0;36mget_forces\u001b[0;34m(self, apply_constraint, md)\u001b[0m\n\u001b[1;32m    792\u001b[0m         \u001b[0;32mif\u001b[0m \u001b[0mself\u001b[0m\u001b[0;34m.\u001b[0m\u001b[0m_calc\u001b[0m \u001b[0;32mis\u001b[0m \u001b[0;32mNone\u001b[0m\u001b[0;34m:\u001b[0m\u001b[0;34m\u001b[0m\u001b[0;34m\u001b[0m\u001b[0m\n\u001b[1;32m    793\u001b[0m             \u001b[0;32mraise\u001b[0m \u001b[0mRuntimeError\u001b[0m\u001b[0;34m(\u001b[0m\u001b[0;34m'Atoms object has no calculator.'\u001b[0m\u001b[0;34m)\u001b[0m\u001b[0;34m\u001b[0m\u001b[0;34m\u001b[0m\u001b[0m\n\u001b[0;32m--> 794\u001b[0;31m         \u001b[0mforces\u001b[0m \u001b[0;34m=\u001b[0m \u001b[0mself\u001b[0m\u001b[0;34m.\u001b[0m\u001b[0m_calc\u001b[0m\u001b[0;34m.\u001b[0m\u001b[0mget_forces\u001b[0m\u001b[0;34m(\u001b[0m\u001b[0mself\u001b[0m\u001b[0;34m)\u001b[0m\u001b[0;34m\u001b[0m\u001b[0;34m\u001b[0m\u001b[0m\n\u001b[0m\u001b[1;32m    795\u001b[0m \u001b[0;34m\u001b[0m\u001b[0m\n\u001b[1;32m    796\u001b[0m         \u001b[0;32mif\u001b[0m \u001b[0mapply_constraint\u001b[0m\u001b[0;34m:\u001b[0m\u001b[0;34m\u001b[0m\u001b[0;34m\u001b[0m\u001b[0m\n",
      "\u001b[0;32m~/.local/lib/python3.8/site-packages/ase/calculators/calculator.py\u001b[0m in \u001b[0;36mget_forces\u001b[0;34m(self, atoms)\u001b[0m\n\u001b[1;32m    697\u001b[0m \u001b[0;34m\u001b[0m\u001b[0m\n\u001b[1;32m    698\u001b[0m     \u001b[0;32mdef\u001b[0m \u001b[0mget_forces\u001b[0m\u001b[0;34m(\u001b[0m\u001b[0mself\u001b[0m\u001b[0;34m,\u001b[0m \u001b[0matoms\u001b[0m\u001b[0;34m=\u001b[0m\u001b[0;32mNone\u001b[0m\u001b[0;34m)\u001b[0m\u001b[0;34m:\u001b[0m\u001b[0;34m\u001b[0m\u001b[0;34m\u001b[0m\u001b[0m\n\u001b[0;32m--> 699\u001b[0;31m         \u001b[0;32mreturn\u001b[0m \u001b[0mself\u001b[0m\u001b[0;34m.\u001b[0m\u001b[0mget_property\u001b[0m\u001b[0;34m(\u001b[0m\u001b[0;34m'forces'\u001b[0m\u001b[0;34m,\u001b[0m \u001b[0matoms\u001b[0m\u001b[0;34m)\u001b[0m\u001b[0;34m\u001b[0m\u001b[0;34m\u001b[0m\u001b[0m\n\u001b[0m\u001b[1;32m    700\u001b[0m \u001b[0;34m\u001b[0m\u001b[0m\n\u001b[1;32m    701\u001b[0m     \u001b[0;32mdef\u001b[0m \u001b[0mget_stress\u001b[0m\u001b[0;34m(\u001b[0m\u001b[0mself\u001b[0m\u001b[0;34m,\u001b[0m \u001b[0matoms\u001b[0m\u001b[0;34m=\u001b[0m\u001b[0;32mNone\u001b[0m\u001b[0;34m)\u001b[0m\u001b[0;34m:\u001b[0m\u001b[0;34m\u001b[0m\u001b[0;34m\u001b[0m\u001b[0m\n",
      "\u001b[0;32m~/.local/lib/python3.8/site-packages/ase/calculators/calculator.py\u001b[0m in \u001b[0;36mget_property\u001b[0;34m(self, name, atoms, allow_calculation)\u001b[0m\n\u001b[1;32m    736\u001b[0m             \u001b[0;32mif\u001b[0m \u001b[0;32mnot\u001b[0m \u001b[0mallow_calculation\u001b[0m\u001b[0;34m:\u001b[0m\u001b[0;34m\u001b[0m\u001b[0;34m\u001b[0m\u001b[0m\n\u001b[1;32m    737\u001b[0m                 \u001b[0;32mreturn\u001b[0m \u001b[0;32mNone\u001b[0m\u001b[0;34m\u001b[0m\u001b[0;34m\u001b[0m\u001b[0m\n\u001b[0;32m--> 738\u001b[0;31m             \u001b[0mself\u001b[0m\u001b[0;34m.\u001b[0m\u001b[0mcalculate\u001b[0m\u001b[0;34m(\u001b[0m\u001b[0matoms\u001b[0m\u001b[0;34m,\u001b[0m \u001b[0;34m[\u001b[0m\u001b[0mname\u001b[0m\u001b[0;34m]\u001b[0m\u001b[0;34m,\u001b[0m \u001b[0msystem_changes\u001b[0m\u001b[0;34m)\u001b[0m\u001b[0;34m\u001b[0m\u001b[0;34m\u001b[0m\u001b[0m\n\u001b[0m\u001b[1;32m    739\u001b[0m \u001b[0;34m\u001b[0m\u001b[0m\n\u001b[1;32m    740\u001b[0m         \u001b[0;32mif\u001b[0m \u001b[0mname\u001b[0m \u001b[0;34m==\u001b[0m \u001b[0;34m'magmom'\u001b[0m \u001b[0;32mand\u001b[0m \u001b[0;34m'magmom'\u001b[0m \u001b[0;32mnot\u001b[0m \u001b[0;32min\u001b[0m \u001b[0mself\u001b[0m\u001b[0;34m.\u001b[0m\u001b[0mresults\u001b[0m\u001b[0;34m:\u001b[0m\u001b[0;34m\u001b[0m\u001b[0;34m\u001b[0m\u001b[0m\n",
      "\u001b[0;32m~/Insync/Research/sync/sgdml/sgdml_0.4.5.dev4_py3.8/sgdml/intf/ase_calc.py\u001b[0m in \u001b[0;36mcalculate\u001b[0;34m(self, atoms, *args, **kwargs)\u001b[0m\n\u001b[1;32m     85\u001b[0m \u001b[0;34m\u001b[0m\u001b[0m\n\u001b[1;32m     86\u001b[0m         \u001b[0mr\u001b[0m \u001b[0;34m=\u001b[0m \u001b[0mnp\u001b[0m\u001b[0;34m.\u001b[0m\u001b[0marray\u001b[0m\u001b[0;34m(\u001b[0m\u001b[0matoms\u001b[0m\u001b[0;34m.\u001b[0m\u001b[0mget_positions\u001b[0m\u001b[0;34m(\u001b[0m\u001b[0;34m)\u001b[0m\u001b[0;34m)\u001b[0m\u001b[0;34m\u001b[0m\u001b[0;34m\u001b[0m\u001b[0m\n\u001b[0;32m---> 87\u001b[0;31m         \u001b[0me\u001b[0m\u001b[0;34m,\u001b[0m \u001b[0mf\u001b[0m \u001b[0;34m=\u001b[0m \u001b[0mself\u001b[0m\u001b[0;34m.\u001b[0m\u001b[0mgdml_predict\u001b[0m\u001b[0;34m.\u001b[0m\u001b[0mpredict\u001b[0m\u001b[0;34m(\u001b[0m\u001b[0mr\u001b[0m\u001b[0;34m.\u001b[0m\u001b[0mravel\u001b[0m\u001b[0;34m(\u001b[0m\u001b[0;34m)\u001b[0m\u001b[0;34m)\u001b[0m\u001b[0;34m\u001b[0m\u001b[0;34m\u001b[0m\u001b[0m\n\u001b[0m\u001b[1;32m     88\u001b[0m \u001b[0;34m\u001b[0m\u001b[0m\n\u001b[1;32m     89\u001b[0m         \u001b[0;31m# convert model units to ASE default units (eV and Ang)\u001b[0m\u001b[0;34m\u001b[0m\u001b[0;34m\u001b[0m\u001b[0;34m\u001b[0m\u001b[0m\n",
      "\u001b[0;32m~/Insync/Research/sync/sgdml/sgdml_0.4.5.dev4_py3.8/sgdml/predict.py\u001b[0m in \u001b[0;36mpredict\u001b[0;34m(self, R, R_desc, R_d_desc)\u001b[0m\n\u001b[1;32m   1119\u001b[0m                         \u001b[0mr_desc\u001b[0m\u001b[0;34m,\u001b[0m \u001b[0mr_d_desc\u001b[0m \u001b[0;34m=\u001b[0m \u001b[0mR_desc\u001b[0m\u001b[0;34m[\u001b[0m\u001b[0mi\u001b[0m\u001b[0;34m]\u001b[0m\u001b[0;34m,\u001b[0m \u001b[0mR_d_desc\u001b[0m\u001b[0;34m[\u001b[0m\u001b[0mi\u001b[0m\u001b[0;34m]\u001b[0m\u001b[0;34m\u001b[0m\u001b[0;34m\u001b[0m\u001b[0m\n\u001b[1;32m   1120\u001b[0m                     \u001b[0;32melse\u001b[0m\u001b[0;34m:\u001b[0m\u001b[0;34m\u001b[0m\u001b[0;34m\u001b[0m\u001b[0m\n\u001b[0;32m-> 1121\u001b[0;31m                         \u001b[0mr_desc\u001b[0m\u001b[0;34m,\u001b[0m \u001b[0mr_d_desc\u001b[0m \u001b[0;34m=\u001b[0m \u001b[0mself\u001b[0m\u001b[0;34m.\u001b[0m\u001b[0mdesc\u001b[0m\u001b[0;34m.\u001b[0m\u001b[0mfrom_R\u001b[0m\u001b[0;34m(\u001b[0m\u001b[0mr\u001b[0m\u001b[0;34m,\u001b[0m \u001b[0mself\u001b[0m\u001b[0;34m.\u001b[0m\u001b[0mlat_and_inv\u001b[0m\u001b[0;34m)\u001b[0m\u001b[0;34m\u001b[0m\u001b[0;34m\u001b[0m\u001b[0m\n\u001b[0m\u001b[1;32m   1122\u001b[0m \u001b[0;34m\u001b[0m\u001b[0m\n\u001b[1;32m   1123\u001b[0m                     _predict_wo_wkr_starts_stops = partial(\n",
      "\u001b[0;32m~/Insync/Research/sync/sgdml/sgdml_0.4.5.dev4_py3.8/sgdml/utils/desc.py\u001b[0m in \u001b[0;36mfrom_R\u001b[0;34m(self, R, lat_and_inv, callback)\u001b[0m\n\u001b[1;32m    135\u001b[0m         \u001b[0mM\u001b[0m \u001b[0;34m=\u001b[0m \u001b[0mR\u001b[0m\u001b[0;34m.\u001b[0m\u001b[0mshape\u001b[0m\u001b[0;34m[\u001b[0m\u001b[0;36m0\u001b[0m\u001b[0;34m]\u001b[0m\u001b[0;34m\u001b[0m\u001b[0;34m\u001b[0m\u001b[0m\n\u001b[1;32m    136\u001b[0m         \u001b[0;32mif\u001b[0m \u001b[0mM\u001b[0m \u001b[0;34m==\u001b[0m \u001b[0;36m1\u001b[0m\u001b[0;34m:\u001b[0m\u001b[0;34m\u001b[0m\u001b[0;34m\u001b[0m\u001b[0m\n\u001b[0;32m--> 137\u001b[0;31m             \u001b[0;32mreturn\u001b[0m \u001b[0mself\u001b[0m\u001b[0;34m.\u001b[0m\u001b[0m_from_r\u001b[0m\u001b[0;34m(\u001b[0m\u001b[0mR\u001b[0m\u001b[0;34m,\u001b[0m \u001b[0mlat_and_inv\u001b[0m\u001b[0;34m)\u001b[0m\u001b[0;34m\u001b[0m\u001b[0;34m\u001b[0m\u001b[0m\n\u001b[0m\u001b[1;32m    138\u001b[0m \u001b[0;34m\u001b[0m\u001b[0m\n\u001b[1;32m    139\u001b[0m         \u001b[0mR_desc\u001b[0m \u001b[0;34m=\u001b[0m \u001b[0mnp\u001b[0m\u001b[0;34m.\u001b[0m\u001b[0mempty\u001b[0m\u001b[0;34m(\u001b[0m\u001b[0;34m[\u001b[0m\u001b[0mM\u001b[0m\u001b[0;34m,\u001b[0m \u001b[0mself\u001b[0m\u001b[0;34m.\u001b[0m\u001b[0mdim\u001b[0m\u001b[0;34m]\u001b[0m\u001b[0;34m)\u001b[0m\u001b[0;34m\u001b[0m\u001b[0;34m\u001b[0m\u001b[0m\n",
      "\u001b[0;32m~/Insync/Research/sync/sgdml/sgdml_0.4.5.dev4_py3.8/sgdml/utils/desc.py\u001b[0m in \u001b[0;36m_from_r\u001b[0;34m(self, r, lat_and_inv)\u001b[0m\n\u001b[1;32m    258\u001b[0m         \u001b[0mpd\u001b[0m \u001b[0;34m=\u001b[0m \u001b[0mself\u001b[0m\u001b[0;34m.\u001b[0m\u001b[0m_pdist\u001b[0m\u001b[0;34m(\u001b[0m\u001b[0mr\u001b[0m\u001b[0;34m,\u001b[0m \u001b[0mlat_and_inv\u001b[0m\u001b[0;34m)\u001b[0m\u001b[0;34m\u001b[0m\u001b[0;34m\u001b[0m\u001b[0m\n\u001b[1;32m    259\u001b[0m \u001b[0;34m\u001b[0m\u001b[0m\n\u001b[0;32m--> 260\u001b[0;31m         \u001b[0mr_desc\u001b[0m \u001b[0;34m=\u001b[0m \u001b[0mself\u001b[0m\u001b[0;34m.\u001b[0m\u001b[0m_r_to_desc\u001b[0m\u001b[0;34m(\u001b[0m\u001b[0mr\u001b[0m\u001b[0;34m,\u001b[0m \u001b[0mpd\u001b[0m\u001b[0;34m)\u001b[0m\u001b[0;34m\u001b[0m\u001b[0;34m\u001b[0m\u001b[0m\n\u001b[0m\u001b[1;32m    261\u001b[0m         \u001b[0mr_d_desc\u001b[0m \u001b[0;34m=\u001b[0m \u001b[0mself\u001b[0m\u001b[0;34m.\u001b[0m\u001b[0m_r_to_d_desc\u001b[0m\u001b[0;34m(\u001b[0m\u001b[0mr\u001b[0m\u001b[0;34m,\u001b[0m \u001b[0mpd\u001b[0m\u001b[0;34m,\u001b[0m \u001b[0mlat_and_inv\u001b[0m\u001b[0;34m)\u001b[0m\u001b[0;34m\u001b[0m\u001b[0;34m\u001b[0m\u001b[0m\n\u001b[1;32m    262\u001b[0m \u001b[0;34m\u001b[0m\u001b[0m\n",
      "\u001b[0;32m~/Insync/Research/sync/sgdml/sgdml_0.4.5.dev4_py3.8/sgdml/utils/desc.py\u001b[0m in \u001b[0;36m_r_to_desc\u001b[0;34m(self, r, pdist)\u001b[0m\n\u001b[1;32m    348\u001b[0m             \u001b[0mr\u001b[0m \u001b[0;34m=\u001b[0m \u001b[0mr\u001b[0m\u001b[0;34m[\u001b[0m\u001b[0;32mNone\u001b[0m\u001b[0;34m,\u001b[0m \u001b[0;34m:\u001b[0m\u001b[0;34m]\u001b[0m\u001b[0;34m\u001b[0m\u001b[0;34m\u001b[0m\u001b[0m\n\u001b[1;32m    349\u001b[0m \u001b[0;34m\u001b[0m\u001b[0m\n\u001b[0;32m--> 350\u001b[0;31m         \u001b[0;32mreturn\u001b[0m \u001b[0;36m1.0\u001b[0m \u001b[0;34m/\u001b[0m \u001b[0mpdist\u001b[0m\u001b[0;34m[\u001b[0m\u001b[0mnp\u001b[0m\u001b[0;34m.\u001b[0m\u001b[0mtril_indices\u001b[0m\u001b[0;34m(\u001b[0m\u001b[0mself\u001b[0m\u001b[0;34m.\u001b[0m\u001b[0mn_atoms\u001b[0m\u001b[0;34m,\u001b[0m \u001b[0;34m-\u001b[0m\u001b[0;36m1\u001b[0m\u001b[0;34m)\u001b[0m\u001b[0;34m]\u001b[0m\u001b[0;34m\u001b[0m\u001b[0;34m\u001b[0m\u001b[0m\n\u001b[0m\u001b[1;32m    351\u001b[0m \u001b[0;34m\u001b[0m\u001b[0m\n\u001b[1;32m    352\u001b[0m         \u001b[0;31m#cutoff_factor = -1.0 / (1.0 + np.exp(-self.cutoff_slope * (pdist[np.tril_indices(self.n_atoms, -1)] - self.cutoff_dist))) + 1\u001b[0m\u001b[0;34m\u001b[0m\u001b[0;34m\u001b[0m\u001b[0;34m\u001b[0m\u001b[0m\n",
      "\u001b[0;31mIndexError\u001b[0m: index 4 is out of bounds for axis 0 with size 4"
     ]
    }
   ],
   "source": [
    "from ase_utils import *\n",
    "from sgdml.intf.ase_calc import SGDMLCalculator\n",
    "from ase.optimize import QuasiNewton\n",
    "import gc\n",
    "model_path = 'reference-unknown-train200-sym1.npz'\n",
    "calc = SGDMLCalculator(model_path)\n",
    "atoms = atoms_copy.copy()\n",
    "atoms.set_calculator(calc)\n",
    "# set the momenta corresponding to T=300K\n",
    "MaxwellBoltzmannDistribution(atoms, T * units.kB)\n",
    "dyn = Langevin(atoms, 1 * units.fs, T * units.kB, 0.002, trajectory='moldyn_sgdml.traj')    \n",
    "dyn.attach(printenergy(atoms), interval=500)\n",
    "\n",
    "# now run the dynamics\n",
    "printenergy(atoms)\n",
    "dyn.run(steps)\n",
    "gc.collect()\n"
   ]
  },
  {
   "cell_type": "markdown",
   "metadata": {},
   "source": [
    "## Proof_1\n",
    "$\n",
    "\\begin{split}\n",
    "p(x_1, x_2) = exp\n",
    "\\left[\n",
    "-\\frac{1}{2}\n",
    "\\begin{pmatrix}\n",
    "x_1 - \\mu_1 \\\\ \n",
    "x_2 - \\mu_2\n",
    "\\end{pmatrix}^T\n",
    "\\begin{pmatrix}\n",
    "\\Sigma_{11} & \\Sigma_{12} \\\\ \n",
    "\\Sigma_{21} & \\Sigma_{22}\n",
    "\\end{pmatrix}^{-1}\n",
    "\\begin{pmatrix}\n",
    "x_1 - \\mu_1 \\\\ \n",
    "x_2 - \\mu_2\n",
    "\\end{pmatrix}\n",
    "\\right]\n",
    "\\end{split}\n",
    "$\n",
    "\n",
    "By using thr following idendty:\n",
    "\n",
    "$\n",
    "\\begin{split}\n",
    "M^{-1}=\n",
    "\\begin{pmatrix}\n",
    "A & B \\\\ \n",
    "C & D\n",
    "\\end{pmatrix}^{-1}=\n",
    "\\begin{pmatrix}\n",
    "I & 0 \\\\ \n",
    "-C^{-1}C & I\n",
    "\\end{pmatrix}\n",
    "\\begin{pmatrix}\n",
    "(M/D)^{-1} & 0 \\\\ \n",
    "0 & D^{-1}\n",
    "\\end{pmatrix}\n",
    "\\begin{pmatrix}\n",
    "I & -BD^{-1} \\\\ \n",
    "0 & I\n",
    "\\end{pmatrix}\n",
    "\\end{split}\n",
    "$\n",
    "\n",
    "We obtainig the folowing:\n",
    "\n",
    "$\n",
    "\\begin{pmatrix}\n",
    "x_1 - \\mu_1 \\\\ \n",
    "x_2 - \\mu_2\n",
    "\\end{pmatrix}^T\n",
    "\\begin{pmatrix}\n",
    "\\Sigma_{11} & \\Sigma_{12} \\\\ \n",
    "\\Sigma_{21} & \\Sigma_{22}\n",
    "\\end{pmatrix}^{-1}\n",
    "\\begin{pmatrix}\n",
    "x_1 - \\mu_1 \\\\ \n",
    "x_2 - \\mu_2\n",
    "\\end{pmatrix}=\n",
    "\\begin{pmatrix}\n",
    "x_1 - \\mu_1 \\\\ \n",
    "x_2 - \\mu_2\n",
    "\\end{pmatrix}^T\n",
    "\\begin{pmatrix}\n",
    "I & 0 \\\\ \n",
    "-\\Sigma_{22}^{-1} \\Sigma_{21} & I\n",
    "\\end{pmatrix}\n",
    "\\begin{pmatrix}\n",
    "(\\Sigma/\\Sigma_{22})^{-1} & 0 \\\\ \n",
    "0 & \\Sigma_{22}^{-1}\n",
    "\\end{pmatrix}\n",
    "\\begin{pmatrix}\n",
    "I & -\\Sigma_{12}\\Sigma_{22}^{-1} \\\\ \n",
    "0 & I\n",
    "\\end{pmatrix}\n",
    "\\begin{pmatrix}\n",
    "x_1 - \\mu_1 \\\\ \n",
    "x_2 - \\mu_2\n",
    "\\end{pmatrix}\n",
    "$\n",
    "\n",
    "And finally:\n",
    "\n",
    "$\n",
    "(x_2 - \\mu_1 -\\Sigma_{12}\\Sigma_{22}^{-1}(x_2-\\mu_2))^T(\\Sigma/\\Sigma_{22})^{-1}(x_2 - \\mu_1 -\\Sigma_{12}\\Sigma_{22}^{-1}(x_2-\\mu_2)) + (x_2-\\mu_2)^T\\Sigma_22^{-1}(x_2-\\mu_2)\n",
    "$\n",
    "\n",
    "And plugin back into the first Eq:\n",
    "\n",
    "$\n",
    "\\begin{split}\n",
    "p(x_1, x_2) = exp\n",
    "\\left[\n",
    "-\\frac{1}{2}\n",
    "(x_2 - \\mu_1 -\\Sigma_{12}\\Sigma_{22}^{-1}(x_2-\\mu_2))^T(\\Sigma/\\Sigma_{22})^{-1}(x_2 - \\mu_1 -\\Sigma_{12}\\Sigma_{22}^{-1}(x_2-\\mu_2)) + (x_2-\\mu_2)^T\\Sigma_22^{-1}(x_2-\\mu_2)\n",
    "\\right]\n",
    "\\end{split}\n",
    "$\n",
    "$\n",
    "\\begin{split}\n",
    "p(x_1, x_2) = exp\n",
    "\\left[\n",
    "-\\frac{1}{2}\n",
    "(x_2 - \\mu_1 -\\Sigma_{12}\\Sigma_{22}^{-1}(x_2-\\mu_2))^T(\\Sigma/\\Sigma_{22})^{-1}(x_2 - \\mu_1 -\\Sigma_{12}\\Sigma_{22}^{-1}(x_2-\\mu_2))\n",
    "\\right] \\cdot\n",
    "exp\n",
    "\\left[\n",
    "-\\frac{1}{2}\n",
    "(x_2-\\mu_2)^T\\Sigma_22^{-1}(x_2-\\mu_2)\n",
    "\\right]\n",
    "\\end{split}\n",
    "$\n",
    "\n",
    "and from the axiom of probability we obtain the follwoing equlaity:\n",
    "\n",
    "$\n",
    "\\begin{split}\n",
    "p(x_1, x_2) = p(x_1|x_2)p(x_2)= exp\n",
    "\\left[\n",
    "-\\frac{1}{2}\n",
    "(x_2 - \\mu_1 -\\Sigma_{12}\\Sigma_{22}^{-1}(x_2-\\mu_2))^T(\\Sigma/\\Sigma_{22})^{-1}(x_2 - \\mu_1 -\\Sigma_{12}\\Sigma_{22}^{-1}(x_2-\\mu_2))\n",
    "\\right] \\cdot\n",
    "exp\n",
    "\\left[\n",
    "-\\frac{1}{2}\n",
    "(x_2-\\mu_2)^T\\Sigma_22^{-1}(x_2-\\mu_2)\n",
    "\\right] = \n",
    "exp\n",
    "\\left[\n",
    "-\\frac{1}{2}\n",
    "(x_2 - \\mu_1 -\\Sigma_{12}\\Sigma_{22}^{-1}(x_2-\\mu_2))^T(\\Sigma/\\Sigma_{22})^{-1}(x_2 - \\mu_1 -\\Sigma_{12}\\Sigma_{22}^{-1}(x_2-\\mu_2))\n",
    "\\right] \\cdot\n",
    "p(x_2)\n",
    "\\end{split} \\\\ \n",
    "\\Rightarrow p(x_1|x_2) = exp\n",
    "\\left[\n",
    "-\\frac{1}{2}\n",
    "(x_2 - \\mu_1 -\\Sigma_{12}\\Sigma_{22}^{-1}(x_2-\\mu_2))^T(\\Sigma/\\Sigma_{22})^{-1}(x_2 - \\mu_1 -\\Sigma_{12}\\Sigma_{22}^{-1}(x_2-\\mu_2))\n",
    "\\right] \\\\\n",
    "\\mu_{1|2} = \\mu_1 -\\Sigma_{12}\\Sigma_{22}^{-1}(x_2-\\mu_2) \\;\n",
    "\\Sigma_{1|2} = (\\Sigma/\\Sigma_{22})=\\Sigma_{11}-\\Sigma_{12}\\Sigma_{22}^{-1}\\Sigma_{21}\n",
    "$"
   ]
  },
  {
   "cell_type": "markdown",
   "metadata": {},
   "source": [
    "## Proof_2\n",
    "\n",
    "### For scalar output\n",
    "$$\n",
    "\\begin{bmatrix}f^*\\end{bmatrix}^{1\\times1} = \\begin{bmatrix}{k^*}^T\\end{bmatrix}^{1\\times M}\\begin{bmatrix}\\begin{bmatrix}K^{-1}\\end{bmatrix}^{M \\times M}\\begin{bmatrix}y\\end{bmatrix}^{M\\times 1}\\end{bmatrix}^{M\\times1}=\\sum_{i}^{M}\\alpha_i k(x_i,x^*)\n",
    "$$\n",
    "\n",
    "### For vector output\n",
    "$$\n",
    "\\begin{bmatrix}\\mathbf{f^*}\\end{bmatrix}^{3N\\times1} ={k^*}^{T}K^{-1}\\mathbf{f}=\\sum_i^M{\\sum_j^{3N}{(\\mathbf{\\alpha_i})_j\\frac{\\partial}{\\partial x_j}\\nabla k(\\mathbf{x}, \\mathbf{x_i})}}\n",
    "$$\n",
    "\n",
    "$$\n",
    "K=\\nabla_{x} k(x,x') \\nabla_{x^{'}}^\\top = \n",
    "\\begin{pmatrix}\n",
    "\\begin{pmatrix}\\nabla_{x^{(1)}} k(x^{(1)},x^{(1)}) \\nabla_{x^{(1)}}^\\top\\end{pmatrix} & \\dots & \\begin{pmatrix}\\nabla_{x^{(M)}} k(x^{(M)},x^{(1)}) \\nabla_{x^{(1)}}^\\top\\end{pmatrix} \\\\\n",
    "\\dots & \\dots & \\dots \\\\\n",
    "\\begin{pmatrix}\\nabla_{x^{(M)}} k(x^{(M)},x^{(1)}) \\nabla_{x^{(1)}}^\\top\\end{pmatrix} & \\dots & \\begin{pmatrix}\\nabla_{x^{(M)}} k(x^{(M)},x^{(M)}) \\nabla_{x^{(M)}}^\\top\\end{pmatrix}\n",
    "\\end{pmatrix}\n",
    "\\\\\n",
    "\\nabla k(x^{(i)}, x^{(j)})\\nabla ^\\top=\\begin{bmatrix}\\frac{\\partial}{\\partial x^{(j)}_1 }\\nabla k(x^{(i)},x^{(j)}),\\dots,\\frac{\\partial}{\\partial x^{(j)}_{3N} }\\nabla k(x^{(i)},x^{(j)})\\end{bmatrix}^{3N\\times 3N}\n",
    "=\\begin{bmatrix}\\frac{\\partial}{\\partial x^{(j)}_1 }\\frac{\\partial}{\\partial x^{(i)}_{1}} k(x^{(i)},x^{(j)}) &\\dots & \\frac{\\partial}{\\partial x^{(j)}_{3N} }\\frac{\\partial}{\\partial x^{(i)}_{1}} k(x^{(i)},x^{(j)}) \\\\\n",
    "\\dots & \\dots & \\dots \\\\\n",
    "\\frac{\\partial}{\\partial x^{(j)}_1}\\frac{\\partial}{\\partial x^{(i)}_{3N}} k(x^{(i)},x^{(j)}) &\\dots & \\frac{\\partial}{\\partial x^{(j)}_{3N} }\\frac{\\partial}{\\partial x^{(i)}_{3N}} k(x^{(i)},x^{(j)})\n",
    "\\end{bmatrix}^{3N\\times 3N}\n",
    "\\\\\n",
    "\\begin{bmatrix}K\\end{bmatrix}^{M\\cdot3N\\times M\\cdot3N} \\;\n",
    "\\begin{bmatrix}\\mathbf{f}\\end{bmatrix}^{M\\cdot3N\\times 1}\n",
    "\\\\\n",
    "$$\n",
    "$$\n",
    "{k^*}^{T}\n",
    "=\\nabla_x k(x^{*}, x)\\nabla_{x^{'}} ^\\top \n",
    "=\n",
    "\\begin{bmatrix}\n",
    "\\begin{pmatrix}\\nabla_{x^*} k(x^{*}, x^{(1)})\\nabla_{x^{(1)}} ^\\top\\end{pmatrix} & \n",
    "\\dots & \n",
    "\\begin{pmatrix}\\nabla k(x^{*}, x^{(M)})\\nabla_{x^{(M)}} ^\\top\\end{pmatrix}\n",
    "\\end{bmatrix}^{3N\\times M\\cdot 3N}\n",
    "= \n",
    "\\begin{bmatrix}\n",
    "\\begin{pmatrix}\\frac{\\partial}{\\partial x^{(1)}_1 }\\nabla k(x^{*},x^{(1)}),\\dots,\\frac{\\partial}{\\partial x^{(1)}_{3N} }\\nabla k(x^{*},x^{(1)})\\end{pmatrix} & \n",
    "\\dots & \n",
    "\\begin{pmatrix}\\frac{\\partial}{\\partial x^{(M)}_1 }\\nabla k(x^{*},x^{(M)}),\\dots,\\frac{\\partial}{\\partial x^{(M)}_{3N} }\\nabla k(x^{*},x^{(M)})\\end{pmatrix}\n",
    "\\end{bmatrix}^{3N\\times M\\cdot 3N}\n",
    "\\\\\n",
    "\\\\\n",
    "\\begin{bmatrix}\\mathbf{f^*}\\end{bmatrix}^{3N\\times1} =\\begin{bmatrix}\\begin{bmatrix}{k^*}^{T}\\end{bmatrix}^{3N \\times M \\cdot 3N}\\begin{bmatrix}\\begin{bmatrix}K^{-1}\\end{bmatrix}^{M\\cdot 3N \\times M\\cdot 3N}\\begin{bmatrix}\\mathbf{f}\\end{bmatrix}^{M\\cdot 3N \\times 1}\\end{bmatrix}^{M \\cdot 3N \\times 1}\\end{bmatrix}^{3N\\times 1}\n",
    "\\\\\n",
    "\\begin{bmatrix}\\mathbf{f^*}\\end{bmatrix}^{3N\\times1} =\n",
    "{k^*}^{T}\n",
    "K^{-1}\n",
    "\\mathbf{f}=\n",
    "\\begin{pmatrix}\n",
    "\\begin{pmatrix}\\frac{\\partial}{\\partial x^{(1)}_1 }\\nabla k(x^{*},x^{(1)}),\\dots,\\frac{\\partial}{\\partial x^{(1)}_{3N} }\\nabla k(x^{*},x^{(1)})\\end{pmatrix} & \n",
    "\\dots & \n",
    "\\begin{pmatrix}\\frac{\\partial}{\\partial x^{(M)}_1 }\\nabla k(x^{*},x^{(M)}),\\dots,\\frac{\\partial}{\\partial x^{(M)}_{3N} }\\nabla k(x^{*},x^{(M)})\\end{pmatrix}\n",
    "\\end{pmatrix}\n",
    "\\underbrace{ K^{-1}\\mathbf{f}}_{\\alpha _{ij}}\n",
    "$$"
   ]
  },
  {
   "cell_type": "markdown",
   "metadata": {},
   "source": [
    "### Derivation_3 \n",
    "\n",
    "### Matérn covariance derivatives\n",
    "$$\n",
    "k: C_{\\nu=n+\\frac{1}{2}}(d)=B(d)P_{n}(d)\n",
    "\\\\\n",
    "B(d) = exp{\\begin{pmatrix}-\\frac{\\sqrt{2\\nu}d}{\\sigma}\\end{pmatrix}}\n",
    "\\\\\n",
    "P_n(d)=\\sum_{k=0}^{n}{\\frac{(n+k)!}{(2n)!}}\\begin{pmatrix}n\\\\k\\end{pmatrix}\\begin{pmatrix}\\frac{2\\sqrt{2\\nu}d}{\\sigma}\\end{pmatrix}^{n-k}\n",
    "$$"
   ]
  },
  {
   "cell_type": "markdown",
   "metadata": {},
   "source": [
    "$$\n",
    "\\frac{\\partial \\kappa}{\\partial x_i} = \\frac{\\partial P_n}{\\partial x_i}B + \\frac{\\partial B}{\\partial x_i}P_n\n",
    "$$"
   ]
  },
  {
   "cell_type": "markdown",
   "metadata": {},
   "source": [
    "$$\n",
    "\\frac{\\partial P_n}{\\partial x_i}=\\sum_{k=0}^n{\\frac{(n+k)!}{(2n)!}\\begin{pmatrix}n\\\\k\\end{pmatrix}\\frac{(n-k)(x_i -x^{'}_i)}{d^2}\\begin{pmatrix}\\frac{2\\sqrt{2\\nu}d}{\\sigma}\\end{pmatrix}^{n-k}}\\\\\n",
    "$$"
   ]
  },
  {
   "cell_type": "markdown",
   "metadata": {},
   "source": [
    "$$\n",
    "\\frac{\\partial B}{\\partial x_i} =-\\frac{\\sqrt{2\\nu}(x_i -x^{'}_i)}{\\sigma d}exp{-\\frac{\\sqrt{2\\nu}d}{\\sigma}}\n",
    "$$"
   ]
  },
  {
   "cell_type": "markdown",
   "metadata": {},
   "source": [
    "$$\n",
    "\\frac{\\partial^2 \\kappa}{\\partial x_i \\partial x_j} = \n",
    "B\\frac{\\partial^2 P_n}{\\partial x_i \\partial x_j} +\n",
    "\\frac{\\partial B}{\\partial x_i}\\frac{\\partial P_n}{\\partial x_j} +\n",
    "\\frac{\\partial B}{\\partial x_j}\\frac{\\partial P_n}{\\partial x_i} +\n",
    "P_n\\frac{\\partial^2 B}{\\partial x_i \\partial x_j} \n",
    "$$"
   ]
  },
  {
   "cell_type": "markdown",
   "metadata": {},
   "source": [
    "$$\n",
    "\\begin{bmatrix}\\frac{\\partial^2 P_n}{\\partial x_i \\partial x_j}\\end{bmatrix}_{i\\ne j}=\n",
    "\\sum_{k=0}^{n}{\\frac{(n+k)!}{(2n)!}\\begin{pmatrix}n \\\\ k \\end{pmatrix}\n",
    "\\frac{(n-k-2)(n-k)(x_i -x^{'}_i)(x_j - x^{'}_j)}{d^4}\n",
    "\\begin{pmatrix}\\frac{2\\sqrt{2\\nu}d}{\\sigma}\\end{pmatrix}^{n-k}}\n",
    "$$"
   ]
  },
  {
   "cell_type": "markdown",
   "metadata": {},
   "source": [
    "$$\n",
    "\\begin{bmatrix}\\frac{\\partial^2 P_n}{\\partial x_i \\partial x_j}\\end{bmatrix}_{i=j}=\n",
    "\\sum_{k=0}^{n}{\\frac{(n+k)!}{(2n)!}\\begin{pmatrix}n \\\\ k \\end{pmatrix}\n",
    "\\frac{(n-k-2)(n-k)(x_i -x^{'}_i)^2}{d^4}\n",
    "\\begin{pmatrix}\\frac{2\\sqrt{2\\nu}d}{\\sigma}\\end{pmatrix}^{n-k}} + \\sum_{k=0}^n{\\frac{(n+k)!}{(2n)!}\\begin{pmatrix}n\\\\k\\end{pmatrix}\\frac{(n-k)}{d^2}\\begin{pmatrix}\\frac{2\\sqrt{2\\nu}d}{\\sigma}\\end{pmatrix}^{n-k}}\\\\\n",
    "$$"
   ]
  },
  {
   "cell_type": "markdown",
   "metadata": {},
   "source": [
    "$$\n",
    "\\begin{bmatrix}\\frac{\\partial^2 B}{\\partial x_i \\partial x_j}\\end{bmatrix}_{i\\ne j} =\n",
    "\\frac{\\sqrt{2\\nu}(x_i-x^{'})(x_j-x^{'}_j)(\\sqrt{2\\nu} d+\\sigma)}{\\sigma^2d^3}\\exp{\\begin{pmatrix}-\\frac{\\sqrt{2\\nu}d}{\\sigma}\\end{pmatrix}}\n",
    "$$"
   ]
  },
  {
   "cell_type": "markdown",
   "metadata": {},
   "source": [
    "$$\n",
    "\\begin{bmatrix}\\frac{\\partial^2 B}{\\partial x_i \\partial x_j}\\end{bmatrix}_{i = j} =\n",
    "\\frac{\\sqrt{2\\nu}(x_i-x^{'})(x_j-x^{'}_j)(\\sqrt{2\\nu} d+\\sigma)}{\\sigma^2d^3}\\exp{\\begin{pmatrix}-\\frac{\\sqrt{2\\nu}d}{\\sigma}\\end{pmatrix}} - \\frac{\\sqrt{2\\nu}(x_i -x^{'}_i)}{\\sigma d}exp{\\begin{pmatrix}-\\frac{\\sqrt{2\\nu}d}{\\sigma}\\end{pmatrix}}\n",
    "$$"
   ]
  },
  {
   "cell_type": "markdown",
   "metadata": {},
   "source": []
  }
 ],
 "metadata": {
  "kernelspec": {
   "display_name": "Python 3",
   "language": "python",
   "name": "python3"
  },
  "language_info": {
   "codemirror_mode": {
    "name": "ipython",
    "version": 3
   },
   "file_extension": ".py",
   "mimetype": "text/x-python",
   "name": "python",
   "nbconvert_exporter": "python",
   "pygments_lexer": "ipython3",
   "version": "3.8.5"
  }
 },
 "nbformat": 4,
 "nbformat_minor": 4
}
